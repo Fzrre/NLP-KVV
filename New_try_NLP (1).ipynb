{
  "nbformat": 4,
  "nbformat_minor": 0,
  "metadata": {
    "colab": {
      "provenance": []
    },
    "kernelspec": {
      "name": "python3",
      "display_name": "Python 3"
    },
    "language_info": {
      "name": "python"
    },
    "widgets": {
      "application/vnd.jupyter.widget-state+json": {
        "71dec572f2bc4c518614a84daca4ca9d": {
          "model_module": "@jupyter-widgets/controls",
          "model_name": "HBoxModel",
          "model_module_version": "1.5.0",
          "state": {
            "_dom_classes": [],
            "_model_module": "@jupyter-widgets/controls",
            "_model_module_version": "1.5.0",
            "_model_name": "HBoxModel",
            "_view_count": null,
            "_view_module": "@jupyter-widgets/controls",
            "_view_module_version": "1.5.0",
            "_view_name": "HBoxView",
            "box_style": "",
            "children": [
              "IPY_MODEL_567d645a8ffd422187b10d2d36ea2f44",
              "IPY_MODEL_89206497866c4d9fbe33c44f14079f63",
              "IPY_MODEL_6266dba1d5524628beb80d92c0d16abe"
            ],
            "layout": "IPY_MODEL_eac01949ed724952bf765f5cfbe99dd1"
          }
        },
        "567d645a8ffd422187b10d2d36ea2f44": {
          "model_module": "@jupyter-widgets/controls",
          "model_name": "HTMLModel",
          "model_module_version": "1.5.0",
          "state": {
            "_dom_classes": [],
            "_model_module": "@jupyter-widgets/controls",
            "_model_module_version": "1.5.0",
            "_model_name": "HTMLModel",
            "_view_count": null,
            "_view_module": "@jupyter-widgets/controls",
            "_view_module_version": "1.5.0",
            "_view_name": "HTMLView",
            "description": "",
            "description_tooltip": null,
            "layout": "IPY_MODEL_113363939b204dd99f14718b8e5aa608",
            "placeholder": "​",
            "style": "IPY_MODEL_5272ad8443e64f1094bc41ca99cac253",
            "value": "Downloading (…)solve/main/vocab.txt: 100%"
          }
        },
        "89206497866c4d9fbe33c44f14079f63": {
          "model_module": "@jupyter-widgets/controls",
          "model_name": "FloatProgressModel",
          "model_module_version": "1.5.0",
          "state": {
            "_dom_classes": [],
            "_model_module": "@jupyter-widgets/controls",
            "_model_module_version": "1.5.0",
            "_model_name": "FloatProgressModel",
            "_view_count": null,
            "_view_module": "@jupyter-widgets/controls",
            "_view_module_version": "1.5.0",
            "_view_name": "ProgressView",
            "bar_style": "success",
            "description": "",
            "description_tooltip": null,
            "layout": "IPY_MODEL_9a1f91a97e65495b9498bcf1a0ace329",
            "max": 231508,
            "min": 0,
            "orientation": "horizontal",
            "style": "IPY_MODEL_48d0212d321d42898a18060b7a6da3a9",
            "value": 231508
          }
        },
        "6266dba1d5524628beb80d92c0d16abe": {
          "model_module": "@jupyter-widgets/controls",
          "model_name": "HTMLModel",
          "model_module_version": "1.5.0",
          "state": {
            "_dom_classes": [],
            "_model_module": "@jupyter-widgets/controls",
            "_model_module_version": "1.5.0",
            "_model_name": "HTMLModel",
            "_view_count": null,
            "_view_module": "@jupyter-widgets/controls",
            "_view_module_version": "1.5.0",
            "_view_name": "HTMLView",
            "description": "",
            "description_tooltip": null,
            "layout": "IPY_MODEL_3c7a2ce826304c798b2ef0dd9c0e6618",
            "placeholder": "​",
            "style": "IPY_MODEL_5e73f6589ff94b2bb538712d6cf93707",
            "value": " 232k/232k [00:00&lt;00:00, 2.24MB/s]"
          }
        },
        "eac01949ed724952bf765f5cfbe99dd1": {
          "model_module": "@jupyter-widgets/base",
          "model_name": "LayoutModel",
          "model_module_version": "1.2.0",
          "state": {
            "_model_module": "@jupyter-widgets/base",
            "_model_module_version": "1.2.0",
            "_model_name": "LayoutModel",
            "_view_count": null,
            "_view_module": "@jupyter-widgets/base",
            "_view_module_version": "1.2.0",
            "_view_name": "LayoutView",
            "align_content": null,
            "align_items": null,
            "align_self": null,
            "border": null,
            "bottom": null,
            "display": null,
            "flex": null,
            "flex_flow": null,
            "grid_area": null,
            "grid_auto_columns": null,
            "grid_auto_flow": null,
            "grid_auto_rows": null,
            "grid_column": null,
            "grid_gap": null,
            "grid_row": null,
            "grid_template_areas": null,
            "grid_template_columns": null,
            "grid_template_rows": null,
            "height": null,
            "justify_content": null,
            "justify_items": null,
            "left": null,
            "margin": null,
            "max_height": null,
            "max_width": null,
            "min_height": null,
            "min_width": null,
            "object_fit": null,
            "object_position": null,
            "order": null,
            "overflow": null,
            "overflow_x": null,
            "overflow_y": null,
            "padding": null,
            "right": null,
            "top": null,
            "visibility": null,
            "width": null
          }
        },
        "113363939b204dd99f14718b8e5aa608": {
          "model_module": "@jupyter-widgets/base",
          "model_name": "LayoutModel",
          "model_module_version": "1.2.0",
          "state": {
            "_model_module": "@jupyter-widgets/base",
            "_model_module_version": "1.2.0",
            "_model_name": "LayoutModel",
            "_view_count": null,
            "_view_module": "@jupyter-widgets/base",
            "_view_module_version": "1.2.0",
            "_view_name": "LayoutView",
            "align_content": null,
            "align_items": null,
            "align_self": null,
            "border": null,
            "bottom": null,
            "display": null,
            "flex": null,
            "flex_flow": null,
            "grid_area": null,
            "grid_auto_columns": null,
            "grid_auto_flow": null,
            "grid_auto_rows": null,
            "grid_column": null,
            "grid_gap": null,
            "grid_row": null,
            "grid_template_areas": null,
            "grid_template_columns": null,
            "grid_template_rows": null,
            "height": null,
            "justify_content": null,
            "justify_items": null,
            "left": null,
            "margin": null,
            "max_height": null,
            "max_width": null,
            "min_height": null,
            "min_width": null,
            "object_fit": null,
            "object_position": null,
            "order": null,
            "overflow": null,
            "overflow_x": null,
            "overflow_y": null,
            "padding": null,
            "right": null,
            "top": null,
            "visibility": null,
            "width": null
          }
        },
        "5272ad8443e64f1094bc41ca99cac253": {
          "model_module": "@jupyter-widgets/controls",
          "model_name": "DescriptionStyleModel",
          "model_module_version": "1.5.0",
          "state": {
            "_model_module": "@jupyter-widgets/controls",
            "_model_module_version": "1.5.0",
            "_model_name": "DescriptionStyleModel",
            "_view_count": null,
            "_view_module": "@jupyter-widgets/base",
            "_view_module_version": "1.2.0",
            "_view_name": "StyleView",
            "description_width": ""
          }
        },
        "9a1f91a97e65495b9498bcf1a0ace329": {
          "model_module": "@jupyter-widgets/base",
          "model_name": "LayoutModel",
          "model_module_version": "1.2.0",
          "state": {
            "_model_module": "@jupyter-widgets/base",
            "_model_module_version": "1.2.0",
            "_model_name": "LayoutModel",
            "_view_count": null,
            "_view_module": "@jupyter-widgets/base",
            "_view_module_version": "1.2.0",
            "_view_name": "LayoutView",
            "align_content": null,
            "align_items": null,
            "align_self": null,
            "border": null,
            "bottom": null,
            "display": null,
            "flex": null,
            "flex_flow": null,
            "grid_area": null,
            "grid_auto_columns": null,
            "grid_auto_flow": null,
            "grid_auto_rows": null,
            "grid_column": null,
            "grid_gap": null,
            "grid_row": null,
            "grid_template_areas": null,
            "grid_template_columns": null,
            "grid_template_rows": null,
            "height": null,
            "justify_content": null,
            "justify_items": null,
            "left": null,
            "margin": null,
            "max_height": null,
            "max_width": null,
            "min_height": null,
            "min_width": null,
            "object_fit": null,
            "object_position": null,
            "order": null,
            "overflow": null,
            "overflow_x": null,
            "overflow_y": null,
            "padding": null,
            "right": null,
            "top": null,
            "visibility": null,
            "width": null
          }
        },
        "48d0212d321d42898a18060b7a6da3a9": {
          "model_module": "@jupyter-widgets/controls",
          "model_name": "ProgressStyleModel",
          "model_module_version": "1.5.0",
          "state": {
            "_model_module": "@jupyter-widgets/controls",
            "_model_module_version": "1.5.0",
            "_model_name": "ProgressStyleModel",
            "_view_count": null,
            "_view_module": "@jupyter-widgets/base",
            "_view_module_version": "1.2.0",
            "_view_name": "StyleView",
            "bar_color": null,
            "description_width": ""
          }
        },
        "3c7a2ce826304c798b2ef0dd9c0e6618": {
          "model_module": "@jupyter-widgets/base",
          "model_name": "LayoutModel",
          "model_module_version": "1.2.0",
          "state": {
            "_model_module": "@jupyter-widgets/base",
            "_model_module_version": "1.2.0",
            "_model_name": "LayoutModel",
            "_view_count": null,
            "_view_module": "@jupyter-widgets/base",
            "_view_module_version": "1.2.0",
            "_view_name": "LayoutView",
            "align_content": null,
            "align_items": null,
            "align_self": null,
            "border": null,
            "bottom": null,
            "display": null,
            "flex": null,
            "flex_flow": null,
            "grid_area": null,
            "grid_auto_columns": null,
            "grid_auto_flow": null,
            "grid_auto_rows": null,
            "grid_column": null,
            "grid_gap": null,
            "grid_row": null,
            "grid_template_areas": null,
            "grid_template_columns": null,
            "grid_template_rows": null,
            "height": null,
            "justify_content": null,
            "justify_items": null,
            "left": null,
            "margin": null,
            "max_height": null,
            "max_width": null,
            "min_height": null,
            "min_width": null,
            "object_fit": null,
            "object_position": null,
            "order": null,
            "overflow": null,
            "overflow_x": null,
            "overflow_y": null,
            "padding": null,
            "right": null,
            "top": null,
            "visibility": null,
            "width": null
          }
        },
        "5e73f6589ff94b2bb538712d6cf93707": {
          "model_module": "@jupyter-widgets/controls",
          "model_name": "DescriptionStyleModel",
          "model_module_version": "1.5.0",
          "state": {
            "_model_module": "@jupyter-widgets/controls",
            "_model_module_version": "1.5.0",
            "_model_name": "DescriptionStyleModel",
            "_view_count": null,
            "_view_module": "@jupyter-widgets/base",
            "_view_module_version": "1.2.0",
            "_view_name": "StyleView",
            "description_width": ""
          }
        },
        "4de9b3b5021344b7bcb65846e080d27d": {
          "model_module": "@jupyter-widgets/controls",
          "model_name": "HBoxModel",
          "model_module_version": "1.5.0",
          "state": {
            "_dom_classes": [],
            "_model_module": "@jupyter-widgets/controls",
            "_model_module_version": "1.5.0",
            "_model_name": "HBoxModel",
            "_view_count": null,
            "_view_module": "@jupyter-widgets/controls",
            "_view_module_version": "1.5.0",
            "_view_name": "HBoxView",
            "box_style": "",
            "children": [
              "IPY_MODEL_648fea891a664debb70e92277c149f6b",
              "IPY_MODEL_833202cf161846e2bc06e36827217e36",
              "IPY_MODEL_910a353e9cf74bbcb393ba29d5e8b60c"
            ],
            "layout": "IPY_MODEL_531cb614b4644cf29dfddbc03729e869"
          }
        },
        "648fea891a664debb70e92277c149f6b": {
          "model_module": "@jupyter-widgets/controls",
          "model_name": "HTMLModel",
          "model_module_version": "1.5.0",
          "state": {
            "_dom_classes": [],
            "_model_module": "@jupyter-widgets/controls",
            "_model_module_version": "1.5.0",
            "_model_name": "HTMLModel",
            "_view_count": null,
            "_view_module": "@jupyter-widgets/controls",
            "_view_module_version": "1.5.0",
            "_view_name": "HTMLView",
            "description": "",
            "description_tooltip": null,
            "layout": "IPY_MODEL_7e4dfebf56bf4753baa06f9234c12a7d",
            "placeholder": "​",
            "style": "IPY_MODEL_ae426bb248a04640931c2a5c79f11103",
            "value": "Downloading (…)okenizer_config.json: 100%"
          }
        },
        "833202cf161846e2bc06e36827217e36": {
          "model_module": "@jupyter-widgets/controls",
          "model_name": "FloatProgressModel",
          "model_module_version": "1.5.0",
          "state": {
            "_dom_classes": [],
            "_model_module": "@jupyter-widgets/controls",
            "_model_module_version": "1.5.0",
            "_model_name": "FloatProgressModel",
            "_view_count": null,
            "_view_module": "@jupyter-widgets/controls",
            "_view_module_version": "1.5.0",
            "_view_name": "ProgressView",
            "bar_style": "success",
            "description": "",
            "description_tooltip": null,
            "layout": "IPY_MODEL_ec3d1933cf864d339d9b242b67557968",
            "max": 28,
            "min": 0,
            "orientation": "horizontal",
            "style": "IPY_MODEL_e61d390cbce547a4a049e2934a1480f5",
            "value": 28
          }
        },
        "910a353e9cf74bbcb393ba29d5e8b60c": {
          "model_module": "@jupyter-widgets/controls",
          "model_name": "HTMLModel",
          "model_module_version": "1.5.0",
          "state": {
            "_dom_classes": [],
            "_model_module": "@jupyter-widgets/controls",
            "_model_module_version": "1.5.0",
            "_model_name": "HTMLModel",
            "_view_count": null,
            "_view_module": "@jupyter-widgets/controls",
            "_view_module_version": "1.5.0",
            "_view_name": "HTMLView",
            "description": "",
            "description_tooltip": null,
            "layout": "IPY_MODEL_4a3e04d906eb46b8a7162004b87dbe30",
            "placeholder": "​",
            "style": "IPY_MODEL_da5c75d322c543aa8792e8cddce56662",
            "value": " 28.0/28.0 [00:00&lt;00:00, 1.67kB/s]"
          }
        },
        "531cb614b4644cf29dfddbc03729e869": {
          "model_module": "@jupyter-widgets/base",
          "model_name": "LayoutModel",
          "model_module_version": "1.2.0",
          "state": {
            "_model_module": "@jupyter-widgets/base",
            "_model_module_version": "1.2.0",
            "_model_name": "LayoutModel",
            "_view_count": null,
            "_view_module": "@jupyter-widgets/base",
            "_view_module_version": "1.2.0",
            "_view_name": "LayoutView",
            "align_content": null,
            "align_items": null,
            "align_self": null,
            "border": null,
            "bottom": null,
            "display": null,
            "flex": null,
            "flex_flow": null,
            "grid_area": null,
            "grid_auto_columns": null,
            "grid_auto_flow": null,
            "grid_auto_rows": null,
            "grid_column": null,
            "grid_gap": null,
            "grid_row": null,
            "grid_template_areas": null,
            "grid_template_columns": null,
            "grid_template_rows": null,
            "height": null,
            "justify_content": null,
            "justify_items": null,
            "left": null,
            "margin": null,
            "max_height": null,
            "max_width": null,
            "min_height": null,
            "min_width": null,
            "object_fit": null,
            "object_position": null,
            "order": null,
            "overflow": null,
            "overflow_x": null,
            "overflow_y": null,
            "padding": null,
            "right": null,
            "top": null,
            "visibility": null,
            "width": null
          }
        },
        "7e4dfebf56bf4753baa06f9234c12a7d": {
          "model_module": "@jupyter-widgets/base",
          "model_name": "LayoutModel",
          "model_module_version": "1.2.0",
          "state": {
            "_model_module": "@jupyter-widgets/base",
            "_model_module_version": "1.2.0",
            "_model_name": "LayoutModel",
            "_view_count": null,
            "_view_module": "@jupyter-widgets/base",
            "_view_module_version": "1.2.0",
            "_view_name": "LayoutView",
            "align_content": null,
            "align_items": null,
            "align_self": null,
            "border": null,
            "bottom": null,
            "display": null,
            "flex": null,
            "flex_flow": null,
            "grid_area": null,
            "grid_auto_columns": null,
            "grid_auto_flow": null,
            "grid_auto_rows": null,
            "grid_column": null,
            "grid_gap": null,
            "grid_row": null,
            "grid_template_areas": null,
            "grid_template_columns": null,
            "grid_template_rows": null,
            "height": null,
            "justify_content": null,
            "justify_items": null,
            "left": null,
            "margin": null,
            "max_height": null,
            "max_width": null,
            "min_height": null,
            "min_width": null,
            "object_fit": null,
            "object_position": null,
            "order": null,
            "overflow": null,
            "overflow_x": null,
            "overflow_y": null,
            "padding": null,
            "right": null,
            "top": null,
            "visibility": null,
            "width": null
          }
        },
        "ae426bb248a04640931c2a5c79f11103": {
          "model_module": "@jupyter-widgets/controls",
          "model_name": "DescriptionStyleModel",
          "model_module_version": "1.5.0",
          "state": {
            "_model_module": "@jupyter-widgets/controls",
            "_model_module_version": "1.5.0",
            "_model_name": "DescriptionStyleModel",
            "_view_count": null,
            "_view_module": "@jupyter-widgets/base",
            "_view_module_version": "1.2.0",
            "_view_name": "StyleView",
            "description_width": ""
          }
        },
        "ec3d1933cf864d339d9b242b67557968": {
          "model_module": "@jupyter-widgets/base",
          "model_name": "LayoutModel",
          "model_module_version": "1.2.0",
          "state": {
            "_model_module": "@jupyter-widgets/base",
            "_model_module_version": "1.2.0",
            "_model_name": "LayoutModel",
            "_view_count": null,
            "_view_module": "@jupyter-widgets/base",
            "_view_module_version": "1.2.0",
            "_view_name": "LayoutView",
            "align_content": null,
            "align_items": null,
            "align_self": null,
            "border": null,
            "bottom": null,
            "display": null,
            "flex": null,
            "flex_flow": null,
            "grid_area": null,
            "grid_auto_columns": null,
            "grid_auto_flow": null,
            "grid_auto_rows": null,
            "grid_column": null,
            "grid_gap": null,
            "grid_row": null,
            "grid_template_areas": null,
            "grid_template_columns": null,
            "grid_template_rows": null,
            "height": null,
            "justify_content": null,
            "justify_items": null,
            "left": null,
            "margin": null,
            "max_height": null,
            "max_width": null,
            "min_height": null,
            "min_width": null,
            "object_fit": null,
            "object_position": null,
            "order": null,
            "overflow": null,
            "overflow_x": null,
            "overflow_y": null,
            "padding": null,
            "right": null,
            "top": null,
            "visibility": null,
            "width": null
          }
        },
        "e61d390cbce547a4a049e2934a1480f5": {
          "model_module": "@jupyter-widgets/controls",
          "model_name": "ProgressStyleModel",
          "model_module_version": "1.5.0",
          "state": {
            "_model_module": "@jupyter-widgets/controls",
            "_model_module_version": "1.5.0",
            "_model_name": "ProgressStyleModel",
            "_view_count": null,
            "_view_module": "@jupyter-widgets/base",
            "_view_module_version": "1.2.0",
            "_view_name": "StyleView",
            "bar_color": null,
            "description_width": ""
          }
        },
        "4a3e04d906eb46b8a7162004b87dbe30": {
          "model_module": "@jupyter-widgets/base",
          "model_name": "LayoutModel",
          "model_module_version": "1.2.0",
          "state": {
            "_model_module": "@jupyter-widgets/base",
            "_model_module_version": "1.2.0",
            "_model_name": "LayoutModel",
            "_view_count": null,
            "_view_module": "@jupyter-widgets/base",
            "_view_module_version": "1.2.0",
            "_view_name": "LayoutView",
            "align_content": null,
            "align_items": null,
            "align_self": null,
            "border": null,
            "bottom": null,
            "display": null,
            "flex": null,
            "flex_flow": null,
            "grid_area": null,
            "grid_auto_columns": null,
            "grid_auto_flow": null,
            "grid_auto_rows": null,
            "grid_column": null,
            "grid_gap": null,
            "grid_row": null,
            "grid_template_areas": null,
            "grid_template_columns": null,
            "grid_template_rows": null,
            "height": null,
            "justify_content": null,
            "justify_items": null,
            "left": null,
            "margin": null,
            "max_height": null,
            "max_width": null,
            "min_height": null,
            "min_width": null,
            "object_fit": null,
            "object_position": null,
            "order": null,
            "overflow": null,
            "overflow_x": null,
            "overflow_y": null,
            "padding": null,
            "right": null,
            "top": null,
            "visibility": null,
            "width": null
          }
        },
        "da5c75d322c543aa8792e8cddce56662": {
          "model_module": "@jupyter-widgets/controls",
          "model_name": "DescriptionStyleModel",
          "model_module_version": "1.5.0",
          "state": {
            "_model_module": "@jupyter-widgets/controls",
            "_model_module_version": "1.5.0",
            "_model_name": "DescriptionStyleModel",
            "_view_count": null,
            "_view_module": "@jupyter-widgets/base",
            "_view_module_version": "1.2.0",
            "_view_name": "StyleView",
            "description_width": ""
          }
        },
        "6eb45e508f9844ee9b40c1403d8bc522": {
          "model_module": "@jupyter-widgets/controls",
          "model_name": "HBoxModel",
          "model_module_version": "1.5.0",
          "state": {
            "_dom_classes": [],
            "_model_module": "@jupyter-widgets/controls",
            "_model_module_version": "1.5.0",
            "_model_name": "HBoxModel",
            "_view_count": null,
            "_view_module": "@jupyter-widgets/controls",
            "_view_module_version": "1.5.0",
            "_view_name": "HBoxView",
            "box_style": "",
            "children": [
              "IPY_MODEL_77078a86880b4e37bc9035544a111d8f",
              "IPY_MODEL_b9efdb7bbeae4b3c8cbd2b57cc943c97",
              "IPY_MODEL_ca2bccd5d80d43409e8526207b74a869"
            ],
            "layout": "IPY_MODEL_75f8517b19b24a2f875271a6e8936634"
          }
        },
        "77078a86880b4e37bc9035544a111d8f": {
          "model_module": "@jupyter-widgets/controls",
          "model_name": "HTMLModel",
          "model_module_version": "1.5.0",
          "state": {
            "_dom_classes": [],
            "_model_module": "@jupyter-widgets/controls",
            "_model_module_version": "1.5.0",
            "_model_name": "HTMLModel",
            "_view_count": null,
            "_view_module": "@jupyter-widgets/controls",
            "_view_module_version": "1.5.0",
            "_view_name": "HTMLView",
            "description": "",
            "description_tooltip": null,
            "layout": "IPY_MODEL_c6c9cb5e342641f7b335afae873a97d4",
            "placeholder": "​",
            "style": "IPY_MODEL_11b63fe91c114c1dac71ee7842f46289",
            "value": "Downloading (…)lve/main/config.json: 100%"
          }
        },
        "b9efdb7bbeae4b3c8cbd2b57cc943c97": {
          "model_module": "@jupyter-widgets/controls",
          "model_name": "FloatProgressModel",
          "model_module_version": "1.5.0",
          "state": {
            "_dom_classes": [],
            "_model_module": "@jupyter-widgets/controls",
            "_model_module_version": "1.5.0",
            "_model_name": "FloatProgressModel",
            "_view_count": null,
            "_view_module": "@jupyter-widgets/controls",
            "_view_module_version": "1.5.0",
            "_view_name": "ProgressView",
            "bar_style": "success",
            "description": "",
            "description_tooltip": null,
            "layout": "IPY_MODEL_e0f92de09e964ac5869f48fce9f59bef",
            "max": 570,
            "min": 0,
            "orientation": "horizontal",
            "style": "IPY_MODEL_df87ca088dc84b66bbe57dd380712c73",
            "value": 570
          }
        },
        "ca2bccd5d80d43409e8526207b74a869": {
          "model_module": "@jupyter-widgets/controls",
          "model_name": "HTMLModel",
          "model_module_version": "1.5.0",
          "state": {
            "_dom_classes": [],
            "_model_module": "@jupyter-widgets/controls",
            "_model_module_version": "1.5.0",
            "_model_name": "HTMLModel",
            "_view_count": null,
            "_view_module": "@jupyter-widgets/controls",
            "_view_module_version": "1.5.0",
            "_view_name": "HTMLView",
            "description": "",
            "description_tooltip": null,
            "layout": "IPY_MODEL_c2ec12e5ac6140849932002a265b2bd1",
            "placeholder": "​",
            "style": "IPY_MODEL_e6c83a734c2847f5ae814eadd2233bfe",
            "value": " 570/570 [00:00&lt;00:00, 4.10kB/s]"
          }
        },
        "75f8517b19b24a2f875271a6e8936634": {
          "model_module": "@jupyter-widgets/base",
          "model_name": "LayoutModel",
          "model_module_version": "1.2.0",
          "state": {
            "_model_module": "@jupyter-widgets/base",
            "_model_module_version": "1.2.0",
            "_model_name": "LayoutModel",
            "_view_count": null,
            "_view_module": "@jupyter-widgets/base",
            "_view_module_version": "1.2.0",
            "_view_name": "LayoutView",
            "align_content": null,
            "align_items": null,
            "align_self": null,
            "border": null,
            "bottom": null,
            "display": null,
            "flex": null,
            "flex_flow": null,
            "grid_area": null,
            "grid_auto_columns": null,
            "grid_auto_flow": null,
            "grid_auto_rows": null,
            "grid_column": null,
            "grid_gap": null,
            "grid_row": null,
            "grid_template_areas": null,
            "grid_template_columns": null,
            "grid_template_rows": null,
            "height": null,
            "justify_content": null,
            "justify_items": null,
            "left": null,
            "margin": null,
            "max_height": null,
            "max_width": null,
            "min_height": null,
            "min_width": null,
            "object_fit": null,
            "object_position": null,
            "order": null,
            "overflow": null,
            "overflow_x": null,
            "overflow_y": null,
            "padding": null,
            "right": null,
            "top": null,
            "visibility": null,
            "width": null
          }
        },
        "c6c9cb5e342641f7b335afae873a97d4": {
          "model_module": "@jupyter-widgets/base",
          "model_name": "LayoutModel",
          "model_module_version": "1.2.0",
          "state": {
            "_model_module": "@jupyter-widgets/base",
            "_model_module_version": "1.2.0",
            "_model_name": "LayoutModel",
            "_view_count": null,
            "_view_module": "@jupyter-widgets/base",
            "_view_module_version": "1.2.0",
            "_view_name": "LayoutView",
            "align_content": null,
            "align_items": null,
            "align_self": null,
            "border": null,
            "bottom": null,
            "display": null,
            "flex": null,
            "flex_flow": null,
            "grid_area": null,
            "grid_auto_columns": null,
            "grid_auto_flow": null,
            "grid_auto_rows": null,
            "grid_column": null,
            "grid_gap": null,
            "grid_row": null,
            "grid_template_areas": null,
            "grid_template_columns": null,
            "grid_template_rows": null,
            "height": null,
            "justify_content": null,
            "justify_items": null,
            "left": null,
            "margin": null,
            "max_height": null,
            "max_width": null,
            "min_height": null,
            "min_width": null,
            "object_fit": null,
            "object_position": null,
            "order": null,
            "overflow": null,
            "overflow_x": null,
            "overflow_y": null,
            "padding": null,
            "right": null,
            "top": null,
            "visibility": null,
            "width": null
          }
        },
        "11b63fe91c114c1dac71ee7842f46289": {
          "model_module": "@jupyter-widgets/controls",
          "model_name": "DescriptionStyleModel",
          "model_module_version": "1.5.0",
          "state": {
            "_model_module": "@jupyter-widgets/controls",
            "_model_module_version": "1.5.0",
            "_model_name": "DescriptionStyleModel",
            "_view_count": null,
            "_view_module": "@jupyter-widgets/base",
            "_view_module_version": "1.2.0",
            "_view_name": "StyleView",
            "description_width": ""
          }
        },
        "e0f92de09e964ac5869f48fce9f59bef": {
          "model_module": "@jupyter-widgets/base",
          "model_name": "LayoutModel",
          "model_module_version": "1.2.0",
          "state": {
            "_model_module": "@jupyter-widgets/base",
            "_model_module_version": "1.2.0",
            "_model_name": "LayoutModel",
            "_view_count": null,
            "_view_module": "@jupyter-widgets/base",
            "_view_module_version": "1.2.0",
            "_view_name": "LayoutView",
            "align_content": null,
            "align_items": null,
            "align_self": null,
            "border": null,
            "bottom": null,
            "display": null,
            "flex": null,
            "flex_flow": null,
            "grid_area": null,
            "grid_auto_columns": null,
            "grid_auto_flow": null,
            "grid_auto_rows": null,
            "grid_column": null,
            "grid_gap": null,
            "grid_row": null,
            "grid_template_areas": null,
            "grid_template_columns": null,
            "grid_template_rows": null,
            "height": null,
            "justify_content": null,
            "justify_items": null,
            "left": null,
            "margin": null,
            "max_height": null,
            "max_width": null,
            "min_height": null,
            "min_width": null,
            "object_fit": null,
            "object_position": null,
            "order": null,
            "overflow": null,
            "overflow_x": null,
            "overflow_y": null,
            "padding": null,
            "right": null,
            "top": null,
            "visibility": null,
            "width": null
          }
        },
        "df87ca088dc84b66bbe57dd380712c73": {
          "model_module": "@jupyter-widgets/controls",
          "model_name": "ProgressStyleModel",
          "model_module_version": "1.5.0",
          "state": {
            "_model_module": "@jupyter-widgets/controls",
            "_model_module_version": "1.5.0",
            "_model_name": "ProgressStyleModel",
            "_view_count": null,
            "_view_module": "@jupyter-widgets/base",
            "_view_module_version": "1.2.0",
            "_view_name": "StyleView",
            "bar_color": null,
            "description_width": ""
          }
        },
        "c2ec12e5ac6140849932002a265b2bd1": {
          "model_module": "@jupyter-widgets/base",
          "model_name": "LayoutModel",
          "model_module_version": "1.2.0",
          "state": {
            "_model_module": "@jupyter-widgets/base",
            "_model_module_version": "1.2.0",
            "_model_name": "LayoutModel",
            "_view_count": null,
            "_view_module": "@jupyter-widgets/base",
            "_view_module_version": "1.2.0",
            "_view_name": "LayoutView",
            "align_content": null,
            "align_items": null,
            "align_self": null,
            "border": null,
            "bottom": null,
            "display": null,
            "flex": null,
            "flex_flow": null,
            "grid_area": null,
            "grid_auto_columns": null,
            "grid_auto_flow": null,
            "grid_auto_rows": null,
            "grid_column": null,
            "grid_gap": null,
            "grid_row": null,
            "grid_template_areas": null,
            "grid_template_columns": null,
            "grid_template_rows": null,
            "height": null,
            "justify_content": null,
            "justify_items": null,
            "left": null,
            "margin": null,
            "max_height": null,
            "max_width": null,
            "min_height": null,
            "min_width": null,
            "object_fit": null,
            "object_position": null,
            "order": null,
            "overflow": null,
            "overflow_x": null,
            "overflow_y": null,
            "padding": null,
            "right": null,
            "top": null,
            "visibility": null,
            "width": null
          }
        },
        "e6c83a734c2847f5ae814eadd2233bfe": {
          "model_module": "@jupyter-widgets/controls",
          "model_name": "DescriptionStyleModel",
          "model_module_version": "1.5.0",
          "state": {
            "_model_module": "@jupyter-widgets/controls",
            "_model_module_version": "1.5.0",
            "_model_name": "DescriptionStyleModel",
            "_view_count": null,
            "_view_module": "@jupyter-widgets/base",
            "_view_module_version": "1.2.0",
            "_view_name": "StyleView",
            "description_width": ""
          }
        }
      }
    }
  },
  "cells": [
    {
      "cell_type": "code",
      "execution_count": 1,
      "metadata": {
        "colab": {
          "base_uri": "https://localhost:8080/"
        },
        "id": "OBs1yuF1FS2k",
        "outputId": "93a616dc-b55f-4580-ed9d-72fde4755d69"
      },
      "outputs": [
        {
          "output_type": "stream",
          "name": "stderr",
          "text": [
            "[nltk_data] Downloading package stopwords to /root/nltk_data...\n",
            "[nltk_data]   Unzipping corpora/stopwords.zip.\n",
            "[nltk_data] Downloading package punkt to /root/nltk_data...\n",
            "[nltk_data]   Unzipping tokenizers/punkt.zip.\n",
            "[nltk_data] Downloading package wordnet to /root/nltk_data...\n"
          ]
        }
      ],
      "source": [
        "import warnings\n",
        "warnings.filterwarnings('ignore')\n",
        "\n",
        "import re\n",
        "import string\n",
        "import os\n",
        "from collections import defaultdict\n",
        "from collections import Counter\n",
        "\n",
        "# General science/numeric tools\n",
        "import pandas as pd\n",
        "import numpy as np\n",
        "\n",
        "from sklearn.feature_extraction.text import TfidfVectorizer, CountVectorizer\n",
        "from sklearn.model_selection import train_test_split\n",
        "from sklearn.naive_bayes import MultinomialNB\n",
        "\n",
        "from sklearn import metrics\n",
        "from sklearn.metrics import confusion_matrix,accuracy_score,roc_auc_score,roc_curve,auc,f1_score\n",
        "\n",
        "# Plotting libraries\n",
        "import matplotlib.pyplot as plt\n",
        "import seaborn as sns\n",
        "plt.style.use('ggplot')\n",
        "\n",
        "# NLTK for NLP tools such as stemming, lemmatizing\n",
        "import nltk\n",
        "from nltk.corpus import stopwords\n",
        "nltk.download('stopwords')\n",
        "from nltk.util import ngrams\n",
        "from nltk.tokenize import word_tokenize\n",
        "from nltk.stem import WordNetLemmatizer\n",
        "from nltk.corpus import wordnet\n",
        "nltk.download('punkt')\n",
        "nltk.download('wordnet')\n",
        "stop = set(stopwords.words('english'))\n",
        "\n",
        "from sklearn.feature_extraction.text import CountVectorizer\n",
        "\n",
        "import gensim\n",
        "from tqdm.notebook import tqdm\n",
        "\n"
      ]
    },
    {
      "cell_type": "code",
      "source": [
        "# to access my drive to read the csv-files\n",
        "from google.colab import drive\n",
        "drive.mount('/content/drive')\n",
        "\n",
        "# link to the folder of Colab Notebooks \n",
        "%cd '/content/drive/MyDrive/Colab Notebooks'"
      ],
      "metadata": {
        "colab": {
          "base_uri": "https://localhost:8080/"
        },
        "id": "XwX1jtbBFexF",
        "outputId": "e2cffc39-c4bd-4124-d633-ced5fc5de70e"
      },
      "execution_count": 2,
      "outputs": [
        {
          "output_type": "stream",
          "name": "stdout",
          "text": [
            "Mounted at /content/drive\n",
            "/content/drive/MyDrive/Colab Notebooks\n"
          ]
        }
      ]
    },
    {
      "cell_type": "code",
      "source": [
        "df = pd.read_csv('train_bodies.csv')\n",
        "df1 = pd.read_csv('train_stances.csv')\n",
        "\n",
        "df_merge = pd.merge(df, df1, on='Body ID')\n",
        "\n",
        "TEXT_C = ['articleBody','Headline']\n",
        "TARGET_C = 'Stance'\n",
        "\n",
        "df_merge['Stance'].replace(['agree', 'disagree', 'discuss'], 'related',inplace=True)\n",
        "print(df_merge['Stance'].value_counts())\n",
        "# print(train_text.isna().sum())"
      ],
      "metadata": {
        "colab": {
          "base_uri": "https://localhost:8080/"
        },
        "id": "OS6DlsQ2FhZF",
        "outputId": "4af6cf62-091e-42f8-b73f-3611aa718228"
      },
      "execution_count": 3,
      "outputs": [
        {
          "output_type": "stream",
          "name": "stdout",
          "text": [
            "unrelated    36545\n",
            "related      13427\n",
            "Name: Stance, dtype: int64\n"
          ]
        }
      ]
    },
    {
      "cell_type": "code",
      "source": [],
      "metadata": {
        "id": "eeJsPqDWtZiF"
      },
      "execution_count": 3,
      "outputs": []
    },
    {
      "cell_type": "code",
      "source": [
        "#drop Body ID \n",
        "df_merge.drop(\"Body ID\", axis=1, inplace=True)\n",
        "\n",
        "# Split data into train and temporary sets with an 80:20 split ratio\n",
        "train, test = train_test_split(df_merge, test_size=0.4, random_state=42)\n",
        "\n",
        "# Split the temporary set into validation and test sets with a 50:50 split ratio\n",
        "val, test = train_test_split(test, test_size=0.5, random_state=42)\n"
      ],
      "metadata": {
        "id": "6c2ITzFUMri9"
      },
      "execution_count": 4,
      "outputs": []
    },
    {
      "cell_type": "code",
      "source": [
        "# Extract the text data and target data for each set\n",
        "train_text, train_target = train[TEXT_C], train[TARGET_C]\n",
        "val_text, val_target = val[TEXT_C], val[TARGET_C]\n",
        "test_text, test_target = test[TEXT_C], test[TARGET_C]"
      ],
      "metadata": {
        "id": "UeRNvP_5PtQZ"
      },
      "execution_count": 5,
      "outputs": []
    },
    {
      "cell_type": "code",
      "source": [
        "# train_text = train_text[['articleBody', 'Headline']].applymap(preprocess)\n",
        "# val_text = val_text[['articleBody', 'Headline']].applymap(preprocess)\n",
        "# test_text = test_text[['articleBody', 'Headline']].applymap(preprocess)\n",
        "# print(train_text.head())\n",
        "# print(train_target.head())\n"
      ],
      "metadata": {
        "id": "wywXTlCXPl8J"
      },
      "execution_count": 6,
      "outputs": []
    },
    {
      "cell_type": "code",
      "source": [
        "print('Size of training set:',train.shape)\n",
        "print('Size of validation set:',val.shape)\n",
        "print('Size of validation set:',test.shape)\n",
        "print(type(train_target))"
      ],
      "metadata": {
        "colab": {
          "base_uri": "https://localhost:8080/"
        },
        "id": "Sj3AMvUeShYB",
        "outputId": "7b1bbd2a-c4a0-4612-b44b-347c4f936775"
      },
      "execution_count": 7,
      "outputs": [
        {
          "output_type": "stream",
          "name": "stdout",
          "text": [
            "Size of training set: (29983, 3)\n",
            "Size of validation set: (9994, 3)\n",
            "Size of validation set: (9995, 3)\n",
            "<class 'pandas.core.series.Series'>\n"
          ]
        }
      ]
    },
    {
      "cell_type": "code",
      "source": [
        "import re\n",
        "from nltk.corpus import stopwords\n",
        "from sklearn.feature_extraction.text import TfidfVectorizer\n",
        "\n",
        "# Define a preprocessing function\n",
        "def preprocess(text):\n",
        "    # Remove punctuation\n",
        "    text = re.sub(r'[^\\w\\s]', '', text)\n",
        "    # Remove stop words\n",
        "    stop_words = set(stopwords.words('english'))\n",
        "    tokens = text.split()\n",
        "    tokens = [token for token in tokens if token.lower() not in stop_words]\n",
        "    # Convert tokens back to text\n",
        "    text = ' '.join(tokens)\n",
        "    return text"
      ],
      "metadata": {
        "id": "7_5NeVKIH12T"
      },
      "execution_count": 8,
      "outputs": []
    },
    {
      "cell_type": "code",
      "source": [
        "# train_data = train_text\n",
        "# train_data\n",
        "# change the dataframe with two columns to a column to be used in tfidf function\n",
        "combined_train_series = (train_text['articleBody']+train_text['Headline']).apply(preprocess)\n",
        "combined_val_series = (val_text['articleBody']+val_text['Headline']).apply(preprocess)\n",
        "combined_test_series = (test_text['articleBody']+test_text['Headline']).apply(preprocess)\n"
      ],
      "metadata": {
        "id": "I0mFen8AY4SP"
      },
      "execution_count": 9,
      "outputs": []
    },
    {
      "cell_type": "code",
      "source": [
        "# Convert the text data to numerical data\n",
        "\n",
        "# Use TF-IDF to convert the text data to feature vectors\n",
        "tfidf_vectorizer = TfidfVectorizer(decode_error='ignore', lowercase=True, min_df=2)\n",
        "# can set up max_df=0.8/0.9 to avoid the intervention of the most common words\n",
        "train_features = tfidf_vectorizer.fit_transform(combined_train_series.values.astype('U'))\n",
        "val_features = tfidf_vectorizer.transform(combined_val_series.values.astype('U'))\n",
        "test_features = tfidf_vectorizer.transform(combined_test_series.values.astype('U'))"
      ],
      "metadata": {
        "id": "b6vc3N0jSS8i"
      },
      "execution_count": 10,
      "outputs": []
    },
    {
      "cell_type": "code",
      "source": [
        "print('Size of training set:',train_features.shape)\n",
        "print('Size of validation set:',val_features.shape)\n",
        "print('Size of validation set:',test_features.shape)"
      ],
      "metadata": {
        "colab": {
          "base_uri": "https://localhost:8080/"
        },
        "id": "nLnOqpc2UGO6",
        "outputId": "9a39041f-0a6f-4fb8-f2dc-13153d3a8ab2"
      },
      "execution_count": 11,
      "outputs": [
        {
          "output_type": "stream",
          "name": "stdout",
          "text": [
            "Size of training set: (29983, 29614)\n",
            "Size of validation set: (9994, 29614)\n",
            "Size of validation set: (9995, 29614)\n"
          ]
        }
      ]
    },
    {
      "cell_type": "code",
      "source": [
        "train_target"
      ],
      "metadata": {
        "colab": {
          "base_uri": "https://localhost:8080/"
        },
        "id": "Jn46ugdby43L",
        "outputId": "e2911494-cf29-47a4-e87c-77a61181517d"
      },
      "execution_count": 12,
      "outputs": [
        {
          "output_type": "execute_result",
          "data": {
            "text/plain": [
              "14020    unrelated\n",
              "12430    unrelated\n",
              "44352    unrelated\n",
              "36868    unrelated\n",
              "30213    unrelated\n",
              "           ...    \n",
              "11284    unrelated\n",
              "44732      related\n",
              "38158    unrelated\n",
              "860      unrelated\n",
              "15795    unrelated\n",
              "Name: Stance, Length: 29983, dtype: object"
            ]
          },
          "metadata": {},
          "execution_count": 12
        }
      ]
    },
    {
      "cell_type": "code",
      "source": [
        "# Convert the target data to numerical values\n",
        "train_target = train_target.replace({'unrelated': 0, 'related': 1})\n",
        "val_target = val_target.replace({'unrelated': 0, 'related': 1})\n",
        "test_target = test_target.replace({'unrelated': 0, 'related': 1})\n",
        "\n",
        "train = train.replace({'unrelated': 0, 'related': 1})\n",
        "val = val.replace({'unrelated': 0, 'related': 1})\n",
        "test = test.replace({'unrelated': 0, 'related': 1})\n",
        "\n",
        "#build a new target-series data for BERT-model\n",
        "train_target_bert = train_target\n",
        "val_target_bert = val_target\n",
        "test_target_bert = test_target\n",
        "\n",
        "train_text_bert = train_text\n",
        "val_text_bert = val_text\n",
        "test_text_bert = test_text"
      ],
      "metadata": {
        "id": "y2S_kakuc984"
      },
      "execution_count": 13,
      "outputs": []
    },
    {
      "cell_type": "code",
      "source": [
        "test_text_bert.shape"
      ],
      "metadata": {
        "colab": {
          "base_uri": "https://localhost:8080/"
        },
        "id": "nS992j0h4lew",
        "outputId": "69228c40-1ad5-4214-cdff-fbd664a8d1ea"
      },
      "execution_count": 14,
      "outputs": [
        {
          "output_type": "execute_result",
          "data": {
            "text/plain": [
              "(9995, 2)"
            ]
          },
          "metadata": {},
          "execution_count": 14
        }
      ]
    },
    {
      "cell_type": "code",
      "source": [
        "!pip install transformers"
      ],
      "metadata": {
        "colab": {
          "base_uri": "https://localhost:8080/"
        },
        "id": "lPDmFBCYc5OR",
        "outputId": "80cd9d45-eeae-4d0b-ddd1-b77a1705582f"
      },
      "execution_count": 15,
      "outputs": [
        {
          "output_type": "stream",
          "name": "stdout",
          "text": [
            "Looking in indexes: https://pypi.org/simple, https://us-python.pkg.dev/colab-wheels/public/simple/\n",
            "Collecting transformers\n",
            "  Downloading transformers-4.28.1-py3-none-any.whl (7.0 MB)\n",
            "\u001b[2K     \u001b[90m━━━━━━━━━━━━━━━━━━━━━━━━━━━━━━━━━━━━━━━━\u001b[0m \u001b[32m7.0/7.0 MB\u001b[0m \u001b[31m66.9 MB/s\u001b[0m eta \u001b[36m0:00:00\u001b[0m\n",
            "\u001b[?25hCollecting tokenizers!=0.11.3,<0.14,>=0.11.1\n",
            "  Downloading tokenizers-0.13.3-cp39-cp39-manylinux_2_17_x86_64.manylinux2014_x86_64.whl (7.8 MB)\n",
            "\u001b[2K     \u001b[90m━━━━━━━━━━━━━━━━━━━━━━━━━━━━━━━━━━━━━━━━\u001b[0m \u001b[32m7.8/7.8 MB\u001b[0m \u001b[31m88.8 MB/s\u001b[0m eta \u001b[36m0:00:00\u001b[0m\n",
            "\u001b[?25hRequirement already satisfied: tqdm>=4.27 in /usr/local/lib/python3.9/dist-packages (from transformers) (4.65.0)\n",
            "Requirement already satisfied: packaging>=20.0 in /usr/local/lib/python3.9/dist-packages (from transformers) (23.1)\n",
            "Requirement already satisfied: filelock in /usr/local/lib/python3.9/dist-packages (from transformers) (3.12.0)\n",
            "Requirement already satisfied: regex!=2019.12.17 in /usr/local/lib/python3.9/dist-packages (from transformers) (2022.10.31)\n",
            "Collecting huggingface-hub<1.0,>=0.11.0\n",
            "  Downloading huggingface_hub-0.14.1-py3-none-any.whl (224 kB)\n",
            "\u001b[2K     \u001b[90m━━━━━━━━━━━━━━━━━━━━━━━━━━━━━━━━━━━━━━\u001b[0m \u001b[32m224.5/224.5 kB\u001b[0m \u001b[31m23.1 MB/s\u001b[0m eta \u001b[36m0:00:00\u001b[0m\n",
            "\u001b[?25hRequirement already satisfied: numpy>=1.17 in /usr/local/lib/python3.9/dist-packages (from transformers) (1.22.4)\n",
            "Requirement already satisfied: requests in /usr/local/lib/python3.9/dist-packages (from transformers) (2.27.1)\n",
            "Requirement already satisfied: pyyaml>=5.1 in /usr/local/lib/python3.9/dist-packages (from transformers) (6.0)\n",
            "Requirement already satisfied: fsspec in /usr/local/lib/python3.9/dist-packages (from huggingface-hub<1.0,>=0.11.0->transformers) (2023.4.0)\n",
            "Requirement already satisfied: typing-extensions>=3.7.4.3 in /usr/local/lib/python3.9/dist-packages (from huggingface-hub<1.0,>=0.11.0->transformers) (4.5.0)\n",
            "Requirement already satisfied: charset-normalizer~=2.0.0 in /usr/local/lib/python3.9/dist-packages (from requests->transformers) (2.0.12)\n",
            "Requirement already satisfied: certifi>=2017.4.17 in /usr/local/lib/python3.9/dist-packages (from requests->transformers) (2022.12.7)\n",
            "Requirement already satisfied: urllib3<1.27,>=1.21.1 in /usr/local/lib/python3.9/dist-packages (from requests->transformers) (1.26.15)\n",
            "Requirement already satisfied: idna<4,>=2.5 in /usr/local/lib/python3.9/dist-packages (from requests->transformers) (3.4)\n",
            "Installing collected packages: tokenizers, huggingface-hub, transformers\n",
            "Successfully installed huggingface-hub-0.14.1 tokenizers-0.13.3 transformers-4.28.1\n"
          ]
        }
      ]
    },
    {
      "cell_type": "code",
      "source": [
        "from transformers import BertTokenizer\n",
        "\n",
        "tokenizer = BertTokenizer.from_pretrained('bert-base-uncased')"
      ],
      "metadata": {
        "colab": {
          "base_uri": "https://localhost:8080/",
          "height": 113,
          "referenced_widgets": [
            "71dec572f2bc4c518614a84daca4ca9d",
            "567d645a8ffd422187b10d2d36ea2f44",
            "89206497866c4d9fbe33c44f14079f63",
            "6266dba1d5524628beb80d92c0d16abe",
            "eac01949ed724952bf765f5cfbe99dd1",
            "113363939b204dd99f14718b8e5aa608",
            "5272ad8443e64f1094bc41ca99cac253",
            "9a1f91a97e65495b9498bcf1a0ace329",
            "48d0212d321d42898a18060b7a6da3a9",
            "3c7a2ce826304c798b2ef0dd9c0e6618",
            "5e73f6589ff94b2bb538712d6cf93707",
            "4de9b3b5021344b7bcb65846e080d27d",
            "648fea891a664debb70e92277c149f6b",
            "833202cf161846e2bc06e36827217e36",
            "910a353e9cf74bbcb393ba29d5e8b60c",
            "531cb614b4644cf29dfddbc03729e869",
            "7e4dfebf56bf4753baa06f9234c12a7d",
            "ae426bb248a04640931c2a5c79f11103",
            "ec3d1933cf864d339d9b242b67557968",
            "e61d390cbce547a4a049e2934a1480f5",
            "4a3e04d906eb46b8a7162004b87dbe30",
            "da5c75d322c543aa8792e8cddce56662",
            "6eb45e508f9844ee9b40c1403d8bc522",
            "77078a86880b4e37bc9035544a111d8f",
            "b9efdb7bbeae4b3c8cbd2b57cc943c97",
            "ca2bccd5d80d43409e8526207b74a869",
            "75f8517b19b24a2f875271a6e8936634",
            "c6c9cb5e342641f7b335afae873a97d4",
            "11b63fe91c114c1dac71ee7842f46289",
            "e0f92de09e964ac5869f48fce9f59bef",
            "df87ca088dc84b66bbe57dd380712c73",
            "c2ec12e5ac6140849932002a265b2bd1",
            "e6c83a734c2847f5ae814eadd2233bfe"
          ]
        },
        "id": "e0tpHBlVc5ME",
        "outputId": "a7989dcc-71d1-4b1c-b3ca-c9c07a62d34f"
      },
      "execution_count": 16,
      "outputs": [
        {
          "output_type": "display_data",
          "data": {
            "text/plain": [
              "Downloading (…)solve/main/vocab.txt:   0%|          | 0.00/232k [00:00<?, ?B/s]"
            ],
            "application/vnd.jupyter.widget-view+json": {
              "version_major": 2,
              "version_minor": 0,
              "model_id": "71dec572f2bc4c518614a84daca4ca9d"
            }
          },
          "metadata": {}
        },
        {
          "output_type": "display_data",
          "data": {
            "text/plain": [
              "Downloading (…)okenizer_config.json:   0%|          | 0.00/28.0 [00:00<?, ?B/s]"
            ],
            "application/vnd.jupyter.widget-view+json": {
              "version_major": 2,
              "version_minor": 0,
              "model_id": "4de9b3b5021344b7bcb65846e080d27d"
            }
          },
          "metadata": {}
        },
        {
          "output_type": "display_data",
          "data": {
            "text/plain": [
              "Downloading (…)lve/main/config.json:   0%|          | 0.00/570 [00:00<?, ?B/s]"
            ],
            "application/vnd.jupyter.widget-view+json": {
              "version_major": 2,
              "version_minor": 0,
              "model_id": "6eb45e508f9844ee9b40c1403d8bc522"
            }
          },
          "metadata": {}
        }
      ]
    },
    {
      "cell_type": "code",
      "source": [
        "init_token = tokenizer.cls_token\n",
        "eos_token = tokenizer.sep_token\n",
        "pad_token = tokenizer.pad_token\n",
        "unk_token = tokenizer.unk_token\n",
        "init_token_idx = tokenizer.cls_token_id\n",
        "eos_token_idx = tokenizer.sep_token_id\n",
        "pad_token_idx = tokenizer.pad_token_id\n",
        "unk_token_idx = tokenizer.unk_token_id\n",
        "\n",
        "print(init_token, eos_token, pad_token, unk_token)\n"
      ],
      "metadata": {
        "colab": {
          "base_uri": "https://localhost:8080/"
        },
        "id": "7fCVWrGCc5Jb",
        "outputId": "6435601e-50f3-460f-e788-4c9c4e346491"
      },
      "execution_count": 17,
      "outputs": [
        {
          "output_type": "stream",
          "name": "stdout",
          "text": [
            "[CLS] [SEP] [PAD] [UNK]\n"
          ]
        }
      ]
    },
    {
      "cell_type": "code",
      "source": [
        "max_input_length = tokenizer.max_model_input_sizes['bert-base-uncased']\n",
        "\n",
        "def tokenize_and_cut(sentence):\n",
        "    tokens = tokenizer.tokenize(sentence) \n",
        "    tokens = tokens[:max_input_length-2]\n",
        "    return tokens"
      ],
      "metadata": {
        "id": "1SwMYr4Uc5HR"
      },
      "execution_count": 18,
      "outputs": []
    },
    {
      "cell_type": "code",
      "source": [
        "import torch\n",
        "import random\n",
        "from torchtext import datasets\n",
        "from torchtext.data.functional import to_map_style_dataset\n",
        "\n",
        "train_dataset  = to_map_style_dataset(train.values)\n",
        "# y_train_dataset = to_map_style_dataset(y_train_2)\n",
        "val_dataset  = to_map_style_dataset(val.values)\n",
        "# y_val_dataset = to_map_style_dataset(y_val_2)\n",
        "test_dataset   = to_map_style_dataset(test.values)\n",
        "# y_test_dataset = to_map_style_dataset(y_test_2)\n",
        "\n",
        "train_dataset = list(train_dataset)\n",
        "val_dataset = list(val_dataset)\n",
        "test_dataset = list(test_dataset)"
      ],
      "metadata": {
        "id": "NzIl276gicpw"
      },
      "execution_count": 19,
      "outputs": []
    },
    {
      "cell_type": "code",
      "source": [
        "from torch.utils.data import DataLoader,Sampler\n",
        "from torch.nn.utils.rnn import pad_sequence\n",
        "\n",
        "BATCH_SIZE = 32\n",
        "\n",
        "\n",
        "# integrate headline and articlebody in this step\n",
        "def vectorize_batch(batch):\n",
        "    '''Take a batch of (text,label) pairs and return tensors ready for input to the model.'''\n",
        "    label_list, text_list = [], []\n",
        "    # train_dataset_c[0]['Headline'][0]    \n",
        "    for (headline, body,stance) in batch:\n",
        "\n",
        "    # for item in batch:\n",
        "    #   headline, body, stance, *_ = item  # unpack only the first 3 values of the tuple\n",
        "      new_column_values = []\n",
        "      # Use a for loop to iterate over each row in the dataframe\n",
        "      # for i in range (len(X_train_bert)):\n",
        "        # Add the new string to the new_column_values list\n",
        "      label_list.append(int(stance)-1)\n",
        "      tokens = tokenizer.convert_tokens_to_ids(tokenize_and_cut(headline))\n",
        "      tokens1 = tokenizer.convert_tokens_to_ids(tokenize_and_cut(body))\n",
        "      text_list.append(torch.tensor([init_token_idx] + tokens + [eos_token_idx]+tokens1))\n",
        "      # print(text_list)\n",
        "    return pad_sequence(text_list,\n",
        "                        padding_value=pad_token_idx,\n",
        "                        batch_first=True), torch.tensor(label_list)\n",
        "                                      \n",
        "class BucketSampler(Sampler):\n",
        "    def __init__(self, dataset, batch_size):\n",
        "        # train_list = list(dataset)\n",
        "        indices = [(i, len(tokenizer(s[0]))) for i, s in enumerate(dataset)]\n",
        "        random.shuffle(indices)\n",
        "        self.batch_size = batch_size\n",
        "        \n",
        "        # create pool of indices with similar lengths \n",
        "        self.pooled_indices = []\n",
        "        for i in range(0, len(indices), self.batch_size * 100):\n",
        "            self.pooled_indices.extend(sorted(indices[i:i + self.batch_size * 100], key=lambda x: x[1]))\n",
        "        self.pooled_indices = [x[0] for x in self.pooled_indices]\n",
        "        \n",
        "    def __iter__(self):\n",
        "        self.count = 0\n",
        "        return self\n",
        "    \n",
        "    def __next__(self):\n",
        "        # yield indices for current batch\n",
        "        if self.count >= len(self.pooled_indices)-self.batch_size:\n",
        "            raise StopIteration\n",
        "        self.count += 1\n",
        "        \n",
        "        for i in range(0, len(self.pooled_indices), self.batch_size):\n",
        "            return self.pooled_indices[self.count:self.count + self.batch_size]\n",
        "        \n",
        "    def __len__(self):\n",
        "        return len(self.pooled_indices)\n",
        "\n",
        "\n",
        "train_iterator  = DataLoader(train_dataset, collate_fn=vectorize_batch, batch_size=BATCH_SIZE)\n",
        "val_iterator  = DataLoader(val_dataset, collate_fn=vectorize_batch, batch_size=BATCH_SIZE)\n",
        "test_iterator   = DataLoader(test_dataset,  collate_fn=vectorize_batch, batch_size=BATCH_SIZE)"
      ],
      "metadata": {
        "id": "9I-dCgOgc5E4"
      },
      "execution_count": 20,
      "outputs": []
    },
    {
      "cell_type": "code",
      "source": [
        "# num_epochs = 10  # define the number of epochs\n",
        "# for epoch in range(num_epochs):\n",
        "#     # training code here\n",
        "#     for batch_idx, (train_text, train_target) in enumerate(train_iterator):\n",
        "#       print(\"input_ids:\",train_text)\n",
        "#       print(\"labels:\", train_target)\n",
        "#       break\n",
        "# train_dataset[0]"
      ],
      "metadata": {
        "id": "8_OmH-wZOZRy"
      },
      "execution_count": 21,
      "outputs": []
    },
    {
      "cell_type": "code",
      "source": [
        "# DataLoader(train_dataset, collate_fn=vectorize_batch, batch_size=BATCH_SIZE)\n",
        "# print(len(train_iterator))\n",
        "# train_dataset\n"
      ],
      "metadata": {
        "id": "FTU1_R1oWE0P"
      },
      "execution_count": 22,
      "outputs": []
    },
    {
      "cell_type": "code",
      "source": [
        "# type(train_target)\n",
        "# train_target = train_target.values\n",
        "# train_target.values\n",
        "# print(type(train_text))\n",
        "# print(type(train_target))\n",
        "# print(len(a))\n",
        "# len(b)\n"
      ],
      "metadata": {
        "id": "0RRsc1Y3Tce-"
      },
      "execution_count": 25,
      "outputs": []
    },
    {
      "cell_type": "code",
      "source": [
        "# train_text_bert, b = [], []\n",
        "# for train_text,train_target in train_iterator:\n",
        "#   a.append(train_text)\n",
        "#   b.append(train_target)\n",
        "\n",
        "    # print(len(train_target))\n",
        "    # print(\"input_ids:\",train_text)\n",
        "    # print(\"labels:\", train_target)\n",
        "\n",
        "# # define preprocessing function\n",
        "# def preprocess(text):\n",
        "#     text = text.lower()\n",
        "#     text = re.sub(r\"[^a-zA-Z0-9]+\", ' ', text)\n",
        "#     return text\n",
        "\n",
        "# # apply preprocessing to train_text_bert\n",
        "# train_text_bert.apply_(preprocess)\n",
        "\n",
        "\n"
      ],
      "metadata": {
        "id": "AW2YjWk4c5Cg"
      },
      "execution_count": 95,
      "outputs": []
    },
    {
      "cell_type": "code",
      "source": [
        "a1 = []\n",
        "b1 = []\n",
        "\n",
        "for train_text_bert, train_target_bert in train_iterator:\n",
        "    a1.append(train_text_bert)\n",
        "    b1.append(train_target_bert)\n",
        "    # print(\"input_ids:\",train_text_berts)\n",
        "    # print(\"labels:\", train_target_bert)\n",
        "    # break"
      ],
      "metadata": {
        "id": "kuVwYV086RW3"
      },
      "execution_count": 42,
      "outputs": []
    },
    {
      "cell_type": "code",
      "source": [
        "for train_text_bert, train_target_bert in train_iterator:\n",
        "    print(\"input_ids:\",train_text_bert)\n",
        "    print(\"labels:\", train_target_bert)\n",
        "    break"
      ],
      "metadata": {
        "colab": {
          "base_uri": "https://localhost:8080/"
        },
        "id": "ahIg1kinNp95",
        "outputId": "f649661a-ba98-45a8-bcaa-f227b42c7e3b"
      },
      "execution_count": 77,
      "outputs": [
        {
          "output_type": "stream",
          "name": "stdout",
          "text": [
            "input_ids: tensor([[  101,  2414,  1010,  ...,     0,     0,     0],\n",
            "        [  101,  9733,  1012,  ...,     0,     0,     0],\n",
            "        [  101,  2167,  4759,  ...,     0,     0,     0],\n",
            "        ...,\n",
            "        [  101,  1996,  3003,  ...,     0,     0,     0],\n",
            "        [  101,  1996,  2796,  ...,     0,     0,     0],\n",
            "        [  101, 15335,  1517,  ...,     0,     0,     0]])\n",
            "labels: tensor([-1, -1, -1, -1, -1, -1, -1, -1,  0, -1,  0, -1, -1, -1, -1, -1, -1, -1,\n",
            "         0, -1,  0,  0, -1, -1,  0, -1, -1, -1, -1,  0, -1, -1])\n"
          ]
        }
      ]
    },
    {
      "cell_type": "code",
      "source": [
        "for val_text_bert, val_target_bert in val_iterator:\n",
        "    print(\"input_ids:\",val_text_bert)\n",
        "    print(\"labels:\", val_target_bert)\n",
        "    break"
      ],
      "metadata": {
        "colab": {
          "base_uri": "https://localhost:8080/"
        },
        "id": "7H9aGKFaKnBT",
        "outputId": "837046e0-cdaa-44a2-c3c1-0ab26486ba91"
      },
      "execution_count": 78,
      "outputs": [
        {
          "output_type": "stream",
          "name": "stdout",
          "text": [
            "input_ids: tensor([[  101, 10208, 19935,  ...,  3088,  1999,  2230],\n",
            "        [  101,  1996,  5499,  ...,     0,     0,     0],\n",
            "        [  101, 16830,  2177,  ...,     0,     0,     0],\n",
            "        ...,\n",
            "        [  101,  4698,  2663,  ...,     0,     0,     0],\n",
            "        [  101,  1037,  2158,  ...,     0,     0,     0],\n",
            "        [  101,  8273,  3900,  ...,     0,     0,     0]])\n",
            "labels: tensor([-1, -1, -1, -1,  0, -1, -1, -1, -1, -1,  0, -1, -1, -1, -1,  0, -1,  0,\n",
            "        -1, -1,  0, -1,  0,  0, -1,  0, -1, -1, -1, -1, -1, -1])\n"
          ]
        }
      ]
    },
    {
      "cell_type": "code",
      "source": [
        "for test_text_bert, test_target_bert in test_iterator:\n",
        "    print(\"input_ids:\",test_text_bert)\n",
        "    print(\"labels:\", test_target_bert)\n",
        "    break"
      ],
      "metadata": {
        "colab": {
          "base_uri": "https://localhost:8080/"
        },
        "id": "o0RgjDsvc5AR",
        "outputId": "3e4e286f-a711-4007-c895-c3ebd30f29c2"
      },
      "execution_count": 79,
      "outputs": [
        {
          "output_type": "stream",
          "name": "stdout",
          "text": [
            "input_ids: tensor([[  101,  1996,  3010,  ...,     0,     0,     0],\n",
            "        [  101,  5035, 18528,  ...,     0,     0,     0],\n",
            "        [  101,  2182,  1521,  ...,     0,     0,     0],\n",
            "        ...,\n",
            "        [  101,  3904,  1997,  ...,     0,     0,     0],\n",
            "        [  101,  1006, 13292,  ...,     0,     0,     0],\n",
            "        [  101,  2019,  4895,  ...,     0,     0,     0]])\n",
            "labels: tensor([-1,  0,  0, -1, -1, -1, -1,  0,  0, -1, -1, -1,  0,  0, -1,  0, -1, -1,\n",
            "         0,  0, -1, -1, -1,  0, -1, -1, -1, -1,  0,  0, -1,  0])\n"
          ]
        }
      ]
    },
    {
      "cell_type": "code",
      "source": [
        "# for test_text_bert, test_target_bert in test_iterator:\n",
        "#     print(\"input_ids:\",test_text_bert)\n",
        "#     print(\"labels:\", test_target_bert)\n",
        "#     break\n",
        "a3 = [] # list to store input tensors\n",
        "b3 = [] # list to store target tensors\n",
        "\n",
        "for test_text_bert, test_target_bert in test_iterator:\n",
        "    a3.append(test_text_bert.numpy())\n",
        "    b3.append(test_target_bert.numpy())"
      ],
      "metadata": {
        "id": "UxGaWRU6c49B"
      },
      "execution_count": 27,
      "outputs": []
    },
    {
      "cell_type": "code",
      "source": [
        "print(type(np.array(a3)))"
      ],
      "metadata": {
        "colab": {
          "base_uri": "https://localhost:8080/"
        },
        "id": "mi-CLMsL8OCi",
        "outputId": "c1077c81-1ceb-4698-c40e-194cc19f7469"
      },
      "execution_count": 37,
      "outputs": [
        {
          "output_type": "stream",
          "name": "stdout",
          "text": [
            "<class 'numpy.ndarray'>\n"
          ]
        }
      ]
    },
    {
      "cell_type": "code",
      "source": [
        "# test_text_bert_numpy = np.concatenate(a3, axis=0)\n",
        "# test_target_bert_numpy = np.concatenate(b3, axis=0)"
      ],
      "metadata": {
        "id": "xZIKbcAcVrx6"
      },
      "execution_count": null,
      "outputs": []
    },
    {
      "cell_type": "code",
      "source": [],
      "metadata": {
        "id": "VEL1g0RrWszn"
      },
      "execution_count": null,
      "outputs": []
    },
    {
      "cell_type": "markdown",
      "source": [
        "Build the Naive Bayes for TF-IDF"
      ],
      "metadata": {
        "id": "Q-OmxwM2vKh_"
      }
    },
    {
      "cell_type": "code",
      "source": [
        "#Import the liberary\n",
        "import seaborn as sn\n",
        "%matplotlib inline\n",
        "from sklearn import metrics\n",
        "from sklearn.metrics import confusion_matrix,accuracy_score,roc_auc_score,roc_curve,auc,f1_score"
      ],
      "metadata": {
        "id": "56xwjHJlTys_"
      },
      "execution_count": 28,
      "outputs": []
    },
    {
      "cell_type": "code",
      "source": [
        "# Create the confusion matrix\n",
        "def plot_confusion_matrix(y_test, y_pred):\n",
        "    ''' Plot the confusion matrix for the target labels and predictions '''\n",
        "    cm = confusion_matrix(y_test, y_pred)\n",
        "\n",
        "    # Create a dataframe with the confusion matrix values\n",
        "    df_cm = pd.DataFrame(cm, range(cm.shape[0]),\n",
        "                  range(cm.shape[1]))\n",
        "\n",
        "    # Plot the confusion matrix\n",
        "    sn.set(font_scale=1.4) # for label size\n",
        "    sn.heatmap(df_cm, annot=True,fmt='.0f',cmap=\"YlGnBu\",annot_kws={\"size\": 10}) # font size\n",
        "    plt.show()\n",
        "\n",
        "\n",
        "    # ROC Curve\n",
        "# plot no skill\n",
        "# Calculate the points in the ROC curve\n",
        "\n",
        "\n",
        "def plot_roc_curve(y_test, y_pred):\n",
        "    ''' Plot the ROC curve for the target labels and predictions'''\n",
        "    fpr, tpr, thresholds = roc_curve(y_test, y_pred, pos_label=1)\n",
        "    roc_auc= auc(fpr,tpr)\n",
        "    plt.figure(figsize=(12, 12))\n",
        "    ax = plt.subplot(121)\n",
        "    ax.set_aspect(1)\n",
        "    \n",
        "    plt.title('Receiver Operating Characteristic')\n",
        "    plt.plot(fpr, tpr, 'b', label = 'AUC = %0.2f' % roc_auc)\n",
        "    plt.legend(loc = 'lower right')\n",
        "    plt.plot([0, 1], [0, 1],'r--')\n",
        "    plt.xlim([0, 1])\n",
        "    plt.ylim([0, 1])\n",
        "    plt.ylabel('True Positive Rate')\n",
        "    plt.xlabel('False Positive Rate')\n",
        "    plt.show()"
      ],
      "metadata": {
        "id": "ZhVVb_Z-ACz2"
      },
      "execution_count": 29,
      "outputs": []
    },
    {
      "cell_type": "code",
      "source": [
        "# train_target = list(train_target)\n",
        "\n",
        "# import numpy as np\n",
        "\n",
        "# # Convert the train_target tensor to a NumPy array and then to a 1D array\n",
        "# train_target = np.array(train_target).ravel()\n",
        "\n",
        "# # Now train_target is a 1D array of integers\n",
        "\n",
        "# train_target"
      ],
      "metadata": {
        "id": "DoHmq2ELwbgz"
      },
      "execution_count": 30,
      "outputs": []
    },
    {
      "cell_type": "code",
      "source": [
        "# create the model, train it on the train dataset and print the scores\n",
        "model = MultinomialNB() \n",
        "model.fit(train_features, train_target)\n",
        "print(\"Train score:\", model.score(train_features, train_target))\n",
        "print(\"Validation score:\", model.score(train_features, train_target))"
      ],
      "metadata": {
        "colab": {
          "base_uri": "https://localhost:8080/"
        },
        "id": "-RPd-2lVvQc5",
        "outputId": "a31e1ada-41fe-46ae-ec8e-f2bdb7ef30d7"
      },
      "execution_count": 31,
      "outputs": [
        {
          "output_type": "stream",
          "name": "stdout",
          "text": [
            "Train score: 0.7939165527132042\n",
            "Validation score: 0.7939165527132042\n"
          ]
        }
      ]
    },
    {
      "cell_type": "code",
      "source": [
        "print(type(train_features))"
      ],
      "metadata": {
        "colab": {
          "base_uri": "https://localhost:8080/"
        },
        "id": "-B4JAfj89s_C",
        "outputId": "a47acdce-8375-4e59-fdb3-65b48eba1165"
      },
      "execution_count": 44,
      "outputs": [
        {
          "output_type": "stream",
          "name": "stdout",
          "text": [
            "<class 'scipy.sparse._csr.csr_matrix'>\n"
          ]
        }
      ]
    },
    {
      "cell_type": "code",
      "source": [
        "y_pred = model.predict(test_features)\n",
        "#print the classification report to highlight the accuracy with f1-score, precision and recall\n",
        "\n",
        "print(metrics.classification_report(test_target, y_pred))\n",
        "plot_confusion_matrix(test_target, y_pred)\n",
        "plot_roc_curve(test_target, y_pred)"
      ],
      "metadata": {
        "colab": {
          "base_uri": "https://localhost:8080/",
          "height": 1000
        },
        "id": "Qm8-n2LWvQZl",
        "outputId": "a9d78975-86eb-417e-c672-21dd3a996969"
      },
      "execution_count": 32,
      "outputs": [
        {
          "output_type": "stream",
          "name": "stdout",
          "text": [
            "              precision    recall  f1-score   support\n",
            "\n",
            "           0       0.81      0.92      0.86      7289\n",
            "           1       0.65      0.41      0.50      2706\n",
            "\n",
            "    accuracy                           0.78      9995\n",
            "   macro avg       0.73      0.66      0.68      9995\n",
            "weighted avg       0.76      0.78      0.76      9995\n",
            "\n"
          ]
        },
        {
          "output_type": "display_data",
          "data": {
            "text/plain": [
              "<Figure size 640x480 with 2 Axes>"
            ],
            "image/png": "[encoded data removed]"
          },
          "metadata": {}
        },
        {
          "output_type": "display_data",
          "data": {
            "text/plain": [
              "<Figure size 1200x1200 with 1 Axes>"
            ],
            "image/png": "[encoded data removed]"
          },
          "metadata": {}
        }
      ]
    },
    {
      "cell_type": "code",
      "source": [],
      "metadata": {
        "id": "TigPUvl3DpmK"
      },
      "execution_count": 32,
      "outputs": []
    },
    {
      "cell_type": "markdown",
      "source": [
        "Build the Bayes model on BERT-Model"
      ],
      "metadata": {
        "id": "yV4fdNBADp7W"
      }
    },
    {
      "cell_type": "code",
      "source": [
        "train_text_bert_numpy=train_text_bert.numpy()\n",
        "\n",
        "test_text_bert_numpy=test_text_bert.numpy()\n",
        "train_target_bert_numpy=train_target_bert.numpy()\n",
        "test_text_bert_numpy"
      ],
      "metadata": {
        "id": "GW992CRcKH2i"
      },
      "execution_count": null,
      "outputs": []
    },
    {
      "cell_type": "code",
      "source": [
        "a1_1 = np.array(a1)\n",
        "b1_1 = np.array(b1)"
      ],
      "metadata": {
        "id": "vErhKRUhAB0G"
      },
      "execution_count": 46,
      "outputs": []
    },
    {
      "cell_type": "code",
      "source": [
        "a1[0]"
      ],
      "metadata": {
        "colab": {
          "base_uri": "https://localhost:8080/"
        },
        "id": "fRO_QAtyBaFK",
        "outputId": "c725d5c3-7a70-46f9-e238-ebc56d7647df"
      },
      "execution_count": 64,
      "outputs": [
        {
          "output_type": "execute_result",
          "data": {
            "text/plain": [
              "tensor([[  101,  2414,  1010,  ...,     0,     0,     0],\n",
              "        [  101,  9733,  1012,  ...,     0,     0,     0],\n",
              "        [  101,  2167,  4759,  ...,     0,     0,     0],\n",
              "        ...,\n",
              "        [  101,  1996,  3003,  ...,     0,     0,     0],\n",
              "        [  101,  1996,  2796,  ...,     0,     0,     0],\n",
              "        [  101, 15335,  1517,  ...,     0,     0,     0]])"
            ]
          },
          "metadata": {},
          "execution_count": 64
        }
      ]
    },
    {
      "cell_type": "code",
      "source": [
        "# a_train_text = [t.numpy() for t in a1]\n",
        "# a_train_text\n",
        "# b_train_target = [t.numpy() for t in b1]\n",
        "# b_train_target\n",
        "a_train_text = np.array(a1)\n",
        "\n",
        "a_train_text = np.array([t.numpy() for t in a1])\n",
        "b_train_target = np.array([t.numpy() for t in b1])\n",
        "# a_train_text"
      ],
      "metadata": {
        "id": "lrSD6NLOBCpJ"
      },
      "execution_count": 74,
      "outputs": []
    },
    {
      "cell_type": "code",
      "source": [
        "# from sklearn.linear_model import LogisticRegression\n",
        "\n",
        "# # Load BERT embeddings\n",
        "# train_text_bert = [get_embedding(text) for text in train_data[\"text\"].values]\n",
        "# test_text_bert = [get_embedding(text) for text in test_data[\"text\"].values]\n",
        "\n",
        "# # Convert target variable to numeric\n",
        "# train_target_bert = train_data[\"sentiment\"].replace({\"positive\": 1, \"negative\": 0}).values\n",
        "# test_target_bert = test_data[\"sentiment\"].replace({\"positive\": 1, \"negative\": 0}).values\n",
        "\n",
        "# # Train logistic regression model\n",
        "# model = LogisticRegression()\n",
        "# model.fit(train_text_bert, train_target_bert)\n",
        "\n",
        "# # Evaluate model\n",
        "# print(\"Train score:\", model.score(train_text_bert, train_target_bert))\n",
        "# print(\"Test score:\", model.score(test_text_bert, test_target_bert))\n"
      ],
      "metadata": {
        "id": "drWnkbWLMc7L"
      },
      "execution_count": null,
      "outputs": []
    },
    {
      "cell_type": "code",
      "source": [
        "val_text_bert.shape"
      ],
      "metadata": {
        "colab": {
          "base_uri": "https://localhost:8080/"
        },
        "id": "e8X04ZG-Oprj",
        "outputId": "1fff5f7c-3748-46b8-e469-0ae8725de01c"
      },
      "execution_count": 96,
      "outputs": [
        {
          "output_type": "execute_result",
          "data": {
            "text/plain": [
              "torch.Size([32, 542])"
            ]
          },
          "metadata": {},
          "execution_count": 96
        }
      ]
    },
    {
      "cell_type": "code",
      "source": [
        "from sklearn.linear_model import LogisticRegression\n",
        "model = LogisticRegression()\n",
        "model.fit(train_text_bert, train_target_bert)\n",
        "\n",
        "# Evaluate model\n",
        "print(\"Train score:\", model.score(train_text_bert, train_target_bert))\n",
        "print(\"Test score:\", model.score(val_text_bert, val_target_bert))"
      ],
      "metadata": {
        "colab": {
          "base_uri": "https://localhost:8080/",
          "height": 371
        },
        "id": "Ifb_QHb1Mdup",
        "outputId": "274b2002-63bb-41d7-9b83-0296de344fe1"
      },
      "execution_count": 81,
      "outputs": [
        {
          "output_type": "stream",
          "name": "stdout",
          "text": [
            "Train score: 1.0\n"
          ]
        },
        {
          "output_type": "error",
          "ename": "ValueError",
          "evalue": "ignored",
          "traceback": [
            "\u001b[0;31m---------------------------------------------------------------------------\u001b[0m",
            "\u001b[0;31mValueError\u001b[0m                                Traceback (most recent call last)",
            "\u001b[0;32m<ipython-input-81-7fbd254948c0>\u001b[0m in \u001b[0;36m<cell line: 7>\u001b[0;34m()\u001b[0m\n\u001b[1;32m      5\u001b[0m \u001b[0;31m# Evaluate model\u001b[0m\u001b[0;34m\u001b[0m\u001b[0;34m\u001b[0m\u001b[0m\n\u001b[1;32m      6\u001b[0m \u001b[0mprint\u001b[0m\u001b[0;34m(\u001b[0m\u001b[0;34m\"Train score:\"\u001b[0m\u001b[0;34m,\u001b[0m \u001b[0mmodel\u001b[0m\u001b[0;34m.\u001b[0m\u001b[0mscore\u001b[0m\u001b[0;34m(\u001b[0m\u001b[0mtrain_text_bert\u001b[0m\u001b[0;34m,\u001b[0m \u001b[0mtrain_target_bert\u001b[0m\u001b[0;34m)\u001b[0m\u001b[0;34m)\u001b[0m\u001b[0;34m\u001b[0m\u001b[0;34m\u001b[0m\u001b[0m\n\u001b[0;32m----> 7\u001b[0;31m \u001b[0mprint\u001b[0m\u001b[0;34m(\u001b[0m\u001b[0;34m\"Test score:\"\u001b[0m\u001b[0;34m,\u001b[0m \u001b[0mmodel\u001b[0m\u001b[0;34m.\u001b[0m\u001b[0mscore\u001b[0m\u001b[0;34m(\u001b[0m\u001b[0mval_text_bert\u001b[0m\u001b[0;34m,\u001b[0m \u001b[0mval_target_bert\u001b[0m\u001b[0;34m)\u001b[0m\u001b[0;34m)\u001b[0m\u001b[0;34m\u001b[0m\u001b[0;34m\u001b[0m\u001b[0m\n\u001b[0m",
            "\u001b[0;32m/usr/local/lib/python3.9/dist-packages/sklearn/base.py\u001b[0m in \u001b[0;36mscore\u001b[0;34m(self, X, y, sample_weight)\u001b[0m\n\u001b[1;32m    666\u001b[0m         \u001b[0;32mfrom\u001b[0m \u001b[0;34m.\u001b[0m\u001b[0mmetrics\u001b[0m \u001b[0;32mimport\u001b[0m \u001b[0maccuracy_score\u001b[0m\u001b[0;34m\u001b[0m\u001b[0;34m\u001b[0m\u001b[0m\n\u001b[1;32m    667\u001b[0m \u001b[0;34m\u001b[0m\u001b[0m\n\u001b[0;32m--> 668\u001b[0;31m         \u001b[0;32mreturn\u001b[0m \u001b[0maccuracy_score\u001b[0m\u001b[0;34m(\u001b[0m\u001b[0my\u001b[0m\u001b[0;34m,\u001b[0m \u001b[0mself\u001b[0m\u001b[0;34m.\u001b[0m\u001b[0mpredict\u001b[0m\u001b[0;34m(\u001b[0m\u001b[0mX\u001b[0m\u001b[0;34m)\u001b[0m\u001b[0;34m,\u001b[0m \u001b[0msample_weight\u001b[0m\u001b[0;34m=\u001b[0m\u001b[0msample_weight\u001b[0m\u001b[0;34m)\u001b[0m\u001b[0;34m\u001b[0m\u001b[0;34m\u001b[0m\u001b[0m\n\u001b[0m\u001b[1;32m    669\u001b[0m \u001b[0;34m\u001b[0m\u001b[0m\n\u001b[1;32m    670\u001b[0m     \u001b[0;32mdef\u001b[0m \u001b[0m_more_tags\u001b[0m\u001b[0;34m(\u001b[0m\u001b[0mself\u001b[0m\u001b[0;34m)\u001b[0m\u001b[0;34m:\u001b[0m\u001b[0;34m\u001b[0m\u001b[0;34m\u001b[0m\u001b[0m\n",
            "\u001b[0;32m/usr/local/lib/python3.9/dist-packages/sklearn/linear_model/_base.py\u001b[0m in \u001b[0;36mpredict\u001b[0;34m(self, X)\u001b[0m\n\u001b[1;32m    417\u001b[0m         \"\"\"\n\u001b[1;32m    418\u001b[0m         \u001b[0mxp\u001b[0m\u001b[0;34m,\u001b[0m \u001b[0m_\u001b[0m \u001b[0;34m=\u001b[0m \u001b[0mget_namespace\u001b[0m\u001b[0;34m(\u001b[0m\u001b[0mX\u001b[0m\u001b[0;34m)\u001b[0m\u001b[0;34m\u001b[0m\u001b[0;34m\u001b[0m\u001b[0m\n\u001b[0;32m--> 419\u001b[0;31m         \u001b[0mscores\u001b[0m \u001b[0;34m=\u001b[0m \u001b[0mself\u001b[0m\u001b[0;34m.\u001b[0m\u001b[0mdecision_function\u001b[0m\u001b[0;34m(\u001b[0m\u001b[0mX\u001b[0m\u001b[0;34m)\u001b[0m\u001b[0;34m\u001b[0m\u001b[0;34m\u001b[0m\u001b[0m\n\u001b[0m\u001b[1;32m    420\u001b[0m         \u001b[0;32mif\u001b[0m \u001b[0mlen\u001b[0m\u001b[0;34m(\u001b[0m\u001b[0mscores\u001b[0m\u001b[0;34m.\u001b[0m\u001b[0mshape\u001b[0m\u001b[0;34m)\u001b[0m \u001b[0;34m==\u001b[0m \u001b[0;36m1\u001b[0m\u001b[0;34m:\u001b[0m\u001b[0;34m\u001b[0m\u001b[0;34m\u001b[0m\u001b[0m\n\u001b[1;32m    421\u001b[0m             \u001b[0mindices\u001b[0m \u001b[0;34m=\u001b[0m \u001b[0mxp\u001b[0m\u001b[0;34m.\u001b[0m\u001b[0mastype\u001b[0m\u001b[0;34m(\u001b[0m\u001b[0mscores\u001b[0m \u001b[0;34m>\u001b[0m \u001b[0;36m0\u001b[0m\u001b[0;34m,\u001b[0m \u001b[0mint\u001b[0m\u001b[0;34m)\u001b[0m\u001b[0;34m\u001b[0m\u001b[0;34m\u001b[0m\u001b[0m\n",
            "\u001b[0;32m/usr/local/lib/python3.9/dist-packages/sklearn/linear_model/_base.py\u001b[0m in \u001b[0;36mdecision_function\u001b[0;34m(self, X)\u001b[0m\n\u001b[1;32m    398\u001b[0m         \u001b[0mxp\u001b[0m\u001b[0;34m,\u001b[0m \u001b[0m_\u001b[0m \u001b[0;34m=\u001b[0m \u001b[0mget_namespace\u001b[0m\u001b[0;34m(\u001b[0m\u001b[0mX\u001b[0m\u001b[0;34m)\u001b[0m\u001b[0;34m\u001b[0m\u001b[0;34m\u001b[0m\u001b[0m\n\u001b[1;32m    399\u001b[0m \u001b[0;34m\u001b[0m\u001b[0m\n\u001b[0;32m--> 400\u001b[0;31m         \u001b[0mX\u001b[0m \u001b[0;34m=\u001b[0m \u001b[0mself\u001b[0m\u001b[0;34m.\u001b[0m\u001b[0m_validate_data\u001b[0m\u001b[0;34m(\u001b[0m\u001b[0mX\u001b[0m\u001b[0;34m,\u001b[0m \u001b[0maccept_sparse\u001b[0m\u001b[0;34m=\u001b[0m\u001b[0;34m\"csr\"\u001b[0m\u001b[0;34m,\u001b[0m \u001b[0mreset\u001b[0m\u001b[0;34m=\u001b[0m\u001b[0;32mFalse\u001b[0m\u001b[0;34m)\u001b[0m\u001b[0;34m\u001b[0m\u001b[0;34m\u001b[0m\u001b[0m\n\u001b[0m\u001b[1;32m    401\u001b[0m         \u001b[0mscores\u001b[0m \u001b[0;34m=\u001b[0m \u001b[0msafe_sparse_dot\u001b[0m\u001b[0;34m(\u001b[0m\u001b[0mX\u001b[0m\u001b[0;34m,\u001b[0m \u001b[0mself\u001b[0m\u001b[0;34m.\u001b[0m\u001b[0mcoef_\u001b[0m\u001b[0;34m.\u001b[0m\u001b[0mT\u001b[0m\u001b[0;34m,\u001b[0m \u001b[0mdense_output\u001b[0m\u001b[0;34m=\u001b[0m\u001b[0;32mTrue\u001b[0m\u001b[0;34m)\u001b[0m \u001b[0;34m+\u001b[0m \u001b[0mself\u001b[0m\u001b[0;34m.\u001b[0m\u001b[0mintercept_\u001b[0m\u001b[0;34m\u001b[0m\u001b[0;34m\u001b[0m\u001b[0m\n\u001b[1;32m    402\u001b[0m         \u001b[0;32mreturn\u001b[0m \u001b[0mxp\u001b[0m\u001b[0;34m.\u001b[0m\u001b[0mreshape\u001b[0m\u001b[0;34m(\u001b[0m\u001b[0mscores\u001b[0m\u001b[0;34m,\u001b[0m \u001b[0;34m-\u001b[0m\u001b[0;36m1\u001b[0m\u001b[0;34m)\u001b[0m \u001b[0;32mif\u001b[0m \u001b[0mscores\u001b[0m\u001b[0;34m.\u001b[0m\u001b[0mshape\u001b[0m\u001b[0;34m[\u001b[0m\u001b[0;36m1\u001b[0m\u001b[0;34m]\u001b[0m \u001b[0;34m==\u001b[0m \u001b[0;36m1\u001b[0m \u001b[0;32melse\u001b[0m \u001b[0mscores\u001b[0m\u001b[0;34m\u001b[0m\u001b[0;34m\u001b[0m\u001b[0m\n",
            "\u001b[0;32m/usr/local/lib/python3.9/dist-packages/sklearn/base.py\u001b[0m in \u001b[0;36m_validate_data\u001b[0;34m(self, X, y, reset, validate_separately, **check_params)\u001b[0m\n\u001b[1;32m    586\u001b[0m \u001b[0;34m\u001b[0m\u001b[0m\n\u001b[1;32m    587\u001b[0m         \u001b[0;32mif\u001b[0m \u001b[0;32mnot\u001b[0m \u001b[0mno_val_X\u001b[0m \u001b[0;32mand\u001b[0m \u001b[0mcheck_params\u001b[0m\u001b[0;34m.\u001b[0m\u001b[0mget\u001b[0m\u001b[0;34m(\u001b[0m\u001b[0;34m\"ensure_2d\"\u001b[0m\u001b[0;34m,\u001b[0m \u001b[0;32mTrue\u001b[0m\u001b[0;34m)\u001b[0m\u001b[0;34m:\u001b[0m\u001b[0;34m\u001b[0m\u001b[0;34m\u001b[0m\u001b[0m\n\u001b[0;32m--> 588\u001b[0;31m             \u001b[0mself\u001b[0m\u001b[0;34m.\u001b[0m\u001b[0m_check_n_features\u001b[0m\u001b[0;34m(\u001b[0m\u001b[0mX\u001b[0m\u001b[0;34m,\u001b[0m \u001b[0mreset\u001b[0m\u001b[0;34m=\u001b[0m\u001b[0mreset\u001b[0m\u001b[0;34m)\u001b[0m\u001b[0;34m\u001b[0m\u001b[0;34m\u001b[0m\u001b[0m\n\u001b[0m\u001b[1;32m    589\u001b[0m \u001b[0;34m\u001b[0m\u001b[0m\n\u001b[1;32m    590\u001b[0m         \u001b[0;32mreturn\u001b[0m \u001b[0mout\u001b[0m\u001b[0;34m\u001b[0m\u001b[0;34m\u001b[0m\u001b[0m\n",
            "\u001b[0;32m/usr/local/lib/python3.9/dist-packages/sklearn/base.py\u001b[0m in \u001b[0;36m_check_n_features\u001b[0;34m(self, X, reset)\u001b[0m\n\u001b[1;32m    387\u001b[0m \u001b[0;34m\u001b[0m\u001b[0m\n\u001b[1;32m    388\u001b[0m         \u001b[0;32mif\u001b[0m \u001b[0mn_features\u001b[0m \u001b[0;34m!=\u001b[0m \u001b[0mself\u001b[0m\u001b[0;34m.\u001b[0m\u001b[0mn_features_in_\u001b[0m\u001b[0;34m:\u001b[0m\u001b[0;34m\u001b[0m\u001b[0;34m\u001b[0m\u001b[0m\n\u001b[0;32m--> 389\u001b[0;31m             raise ValueError(\n\u001b[0m\u001b[1;32m    390\u001b[0m                 \u001b[0;34mf\"X has {n_features} features, but {self.__class__.__name__} \"\u001b[0m\u001b[0;34m\u001b[0m\u001b[0;34m\u001b[0m\u001b[0m\n\u001b[1;32m    391\u001b[0m                 \u001b[0;34mf\"is expecting {self.n_features_in_} features as input.\"\u001b[0m\u001b[0;34m\u001b[0m\u001b[0;34m\u001b[0m\u001b[0m\n",
            "\u001b[0;31mValueError\u001b[0m: X has 542 features, but LogisticRegression is expecting 533 features as input."
          ]
        }
      ]
    },
    {
      "cell_type": "code",
      "source": [
        "# model = MultinomialNB() \n",
        "model.fit(a_train_text, b_train_target)\n",
        "print(\"Train score:\", model.score(a1, b1))\n",
        "print(\"Validation score:\", model.score(train_text_bert, train_target_bert))"
      ],
      "metadata": {
        "colab": {
          "base_uri": "https://localhost:8080/",
          "height": 461
        },
        "id": "7COL43bHvQXI",
        "outputId": "d3cb0679-0f28-4adc-ff6d-be1c776ca017"
      },
      "execution_count": 69,
      "outputs": [
        {
          "output_type": "error",
          "ename": "ValueError",
          "evalue": "ignored",
          "traceback": [
            "\u001b[0;31m---------------------------------------------------------------------------\u001b[0m",
            "\u001b[0;31mTypeError\u001b[0m                                 Traceback (most recent call last)",
            "\u001b[0;31mTypeError\u001b[0m: only size-1 arrays can be converted to Python scalars",
            "\nThe above exception was the direct cause of the following exception:\n",
            "\u001b[0;31mValueError\u001b[0m                                Traceback (most recent call last)",
            "\u001b[0;32m<ipython-input-69-a37854a7e708>\u001b[0m in \u001b[0;36m<cell line: 2>\u001b[0;34m()\u001b[0m\n\u001b[1;32m      1\u001b[0m \u001b[0;31m# model = MultinomialNB()\u001b[0m\u001b[0;34m\u001b[0m\u001b[0;34m\u001b[0m\u001b[0m\n\u001b[0;32m----> 2\u001b[0;31m \u001b[0mmodel\u001b[0m\u001b[0;34m.\u001b[0m\u001b[0mfit\u001b[0m\u001b[0;34m(\u001b[0m\u001b[0ma_train_text\u001b[0m\u001b[0;34m,\u001b[0m \u001b[0mb_train_target\u001b[0m\u001b[0;34m)\u001b[0m\u001b[0;34m\u001b[0m\u001b[0;34m\u001b[0m\u001b[0m\n\u001b[0m\u001b[1;32m      3\u001b[0m \u001b[0mprint\u001b[0m\u001b[0;34m(\u001b[0m\u001b[0;34m\"Train score:\"\u001b[0m\u001b[0;34m,\u001b[0m \u001b[0mmodel\u001b[0m\u001b[0;34m.\u001b[0m\u001b[0mscore\u001b[0m\u001b[0;34m(\u001b[0m\u001b[0ma1\u001b[0m\u001b[0;34m,\u001b[0m \u001b[0mb1\u001b[0m\u001b[0;34m)\u001b[0m\u001b[0;34m)\u001b[0m\u001b[0;34m\u001b[0m\u001b[0;34m\u001b[0m\u001b[0m\n\u001b[1;32m      4\u001b[0m \u001b[0mprint\u001b[0m\u001b[0;34m(\u001b[0m\u001b[0;34m\"Validation score:\"\u001b[0m\u001b[0;34m,\u001b[0m \u001b[0mmodel\u001b[0m\u001b[0;34m.\u001b[0m\u001b[0mscore\u001b[0m\u001b[0;34m(\u001b[0m\u001b[0mtrain_text_bert\u001b[0m\u001b[0;34m,\u001b[0m \u001b[0mtrain_target_bert\u001b[0m\u001b[0;34m)\u001b[0m\u001b[0;34m)\u001b[0m\u001b[0;34m\u001b[0m\u001b[0;34m\u001b[0m\u001b[0m\n",
            "\u001b[0;32m/usr/local/lib/python3.9/dist-packages/sklearn/naive_bayes.py\u001b[0m in \u001b[0;36mfit\u001b[0;34m(self, X, y, sample_weight)\u001b[0m\n\u001b[1;32m    747\u001b[0m         \"\"\"\n\u001b[1;32m    748\u001b[0m         \u001b[0mself\u001b[0m\u001b[0;34m.\u001b[0m\u001b[0m_validate_params\u001b[0m\u001b[0;34m(\u001b[0m\u001b[0;34m)\u001b[0m\u001b[0;34m\u001b[0m\u001b[0;34m\u001b[0m\u001b[0m\n\u001b[0;32m--> 749\u001b[0;31m         \u001b[0mX\u001b[0m\u001b[0;34m,\u001b[0m \u001b[0my\u001b[0m \u001b[0;34m=\u001b[0m \u001b[0mself\u001b[0m\u001b[0;34m.\u001b[0m\u001b[0m_check_X_y\u001b[0m\u001b[0;34m(\u001b[0m\u001b[0mX\u001b[0m\u001b[0;34m,\u001b[0m \u001b[0my\u001b[0m\u001b[0;34m)\u001b[0m\u001b[0;34m\u001b[0m\u001b[0;34m\u001b[0m\u001b[0m\n\u001b[0m\u001b[1;32m    750\u001b[0m         \u001b[0m_\u001b[0m\u001b[0;34m,\u001b[0m \u001b[0mn_features\u001b[0m \u001b[0;34m=\u001b[0m \u001b[0mX\u001b[0m\u001b[0;34m.\u001b[0m\u001b[0mshape\u001b[0m\u001b[0;34m\u001b[0m\u001b[0;34m\u001b[0m\u001b[0m\n\u001b[1;32m    751\u001b[0m \u001b[0;34m\u001b[0m\u001b[0m\n",
            "\u001b[0;32m/usr/local/lib/python3.9/dist-packages/sklearn/naive_bayes.py\u001b[0m in \u001b[0;36m_check_X_y\u001b[0;34m(self, X, y, reset)\u001b[0m\n\u001b[1;32m    581\u001b[0m     \u001b[0;32mdef\u001b[0m \u001b[0m_check_X_y\u001b[0m\u001b[0;34m(\u001b[0m\u001b[0mself\u001b[0m\u001b[0;34m,\u001b[0m \u001b[0mX\u001b[0m\u001b[0;34m,\u001b[0m \u001b[0my\u001b[0m\u001b[0;34m,\u001b[0m \u001b[0mreset\u001b[0m\u001b[0;34m=\u001b[0m\u001b[0;32mTrue\u001b[0m\u001b[0;34m)\u001b[0m\u001b[0;34m:\u001b[0m\u001b[0;34m\u001b[0m\u001b[0;34m\u001b[0m\u001b[0m\n\u001b[1;32m    582\u001b[0m         \u001b[0;34m\"\"\"Validate X and y in fit methods.\"\"\"\u001b[0m\u001b[0;34m\u001b[0m\u001b[0;34m\u001b[0m\u001b[0m\n\u001b[0;32m--> 583\u001b[0;31m         \u001b[0;32mreturn\u001b[0m \u001b[0mself\u001b[0m\u001b[0;34m.\u001b[0m\u001b[0m_validate_data\u001b[0m\u001b[0;34m(\u001b[0m\u001b[0mX\u001b[0m\u001b[0;34m,\u001b[0m \u001b[0my\u001b[0m\u001b[0;34m,\u001b[0m \u001b[0maccept_sparse\u001b[0m\u001b[0;34m=\u001b[0m\u001b[0;34m\"csr\"\u001b[0m\u001b[0;34m,\u001b[0m \u001b[0mreset\u001b[0m\u001b[0;34m=\u001b[0m\u001b[0mreset\u001b[0m\u001b[0;34m)\u001b[0m\u001b[0;34m\u001b[0m\u001b[0;34m\u001b[0m\u001b[0m\n\u001b[0m\u001b[1;32m    584\u001b[0m \u001b[0;34m\u001b[0m\u001b[0m\n\u001b[1;32m    585\u001b[0m     \u001b[0;32mdef\u001b[0m \u001b[0m_update_class_log_prior\u001b[0m\u001b[0;34m(\u001b[0m\u001b[0mself\u001b[0m\u001b[0;34m,\u001b[0m \u001b[0mclass_prior\u001b[0m\u001b[0;34m=\u001b[0m\u001b[0;32mNone\u001b[0m\u001b[0;34m)\u001b[0m\u001b[0;34m:\u001b[0m\u001b[0;34m\u001b[0m\u001b[0;34m\u001b[0m\u001b[0m\n",
            "\u001b[0;32m/usr/local/lib/python3.9/dist-packages/sklearn/base.py\u001b[0m in \u001b[0;36m_validate_data\u001b[0;34m(self, X, y, reset, validate_separately, **check_params)\u001b[0m\n\u001b[1;32m    582\u001b[0m                 \u001b[0my\u001b[0m \u001b[0;34m=\u001b[0m \u001b[0mcheck_array\u001b[0m\u001b[0;34m(\u001b[0m\u001b[0my\u001b[0m\u001b[0;34m,\u001b[0m \u001b[0minput_name\u001b[0m\u001b[0;34m=\u001b[0m\u001b[0;34m\"y\"\u001b[0m\u001b[0;34m,\u001b[0m \u001b[0;34m**\u001b[0m\u001b[0mcheck_y_params\u001b[0m\u001b[0;34m)\u001b[0m\u001b[0;34m\u001b[0m\u001b[0;34m\u001b[0m\u001b[0m\n\u001b[1;32m    583\u001b[0m             \u001b[0;32melse\u001b[0m\u001b[0;34m:\u001b[0m\u001b[0;34m\u001b[0m\u001b[0;34m\u001b[0m\u001b[0m\n\u001b[0;32m--> 584\u001b[0;31m                 \u001b[0mX\u001b[0m\u001b[0;34m,\u001b[0m \u001b[0my\u001b[0m \u001b[0;34m=\u001b[0m \u001b[0mcheck_X_y\u001b[0m\u001b[0;34m(\u001b[0m\u001b[0mX\u001b[0m\u001b[0;34m,\u001b[0m \u001b[0my\u001b[0m\u001b[0;34m,\u001b[0m \u001b[0;34m**\u001b[0m\u001b[0mcheck_params\u001b[0m\u001b[0;34m)\u001b[0m\u001b[0;34m\u001b[0m\u001b[0;34m\u001b[0m\u001b[0m\n\u001b[0m\u001b[1;32m    585\u001b[0m             \u001b[0mout\u001b[0m \u001b[0;34m=\u001b[0m \u001b[0mX\u001b[0m\u001b[0;34m,\u001b[0m \u001b[0my\u001b[0m\u001b[0;34m\u001b[0m\u001b[0;34m\u001b[0m\u001b[0m\n\u001b[1;32m    586\u001b[0m \u001b[0;34m\u001b[0m\u001b[0m\n",
            "\u001b[0;32m/usr/local/lib/python3.9/dist-packages/sklearn/utils/validation.py\u001b[0m in \u001b[0;36mcheck_X_y\u001b[0;34m(X, y, accept_sparse, accept_large_sparse, dtype, order, copy, force_all_finite, ensure_2d, allow_nd, multi_output, ensure_min_samples, ensure_min_features, y_numeric, estimator)\u001b[0m\n\u001b[1;32m   1104\u001b[0m         )\n\u001b[1;32m   1105\u001b[0m \u001b[0;34m\u001b[0m\u001b[0m\n\u001b[0;32m-> 1106\u001b[0;31m     X = check_array(\n\u001b[0m\u001b[1;32m   1107\u001b[0m         \u001b[0mX\u001b[0m\u001b[0;34m,\u001b[0m\u001b[0;34m\u001b[0m\u001b[0;34m\u001b[0m\u001b[0m\n\u001b[1;32m   1108\u001b[0m         \u001b[0maccept_sparse\u001b[0m\u001b[0;34m=\u001b[0m\u001b[0maccept_sparse\u001b[0m\u001b[0;34m,\u001b[0m\u001b[0;34m\u001b[0m\u001b[0;34m\u001b[0m\u001b[0m\n",
            "\u001b[0;32m/usr/local/lib/python3.9/dist-packages/sklearn/utils/validation.py\u001b[0m in \u001b[0;36mcheck_array\u001b[0;34m(array, accept_sparse, accept_large_sparse, dtype, order, copy, force_all_finite, ensure_2d, allow_nd, ensure_min_samples, ensure_min_features, estimator, input_name)\u001b[0m\n\u001b[1;32m    877\u001b[0m                     \u001b[0marray\u001b[0m \u001b[0;34m=\u001b[0m \u001b[0mxp\u001b[0m\u001b[0;34m.\u001b[0m\u001b[0mastype\u001b[0m\u001b[0;34m(\u001b[0m\u001b[0marray\u001b[0m\u001b[0;34m,\u001b[0m \u001b[0mdtype\u001b[0m\u001b[0;34m,\u001b[0m \u001b[0mcopy\u001b[0m\u001b[0;34m=\u001b[0m\u001b[0;32mFalse\u001b[0m\u001b[0;34m)\u001b[0m\u001b[0;34m\u001b[0m\u001b[0;34m\u001b[0m\u001b[0m\n\u001b[1;32m    878\u001b[0m                 \u001b[0;32melse\u001b[0m\u001b[0;34m:\u001b[0m\u001b[0;34m\u001b[0m\u001b[0;34m\u001b[0m\u001b[0m\n\u001b[0;32m--> 879\u001b[0;31m                     \u001b[0marray\u001b[0m \u001b[0;34m=\u001b[0m \u001b[0m_asarray_with_order\u001b[0m\u001b[0;34m(\u001b[0m\u001b[0marray\u001b[0m\u001b[0;34m,\u001b[0m \u001b[0morder\u001b[0m\u001b[0;34m=\u001b[0m\u001b[0morder\u001b[0m\u001b[0;34m,\u001b[0m \u001b[0mdtype\u001b[0m\u001b[0;34m=\u001b[0m\u001b[0mdtype\u001b[0m\u001b[0;34m,\u001b[0m \u001b[0mxp\u001b[0m\u001b[0;34m=\u001b[0m\u001b[0mxp\u001b[0m\u001b[0;34m)\u001b[0m\u001b[0;34m\u001b[0m\u001b[0;34m\u001b[0m\u001b[0m\n\u001b[0m\u001b[1;32m    880\u001b[0m             \u001b[0;32mexcept\u001b[0m \u001b[0mComplexWarning\u001b[0m \u001b[0;32mas\u001b[0m \u001b[0mcomplex_warning\u001b[0m\u001b[0;34m:\u001b[0m\u001b[0;34m\u001b[0m\u001b[0;34m\u001b[0m\u001b[0m\n\u001b[1;32m    881\u001b[0m                 raise ValueError(\n",
            "\u001b[0;32m/usr/local/lib/python3.9/dist-packages/sklearn/utils/_array_api.py\u001b[0m in \u001b[0;36m_asarray_with_order\u001b[0;34m(array, dtype, order, copy, xp)\u001b[0m\n\u001b[1;32m    183\u001b[0m     \u001b[0;32mif\u001b[0m \u001b[0mxp\u001b[0m\u001b[0;34m.\u001b[0m\u001b[0m__name__\u001b[0m \u001b[0;32min\u001b[0m \u001b[0;34m{\u001b[0m\u001b[0;34m\"numpy\"\u001b[0m\u001b[0;34m,\u001b[0m \u001b[0;34m\"numpy.array_api\"\u001b[0m\u001b[0;34m}\u001b[0m\u001b[0;34m:\u001b[0m\u001b[0;34m\u001b[0m\u001b[0;34m\u001b[0m\u001b[0m\n\u001b[1;32m    184\u001b[0m         \u001b[0;31m# Use NumPy API to support order\u001b[0m\u001b[0;34m\u001b[0m\u001b[0;34m\u001b[0m\u001b[0m\n\u001b[0;32m--> 185\u001b[0;31m         \u001b[0marray\u001b[0m \u001b[0;34m=\u001b[0m \u001b[0mnumpy\u001b[0m\u001b[0;34m.\u001b[0m\u001b[0masarray\u001b[0m\u001b[0;34m(\u001b[0m\u001b[0marray\u001b[0m\u001b[0;34m,\u001b[0m \u001b[0morder\u001b[0m\u001b[0;34m=\u001b[0m\u001b[0morder\u001b[0m\u001b[0;34m,\u001b[0m \u001b[0mdtype\u001b[0m\u001b[0;34m=\u001b[0m\u001b[0mdtype\u001b[0m\u001b[0;34m)\u001b[0m\u001b[0;34m\u001b[0m\u001b[0;34m\u001b[0m\u001b[0m\n\u001b[0m\u001b[1;32m    186\u001b[0m         \u001b[0;32mreturn\u001b[0m \u001b[0mxp\u001b[0m\u001b[0;34m.\u001b[0m\u001b[0masarray\u001b[0m\u001b[0;34m(\u001b[0m\u001b[0marray\u001b[0m\u001b[0;34m,\u001b[0m \u001b[0mcopy\u001b[0m\u001b[0;34m=\u001b[0m\u001b[0mcopy\u001b[0m\u001b[0;34m)\u001b[0m\u001b[0;34m\u001b[0m\u001b[0;34m\u001b[0m\u001b[0m\n\u001b[1;32m    187\u001b[0m     \u001b[0;32melse\u001b[0m\u001b[0;34m:\u001b[0m\u001b[0;34m\u001b[0m\u001b[0;34m\u001b[0m\u001b[0m\n",
            "\u001b[0;31mValueError\u001b[0m: setting an array element with a sequence."
          ]
        }
      ]
    },
    {
      "cell_type": "code",
      "source": [
        "# # test_text_bert\n",
        "# test_text_bert_array = np.array(test_text_bert)  # convert the dataset to a NumPy array\n",
        "# test_text_bert_array = test_text_bert_array.reshape((test_text_bert_array.shape[0], -1))  # reshape to (n_samples, n_features)\n",
        "# test_text_bert_features = np.concatenate(test_text_bert_array, axis=1)  # concatenate the embeddings along axis=1\n",
        "\n",
        "\n",
        "# test_text_bert_features\n",
        "\n",
        "\n",
        "# test_text_bert_numpy=test_text_bert.numpy()\n",
        "print(\"Training data shape:\", train_text_bert_numpy.shape)\n",
        "print(\"Test data shape:\", test_text_bert_numpy.shape)\n",
        "\n",
        "# select the relevant features from the test data\n",
        "X_test_selected = train_text_bert_numpy[:, :test_text_bert_numpy.shape[1]]\n",
        "\n",
        "# check that the shapes match\n",
        "print(\"Selected test data shape:\", X_test_selected.shape)\n",
        "5\n"
      ],
      "metadata": {
        "id": "LXU4xPBUIlFI"
      },
      "execution_count": null,
      "outputs": []
    },
    {
      "cell_type": "code",
      "source": [],
      "metadata": {
        "colab": {
          "base_uri": "https://localhost:8080/",
          "height": 169
        },
        "id": "YmWJ-fTLW6zP",
        "outputId": "1fd394cb-e13c-4463-f2ce-dcf419af1f20"
      },
      "execution_count": 226,
      "outputs": [
        {
          "output_type": "error",
          "ename": "AttributeError",
          "evalue": "ignored",
          "traceback": [
            "\u001b[0;31m---------------------------------------------------------------------------\u001b[0m",
            "\u001b[0;31mAttributeError\u001b[0m                            Traceback (most recent call last)",
            "\u001b[0;32m<ipython-input-226-c266f35424e0>\u001b[0m in \u001b[0;36m<cell line: 1>\u001b[0;34m()\u001b[0m\n\u001b[0;32m----> 1\u001b[0;31m \u001b[0ma3_n\u001b[0m \u001b[0;34m=\u001b[0m \u001b[0ma3\u001b[0m\u001b[0;34m.\u001b[0m\u001b[0mreshape\u001b[0m\u001b[0;34m(\u001b[0m\u001b[0;34m-\u001b[0m\u001b[0;36m1\u001b[0m\u001b[0;34m,\u001b[0m \u001b[0;36m1\u001b[0m\u001b[0;34m)\u001b[0m\u001b[0;34m\u001b[0m\u001b[0;34m\u001b[0m\u001b[0m\n\u001b[0m",
            "\u001b[0;31mAttributeError\u001b[0m: 'list' object has no attribute 'reshape'"
          ]
        }
      ]
    },
    {
      "cell_type": "code",
      "source": [
        "y_pred = model.predict(a3)\n",
        "#print the classification report to highlight the accuracy with f1-score, precision and recall\n",
        "\n",
        "print(metrics.classification_report(test_target_bert, y_pred))\n",
        "plot_confusion_matrix(test_target_bert, y_pred)\n",
        "plot_roc_curve(test_target_bert, y_pred)"
      ],
      "metadata": {
        "colab": {
          "base_uri": "https://localhost:8080/",
          "height": 1000
        },
        "id": "hXO2GCtxvQU6",
        "outputId": "31853e66-0a5d-4b6c-e1e3-7298ca10d8d9"
      },
      "execution_count": 224,
      "outputs": [
        {
          "output_type": "error",
          "ename": "ValueError",
          "evalue": "ignored",
          "traceback": [
            "\u001b[0;31m---------------------------------------------------------------------------\u001b[0m",
            "\u001b[0;31mValueError\u001b[0m                                Traceback (most recent call last)",
            "\u001b[0;32m<ipython-input-224-c93590bb2286>\u001b[0m in \u001b[0;36m<cell line: 1>\u001b[0;34m()\u001b[0m\n\u001b[0;32m----> 1\u001b[0;31m \u001b[0my_pred\u001b[0m \u001b[0;34m=\u001b[0m \u001b[0mmodel\u001b[0m\u001b[0;34m.\u001b[0m\u001b[0mpredict\u001b[0m\u001b[0;34m(\u001b[0m\u001b[0ma3\u001b[0m\u001b[0;34m)\u001b[0m\u001b[0;34m\u001b[0m\u001b[0;34m\u001b[0m\u001b[0m\n\u001b[0m\u001b[1;32m      2\u001b[0m \u001b[0;31m#print the classification report to highlight the accuracy with f1-score, precision and recall\u001b[0m\u001b[0;34m\u001b[0m\u001b[0;34m\u001b[0m\u001b[0m\n\u001b[1;32m      3\u001b[0m \u001b[0;34m\u001b[0m\u001b[0m\n\u001b[1;32m      4\u001b[0m \u001b[0mprint\u001b[0m\u001b[0;34m(\u001b[0m\u001b[0mmetrics\u001b[0m\u001b[0;34m.\u001b[0m\u001b[0mclassification_report\u001b[0m\u001b[0;34m(\u001b[0m\u001b[0mtest_target_bert\u001b[0m\u001b[0;34m,\u001b[0m \u001b[0my_pred\u001b[0m\u001b[0;34m)\u001b[0m\u001b[0;34m)\u001b[0m\u001b[0;34m\u001b[0m\u001b[0;34m\u001b[0m\u001b[0m\n\u001b[1;32m      5\u001b[0m \u001b[0mplot_confusion_matrix\u001b[0m\u001b[0;34m(\u001b[0m\u001b[0mtest_target_bert\u001b[0m\u001b[0;34m,\u001b[0m \u001b[0my_pred\u001b[0m\u001b[0;34m)\u001b[0m\u001b[0;34m\u001b[0m\u001b[0;34m\u001b[0m\u001b[0m\n",
            "\u001b[0;32m/usr/local/lib/python3.9/dist-packages/sklearn/naive_bayes.py\u001b[0m in \u001b[0;36mpredict\u001b[0;34m(self, X)\u001b[0m\n\u001b[1;32m    103\u001b[0m         \"\"\"\n\u001b[1;32m    104\u001b[0m         \u001b[0mcheck_is_fitted\u001b[0m\u001b[0;34m(\u001b[0m\u001b[0mself\u001b[0m\u001b[0;34m)\u001b[0m\u001b[0;34m\u001b[0m\u001b[0;34m\u001b[0m\u001b[0m\n\u001b[0;32m--> 105\u001b[0;31m         \u001b[0mX\u001b[0m \u001b[0;34m=\u001b[0m \u001b[0mself\u001b[0m\u001b[0;34m.\u001b[0m\u001b[0m_check_X\u001b[0m\u001b[0;34m(\u001b[0m\u001b[0mX\u001b[0m\u001b[0;34m)\u001b[0m\u001b[0;34m\u001b[0m\u001b[0;34m\u001b[0m\u001b[0m\n\u001b[0m\u001b[1;32m    106\u001b[0m         \u001b[0mjll\u001b[0m \u001b[0;34m=\u001b[0m \u001b[0mself\u001b[0m\u001b[0;34m.\u001b[0m\u001b[0m_joint_log_likelihood\u001b[0m\u001b[0;34m(\u001b[0m\u001b[0mX\u001b[0m\u001b[0;34m)\u001b[0m\u001b[0;34m\u001b[0m\u001b[0;34m\u001b[0m\u001b[0m\n\u001b[1;32m    107\u001b[0m         \u001b[0;32mreturn\u001b[0m \u001b[0mself\u001b[0m\u001b[0;34m.\u001b[0m\u001b[0mclasses_\u001b[0m\u001b[0;34m[\u001b[0m\u001b[0mnp\u001b[0m\u001b[0;34m.\u001b[0m\u001b[0margmax\u001b[0m\u001b[0;34m(\u001b[0m\u001b[0mjll\u001b[0m\u001b[0;34m,\u001b[0m \u001b[0maxis\u001b[0m\u001b[0;34m=\u001b[0m\u001b[0;36m1\u001b[0m\u001b[0;34m)\u001b[0m\u001b[0;34m]\u001b[0m\u001b[0;34m\u001b[0m\u001b[0;34m\u001b[0m\u001b[0m\n",
            "\u001b[0;32m/usr/local/lib/python3.9/dist-packages/sklearn/naive_bayes.py\u001b[0m in \u001b[0;36m_check_X\u001b[0;34m(self, X)\u001b[0m\n\u001b[1;32m    577\u001b[0m     \u001b[0;32mdef\u001b[0m \u001b[0m_check_X\u001b[0m\u001b[0;34m(\u001b[0m\u001b[0mself\u001b[0m\u001b[0;34m,\u001b[0m \u001b[0mX\u001b[0m\u001b[0;34m)\u001b[0m\u001b[0;34m:\u001b[0m\u001b[0;34m\u001b[0m\u001b[0;34m\u001b[0m\u001b[0m\n\u001b[1;32m    578\u001b[0m         \u001b[0;34m\"\"\"Validate X, used only in predict* methods.\"\"\"\u001b[0m\u001b[0;34m\u001b[0m\u001b[0;34m\u001b[0m\u001b[0m\n\u001b[0;32m--> 579\u001b[0;31m         \u001b[0;32mreturn\u001b[0m \u001b[0mself\u001b[0m\u001b[0;34m.\u001b[0m\u001b[0m_validate_data\u001b[0m\u001b[0;34m(\u001b[0m\u001b[0mX\u001b[0m\u001b[0;34m,\u001b[0m \u001b[0maccept_sparse\u001b[0m\u001b[0;34m=\u001b[0m\u001b[0;34m\"csr\"\u001b[0m\u001b[0;34m,\u001b[0m \u001b[0mreset\u001b[0m\u001b[0;34m=\u001b[0m\u001b[0;32mFalse\u001b[0m\u001b[0;34m)\u001b[0m\u001b[0;34m\u001b[0m\u001b[0;34m\u001b[0m\u001b[0m\n\u001b[0m\u001b[1;32m    580\u001b[0m \u001b[0;34m\u001b[0m\u001b[0m\n\u001b[1;32m    581\u001b[0m     \u001b[0;32mdef\u001b[0m \u001b[0m_check_X_y\u001b[0m\u001b[0;34m(\u001b[0m\u001b[0mself\u001b[0m\u001b[0;34m,\u001b[0m \u001b[0mX\u001b[0m\u001b[0;34m,\u001b[0m \u001b[0my\u001b[0m\u001b[0;34m,\u001b[0m \u001b[0mreset\u001b[0m\u001b[0;34m=\u001b[0m\u001b[0;32mTrue\u001b[0m\u001b[0;34m)\u001b[0m\u001b[0;34m:\u001b[0m\u001b[0;34m\u001b[0m\u001b[0;34m\u001b[0m\u001b[0m\n",
            "\u001b[0;32m/usr/local/lib/python3.9/dist-packages/sklearn/base.py\u001b[0m in \u001b[0;36m_validate_data\u001b[0;34m(self, X, y, reset, validate_separately, **check_params)\u001b[0m\n\u001b[1;32m    563\u001b[0m             \u001b[0;32mraise\u001b[0m \u001b[0mValueError\u001b[0m\u001b[0;34m(\u001b[0m\u001b[0;34m\"Validation should be done on X, y or both.\"\u001b[0m\u001b[0;34m)\u001b[0m\u001b[0;34m\u001b[0m\u001b[0;34m\u001b[0m\u001b[0m\n\u001b[1;32m    564\u001b[0m         \u001b[0;32melif\u001b[0m \u001b[0;32mnot\u001b[0m \u001b[0mno_val_X\u001b[0m \u001b[0;32mand\u001b[0m \u001b[0mno_val_y\u001b[0m\u001b[0;34m:\u001b[0m\u001b[0;34m\u001b[0m\u001b[0;34m\u001b[0m\u001b[0m\n\u001b[0;32m--> 565\u001b[0;31m             \u001b[0mX\u001b[0m \u001b[0;34m=\u001b[0m \u001b[0mcheck_array\u001b[0m\u001b[0;34m(\u001b[0m\u001b[0mX\u001b[0m\u001b[0;34m,\u001b[0m \u001b[0minput_name\u001b[0m\u001b[0;34m=\u001b[0m\u001b[0;34m\"X\"\u001b[0m\u001b[0;34m,\u001b[0m \u001b[0;34m**\u001b[0m\u001b[0mcheck_params\u001b[0m\u001b[0;34m)\u001b[0m\u001b[0;34m\u001b[0m\u001b[0;34m\u001b[0m\u001b[0m\n\u001b[0m\u001b[1;32m    566\u001b[0m             \u001b[0mout\u001b[0m \u001b[0;34m=\u001b[0m \u001b[0mX\u001b[0m\u001b[0;34m\u001b[0m\u001b[0;34m\u001b[0m\u001b[0m\n\u001b[1;32m    567\u001b[0m         \u001b[0;32melif\u001b[0m \u001b[0mno_val_X\u001b[0m \u001b[0;32mand\u001b[0m \u001b[0;32mnot\u001b[0m \u001b[0mno_val_y\u001b[0m\u001b[0;34m:\u001b[0m\u001b[0;34m\u001b[0m\u001b[0;34m\u001b[0m\u001b[0m\n",
            "\u001b[0;32m/usr/local/lib/python3.9/dist-packages/sklearn/utils/validation.py\u001b[0m in \u001b[0;36mcheck_array\u001b[0;34m(array, accept_sparse, accept_large_sparse, dtype, order, copy, force_all_finite, ensure_2d, allow_nd, ensure_min_samples, ensure_min_features, estimator, input_name)\u001b[0m\n\u001b[1;32m    900\u001b[0m             \u001b[0;31m# If input is 1D raise error\u001b[0m\u001b[0;34m\u001b[0m\u001b[0;34m\u001b[0m\u001b[0m\n\u001b[1;32m    901\u001b[0m             \u001b[0;32mif\u001b[0m \u001b[0marray\u001b[0m\u001b[0;34m.\u001b[0m\u001b[0mndim\u001b[0m \u001b[0;34m==\u001b[0m \u001b[0;36m1\u001b[0m\u001b[0;34m:\u001b[0m\u001b[0;34m\u001b[0m\u001b[0;34m\u001b[0m\u001b[0m\n\u001b[0;32m--> 902\u001b[0;31m                 raise ValueError(\n\u001b[0m\u001b[1;32m    903\u001b[0m                     \u001b[0;34m\"Expected 2D array, got 1D array instead:\\narray={}.\\n\"\u001b[0m\u001b[0;34m\u001b[0m\u001b[0;34m\u001b[0m\u001b[0m\n\u001b[1;32m    904\u001b[0m                     \u001b[0;34m\"Reshape your data either using array.reshape(-1, 1) if \"\u001b[0m\u001b[0;34m\u001b[0m\u001b[0;34m\u001b[0m\u001b[0m\n",
            "\u001b[0;31mValueError\u001b[0m: Expected 2D array, got 1D array instead:\narray=[array([[  101,  1996,  3010, ...,     0,     0,     0],\n        [  101,  5035, 18528, ...,     0,     0,     0],\n        [  101,  2182,  1521, ...,     0,     0,     0],\n        ...,\n        [  101,  3904,  1997, ...,     0,     0,     0],\n        [  101,  1006, 13292, ...,     0,     0,     0],\n        [  101,  2019,  4895, ...,     0,     0,     0]])\n array([[ 101, 8749, 2031, ...,    0,    0,    0],\n        [ 101, 5085, 2100, ...,    0,    0,    0],\n        [ 101, 2012, 2560, ...,    0,    0,    0],\n        ...,\n        [ 101, 2013, 1996, ...,    0,    0,    0],\n        [ 101, 3071, 4282, ...,    0,    0,    0],\n        [ 101, 2045, 2003, ...,    0,    0,    0]])\n array([[  101,  1996,  2088, ...,     0,     0,     0],\n        [  101, 11884,  4584, ...,  2758,     0,     0],\n        [  101,  3994,  1011, ...,     0,     0,     0],\n        ...,\n        [  101,  2047,  6768, ...,     0,     0,     0],\n        [  101,  1037,  2678, ...,     0,     0,     0],\n        [  101,  8166,  5008, ...,  3103,  1011,  3336]])\n array([[  101,  1006, 13229, ...,  5833, 10975, 28465],\n        [  101,  3422,  2545, ...,     0,     0,     0],\n        [  101,  5213,   999, ...,     0,     0,     0],\n        ...,\n        [  101,  2508, 17106, ...,     0,     0,     0],\n        [  101,  4717, 13843, ...,     0,     0,     0],\n        [  101,  8224,  2038, ...,     0,     0,     0]])\n array([[  101,  2019,  6884, ...,     0,     0,     0],\n        [  101,  2045,  2024, ...,     0,     0,     0],\n        [  101,  2502,  2924, ...,     0,     0,     0],\n        ...,\n        [  101,  1996, 17324, ...,     0,     0,     0],\n        [  101,  1037,  3861, ...,     0,     0,     0],\n        [  101,  2006,  5958, ...,     0,     0,     0]])\n array([[  101,  7987, 20175, ...,     0,     0,     0],\n        [  101,  1037,  2678, ...,     0,     0,     0],\n        [  101,  2660,  1517, ...,     0,     0,     0],\n        ...,\n        [  101, 15267, 24633, ...,     0,     0,     0],\n        [  101, 29584, 10898, ...,     0,     0,     0],\n        [  101,  3580,  2865, ..., 29129,  2966,  3949]])\n array([[  101, 20128,  5912, ...,     0,     0,     0],\n        [  101,  1996,  2158, ...,     0,     0,     0],\n        [  101,  2397,  2197, ...,     0,     0,     0],\n        ...,\n        [  101,  3422,  2545, ...,     0,     0,     0],\n        [  101,  1999,  1996, ...,     0,     0,     0],\n        [  101,  1996, 26922, ...,     0,     0,     0]])\n array([[  101,  2048,  1057, ...,     0,     0,     0],\n        [  101,  1037,  4440, ...,     0,     0,     0],\n        [  101,  2074,  2043, ...,     0,     0,     0],\n        ...,\n        [  101,  2017,  2089, ..., 11560,  3008,  7098],\n        [  101,  1037,  3130, ...,     0,     0,     0],\n        [  101,  1996,  2329, ...,     0,     0,     0]])\n array([[  101,  1996,  2158, ...,     0,     0,     0],\n        [  101,  1996,  9452, ...,     0,     0,     0],\n        [  101, 10651,  2019, ...,     0,     0,     0],\n        ...,\n        [  101,  2773,  2008, ...,     0,     0,     0],\n        [  101,  1996,  2157, ...,     0,     0,     0],\n        [  101,  5499,  2110, ...,     0,     0,     0]])\n array([[  101,  5190,  1997, ...,     0,     0,     0],\n        [  101,  8748, 22072, ...,     0,     0,     0],\n        [  101,  2045,  2089, ...,     0,     0,     0],\n        ...,\n        [  101,  5035, 18528, ...,     0,     0,     0],\n        [  101,  2902,  4614, ...,     0,     0,     0],\n        [  101,  1037,  2678, ...,     0,     0,     0]])\n array([[  101,  4698,  2663, ...,     0,     0,     0],\n        [  101,  2624,  7367, ...,     0,     0,     0],\n        [  101, 18301,  2207, ...,     0,     0,     0],\n        ...,\n        [  101,  1996,  3429, ...,     0,     0,     0],\n        [  101,  3460,  1999, ...,     0,     0,     0],\n        [  101,  2045,  2020, ...,     0,     0,     0]])\n array([[  101,  3904,  1997, ...,     0,     0,     0],\n        [  101,  1996,  4104, ...,     0,     0,     0],\n        [  101,  2058,  1996, ...,     0,     0,     0],\n        ...,\n        [  101,  4256,  3632, ...,     0,     0,     0],\n        [  101, 15419,  2100, ...,     0,     0,     0],\n        [  101,  1999,  3433, ...,     0,     0,     0]])\n array([[  101,  2053,  2028, ...,     0,     0,     0],\n        [  101,  2016,  2001, ...,     0,     0,     0],\n        [  101,  2412,  2144, ...,     0,     0,     0],\n        ...,\n        [  101,  4895,  8663, ...,     0,     0,     0],\n        [  101,  1045, 11113, ...,     0,     0,     0],\n        [  101,  2009,  3544, ...,     0,     0,     0]])\n array([[  101, 15335,  1517, ...,     0,     0,     0],\n        [  101, 13229,  2038, ...,     0,     0,     0],\n        [  101,  1996,  3282, ...,     0,     0,     0],\n        ...,\n        [  101,  6207,  2761, ...,     0,     0,     0],\n        [  101,  1996,  5197, ...,     0,     0,     0],\n        [  101,  1037,  2656, ...,     0,     0,     0]])\n array([[ 101, 4366, 1024, ...,    0,    0,    0],\n        [ 101, 7172, 2012, ...,    0,    0,    0],\n        [ 101, 2006, 5958, ...,    0,    0,    0],\n        ...,\n        [ 101, 3369, 1999, ...,    0,    0,    0],\n        [ 101, 1996, 2158, ...,    0,    0,    0],\n        [ 101, 2502, 2924, ...,    0,    0,    0]])\n array([[  101,  1006,  2019, ...,     0,     0,     0],\n        [  101,  1037,  2662, ...,     0,     0,     0],\n        [  101,  2043,  6207, ...,     0,     0,     0],\n        ...,\n        [  101,  1037, 23094, ...,  4808,  5997,     0],\n        [  101,  2023,  2003, ...,     0,     0,     0],\n        [  101,  1037,  2861, ...,     0,     0,     0]])\n array([[  101,  8273,  3900, ...,     0,     0,     0],\n        [  101,  2108,  2008, ...,     0,     0,     0],\n        [  101,  5499,  2110, ...,     0,     0,     0],\n        ...,\n        [  101,  2823,  2074, ...,     0,     0,     0],\n        [  101,  1005,  2009, ...,     0,     0,     0],\n        [  101,  1045, 11113, ...,     0,     0,     0]])\n array([[  101,  2006,  5958, ...,     0,     0,     0],\n        [  101,  1006, 26665, ...,     0,     0,     0],\n        [  101,  2043,  6207, ...,     0,     0,     0],\n        ...,\n        [  101,  2498, 13284, ...,     0,     0,     0],\n        [  101,  5499,  2110, ...,     0,     0,     0],\n        [  101,  1996, 15748, ...,     0,     0,     0]])\n array([[  101,  2206,  1996, ...,     0,     0,     0],\n        [  101,  1996,  4104, ...,     0,     0,     0],\n        [  101,  5211,  3813, ...,     0,     0,     0],\n        ...,\n        [  101,  5035, 10930, ...,     0,     0,     0],\n        [  101,  4401,  7549, ...,  3102,  7171,  1005],\n        [  101, 15419,  2100, ...,     0,     0,     0]])\n array([[ 101, 2402, 2167, ...,    0,    0,    0],\n        [ 101, 1523, 2732, ...,    0,    0,    0],\n        [ 101, 2006, 5958, ...,    0,    0,    0],\n        ...,\n        [ 101, 5499, 2110, ...,    0,    0,    0],\n        [ 101, 1006, 1047, ...,    0,    0,    0],\n        [ 101, 2057, 1005, ...,    0,    0,    0]])\n array([[  101,  2004,  1037, ...,     0,     0,     0],\n        [  101, 13952,  1010, ...,     0,     0,     0],\n        [  101,  4911,  1024, ...,     0,     0,     0],\n        ...,\n        [  101,  2167,  4759, ...,     0,     0,     0],\n        [  101,  2005,  3599, ...,     0,     0,     0],\n        [  101, 11884,  4584, ...,     0,     0,     0]])\n array([[ 101, 2610, 2097, ...,    0,    0,    0],\n        [ 101, 2610, 2097, ...,    0,    0,    0],\n        [ 101, 2502, 2924, ...,    0,    0,    0],\n        ...,\n        [ 101, 5111, 2103, ...,    0,    0,    0],\n        [ 101, 4638, 2041, ...,    0,    0,    0],\n        [ 101, 1996, 6884, ...,    0,    0,    0]])\n array([[  101, 12267, 21069, ...,     0,     0,     0],\n        [  101,  2414,  1006, ...,     0,     0,     0],\n        [  101,  2402,  2167, ...,     0,     0,     0],\n        ...,\n        [  101, 13507,  2024, ...,     0,     0,     0],\n        [  101,  2065,  2017, ...,     0,     0,     0],\n        [  101,  2019,  6884, ...,     0,     0,     0]])\n array([[  101,  8956,  8221, ...,     0,     0,     0],\n        [  101,  2065,  2017, ...,     0,     0,     0],\n        [  101, 13857,  1998, ...,     0,     0,     0],\n        ...,\n        [  101,  5499,  2110, ...,     0,     0,     0],\n        [  101,  2027,  4033, ...,     0,     0,     0],\n        [  101, 27256, 29271, ...,     0,     0,     0]])\n array([[  101, 17700, 12139, ...,     0,     0,     0],\n        [  101,  2025,  2069, ...,     0,     0,     0],\n        [  101,  4717, 13843, ...,     0,     0,     0],\n        ...,\n        [  101,  2044,  9761, ...,     0,     0,     0],\n        [  101,  1006, 13229, ...,     0,     0,     0],\n        [  101, 16878,  8485, ...,     0,     0,     0]])\n array([[  101,  1996,  2088, ...,     0,     0,     0],\n        [  101,  2748,  1010, ...,     0,     0,     0],\n        [  101,  2019,  8956, ...,     0,     0,     0],\n        ...,\n        [  101,  1996, 20864, ...,     0,     0,     0],\n        [  101,  6207,  2052, ...,     0,     0,     0],\n        [  101,  2086,  3283, ...,     0,     0,     0]])\n array([[  101,  2175, 10623, ...,     0,     0,     0],\n        [  101,  2402,  2879, ...,     0,     0,     0],\n        [  101,  1996,  6207, ...,     0,     0,     0],\n        ...,\n        [  101,  2197,  2095, ...,     0,     0,     0],\n        [  101,  1037,  2496, ...,     0,     0,     0],\n        [  101,  1037,  3010, ...,     0,     0,     0]])\n array([[  101,  1996, 20864, ...,     0,     0,     0],\n        [  101,  2069,  1999, ...,     0,     0,     0],\n        [  101,  2006,  1996, ...,     0,     0,     0],\n        ...,\n        [  101,  3580,  3910, ...,     0,     0,     0],\n        [  101,  2005,  3599, ...,     0,     0,     0],\n        [  101,  8945,  3683, ...,     0,     0,     0]])\n array([[  101,  9733,  2003, ...,     0,     0,     0],\n        [  101,  1037,  4861, ...,     0,     0,     0],\n        [  101,  1006, 26665, ...,     0,     0,     0],\n        ...,\n        [  101,  7858,  2099, ...,     0,     0,     0],\n        [  101,  1037,  3861, ...,     0,     0,     0],\n        [  101,  5712,  1521, ...,     0,     0,     0]])\n array([[  101,  1037, 12406, ...,     0,     0,     0],\n        [  101,  1037,  2678, ...,     0,     0,     0],\n        [  101,  2469,  4095, ...,     0,     0,     0],\n        ...,\n        [  101,  2591,  2865, ...,     0,     0,     0],\n        [  101,  2195,  2847, ...,     0,     0,     0],\n        [  101,  1996,  2279, ...,     0,     0,     0]])\n array([[  101,  1999,  3243, ...,     0,     0,     0],\n        [  101,  4311,  2008, ...,     0,     0,     0],\n        [  101, 19200,  2008, ...,     0,     0,     0],\n        ...,\n        [  101,  1996,  2905, ...,     0,     0,     0],\n        [  101,  8945,  3683, ...,     0,     0,     0],\n        [  101,  5190,  1997, ...,     0,     0,     0]])\n array([[  101,  2660,  1517, ...,     0,     0,     0],\n        [  101,  2006,  1996, ...,     0,     0,     0],\n        [  101,  2004,  2521, ...,     0,     0,     0],\n        ...,\n        [  101,  3533, 15544, ...,     0,     0,     0],\n        [  101,  1037,  3234, ...,     0,     0,     0],\n        [  101,  2096,  2334, ...,     0,     0,     0]])\n array([[  101,  2343, 13857, ...,     0,     0,     0],\n        [  101,  2216,  3236, ...,     0,     0,     0],\n        [  101,  1005,  2009, ...,     0,     0,     0],\n        ...,\n        [  101,  2019,  5746, ...,     0,     0,     0],\n        [  101,  1996,  2158, ...,     0,     0,     0],\n        [  101,  1523,  2732, ...,  2110,     0,     0]])\n array([[ 101, 2429, 2000, ...,    0,    0,    0],\n        [ 101, 1996, 2693, ...,    0,    0,    0],\n        [ 101, 2610, 2097, ...,    0,    0,    0],\n        ...,\n        [ 101, 1000, 3674, ...,    0,    0,    0],\n        [ 101, 1037, 8479, ...,    0,    0,    0],\n        [ 101, 3146, 2103, ...,    0,    0,    0]])\n array([[ 101, 1037, 2822, ...,    0,    0,    0],\n        [ 101, 2248, 9680, ...,    0,    0,    0],\n        [ 101, 1015, 1997, ...,    0,    0,    0],\n        ...,\n        [ 101, 1037, 2095, ...,    0,    0,    0],\n        [ 101, 1037, 2047, ...,    0,    0,    0],\n        [ 101, 2865, 4221, ...,    0,    0,    0]])\n array([[ 101, 9340, 4063, ...,    0,    0,    0],\n        [ 101, 7387, 1521, ...,    0,    0,    0],\n        [ 101, 2006, 2285, ...,    0,    0,    0],\n        ...,\n        [ 101, 2057, 1521, ...,    0,    0,    0],\n        [ 101, 5869, 7136, ...,    0,    0,    0],\n        [ 101, 4911, 2739, ...,    0,    0,    0]])\n array([[  101, 17671,  2013, ...,     0,     0,     0],\n        [  101, 29584, 10898, ...,     0,     0,     0],\n        [  101,  5712,  1521, ...,     0,     0,     0],\n        ...,\n        [  101,  1006,  1047, ...,     0,     0,     0],\n        [  101,  2402,  2167, ...,     0,     0,     0],\n        [  101,  2048,  1057, ...,     0,     0,     0]])\n array([[  101,  3068,  4216, ...,     0,     0,     0],\n        [  101,  5293, 14329, ...,     0,     0,     0],\n        [  101,  7387,  1005, ...,     0,     0,     0],\n        ...,\n        [  101,  7041,  8003, ...,     0,     0,     0],\n        [  101, 17671,  2013, ...,     0,     0,     0],\n        [  101, 20864, 11538, ...,  1005,  1055,  2729]])\n array([[  101,  1040, 27922, ...,     0,     0,     0],\n        [  101,  2414,  1010, ...,     0,     0,     0],\n        [  101, 11737,  8418, ...,     0,     0,     0],\n        ...,\n        [  101,  1996, 15940, ...,     0,     0,     0],\n        [  101,  4831,  4557, ...,     0,     0,     0],\n        [  101,  2096, 12191, ...,     0,     0,     0]])\n array([[  101,  2023,  2003, ...,     0,     0,     0],\n        [  101, 10195,  1005, ...,     0,     0,     0],\n        [  101,  2865, 11730, ...,     0,     0,     0],\n        ...,\n        [  101,  3059, 19949, ...,     0,     0,     0],\n        [  101,  1037, 12406, ...,     0,     0,     0],\n        [  101,  1037,  2678, ...,     0,     0,     0]])\n array([[  101,  2414,  1517, ...,     0,     0,     0],\n        [  101,  2591,  2865, ...,     0,     0,     0],\n        [  101, 10850, 15916, ...,     0,     0,     0],\n        ...,\n        [  101, 14739,  7760, ...,     0,     0,     0],\n        [  101,  2745, 27838, ...,     0,     0,     0],\n        [  101,  2047,  6768, ...,     0,     0,     0]])\n array([[ 101, 2397, 2197, ...,    0,    0,    0],\n        [ 101, 1006, 1047, ...,    0,    0,    0],\n        [ 101, 4366, 1024, ...,    0,    0,    0],\n        ...,\n        [ 101, 1996, 2088, ...,    0,    0,    0],\n        [ 101, 9733, 5795, ...,    0,    0,    0],\n        [ 101, 2610, 2097, ...,    0,    0,    0]])\n array([[  101,  2096, 12191, ...,     0,     0,     0],\n        [  101,  2414,  1011, ...,     0,     0,     0],\n        [  101,  2019,  3720, ...,     0,     0,     0],\n        ...,\n        [  101,  6207,  4593, ...,     0,     0,     0],\n        [  101,  1996,  8040, ...,     0,     0,     0],\n        [  101,  1037,  2329, ...,     0,     0,     0]])\n array([[ 101, 5869, 7136, ...,    0,    0,    0],\n        [ 101, 6124, 3364, ...,    0,    0,    0],\n        [ 101, 1037, 2047, ...,    0,    0,    0],\n        ...,\n        [ 101, 2019, 2827, ...,    0,    0,    0],\n        [ 101, 1996, 2087, ...,    0,    0,    0],\n        [ 101, 2359, 1024, ...,    0,    0,    0]])\n array([[  101,  1006, 13229, ...,     0,     0,     0],\n        [  101,  1037,  3010, ...,     0,     0,     0],\n        [  101,  6207,  2089, ...,     0,     0,     0],\n        ...,\n        [  101,  2047,  2259, ...,     0,     0,     0],\n        [  101,  2004,  6207, ...,     0,     0,     0],\n        [  101,  2137,  1998, ...,     0,     0,     0]])\n array([[  101,  2131,  3201, ...,     0,     0,     0],\n        [  101,  1037,  2148, ...,     0,     0,     0],\n        [  101, 10651,  1024, ...,     0,     0,     0],\n        ...,\n        [  101,  2057,  1521, ...,     0,     0,     0],\n        [  101,  2045,  2024, ...,     0,     0,     0],\n        [  101,  2057,  1005, ...,     0,     0,     0]])\n array([[  101,  2044,  2108, ...,     0,     0,     0],\n        [  101,  2054,  3047, ...,     0,     0,     0],\n        [  101,  1996,  2158, ...,     0,     0,     0],\n        ...,\n        [  101,  3460,  1999, ...,     0,     0,     0],\n        [  101,  1037, 11972, ...,     0,     0,     0],\n        [  101,  1037,  6646, ...,     0,     0,     0]])\n array([[  101,  2028,  4628, ...,     0,     0,     0],\n        [  101,  3146,  2103, ...,     0,     0,     0],\n        [  101,  2062,  9729, ...,     0,     0,     0],\n        ...,\n        [  101, 14739,  7760, ...,     0,     0,     0],\n        [  101,  2006,  5958, ...,     0,     0,     0],\n        [  101, 10850, 15916, ...,     0,     0,     0]])\n array([[  101,  1996,  2796, ...,     0,     0,     0],\n        [  101,  2508, 17106, ...,     0,     0,     0],\n        [  101,  2006,  1996, ...,     0,     0,     0],\n        ...,\n        [  101,  1996,  5499, ...,     0,     0,     0],\n        [  101,  2019,  6884, ...,     0,     0,     0],\n        [  101,  2007,  6207, ...,     0,     0,     0]])\n array([[  101,  2006,  6928, ...,     0,     0,     0],\n        [  101,  1996,  7960, ...,     0,     0,     0],\n        [  101,  9340,  4063, ...,     0,     0,     0],\n        ...,\n        [  101,  6816,  5249, ...,     0,     0,     0],\n        [  101,  1037,  7143, ...,     0,     0,     0],\n        [  101, 27256, 17671, ...,     0,     0,     0]])\n array([[  101,  4151, 10231, ...,     0,     0,     0],\n        [  101,  8268,  3422, ...,     0,     0,     0],\n        [  101,  5211,  3813, ...,     0,     0,     0],\n        ...,\n        [  101,  1006, 26665, ...,     0,     0,     0],\n        [  101,  1037,  2235, ...,     0,     0,     0],\n        [  101,  2624,  7367, ...,     0,     0,     0]])\n array([[  101, 17671,  2013, ...,     0,     0,     0],\n        [  101,  2054,  2079, ...,     0,     0,     0],\n        [  101,  2047,  6768, ...,     0,     0,     0],\n        ...,\n        [  101,  3407,  6928, ...,     0,     0,     0],\n        [  101,  1037,  2534, ...,     0,     0,     0],\n        [  101,  1045, 11113, ...,     0,     0,     0]])\n array([[  101,  2057,  1521, ...,     0,     0,     0],\n        [  101, 11884,  2510, ...,     0,     0,     0],\n        [  101,  4202, 22393, ...,     0,     0,     0],\n        ...,\n        [  101,  6646,  2221, ...,     0,     0,     0],\n        [  101,  6207,  2089, ...,     0,     0,     0],\n        [  101,  1996,  2167, ...,     0,     0,     0]])\n array([[  101,  3731,  1011, ...,     0,     0,     0],\n        [  101,  1996, 14777, ...,     0,     0,     0],\n        [  101,  1037, 14056, ...,     0,     0,     0],\n        ...,\n        [  101,  2343, 13857, ...,     0,     0,     0],\n        [  101,  9383,  1521, ...,     0,     0,     0],\n        [  101,  2502,  2924, ...,     0,     0,     0]])\n array([[ 101, 1037, 2117, ...,    0,    0,    0],\n        [ 101, 4969, 1011, ...,    0,    0,    0],\n        [ 101, 1996, 2988, ...,    0,    0,    0],\n        ...,\n        [ 101, 2167, 4759, ...,    0,    0,    0],\n        [ 101, 4916, 2718, ...,    0,    0,    0],\n        [ 101, 3146, 2103, ...,    0,    0,    0]])\n array([[  101,  3580,  2865, ...,     0,     0,     0],\n        [  101,  4911,  2739, ...,     0,     0,     0],\n        [  101,  1006,  1047, ...,     0,     0,     0],\n        ...,\n        [  101, 15335,  1517, ...,     0,     0,     0],\n        [  101, 15278,  1006, ...,     0,     0,     0],\n        [  101,  1037,  2329, ...,     0,     0,     0]])\n array([[  101,  1005,  2009, ...,     0,     0,     0],\n        [  101,  2508, 17106, ...,     0,     0,     0],\n        [  101, 13229,  2038, ...,     0,     0,     0],\n        ...,\n        [  101,  1996,  5499, ...,     0,     0,     0],\n        [  101,  1996,  5499, ...,     0,     0,     0],\n        [  101,  2065, 12610, ...,     0,     0,     0]])\n array([[  101,  1996,  2693, ...,     0,     0,     0],\n        [  101,  3010,  2120, ...,     0,     0,     0],\n        [  101,  1037,  5268, ...,  2147,  2045,  1005],\n        ...,\n        [  101,  2508, 17106, ...,     0,     0,     0],\n        [  101, 17671,  2013, ...,     0,     0,     0],\n        [  101,  1037,  2117, ...,     0,     0,     0]])\n array([[  101, 29017, 23063, ...,     0,     0,     0],\n        [  101,  2070, 20636, ...,     0,     0,     0],\n        [  101,  2831,  2055, ...,     0,     0,     0],\n        ...,\n        [  101,  2296, 16251, ...,     0,     0,     0],\n        [  101,  3690,  2078, ...,     0,     0,     0],\n        [  101,  5614,  2007, ...,     0,     0,     0]])\n array([[  101,  1996,  6207, ...,     0,     0,     0],\n        [  101,  1996,  8495, ...,  8569,  3363, 12175],\n        [  101,  6207,  2522, ...,     0,     0,     0],\n        ...,\n        [  101,  1996,  5499, ...,     0,     0,     0],\n        [  101, 14474,  1010, ...,     0,     0,     0],\n        [  101,  2048,  2827, ...,     0,     0,     0]])\n array([[  101, 19935,  2884, ...,     0,     0,     0],\n        [  101,  4990,  2386, ...,     0,     0,     0],\n        [  101,  2092,  1010, ...,     0,     0,     0],\n        ...,\n        [  101,  2006,  5958, ...,     0,     0,     0],\n        [  101,  5207,  1521, ...,     0,     0,     0],\n        [  101, 18301,  6793, ...,     0,     0,     0]])\n array([[ 101, 1996, 5499, ...,    0,    0,    0],\n        [ 101, 5499, 2110, ...,    0,    0,    0],\n        [ 101, 6816, 5249, ...,    0,    0,    0],\n        ...,\n        [ 101, 1037, 3522, ...,    0,    0,    0],\n        [ 101, 2057, 1005, ...,    0,    0,    0],\n        [ 101, 2329, 2158, ..., 2015,    0,    0]])\n array([[  101,  1996, 14779, ...,  2080,     0,     0],\n        [  101,  1006, 16137, ...,     0,     0,     0],\n        [  101,  1037, 12406, ...,     0,     0,     0],\n        ...,\n        [  101, 11155,  1000, ...,     0,     0,     0],\n        [  101,  5111,  2103, ...,     0,     0,     0],\n        [  101,  2048,  2827, ...,     0,     0,     0]])\n array([[ 101, 1037, 5111, ...,    0,    0,    0],\n        [ 101, 6793, 1997, ...,    0,    0,    0],\n        [ 101, 2017, 2113, ..., 1999, 1996, 2627],\n        ...,\n        [ 101, 1057, 1012, ...,    0,    0,    0],\n        [ 101, 2019, 7738, ...,    0,    0,    0],\n        [ 101, 6207, 4593, ...,    0,    0,    0]])\n array([[  101,  2773,  2008, ...,     0,     0,     0],\n        [  101,  2865,  4221, ...,     0,     0,     0],\n        [  101,  7041,  8003, ...,     0,     0,     0],\n        ...,\n        [  101,  1996,  2158, ...,     0,     0,     0],\n        [  101,  1037,  5268, ...,  1521,  1055,  3323],\n        [  101,  6662, 20996, ...,     0,     0,     0]])\n array([[ 101, 2006, 1996, ...,    0,    0,    0],\n        [ 101, 2048, 1057, ...,    0,    0,    0],\n        [ 101, 2057, 1005, ...,    0,    0,    0],\n        ...,\n        [ 101, 2045, 2031, ...,    0,    0,    0],\n        [ 101, 1037, 3146, ..., 3290, 3675,    0],\n        [ 101, 1996, 6967, ...,    0,    0,    0]])\n array([[  101,  2013,  1996, ...,     0,     0,     0],\n        [  101,  2831,  2055, ...,     0,     0,     0],\n        [  101,  1996, 28520, ...,     0,     0,     0],\n        ...,\n        [  101,  2044,  1037, ...,     0,     0,     0],\n        [  101,  3364,  3017, ...,     0,     0,     0],\n        [  101,  2017,  2215, ...,     0,     0,     0]])\n array([[  101,  2065, 12610, ...,     0,     0,     0],\n        [  101,  1037,  2177, ...,     0,     0,     0],\n        [  101,  1996,  2866, ...,     0,     0,     0],\n        ...,\n        [  101,  9733,  2003, ...,     0,     0,     0],\n        [  101,  1006, 26665, ...,     0,     0,     0],\n        [  101,  3805,  1997, ...,     0,     0,     0]])\n array([[  101,  5035, 10930, ...,     0,     0,     0],\n        [  101,  1037, 23853, ...,     0,     0,     0],\n        [  101,  2152,  3737, ...,     0,     0,     0],\n        ...,\n        [  101,  2745, 27838, ..., 12170, 26401,     0],\n        [  101,  1037, 28520, ...,  2007, 12765,  4295],\n        [  101,  8956,  2749, ...,     0,     0,     0]])\n array([[  101,  2096,  2009, ...,     0,     0,     0],\n        [  101,  4698,  2663, ...,     0,     0,     0],\n        [  101,  1037,  2678, ...,     0,     0,     0],\n        ...,\n        [  101,  2343,  8112, ...,     0,     0,     0],\n        [  101, 17700, 12139, ...,     0,     0,     0],\n        [  101,  1996,  4633, ...,     0,     0,     0]])\n array([[  101,  1996,  8495, ...,     0,     0,     0],\n        [  101,  8987,  5699, ...,     0,     0,     0],\n        [  101,  2865, 11730, ...,     0,     0,     0],\n        ...,\n        [  101,  9733,  2038, ...,     0,     0,     0],\n        [  101,  4717, 13843, ...,     0,     0,     0],\n        [  101,  1996,  3282, ...,     0,     0,     0]])\n array([[ 101, 1999, 1037, ...,    0,    0,    0],\n        [ 101, 1037, 3234, ...,    0,    0,    0],\n        [ 101, 4698, 2663, ...,    0,    0,    0],\n        ...,\n        [ 101, 2329, 2158, ...,    0,    0,    0],\n        [ 101, 1999, 1037, ...,    0,    0,    0],\n        [ 101, 2348, 3010, ...,    0,    0,    0]])\n array([[  101,  3674,  2739, ...,     0,     0,     0],\n        [  101,  1999,  2553, ...,  1999,  8166,  5008],\n        [  101, 13952,  1010, ...,     0,     0,     0],\n        ...,\n        [  101,  2845,  2343, ...,     0,     0,     0],\n        [  101,  6125,  2097, ...,     0,     0,     0],\n        [  101,  2023,  2003, ...,     0,     0,     0]])\n array([[  101,  2416,  1011, ...,     0,     0,     0],\n        [  101,  2048,  2827, ...,     0,     0,     0],\n        [  101,  2343,  8112, ...,     0,     0,     0],\n        ...,\n        [  101,  2045,  2024, ...,     0,     0,     0],\n        [  101,  2329,  4454, ...,     0,     0,     0],\n        [  101,  1006, 13229, ...,     0,     0,     0]])\n array([[  101,  1037,  2280, ...,     0,     0,     0],\n        [  101,  1037, 14056, ...,     0,     0,     0],\n        [  101,  2009,  1005, ...,     0,     0,     0],\n        ...,\n        [  101,  5293, 14329, ...,     0,     0,     0],\n        [  101,  1037,  2280, ...,     0,     0,     0],\n        [  101,  8268,  3422, ...,     0,     0,     0]])\n array([[  101,  1996,  6884, ...,     0,     0,     0],\n        [  101, 13952,  1517, ...,     0,     0,     0],\n        [  101,  2047,  2259, ...,  1521,  1055, 18591],\n        ...,\n        [  101, 20128,  5912, ...,     0,     0,     0],\n        [  101,  1037, 28520, ...,     0,     0,     0],\n        [  101,  2899,  1006, ...,     0,     0,     0]])\n array([[  101, 10850, 15916, ...,     0,     0,     0],\n        [  101,  1996,  2533, ...,     0,     0,     0],\n        [  101,  1037,  2678, ...,     0,     0,     0],\n        ...,\n        [  101, 19935,  2884, ...,  9765, 16655, 26893],\n        [  101,  1037,  2177, ...,     0,     0,     0],\n        [  101,  2469,  4095, ...,     0,     0,     0]])\n array([[  101,  4698,  2663, ...,     0,     0,     0],\n        [  101,  1999,  1037, ...,     0,     0,     0],\n        [  101,  2698,  3057, ...,     0,     0,     0],\n        ...,\n        [  101,  3120,  1024, ...,     0,     0,     0],\n        [  101, 19608,  2360, ...,     0,     0,     0],\n        [  101, 15448,  2078, ...,     0,     0,     0]])\n array([[  101,  1037,  2047, ...,     0,     0,     0],\n        [  101,  1996,  8495, ...,     0,     0,     0],\n        [  101,  8749,  2031, ...,     0,     0,     0],\n        ...,\n        [  101,  4202, 22393, ...,     0,     0,     0],\n        [  101,  2019,  2827, ...,     0,     0,     0],\n        [  101, 22091,  2860, ...,     0,     0,     0]])\n array([[  101,  1037,  3595, ...,     0,     0,     0],\n        [  101,  1996, 12765, ...,     0,     0,     0],\n        [  101,  1037,  3598, ...,     0,     0,     0],\n        ...,\n        [  101,  2414,  1517, ...,     0,     0,     0],\n        [  101,  3731,  1011, ...,  6209,  1999, 20222],\n        [  101,  6064,  5852, ...,     0,     0,     0]])\n array([[  101,  6207,  2003, ...,     0,     0,     0],\n        [  101, 28352,  2063, ...,     0,     0,     0],\n        [  101,  7858,  2099, ...,     0,     0,     0],\n        ...,\n        [  101,  2004,  2521, ...,     0,     0,     0],\n        [  101,  1037,  2082, ...,     0,     0,     0],\n        [  101,  3460,  1999, ...,     0,     0,     0]])\n array([[  101,  1037,  3010, ...,     0,     0,     0],\n        [  101,  1996,  3429, ...,     0,     0,     0],\n        [  101,  2197,  3204, ...,     0,     0,     0],\n        ...,\n        [  101,  1996,  2329, ...,     0,     0,     0],\n        [  101, 10651,  1024, ...,     0,     0,     0],\n        [  101,  1996,  6207, ...,     0,     0,     0]])\n array([[  101,  2065,  2017, ...,     0,     0,     0],\n        [  101,  3017, 28352, ...,     0,     0,     0],\n        [  101,  1037,  3861, ...,     0,     0,     0],\n        ...,\n        [  101,  2009,  2064, ...,     0,     0,     0],\n        [  101,  1015,  1997, ...,     0,     0,     0],\n        [  101, 19935,  2884, ...,     0,     0,     0]])\n array([[  101,  1037,  2678, ...,     0,     0,     0],\n        [  101,  1996,  2317, ...,     0,     0,     0],\n        [  101, 18145,  2024, ...,     0,     0,     0],\n        ...,\n        [  101,  1996,  5499, ...,     0,     0,     0],\n        [  101,  1996,  2158, ...,  4216,  4366,     0],\n        [  101,  2013,  8942, ...,     0,     0,     0]])\n array([[  101,  2009,  2064, ...,     0,     0,     0],\n        [  101, 10208, 19935, ...,     0,     0,     0],\n        [  101,  3146,  2103, ...,     0,     0,     0],\n        ...,\n        [  101,  1996,  2533, ...,     0,     0,     0],\n        [  101,  1037, 10398, ...,     0,     0,     0],\n        [  101,  2216,  3236, ...,     0,     0,     0]])\n array([[  101,  4698,  2663, ...,     0,     0,     0],\n        [  101,  2745, 27838, ...,     0,     0,     0],\n        [  101,  1037,  4440, ...,     0,     0,     0],\n        ...,\n        [  101,  4311,  2008, ...,  2000,  5499, 17671],\n        [  101,  5869,  7136, ...,     0,     0,     0],\n        [  101,  2019,  2827, ...,     0,     0,     0]])\n array([[ 101, 2058, 1996, ...,    0,    0,    0],\n        [ 101, 2414, 1517, ...,    0,    0,    0],\n        [ 101, 1996, 5690, ...,    0,    0,    0],\n        ...,\n        [ 101, 1996, 2088, ...,    0,    0,    0],\n        [ 101, 1037, 2235, ...,    0,    0,    0],\n        [ 101, 1037, 4861, ...,    0,    0,    0]])\n array([[  101,  1037,  2235, ...,  3199,     0,     0],\n        [  101,  1037,  2117, ...,     0,     0,     0],\n        [  101,  1037,  7422, ...,  7172,  1033,     0],\n        ...,\n        [  101, 10759,  3036, ...,     0,     0,     0],\n        [  101, 19935,  2884, ...,     0,     0,     0],\n        [  101,  1037,  2082, ...,     0,     0,     0]])\n array([[ 101, 1037, 2280, ...,    0,    0,    0],\n        [ 101, 2045, 2024, ...,    0,    0,    0],\n        [ 101, 6207, 2003, ...,    0,    0,    0],\n        ...,\n        [ 101, 1996, 6547, ...,    0,    0,    0],\n        [ 101, 2414, 1011, ...,    0,    0,    0],\n        [ 101, 3802, 9033, ...,    0,    0,    0]])\n array([[ 101, 2043, 6207, ...,    0,    0,    0],\n        [ 101, 2047, 2259, ...,    0,    0,    0],\n        [ 101, 1006, 1047, ...,    0,    0,    0],\n        ...,\n        [ 101, 6207, 2165, ...,    0,    0,    0],\n        [ 101, 1996, 2088, ...,    0,    0,    0],\n        [ 101, 2167, 4420, ...,    0,    0,    0]])\n array([[  101,  2096,  1996, ...,     0,     0,     0],\n        [  101,  2057,  1005, ...,     0,     0,     0],\n        [  101, 13229,  2038, ...,     0,     0,     0],\n        ...,\n        [  101,  8224,  3825, ...,     0,     0,     0],\n        [  101,  2045,  2038, ...,     0,     0,     0],\n        [  101,  2028,  4628, ...,     0,     0,     0]])\n array([[  101,  1996,  2317, ...,     0,     0,     0],\n        [  101,  4151, 10231, ...,     0,     0,     0],\n        [  101,  2009,  1005, ...,     0,     0,     0],\n        ...,\n        [  101,  2610,  2097, ...,     0,     0,     0],\n        [  101,  2610,  2097, ...,     0,     0,     0],\n        [  101,  1037,  2329, ...,     0,     0,     0]])\n array([[  101,  2019,  5594, ...,     0,     0,     0],\n        [  101,  1996,  3010, ...,     0,     0,     0],\n        [  101, 11884,  4584, ...,     0,     0,     0],\n        ...,\n        [  101,  2382,  1011, ...,     0,     0,     0],\n        [  101,  2823,  2074, ...,     0,     0,     0],\n        [  101,  2739,  1997, ...,     0,     0,     0]])\n array([[  101,  2296, 16251, ...,     0,     0,     0],\n        [  101,  4311,  1999, ...,     0,     0,     0],\n        [  101,  5499,  2110, ...,     0,     0,     0],\n        ...,\n        [  101,  2044, 18524, ...,     0,     0,     0],\n        [  101,  1523,  1037, ...,     0,     0,     0],\n        [  101,  8942,  2004, ...,     0,     0,     0]])\n array([[  101,  2668, 15222, ...,     0,     0,     0],\n        [  101, 11155,  1000, ...,     0,     0,     0],\n        [  101,  2693,  2058, ...,     0,     0,     0],\n        ...,\n        [  101,  1037,  2778, ...,     0,     0,     0],\n        [  101, 10326, 20601, ...,  2032,  1005,     0],\n        [  101,  1037,  2450, ...,     0,     0,     0]])\n array([[  101,  1999,  1037, ...,     0,     0,     0],\n        [  101, 11256,  1010, ...,     0,     0,     0],\n        [  101,  1996,  5499, ...,     0,     0,     0],\n        ...,\n        [  101,  2007,  1996, ...,     0,     0,     0],\n        [  101,  8268,  3422, ...,     0,     0,     0],\n        [  101,  1037,  2235, ...,     0,     0,     0]])\n array([[ 101, 2625, 2084, ...,    0,    0,    0],\n        [ 101, 3784, 4311, ...,    0,    0,    0],\n        [ 101, 5111, 2103, ...,    0,    0,    0],\n        ...,\n        [ 101, 2899, 1006, ...,    0,    0,    0],\n        [ 101, 4311, 2008, ...,    0,    0,    0],\n        [ 101, 2247, 2007, ...,    0,    0,    0]])\n array([[ 101, 1996, 2279, ...,    0,    0,    0],\n        [ 101, 1996, 2564, ...,    0,    0,    0],\n        [ 101, 3374, 2000, ...,    0,    0,    0],\n        ...,\n        [ 101, 1996, 8502, ...,    0,    0,    0],\n        [ 101, 1037, 3146, ...,    0,    0,    0],\n        [ 101, 2047, 6768, ...,    0,    0,    0]])\n array([[  101,  2167,  4420, ...,     0,     0,     0],\n        [  101,  1006, 16137, ...,     0,     0,     0],\n        [  101,  1037,  2861, ...,     0,     0,     0],\n        ...,\n        [  101,  1996,  3429, ...,     0,     0,     0],\n        [  101,  1999,  2167, ...,     0,     0,     0],\n        [  101,  7172,  2012, ...,     0,     0,     0]])\n array([[  101,  7307, 16186, ...,     0,     0,     0],\n        [  101,  2047,  2259, ...,     0,     0,     0],\n        [  101, 15448,  2078, ...,  2100,     0,     0],\n        ...,\n        [  101,  2296, 16251, ...,     0,     0,     0],\n        [  101,  2096,  1996, ...,     0,     0,     0],\n        [  101,  1996, 20864, ...,     0,     0,     0]])\n array([[  101,  1037,  2496, ...,     0,     0,     0],\n        [  101,  2430, 28430, ...,     0,     0,     0],\n        [  101,  1037,  2678, ...,     0,     0,     0],\n        ...,\n        [  101,  5340,  3509, ...,     0,     0,     0],\n        [  101,  2329,  2158, ...,     0,     0,     0],\n        [  101,  5887,  9121, ...,     0,     0,     0]])\n array([[  101, 20864, 11538, ...,     0,     0,     0],\n        [  101,  1005,  2009, ...,     0,     0,     0],\n        [  101,  1037,  2496, ...,     0,     0,     0],\n        ...,\n        [  101,  3120,  1024, ...,     0,     0,     0],\n        [  101, 10759,  3036, ...,     0,     0,     0],\n        [  101,  3664,  2139, ...,     0,     0,     0]])\n array([[ 101, 2329, 4454, ...,    0,    0,    0],\n        [ 101, 5499, 2110, ...,    0,    0,    0],\n        [ 101, 2009, 1005, ...,    0,    0,    0],\n        ...,\n        [ 101, 4151, 5013, ...,    0,    0,    0],\n        [ 101, 2429, 2000, ...,    0,    0,    0],\n        [ 101, 1996, 8040, ...,    0,    0,    0]])\n array([[  101,  6266, 16694, ...,     0,     0,     0],\n        [  101,  2004,  1037, ...,     0,     0,     0],\n        [  101,  1037,  2158, ...,     0,     0,     0],\n        ...,\n        [  101,  2003, 26000, ...,  4288,  1024,  4311],\n        [  101,  1037, 14056, ...,     0,     0,     0],\n        [  101,  1996,  4633, ...,     0,     0,     0]])\n array([[  101,  1999,  1037, ...,     0,     0,     0],\n        [  101,  2610,  1999, ...,     0,     0,     0],\n        [  101,  2013,  3095, ...,     0,     0,     0],\n        ...,\n        [  101,  1999,  2023, ...,     0,     0,     0],\n        [  101,  1006, 13229, ...,     0,     0,     0],\n        [  101,  5025,  2308, ...,     0,     0,     0]])\n array([[  101,  2096,  6207, ...,     0,     0,     0],\n        [  101,  1996,  6788, ...,     0,     0,     0],\n        [  101,  1037,  5268, ...,     0,     0,     0],\n        ...,\n        [  101,  2074,  2043, ...,     0,     0,     0],\n        [  101, 10195,  2024, ...,     0,     0,     0],\n        [  101,  2065, 12610, ...,     0,     0,     0]])\n array([[  101,  1037,  2610, ...,     0,     0,     0],\n        [  101,  1996,  8495, ...,     0,     0,     0],\n        [  101,  1996,  2088, ...,     0,     0,     0],\n        ...,\n        [  101,  4854, 10575, ...,     0,     0,     0],\n        [  101,  6207,  2003, ...,     0,     0,     0],\n        [  101, 13952,  1010, ...,     0,     0,     0]])\n array([[  101,  3422,  2545, ...,     0,     0,     0],\n        [  101,  4717, 13843, ...,     0,     0,     0],\n        [  101,  3460,  1999, ...,     0,     0,     0],\n        ...,\n        [  101,  2054,  6433, ...,     0,     0,     0],\n        [  101,  1999,  1037, ...,     0,     0,     0],\n        [  101, 13658, 17840, ...,     0,     0,     0]])\n array([[  101,  2182,  1521, ...,     0,     0,     0],\n        [  101,  1006, 13229, ...,     0,     0,     0],\n        [  101,  7387,  1005, ...,     0,     0,     0],\n        ...,\n        [  101,  1037,  3234, ...,     0,     0,     0],\n        [  101,  2397,  2197, ...,     0,     0,     0],\n        [  101,  1996,  3003, ...,     0,     0,     0]])\n array([[  101,  4854, 10575, ...,     0,     0,     0],\n        [  101,  2296, 16251, ...,     0,     0,     0],\n        [  101,  6662, 20996, ...,     0,     0,     0],\n        ...,\n        [  101,  2693,  2058, ...,     0,     0,     0],\n        [  101, 15448,  2078, ...,     0,     0,     0],\n        [  101,  2048,  2827, ...,     0,     0,     0]])\n array([[  101,  2019,  6884, ...,     0,     0,     0],\n        [  101,  3745,  2023, ...,     0,     0,     0],\n        [  101, 20128,  5912, ...,     0,     0,     0],\n        ...,\n        [  101,  5499,  2110, ...,  1005, 17734,  2436],\n        [  101, 21073,  1024, ...,     0,     0,     0],\n        [  101,  2182,  2012, ...,     0,     0,     0]])\n array([[  101,  1996,  2564, ...,     0,     0,     0],\n        [  101, 10195,  2024, ...,     0,     0,     0],\n        [  101,  5499,  2110, ...,     0,     0,     0],\n        ...,\n        [  101,  1996,  8495, ...,     0,     0,     0],\n        [  101,  3892,  1517, ...,     0,     0,     0],\n        [  101,  2004,  6207, ...,     0,     0,     0]])\n array([[  101, 14633,  2003, ...,     0,     0,     0],\n        [  101,  2414,  1010, ...,     0,     0,     0],\n        [  101,  1999,  1037, ...,  4988,  2011, 17671],\n        ...,\n        [  101,  7374,  2000, ...,     0,     0,     0],\n        [  101,  3674,  5198, ...,     0,     0,     0],\n        [  101,  2053,  6878, ...,     0,     0,     0]])\n array([[  101,  8273,  3900, ...,     0,     0,     0],\n        [  101,  2739,  2008, ...,     0,     0,     0],\n        [  101,  8224,  2038, ...,     0,     0,     0],\n        ...,\n        [  101,  5035, 18528, ...,     0,     0,     0],\n        [  101,  2062,  2084, ...,     0,     0,     0],\n        [  101, 26475, 17990, ...,     0,     0,     0]])\n array([[  101,  5293, 14329, ...,     0,     0,     0],\n        [  101,  2045,  2003, ...,     0,     0,     0],\n        [  101,  2006,  6928, ...,     0,     0,     0],\n        ...,\n        [  101, 14633,  1005, ...,     0,     0,     0],\n        [  101,  1996,  7960, ...,     0,     0,     0],\n        [  101,  9733,  1012, ...,     0,     0,     0]])\n array([[  101, 22260,  2140, ...,     0,     0,     0],\n        [  101,  1037,  3130, ...,  1005, 11972,  1005],\n        [  101,  2167,  4759, ...,     0,     0,     0],\n        ...,\n        [  101,  5499,  2110, ...,     0,     0,     0],\n        [  101,  3745,  2023, ...,     0,     0,     0],\n        [  101,  1037,  2450, ...,     0,     0,     0]])\n array([[  101,  3745,  2023, ...,     0,     0,     0],\n        [  101,  1037, 16634, ...,     0,     0,     0],\n        [  101,  2197,  2733, ...,     0,     0,     0],\n        ...,\n        [  101, 24185,  8022, ...,     0,     0,     0],\n        [  101,  4104,  2111, ...,     0,     0,     0],\n        [  101,  2058,  1996, ...,     0,     0,     0]])\n array([[  101,  2019,  6884, ...,     0,     0,     0],\n        [  101,  2070, 20636, ...,     0,     0,     0],\n        [  101,  1037,  2047, ...,     0,     0,     0],\n        ...,\n        [  101,  8519,  2031, ...,     0,     0,     0],\n        [  101,  1996,  2533, ...,     0,     0,     0],\n        [  101,  3146,  4977, ...,     0,     0,     0]])\n array([[  101,  1037,  2158, ...,     0,     0,     0],\n        [  101,  2866,  3539, ...,     0,     0,     0],\n        [  101,  3745,  2023, ...,     0,     0,     0],\n        ...,\n        [  101, 10326, 20601, ...,     0,     0,     0],\n        [  101,  1528, 24815, ...,     0,     0,     0],\n        [  101,  1996,  7960, ...,     0,     0,     0]])\n array([[  101,  1006, 13229, ...,     0,     0,     0],\n        [  101,  4911,  1024, ...,     0,     0,     0],\n        [  101,  2048,  1997, ...,     0,     0,     0],\n        ...,\n        [  101,  8942,  2004, ...,  5907,  9469, 18287],\n        [  101,  1037,  3780, ...,     0,     0,     0],\n        [  101,  2045,  2038, ...,     0,     0,     0]])\n array([[  101,  1037,  3861, ...,     0,     0,     0],\n        [  101, 27256, 17671, ...,     0,     0,     0],\n        [  101,  4990,  2386, ...,     0,     0,     0],\n        ...,\n        [  101,  2019,  6884, ...,     0,     0,     0],\n        [  101,  2419, 22116, ...,     0,     0,     0],\n        [  101,  2047,  2259, ...,     0,     0,     0]])\n array([[  101,  1996,  5499, ...,     0,     0,     0],\n        [  101,  2610,  2097, ...,     0,     0,     0],\n        [  101,  4273,  2149, ...,     0,     0,     0],\n        ...,\n        [  101,  2023,  2003, ...,     0,     0,     0],\n        [  101, 12592,  4614, ...,     0,     0,     0],\n        [  101,  2414,  1517, ...,     0,     0,     0]])\n array([[  101,  1037,  5268, ...,  4394,  3057,  2188],\n        [  101,  2559,  2067, ...,     0,     0,     0],\n        [  101,  4216,  1999, ...,     0,     0,     0],\n        ...,\n        [  101,  1996, 20864, ...,     0,     0,     0],\n        [  101,  2106,  2017, ...,     0,     0,     0],\n        [  101,  1996,  6207, ...,     0,     0,     0]])\n array([[  101,  2053,  2028, ...,     0,     0,     0],\n        [  101,  2414,  1006, ...,     0,     0,     0],\n        [  101,  6498, 24489, ...,     0,     0,     0],\n        ...,\n        [  101,  2045,  2024, ...,     0,     0,     0],\n        [  101,  1037,  3146, ...,  2035,  1005,     0],\n        [  101,  2004,  6207, ...,     0,     0,     0]])\n array([[  101, 28352,  2063, ...,     0,     0,     0],\n        [  101,  3745,  2023, ...,     0,     0,     0],\n        [  101,  4366,  1024, ...,     0,     0,     0],\n        ...,\n        [  101, 29017, 23063, ...,     0,     0,     0],\n        [  101,  4366,  1024, ...,     0,     0,     0],\n        [  101,  2144,  1996, ...,     0,     0,     0]])\n array([[ 101, 1037, 7244, ...,    0,    0,    0],\n        [ 101, 5499, 2110, ...,    0,    0,    0],\n        [ 101, 3802, 9033, ...,    0,    0,    0],\n        ...,\n        [ 101, 1037, 2329, ...,    0,    0,    0],\n        [ 101, 1037, 2678, ...,    0,    0,    0],\n        [ 101, 1996, 2414, ...,    0,    0,    0]])\n array([[ 101, 1037, 2905, ...,    0,    0,    0],\n        [ 101, 5408, 9738, ...,    0,    0,    0],\n        [ 101, 1996, 2739, ...,    0,    0,    0],\n        ...,\n        [ 101, 1037, 2117, ...,    0,    0,    0],\n        [ 101, 2023, 2003, ...,    0,    0,    0],\n        [ 101, 5111, 2103, ...,    0,    0,    0]])\n array([[  101,  3481, 16475, ...,     0,     0,     0],\n        [  101,  1996,  5499, ...,     0,     0,     0],\n        [  101,  1000,  3674, ...,     0,     0,     0],\n        ...,\n        [  101,  2256,  2128, ...,     0,     0,     0],\n        [  101,  1996,  2450, ...,     0,     0,     0],\n        [  101,  2343,  8112, ...,     0,     0,     0]])\n array([[  101,  1037,  2158, ...,     0,     0,     0],\n        [  101,  2175, 10623, ...,     0,     0,     0],\n        [  101,  1996,  2317, ...,     0,     0,     0],\n        ...,\n        [  101, 20864, 11538, ...,  5432,  2000,  8112],\n        [  101,  2053,  6878, ...,     0,     0,     0],\n        [  101,  2012,  2560, ...,     0,     0,     0]])\n array([[  101,  2007,  3017, ...,  1005,  1055,  2729],\n        [  101,  2414,  1006, ...,     0,     0,     0],\n        [  101,  1037, 19949, ...,     0,     0,     0],\n        ...,\n        [  101,  2019,  4111, ...,     0,     0,     0],\n        [  101,  3674,  5198, ...,  1997, 18301,     0],\n        [  101,  1523,  1037, ...,     0,     0,     0]])\n array([[  101, 28355,  1024, ...,     0,     0,     0],\n        [  101,  1037,  5268, ...,     0,     0,     0],\n        [  101,  2167,  4759, ...,     0,     0,     0],\n        ...,\n        [  101,  1037,  2610, ...,     0,     0,     0],\n        [  101,  2329,  3364, ...,     0,     0,     0],\n        [  101,  3369,  1999, ..., 17637,  1033,     0]])\n array([[  101,  1045, 19696, ...,     0,     0,     0],\n        [  101,  1996,  1000, ...,     0,     0,     0],\n        [  101, 20864, 11538, ...,     0,     0,     0],\n        ...,\n        [  101,  1037,  2534, ...,     0,     0,     0],\n        [  101,  6207,  2003, ...,     0,     0,     0],\n        [  101,  1996, 28520, ...,     0,     0,     0]])\n array([[  101,  4366,  1024, ...,     0,     0,     0],\n        [  101, 19935,  2884, ...,     0,     0,     0],\n        [  101,  1037,  2861, ...,     0,     0,     0],\n        ...,\n        [  101,  1996,  5499, ...,     0,     0,     0],\n        [  101,  1996,  3405, ...,     0,     0,     0],\n        [  101, 13675,  2923, ...,     0,     0,     0]])\n array([[  101,  1037,  2678, ...,     0,     0,     0],\n        [  101,  1006, 10651, ...,     0,     0,     0],\n        [  101, 15335,  1024, ...,  2048,  2086,  2101],\n        ...,\n        [  101,  1523,  2732, ...,     0,     0,     0],\n        [  101, 22260,  2140, ...,     0,     0,     0],\n        [  101,  2247,  2007, ...,     0,     0,     0]])\n array([[  101,  6207,  2052, ...,     0,     0,     0],\n        [  101,  3374,  2000, ...,     0,     0,     0],\n        [  101,  6207,  2038, ...,     0,     0,     0],\n        ...,\n        [  101, 15448,  1005, ...,     0,     0,     0],\n        [  101,  2019,  3720, ...,     0,     0,     0],\n        [  101,  2023,  2003, ...,     0,     0,     0]])\n array([[  101,  2403,  1012, ...,     0,     0,     0],\n        [  101,  1996,  2087, ...,     0,     0,     0],\n        [  101,  1006, 26665, ...,     0,     0,     0],\n        ...,\n        [  101,  2502,  2924, ...,     0,     0,     0],\n        [  101,  1037,  3234, ...,  2360,     0,     0],\n        [  101,  2296, 16251, ...,     0,     0,     0]])\n array([[  101, 15335,  1517, ...,     0,     0,     0],\n        [  101,  6207,  2089, ...,     0,     0,     0],\n        [  101,  1996, 27256, ...,     0,     0,     0],\n        ...,\n        [  101, 10474,  2253, ...,     0,     0,     0],\n        [  101,  2698,  3057, ...,     0,     0,     0],\n        [  101,  2065,  2017, ...,     0,     0,     0]])\n array([[  101,  2498, 13284, ...,     0,     0,     0],\n        [  101, 14633,  2003, ...,     0,     0,     0],\n        [  101,  2053,  2028, ...,     0,     0,     0],\n        ...,\n        [  101,  7758,  2726, ...,     0,     0,     0],\n        [  101,  3460,  1999, ...,     0,     0,     0],\n        [  101,  5499,  2110, ...,     0,     0,     0]])\n array([[  101,  1006, 26665, ...,     0,     0,     0],\n        [  101,  2009,  1005, ...,     0,     0,     0],\n        [  101,  4311,  2008, ...,     0,     0,     0],\n        ...,\n        [  101,  5499,  2110, ...,     0,     0,     0],\n        [  101,  1996,  8808, ...,     0,     0,     0],\n        [  101,  1996,  2158, ...,     0,     0,     0]])\n array([[  101,  2045,  2038, ...,     0,     0,     0],\n        [  101,  2167,  4420, ...,     0,     0,     0],\n        [  101,  2773,  2008, ...,     0,     0,     0],\n        ...,\n        [  101, 20128,  5912, ...,     0,     0,     0],\n        [  101, 10195,  1005, ...,     0,     0,     0],\n        [  101,  1996,  2866, ...,     0,     0,     0]])\n array([[  101,  3460,  1999, ...,     0,     0,     0],\n        [  101,  1999,  2019, ...,     0,     0,     0],\n        [  101,  8201, 15775, ...,     0,     0,     0],\n        ...,\n        [  101,  9064,  1997, ...,     0,     0,     0],\n        [  101,  8224,  2038, ...,     0,     0,     0],\n        [  101,  1996, 20864, ...,     0,     0,     0]])\n array([[ 101, 2048, 2814, ...,    0,    0,    0],\n        [ 101, 1037, 3899, ...,    0,    0,    0],\n        [ 101, 1037, 2184, ...,    0,    0,    0],\n        ...,\n        [ 101, 5887, 9121, ...,    0,    0,    0],\n        [ 101, 2006, 1996, ...,    0,    0,    0],\n        [ 101, 1037, 2751, ...,    0,    0,    0]])\n array([[  101,  2009,  1005, ...,     0,     0,     0],\n        [  101,  2149, 24633, ...,     0,     0,     0],\n        [  101,  1037,  3234, ...,     0,     0,     0],\n        ...,\n        [  101,  1037,  4861, ...,     0,     0,     0],\n        [  101,  1996,  3405, ...,     0,     0,     0],\n        [  101,  6816,  5249, ...,     0,     0,     0]])\n array([[  101,  1037,  2329, ...,     0,     0,     0],\n        [  101,  1037, 26276, ...,     0,     0,     0],\n        [  101, 28352,  2063, ...,     0,     0,     0],\n        ...,\n        [  101,  7929,  1010, ...,     0,     0,     0],\n        [  101,  5432,  1024, ...,     0,     0,     0],\n        [  101,  2043,  5199, ...,     0,     0,     0]])\n array([[  101,  4124,  1997, ...,     0,     0,     0],\n        [  101,  2508, 17106, ...,     0,     0,     0],\n        [  101,  1037, 19949, ...,     0,     0,     0],\n        ...,\n        [  101, 24552,  6165, ...,     0,     0,     0],\n        [  101,  1037,  2678, ...,     0,     0,     0],\n        [  101,  6064,  5852, ...,     0,     0,     0]])\n array([[  101,  9733,  2038, ...,     0,     0,     0],\n        [  101,  1996,  3336, ...,     0,     0,     0],\n        [  101,  1996,  2614, ...,     0,     0,     0],\n        ...,\n        [  101,  1996,  2235, ...,     0,     0,     0],\n        [  101,  6412,  1024, ...,  1037,  3145,  8343],\n        [  101,  1037, 28520, ...,     0,     0,     0]])\n array([[  101,  2047,  5746, ...,     0,     0,     0],\n        [  101,  5499,  2110, ...,     0,     0,     0],\n        [  101,  5499,  2110, ...,  2018,  2042,  7376],\n        ...,\n        [  101,  1037, 19075, ...,     0,     0,     0],\n        [  101,  2405,  4447, ...,     0,     0,     0],\n        [  101,  9733,  5795, ...,     0,     0,     0]])\n array([[  101, 26357,  1010, ...,     0,     0,     0],\n        [  101,  1037,  2610, ...,     0,     0,     0],\n        [  101,  3017, 28352, ...,     0,     0,     0],\n        ...,\n        [  101,  2009,  1005, ...,     0,     0,     0],\n        [  101,  2019,  4895, ...,     0,     0,     0],\n        [  101,  2280,  5001, ...,  1005,  1055,  2729]])\n array([[  101,  1996,  8495, ...,     0,     0,     0],\n        [  101,  1037, 11573, ...,     0,     0,     0],\n        [  101, 13337,  2233, ...,     0,     0,     0],\n        ...,\n        [  101,  1996, 20864, ...,     0,     0,     0],\n        [  101,  1037,  3899, ...,     0,     0,     0],\n        [  101,  3481, 16475, ...,     0,     0,     0]])\n array([[  101,  5499,  2110, ...,     0,     0,     0],\n        [  101,  5085,  2100, ...,     0,     0,     0],\n        [  101,  3580,  3910, ...,     0,     0,     0],\n        ...,\n        [  101,  1037,  2184, ...,     0,     0,     0],\n        [  101,  1006, 26665, ...,     0,     0,     0],\n        [  101,  5614,  2007, ...,     0,     0,     0]])\n array([[  101,  1996, 20864, ...,     0,     0,     0],\n        [  101,  5887,  9121, ...,     0,     0,     0],\n        [  101,  2058,  1996, ...,     0,     0,     0],\n        ...,\n        [  101,  1037,  8075, ...,     0,     0,     0],\n        [  101,  2096, 12191, ...,     0,     0,     0],\n        [  101, 15335,  1517, ...,     0,     0,     0]])\n array([[  101,  1037,  2678, ...,     0,     0,     0],\n        [  101,  1996, 11884, ...,     0,     0,     0],\n        [  101,  3745,  2023, ...,     0,     0,     0],\n        ...,\n        [  101,  1037, 28520, ...,     0,     0,     0],\n        [  101,  2053,  2028, ...,     0,     0,     0],\n        [  101,  4397,  2207, ...,     0,     0,     0]])\n array([[  101,  2009,  1005, ...,     0,     0,     0],\n        [  101,  2006,  5958, ...,     0,     0,     0],\n        [  101,  1006,  2739, ...,     0,     0,     0],\n        ...,\n        [  101,  2003, 26000, ...,     0,     0,     0],\n        [  101,  1996,  6788, ...,     0,     0,     0],\n        [  101,  4151,  5013, ...,     0,     0,     0]])\n array([[  101,  1037,  3780, ...,     0,     0,     0],\n        [  101,  5499,  2110, ...,  4988,  2508, 17106],\n        [  101,  1996,  1523, ...,     0,     0,     0],\n        ...,\n        [  101,  2045,  1005, ...,     0,     0,     0],\n        [  101,  4988,  4717, ...,     0,     0,     0],\n        [  101,  1996,  5499, ...,     0,     0,     0]])\n array([[  101,  7858, 26418, ...,     0,     0,     0],\n        [  101,  2023,  2678, ...,     0,     0,     0],\n        [  101,  1996,  6207, ...,     0,     0,     0],\n        ...,\n        [  101,  2821,  4274, ...,     0,     0,     0],\n        [  101,  1037, 16634, ...,     0,     0,     0],\n        [  101,  2023,  2003, ...,     0,     0,     0]])\n array([[  101,  2419, 22116, ...,     0,     0,     0],\n        [  101,  4698,  2663, ...,     0,     0,     0],\n        [  101,  5499,  2110, ...,     0,     0,     0],\n        ...,\n        [  101,  1996,  2158, ...,     0,     0,     0],\n        [  101,  3120,  1024, ...,     0,     0,     0],\n        [  101,  2009,  2001, ...,     0,     0,     0]])\n array([[  101,  1037, 19075, ...,     0,     0,     0],\n        [  101,  2865, 11730, ...,     0,     0,     0],\n        [  101,  6124,  3364, ...,     0,     0,     0],\n        ...,\n        [  101,  3784,  4311, ...,     0,     0,     0],\n        [  101,  2625,  2084, ...,     0,     0,     0],\n        [  101, 26000,  2140, ...,     0,     0,     0]])\n array([[  101,  2043,  1037, ...,     0,     0,     0],\n        [  101,  2823,  2074, ...,     0,     0,     0],\n        [  101,  2047,  2259, ...,     0,     0,     0],\n        ...,\n        [  101, 10759,  3036, ...,     0,     0,     0],\n        [  101,  5586,  3235, ...,     0,     0,     0],\n        [  101,  1037,  4861, ...,     0,     0,     0]])\n array([[  101,  2773,  2008, ...,     0,     0,     0],\n        [  101,  1037,  2047, ...,     0,     0,     0],\n        [  101,  5522,  1517, ...,     0,     0,     0],\n        ...,\n        [  101,  1037,  2149, ...,     0,     0,     0],\n        [  101,  2070, 18059, ...,     0,     0,     0],\n        [  101,  1996, 20864, ...,     0,     0,     0]])\n array([[  101, 15278,  1006, ...,     0,     0,     0],\n        [  101,  1996,  6788, ...,     0,     0,     0],\n        [  101,  9465, 10272, ...,     0,     0,     0],\n        ...,\n        [  101, 10850, 15916, ...,  5841, 16012, 24330],\n        [  101,  2182,  2012, ...,     0,     0,     0],\n        [  101,  2019,  4111, ...,     0,     0,     0]])\n array([[  101,  1996,  2533, ...,     0,     0,     0],\n        [  101,  2009,  3544, ...,     0,     0,     0],\n        [  101,  7387,  1521, ...,     0,     0,     0],\n        ...,\n        [  101, 17671,  2013, ...,     0,     0,     0],\n        [  101,  2167,  4759, ...,     0,     0,     0],\n        [  101,  1996,  4394, ...,     0,     0,     0]])\n array([[ 101, 9733, 2038, ...,    0,    0,    0],\n        [ 101, 2070, 2613, ...,    0,    0,    0],\n        [ 101, 1037, 2082, ...,    0,    0,    0],\n        ...,\n        [ 101, 2247, 2007, ...,    0,    0,    0],\n        [ 101, 2045, 2089, ...,    0,    0,    0],\n        [ 101, 1996, 4104, ...,    0,    0,    0]])\n array([[  101, 26000,  2140, ...,     0,     0,     0],\n        [  101,  1037,  2329, ...,     0,     0,     0],\n        [  101,  4397,  2207, ...,     0,     0,     0],\n        ...,\n        [  101,  8224,  3825, ...,     0,     0,     0],\n        [  101,  2660,  1517, ...,     0,     0,     0],\n        [  101,  1037,  7143, ...,     0,     0,     0]])\n array([[  101, 13229,  2038, ...,     0,     0,     0],\n        [  101,  2197,  2305, ...,     0,     0,     0],\n        [  101,  2178, 16634, ...,     0,     0,     0],\n        ...,\n        [  101, 10195,  1005, ...,     0,     0,     0],\n        [  101,  1037,  7244, ..., 18301,     0,     0],\n        [  101,  4397,  2207, ...,     0,     0,     0]])\n array([[  101,  2329,  1998, ...,     0,     0,     0],\n        [  101,  1037,  2280, ...,     0,     0,     0],\n        [  101,  1037, 14198, ...,     0,     0,     0],\n        ...,\n        [  101,  2096,  6207, ...,     0,     0,     0],\n        [  101,  1037,  3595, ...,     0,     0,     0],\n        [  101,  2216,  3236, ...,     0,     0,     0]])\n array([[  101, 13952,  1010, ...,     0,     0,     0],\n        [  101,  1996,  2088, ...,  3102,  7171,  1005],\n        [  101,  1996,  5499, ...,     0,     0,     0],\n        ...,\n        [  101,  2131,  4130, ...,     0,     0,     0],\n        [  101,  2004,  6207, ...,     0,     0,     0],\n        [  101,  3481, 16475, ...,     0,     0,     0]])\n array([[  101,  2006,  5958, ...,     0,     0,     0],\n        [  101,  1037, 14056, ...,     0,     0,     0],\n        [  101,  2108,  2008, ...,     0,     0,     0],\n        ...,\n        [  101,  2004,  1996, ...,     0,     0,     0],\n        [  101,  2176,  4230, ...,     0,     0,     0],\n        [  101,  4717, 13843, ...,     0,     0,     0]])\n array([[  101,  3017, 28352, ...,     0,     0,     0],\n        [  101,  2019,  4111, ...,     0,     0,     0],\n        [  101, 26475, 17990, ...,     0,     0,     0],\n        ...,\n        [  101,  2005,  3071, ...,     0,     0,     0],\n        [  101,  2057,  1005, ...,     0,     0,     0],\n        [  101,  3731,  1064, ...,  1005,  1055, 12476]])\n array([[  101,  5499,  2110, ...,  4288,  1024,  4311],\n        [  101,  2096,  2060, ...,     0,     0,     0],\n        [  101, 20864, 11538, ...,     0,     0,     0],\n        ...,\n        [  101, 21451,  2094, ...,     0,     0,     0],\n        [  101,  1037,  2861, ...,     0,     0,     0],\n        [  101,  2006,  6928, ...,     0,     0,     0]])\n array([[  101,  2176,  4230, ...,     0,     0,     0],\n        [  101,  2065, 12610, ...,     0,     0,     0],\n        [  101,  1996,  2466, ...,     0,     0,     0],\n        ...,\n        [  101, 26357,  1010, ...,     0,     0,     0],\n        [  101,  2065,  2017, ...,     0,     0,     0],\n        [  101,  1996,  5499, ...,     0,     0,     0]])\n array([[  101,  5499,  2110, ...,     0,     0,     0],\n        [  101,  2430, 28430, ...,     0,     0,     0],\n        [  101,  5606,  1997, ...,     0,     0,     0],\n        ...,\n        [  101,  7740, 10643, ...,     0,     0,     0],\n        [  101,  2343,  8112, ...,     0,     0,     0],\n        [  101,  2007,  3017, ...,     0,     0,     0]])\n array([[ 101, 2028, 4628, ...,    0,    0,    0],\n        [ 101, 1996, 6207, ...,    0,    0,    0],\n        [ 101, 2053, 2028, ...,    0,    0,    0],\n        ...,\n        [ 101, 5432, 1024, ...,    0,    0,    0],\n        [ 101, 2137, 1998, ...,    0,    0,    0],\n        [ 101, 2106, 2017, ...,    0,    0,    0]])\n array([[  101,  2058,  1996, ...,     0,     0,     0],\n        [  101,  1037,  2678, ...,     0,     0,     0],\n        [  101,  2419, 22116, ...,     0,     0,     0],\n        ...,\n        [  101,  2195,  8956, ...,     0,     0,     0],\n        [  101,  1037,  2158, ...,     0,     0,     0],\n        [  101,  2822,  2111, ...,     0,     0,     0]])\n array([[  101,  3374,  2000, ...,     0,     0,     0],\n        [  101,  5606,  1997, ...,     0,     0,     0],\n        [  101,  8683,  3044, ...,     0,     0,     0],\n        ...,\n        [  101, 17671,  2007, ...,     0,     0,     0],\n        [  101,  1057,  1012, ...,     0,     0,     0],\n        [  101,  7078,  9643, ...,     0,     0,     0]])\n array([[  101, 18301,  3555, ...,     0,     0,     0],\n        [  101,  6124,  3364, ...,     0,     0,     0],\n        [  101,  9525,  2453, ...,     0,     0,     0],\n        ...,\n        [  101,  2137,  6302, ...,     0,     0,     0],\n        [  101,  4916,  2718, ...,     0,     0,     0],\n        [  101,  2343, 13857, ...,  1001,  5712,  1012]])\n array([[  101, 29017, 23063, ...,     0,     0,     0],\n        [  101,  1037,  2678, ...,     0,     0,     0],\n        [  101,  7858,  2099, ...,     0,     0,     0],\n        ...,\n        [  101,  2899,  1517, ...,     0,     0,     0],\n        [  101,  3050,  3349, ...,     0,     0,     0],\n        [  101,  5408,  3293, ...,     0,     0,     0]])\n array([[  101,  2196,  2028, ...,     0,     0,     0],\n        [  101,  2005,  3071, ...,     0,     0,     0],\n        [  101,  2197,  2095, ...,     0,     0,     0],\n        ...,\n        [  101,  9610, 14277, ...,     0,     0,     0],\n        [  101,  3994,  1011, ...,     0,     0,     0],\n        [  101,  8166,  1010, ...,     0,     0,     0]])\n array([[  101,  2023,  2695, ...,     0,     0,     0],\n        [  101,  1996,  5690, ...,     0,     0,     0],\n        [  101,  2047,  2259, ...,     0,     0,     0],\n        ...,\n        [  101,  1001, 18301, ...,     0,     0,     0],\n        [  101,  2096,  2009, ...,     0,     0,     0],\n        [  101,  2028,  4628, ...,     0,     0,     0]])\n array([[  101,  2096,  2775, ...,  2500,     0,     0],\n        [  101,  2610,  2097, ...,     0,     0,     0],\n        [  101,  1037,  3598, ...,  7151, 17751, 19075],\n        ...,\n        [  101,  7172,  2012, ...,     0,     0,     0],\n        [  101, 12592,  4614, ...,     0,     0,     0],\n        [  101,  1996,  6207, ...,     0,     0,     0]])\n array([[ 101, 2823, 2074, ...,    0,    0,    0],\n        [ 101, 4988, 4717, ...,    0,    0,    0],\n        [ 101, 2058, 1996, ...,    0,    0,    0],\n        ...,\n        [ 101, 7387, 1005, ...,    0,    0,    0],\n        [ 101, 2343, 8112, ...,    0,    0,    0],\n        [ 101, 2748, 1010, ...,    0,    0,    0]])\n array([[  101,  2698,  3057, ...,     0,     0,     0],\n        [  101,  1996,  1000, ...,     0,     0,     0],\n        [  101,  1037,  2534, ...,     0,     0,     0],\n        ...,\n        [  101,  2019,  6884, ...,     0,     0,     0],\n        [  101, 27256, 29271, ...,     0,     0,     0],\n        [  101,  3017, 28352, ...,     0,     0,     0]])\n array([[ 101, 5522, 1517, ...,    0,    0,    0],\n        [ 101, 1037, 3861, ...,    0,    0,    0],\n        [ 101, 2167, 4759, ...,    0,    0,    0],\n        ...,\n        [ 101, 2167, 4420, ...,    0,    0,    0],\n        [ 101, 9302, 4584, ...,    0,    0,    0],\n        [ 101, 1037, 5152, ..., 1999, 2067,    0]])\n array([[  101, 16360,  1012, ...,     0,     0,     0],\n        [  101,  8273,  3900, ...,     0,     0,     0],\n        [  101,  2057,  1521, ...,     0,     0,     0],\n        ...,\n        [  101, 24761,  2038, ...,     0,     0,     0],\n        [  101, 13870,  1047, ...,     0,     0,     0],\n        [  101,  2414,  1517, ...,     0,     0,     0]])\n array([[  101,  1037,  4069, ...,     0,     0,     0],\n        [  101,  5499,  2110, ...,     0,     0,     0],\n        [  101,  9610, 14277, ...,     0,     0,     0],\n        ...,\n        [  101,  1037,  2662, ...,     0,     0,     0],\n        [  101,  1005,  2009, ...,     0,     0,     0],\n        [  101,  2329,  4454, ...,     0,     0,     0]])\n array([[  101,  1996,  4104, ...,     0,     0,     0],\n        [  101, 10759,  3036, ...,     0,     0,     0],\n        [  101,  2745, 20475, ...,     0,     0,     0],\n        ...,\n        [  101,  5499,  2110, ...,     0,     0,     0],\n        [  101,  2019, 12175, ...,     0,     0,     0],\n        [  101,  2013,  8942, ...,     0,     0,     0]])\n array([[  101,  1006, 16137, ...,     0,     0,     0],\n        [  101,  6207,  2089, ...,     0,     0,     0],\n        [  101,  1037,  2047, ...,     0,     0,     0],\n        ...,\n        [  101,  2182,  2012, ...,     0,     0,     0],\n        [  101,  5025,  2308, ...,     0,     0,     0],\n        [  101,  5499,  2110, ...,     0,     0,     0]])\n array([[  101,  2698,  3057, ...,     0,     0,     0],\n        [  101,  2009,  1005, ...,     0,     0,     0],\n        [  101,  1996,  2402, ...,  1012,  1039,  1012],\n        ...,\n        [  101,  3571,  2025, ...,  2420,     0,     0],\n        [  101,  1037, 19075, ...,     0,     0,     0],\n        [  101,  8945,  3683, ...,     0,     0,     0]])\n array([[ 101, 8224, 2038, ...,    0,    0,    0],\n        [ 101, 1037, 2534, ...,    0,    0,    0],\n        [ 101, 1996, 2158, ...,    0,    0,    0],\n        ...,\n        [ 101, 2402, 2167, ...,    0,    0,    0],\n        [ 101, 1996, 2158, ...,    0,    0,    0],\n        [ 101, 2062, 2084, ...,    0,    0,    0]])\n array([[  101,  1996,  2057, ...,     0,     0,     0],\n        [  101,  2086,  3283, ...,     0,     0,     0],\n        [  101,  2745, 20475, ...,     0,     0,     0],\n        ...,\n        [  101,  2002,  1521, ...,     0,     0,     0],\n        [  101,  1037,  2678, ...,     0,     0,     0],\n        [  101,  2065, 20222, ...,     0,     0,     0]])\n array([[  101,  9610, 14277, ...,     0,     0,     0],\n        [  101,  8224,  4297, ...,     0,     0,     0],\n        [  101,  2009,  2052, ...,     0,     0,     0],\n        ...,\n        [  101, 13870,  1047, ...,     0,     0,     0],\n        [  101,  7929,  1010, ...,     0,     0,     0],\n        [  101,  2047,  2259, ...,     0,     0,     0]])\n array([[  101,  2013,  8942, ...,     0,     0,     0],\n        [  101,  2928, 15578, ...,  7795,  1029,     0],\n        [  101, 24951, 19696, ...,     0,     0,     0],\n        ...,\n        [  101, 24951, 19696, ...,     0,     0,     0],\n        [  101,  5869,  7136, ...,     0,     0,     0],\n        [  101,  5035, 18528, ...,     0,     0,     0]])\n array([[  101,  5340,  3509, ...,     0,     0,     0],\n        [  101, 12731, 13687, ...,     0,     0,     0],\n        [  101,  2096,  2775, ...,     0,     0,     0],\n        ...,\n        [  101, 13952,  1517, ...,     0,     0,     0],\n        [  101,  6816,  5249, ...,     0,     0,     0],\n        [  101, 10651,  1024, ...,     0,     0,     0]])\n array([[  101,  2899,  2489, ...,     0,     0,     0],\n        [  101,  1005,  1037, ...,     0,     0,     0],\n        [  101,  2610,  2097, ...,     0,     0,     0],\n        ...,\n        [  101,  1037,  2117, ...,  2003, 14469,     0],\n        [  101,  2295,  3017, ...,     0,     0,     0],\n        [  101,  2058,  1996, ...,     0,     0,     0]])\n array([[  101,  2206,  1996, ...,     0,     0,     0],\n        [  101,  1006,  1047, ...,     0,     0,     0],\n        [  101,  1996, 15748, ...,     0,     0,     0],\n        ...,\n        [  101,  6124,  3364, ...,     0,     0,     0],\n        [  101,  2773,  2008, ...,     0,     0,     0],\n        [  101,  2381, 23176, ...,     0,     0,     0]])\n array([[ 101, 2831, 2055, ...,    0,    0,    0],\n        [ 101, 1037, 2460, ...,    0,    0,    0],\n        [ 101, 1037, 3234, ...,    0,    0,    0],\n        ...,\n        [ 101, 9733, 2038, ...,    0,    0,    0],\n        [ 101, 2047, 2259, ...,    0,    0,    0],\n        [ 101, 9733, 2003, ...,    0,    0,    0]])\n array([[ 101, 5499, 2110, ...,    0,    0,    0],\n        [ 101, 1037, 2678, ...,    0,    0,    0],\n        [ 101, 1996, 2402, ...,    0,    0,    0],\n        ...,\n        [ 101, 2329, 2158, ...,    0,    0,    0],\n        [ 101, 2047, 5746, ...,    0,    0,    0],\n        [ 101, 2096, 6207, ...,    0,    0,    0]])\n array([[  101,  2429,  2000, ...,     0,     0,     0],\n        [  101,  4854, 10575, ...,     0,     0,     0],\n        [  101,  1037,  2534, ...,     0,     0,     0],\n        ...,\n        [  101,  2096,  2775, ...,  1005, 25769,     0],\n        [  101,  1037, 19075, ...,     0,     0,     0],\n        [  101,  1037,  2496, ...,     0,     0,     0]])\n array([[  101,  1037, 19075, ...,     0,     0,     0],\n        [  101, 11256,  2008, ...,     0,     0,     0],\n        [  101,  1996,  3429, ...,     0,     0,     0],\n        ...,\n        [  101, 26357,  1010, ...,     0,     0,     0],\n        [  101,  1037,  2280, ...,     0,     0,     0],\n        [  101,  2329,  1998, ...,     0,     0,     0]])\n array([[ 101, 4831, 4557, ...,    0,    0,    0],\n        [ 101, 1996, 2905, ...,    0,    0,    0],\n        [ 101, 1057, 1012, ...,    0,    0,    0],\n        ...,\n        [ 101, 4216, 1999, ...,    0,    0,    0],\n        [ 101, 1037, 2280, ...,    0,    0,    0],\n        [ 101, 6064, 5852, ..., 4624, 2015, 1521]])\n array([[  101,  4366,  1024, ...,     0,     0,     0],\n        [  101, 18145,  2024, ...,     0,     0,     0],\n        [  101,  1037,  2158, ...,     0,     0,     0],\n        ...,\n        [  101,  2019,  8956, ...,  2007,  8275, 19494],\n        [  101,  2096,  6207, ...,     0,     0,     0],\n        [  101,  1996,  5499, ...,     0,     0,     0]])\n array([[  101,  1037, 14888, ...,     0,     0,     0],\n        [  101,  5499,  2110, ...,     0,     0,     0],\n        [  101, 14633,  1005, ...,     0,     0,     0],\n        ...,\n        [  101,  2343,  8112, ...,     0,     0,     0],\n        [  101,  2006,  1996, ...,     0,     0,     0],\n        [  101,  2197,  3204, ...,     0,     0,     0]])\n array([[  101,  2624,  7367, ...,     0,     0,     0],\n        [  101,  1996,  2533, ...,     0,     0,     0],\n        [  101,  4911,   999, ...,     0,     0,     0],\n        ...,\n        [  101,  1996,  2142, ...,     0,     0,     0],\n        [  101,  3017, 28352, ...,     0,     0,     0],\n        [  101,  6207,  2003, ...,     0,     0,     0]])\n array([[  101,  2821,  4274, ...,     0,     0,     0],\n        [  101,  8224,  2038, ...,     0,     0,     0],\n        [  101,  1037,  2329, ...,     0,     0,     0],\n        ...,\n        [  101,  1037, 14888, ...,     0,     0,     0],\n        [  101,  1996, 15940, ...,     0,     0,     0],\n        [  101,  1057,  1012, ...,     0,     0,     0]])\n array([[  101,  6207,  2165, ...,     0,     0,     0],\n        [  101,  2167,  4420, ...,  2444,     0,     0],\n        [  101,  1037,  2158, ...,     0,     0,     0],\n        ...,\n        [  101,  2006,  9857, ...,     0,     0,     0],\n        [  101,  1006, 26665, ...,     0,     0,     0],\n        [  101,  9130,  1998, ...,     0,     0,     0]])\n array([[  101,  1006, 26665, ...,     0,     0,     0],\n        [  101,  2414,  1006, ...,     0,     0,     0],\n        [  101,  1996,  2533, ...,     0,     0,     0],\n        ...,\n        [  101,  3109,  6045, ...,     0,     0,     0],\n        [  101,  6207,  2052, ...,     0,     0,     0],\n        [  101,  1037,  3146, ...,     0,     0,     0]])\n array([[  101,  6646,  2221, ...,     0,     0,     0],\n        [  101,  2019,  2796, ...,     0,     0,     0],\n        [  101, 18301,  2678, ...,     0,     0,     0],\n        ...,\n        [  101, 18301,  3003, ...,     0,     0,     0],\n        [  101,  6124,  3364, ...,     0,     0,     0],\n        [  101,  2048,  2814, ...,     0,     0,     0]])\n array([[  101,  2019,  5515, ...,     0,     0,     0],\n        [  101,  1996,  5499, ...,     0,     0,     0],\n        [  101,  2011,  7527, ...,     0,     0,     0],\n        ...,\n        [  101,  2248,  9680, ...,     0,     0,     0],\n        [  101, 14198, 20601, ...,     0,     0,     0],\n        [  101,  2096,  6207, ...,     0,     0,     0]])\n array([[  101,  1037,  3522, ...,     0,     0,     0],\n        [  101,  1999,  2023, ...,     0,     0,     0],\n        [  101,  1037, 14888, ...,     0,     0,     0],\n        ...,\n        [  101,  1037,  2905, ...,     0,     0,     0],\n        [  101,  3422,  2545, ...,     0,     0,     0],\n        [  101,  1037,  2158, ...,     0,     0,     0]])\n array([[  101,  7426,  2062, ...,     0,     0,     0],\n        [  101,  2429,  2000, ...,     0,     0,     0],\n        [  101, 14633,  2003, ...,     0,     0,     0],\n        ...,\n        [  101,  2197,  2305, ...,     0,     0,     0],\n        [  101,  1037,  2158, ...,     0,     0,     0],\n        [  101,  2009,  1005, ...,     0,     0,     0]])\n array([[  101,  1996,  8495, ...,     0,     0,     0],\n        [  101,  2009,  2003, ...,  5303,  2032,     0],\n        [  101,  4990,  2386, ...,     0,     0,     0],\n        ...,\n        [  101,  1047, 11329, ...,     0,     0,     0],\n        [  101,  2009,  3544, ...,  4768,  1999,  2285],\n        [  101,  6662, 20996, ...,     0,     0,     0]])\n array([[  101, 16360,  1012, ...,     0,     0,     0],\n        [  101,  8519,  2031, ...,     0,     0,     0],\n        [  101,  2043,  1037, ...,     0,     0,     0],\n        ...,\n        [  101,  2034,  1010, ...,     0,     0,     0],\n        [  101,  1996,  2088, ...,     0,     0,     0],\n        [  101,  1523,  2732, ...,     0,     0,     0]])\n array([[  101, 10208, 19935, ...,     0,     0,     0],\n        [  101,  2329,  2158, ...,     0,     0,     0],\n        [  101,  1996,  5499, ...,     0,     0,     0],\n        ...,\n        [  101,  6207,  2003, ...,     0,     0,     0],\n        [  101,  2678,  1024, ...,     0,     0,     0],\n        [  101,  1996, 15940, ...,     0,     0,     0]])\n array([[  101,  2023,  2003, ...,     0,     0,     0],\n        [  101,  1006, 26665, ...,     0,     0,     0],\n        [  101,  1996, 11884, ...,     0,     0,     0],\n        ...,\n        [  101,  1006, 26665, ...,     0,     0,     0],\n        [  101,  5364,  8808, ...,     0,     0,     0],\n        [  101, 29584, 10898, ...,     0,     0,     0]])\n array([[  101,  1996,  6378, ...,     0,     0,     0],\n        [  101,  2343,  8112, ...,     0,     0,     0],\n        [  101,  2019,  3720, ...,     0,     0,     0],\n        ...,\n        [  101,  2019,  3746, ...,     0,     0,     0],\n        [  101,  2329,  2158, ...,     0,     0,     0],\n        [  101, 13952,  1011, ...,     0,     0,     0]])\n array([[  101,  2047,  5746, ...,     0,     0,     0],\n        [  101, 11256,  2024, ...,     0,     0,     0],\n        [  101,  5499,  2110, ...,     0,     0,     0],\n        ...,\n        [  101,  2004,  6207, ...,     0,     0,     0],\n        [  101,  1006, 26665, ...,     0,     0,     0],\n        [  101,  1996,  2088, ...,     0,     0,     0]])\n array([[  101,  2693,  2058, ...,     0,     0,     0],\n        [  101,  2096,  2775, ...,     0,     0,     0],\n        [  101,  4977,  5228, ...,     0,     0,     0],\n        ...,\n        [  101,  3017, 28352, ...,     0,     0,     0],\n        [  101, 10424,  2483, ...,     0,     0,     0],\n        [  101,  5499,  2110, ...,     0,     0,     0]])\n array([[  101, 13507,  2024, ...,     0,     0,     0],\n        [  101,  1037,  2082, ...,     0,     0,     0],\n        [  101,  2016,  2003, ...,     0,     0,     0],\n        ...,\n        [  101,  5432,  1024, ...,  1012,     0,     0],\n        [  101,  2007,  2049, ...,     0,     0,     0],\n        [  101,  2009,  1005, ...,     0,     0,     0]])\n array([[ 101, 2047, 6768, ...,    0,    0,    0],\n        [ 101, 1996, 7325, ...,    0,    0,    0],\n        [ 101, 2019, 2880, ...,    0,    0,    0],\n        ...,\n        [ 101, 9733, 2089, ...,    0,    0,    0],\n        [ 101, 1996, 6207, ...,    0,    0,    0],\n        [ 101, 3010, 2120, ...,    0,    0,    0]])\n array([[  101,  2137, 10069, ...,     0,     0,     0],\n        [  101, 18301,  2207, ...,     0,     0,     0],\n        [  101, 15335,  1517, ...,     0,     0,     0],\n        ...,\n        [  101,  2009,  1005, ...,     0,     0,     0],\n        [  101,  7387,  1521, ...,     0,     0,     0],\n        [  101,  2045,  2009, ...,     0,     0,     0]])\n array([[  101,  2062,  2084, ...,     0,     0,     0],\n        [  101,  1037,  3899, ...,     0,     0,     0],\n        [  101,  2053,  2028, ...,     0,     0,     0],\n        ...,\n        [  101,  1996,  1000, ...,     0,     0,     0],\n        [  101, 10195,  1005, ...,     0,     0,     0],\n        [  101,  1996, 14779, ...,     0,     0,     0]])\n array([[  101,  1037,  2534, ...,     0,     0,     0],\n        [  101,  2023,  2003, ...,     0,     0,     0],\n        [  101,  1996,  3063, ...,     0,     0,     0],\n        ...,\n        [  101, 14198, 20601, ...,     0,     0,     0],\n        [  101,  2023,  2003, ...,     0,     0,     0],\n        [  101,  6207,  2038, ...,     0,     0,     0]])\n array([[  101, 13229,  2038, ...,     0,     0,     0],\n        [  101,  1037,  3189, ...,     0,     0,     0],\n        [  101,  2728,  3269, ...,     0,     0,     0],\n        ...,\n        [  101,  1037, 19075, ...,     0,     0,     0],\n        [  101,  1996, 15748, ...,     0,     0,     0],\n        [  101, 22260,  2140, ...,     0,     0,     0]])\n array([[  101,  1037,  3234, ...,     0,     0,     0],\n        [  101,  2065,  2017, ...,     0,     0,     0],\n        [  101,  2167,  7734, ...,     0,     0,     0],\n        ...,\n        [  101,  2019,  3720, ...,     0,     0,     0],\n        [  101,  1996,  2486, ...,     0,     0,     0],\n        [  101,  2047,  2259, ..., 26401,     0,     0]])\n array([[  101,  1037,  4471, ...,     0,     0,     0],\n        [  101,  1999, 12697, ...,     0,     0,     0],\n        [  101,  1037, 19075, ...,     0,     0,     0],\n        ...,\n        [  101,  2047,  2259, ...,     0,     0,     0],\n        [  101,  3892,  1517, ...,     0,     0,     0],\n        [  101,  1006, 26665, ...,     0,     0,     0]])\n array([[  101,  1005,  2009, ...,     0,     0,     0],\n        [  101,  2280,  5001, ...,     0,     0,     0],\n        [  101,  3528,  2003, ...,     0,     0,     0],\n        ...,\n        [  101,  2062,  9729, ...,     0,     0,     0],\n        [  101,  4241,  2890, ...,     0,     0,     0],\n        [  101,  3481, 16475, ...,     0,     0,     0]])\n array([[ 101, 2877, 2039, ...,    0,    0,    0],\n        [ 101, 4977, 1005, ...,    0,    0,    0],\n        [ 101, 2006, 9857, ...,    0,    0,    0],\n        ...,\n        [ 101, 1037, 2496, ...,    0,    0,    0],\n        [ 101, 1037, 2843, ...,    0,    0,    0],\n        [ 101, 7158, 2061, ...,    0,    0,    0]])\n array([[  101,  2003,  5035, ...,     0,     0,     0],\n        [  101,  1037,  8075, ...,     0,     0,     0],\n        [  101,  6207,  2003, ...,     0,     0,     0],\n        ...,\n        [  101,  2397,  2197, ...,     0,     0,     0],\n        [  101,  8945,  3683, ...,     0,     0,     0],\n        [  101,  2019, 12175, ...,     0,     0,     0]])\n array([[  101,  4241,  2890, ...,     0,     0,     0],\n        [  101,  2899,  1011, ...,     0,     0,     0],\n        [  101,  1996,  2157, ...,     0,     0,     0],\n        ...,\n        [  101,  1996,  2533, ...,     0,     0,     0],\n        [  101, 10604,  3718, ...,     0,     0,     0],\n        [  101,  2058,  1996, ...,     0,     0,     0]])\n array([[  101, 14739,  7760, ...,     0,     0,     0],\n        [  101,  1996,  6207, ...,     0,     0,     0],\n        [  101,  1999,  1037, ...,     0,     0,     0],\n        ...,\n        [  101,  4366,  1024, ...,     0,     0,     0],\n        [  101,  2028,  4628, ...,     0,     0,     0],\n        [  101,  7041,  8003, ...,     0,     0,     0]])\n array([[ 101, 2397, 2197, ...,    0,    0,    0],\n        [ 101, 1037, 2329, ...,    0,    0,    0],\n        [ 101, 1999, 1037, ...,    0,    0,    0],\n        ...,\n        [ 101, 2019, 4895, ...,    0,    0,    0],\n        [ 101, 2044, 2108, ...,    0,    0,    0],\n        [ 101, 5499, 2110, ...,    0,    0,    0]])\n array([[ 101, 2559, 2067, ...,    0,    0,    0],\n        [ 101, 4895, 7630, ...,    0,    0,    0],\n        [ 101, 1037, 3282, ...,    0,    0,    0],\n        ...,\n        [ 101, 1037, 2158, ...,    0,    0,    0],\n        [ 101, 1037, 3899, ...,    0,    0,    0],\n        [ 101, 1996, 3429, ...,    0,    0,    0]])\n array([[  101,  2023,  2695, ...,     0,     0,     0],\n        [  101,  2430, 28430, ...,     0,     0,     0],\n        [  101,  1996,  3405, ...,     0,     0,     0],\n        ...,\n        [  101,  3617,  7027, ...,     0,     0,     0],\n        [  101,  2429,  2000, ...,     0,     0,     0],\n        [  101,  1037,  2148, ...,     0,     0,     0]])\n array([[  101,  1037,  2460, ...,     0,     0,     0],\n        [  101,  1996,  2866, ...,     0,     0,     0],\n        [  101,  5499,  2110, ...,     0,     0,     0],\n        ...,\n        [  101, 10759,  3036, ...,     0,     0,     0],\n        [  101,  1037,  2534, ...,     0,     0,     0],\n        [  101,  2058,  1996, ...,     0,     0,     0]])\n array([[  101,  1996,  2678, ...,     0,     0,     0],\n        [  101,  1037,  8479, ...,     0,     0,     0],\n        [  101, 24951, 19696, ...,     0,     0,     0],\n        ...,\n        [  101,  2019,  8956, ...,     0,     0,     0],\n        [  101,  3664,  3021, ...,     0,     0,     0],\n        [  101,  2006,  1996, ...,     0,     0,     0]])\n array([[  101, 10474,  2003, ...,     0,     0,     0],\n        [  101,  2343, 13857, ...,     0,     0,     0],\n        [  101,  1037,  2158, ...,     0,     0,     0],\n        ...,\n        [  101,  2065,  2017, ...,     0,     0,     0],\n        [  101,  2019,  3746, ...,     0,     0,     0],\n        [  101,  2182,  2012, ...,     0,     0,     0]])\n array([[  101,  4911,  2739, ...,     0,     0,     0],\n        [  101,  2216,  3236, ...,     0,     0,     0],\n        [  101,  2006,  5958, ...,     0,     0,     0],\n        ...,\n        [  101,  4911,  1024, ...,     0,     0,     0],\n        [  101,  3017, 28352, ...,     0,     0,     0],\n        [  101,  1037,  7244, ...,  2895,  1999,  5712]])\n array([[  101, 16360,  1012, ...,     0,     0,     0],\n        [  101,  7929,  1010, ...,     0,     0,     0],\n        [  101,  2006,  6928, ...,     0,     0,     0],\n        ...,\n        [  101,  1037, 28520, ...,     0,     0,     0],\n        [  101,  1996,  6884, ...,     0,     0,     0],\n        [  101,  2034,  3203, ...,     0,     0,     0]])\n array([[  101,  1006, 13229, ...,     0,     0,     0],\n        [  101,  1037,  4440, ...,     0,     0,     0],\n        [  101,  2065,  2167, ...,     0,     0,     0],\n        ...,\n        [  101, 22260,  2140, ...,  2083,  2010, 11228],\n        [  101,  2019,  4111, ...,     0,     0,     0],\n        [  101,  2414,  1517, ...,     0,     0,     0]])\n array([[  101,  7387,  1005, ...,     0,     0,     0],\n        [  101,  2065,  1023, ..., 21724,  2278,  1029],\n        [  101, 10651,  2023, ...,     0,     0,     0],\n        ...,\n        [  101, 10651,  1024, ...,     0,     0,     0],\n        [  101,  1037,  4069, ...,     0,     0,     0],\n        [  101,  1996,  2158, ...,     0,     0,     0]])\n array([[ 101, 2009, 2318, ...,    0,    0,    0],\n        [ 101, 2019, 3746, ...,    0,    0,    0],\n        [ 101, 1037, 2496, ...,    0,    0,    0],\n        ...,\n        [ 101, 2057, 1005, ...,    0,    0,    0],\n        [ 101, 2047, 2259, ...,    0,    0,    0],\n        [ 101, 3146, 2103, ...,    0,    0,    0]])\n array([[  101,  6918,  8333, ...,     0,     0,     0],\n        [  101,  5085,  2100, ...,     0,     0,     0],\n        [  101,  2508, 17106, ...,     0,     0,     0],\n        ...,\n        [  101,  8748, 22072, ...,     0,     0,     0],\n        [  101,  2047,  8333, ...,  2131,  3825,  1029],\n        [  101,  4241,  2890, ...,     0,     0,     0]])\n array([[  101,  2206,  1996, ...,     0,     0,     0],\n        [  101,  2053, 26369, ...,     0,     0,     0],\n        [  101,  4124,  1997, ...,     0,     0,     0],\n        ...,\n        [  101,  2047,  6768, ...,     0,     0,     0],\n        [  101,  6918,  8333, ...,     0,     0,     0],\n        [  101,  1996,  5499, ...,     0,     0,     0]])\n array([[  101,  2310, 27512, ...,     0,     0,     0],\n        [  101,  1037,  2158, ...,     0,     0,     0],\n        [  101,  6207,  2052, ...,     0,     0,     0],\n        ...,\n        [  101,  1037,  3899, ...,     0,     0,     0],\n        [  101,  5499,  2110, ...,     0,     0,     0],\n        [  101,  4698,  2663, ...,     0,     0,     0]])\n array([[  101,  2310, 27512, ...,     0,     0,     0],\n        [  101,  1037,  2158, ...,     0,     0,     0],\n        [  101,  5499,  2110, ...,     0,     0,     0],\n        ...,\n        [  101, 27256, 17671, ...,     0,     0,     0],\n        [  101,  4717, 13843, ...,     0,     0,     0],\n        [  101,  6207,  2003, ...,     0,     0,     0]])\n array([[  101, 17671,  2013, ...,     0,     0,     0],\n        [  101,  2009,  2001, ...,     0,     0,     0],\n        [  101,  5085,  2100, ...,     0,     0,     0],\n        ...,\n        [  101,  2144, 12581, ...,     0,     0,     0],\n        [  101,  6207,  2761, ...,     0,     0,     0],\n        [  101,  2419, 22116, ...,     0,     0,     0]])\n array([[  101,  7740, 10643, ...,     0,     0,     0],\n        [  101,  1037,  3234, ...,     0,     0,     0],\n        [  101, 10474,  2003, ...,     0,     0,     0],\n        ...,\n        [  101,  1996,  9350, ...,     0,     0,     0],\n        [  101,  2019,  2827, ...,     0,     0,     0],\n        [  101,  1006,  8956, ...,     0,     0,     0]])\n array([[  101,  1996,  6967, ...,     0,     0,     0],\n        [  101, 27256, 29271, ...,     0,     0,     0],\n        [  101,  9413, 16168, ...,     0,     0,     0],\n        ...,\n        [  101, 13952,  1010, ...,     0,     0,     0],\n        [  101, 19935,  2884, ...,     0,     0,     0],\n        [  101,  1037,  2496, ...,     0,     0,     0]])\n array([[ 101, 7041, 8003, ...,    0,    0,    0],\n        [ 101, 2397, 2197, ...,    0,    0,    0],\n        [ 101, 1996, 2047, ...,    0,    0,    0],\n        ...,\n        [ 101, 2048, 2827, ...,    0,    0,    0],\n        [ 101, 2010, 2376, ...,    0,    0,    0],\n        [ 101, 1037, 3595, ...,    0,    0,    0]])\n array([[  101, 11155,  1000, ...,     0,     0,     0],\n        [  101,  1037, 28520, ...,     0,     0,     0],\n        [  101,  2009,  1005, ...,     0,     0,     0],\n        ...,\n        [  101,  2009,  3849, ...,     0,     0,     0],\n        [  101,  6816,  5249, ...,     0,     0,     0],\n        [  101,  1996,  6207, ...,     0,     0,     0]])\n array([[  101,  2058,  1996, ...,     0,     0,     0],\n        [  101, 18301, 17671, ...,     0,     0,     0],\n        [  101,  2292,  1005, ...,     0,     0,     0],\n        ...,\n        [  101,  1037,  2047, ...,     0,     0,     0],\n        [  101,  1006, 26665, ...,     0,     0,     0],\n        [  101,  2144, 12581, ...,     0,     0,     0]])\n array([[  101, 10195,  2024, ...,     0,     0,     0],\n        [  101,  7041,  8003, ...,     0,     0,     0],\n        [  101,  1037,  8075, ...,     0,     0,     0],\n        ...,\n        [  101,  2414,  1517, ...,     0,     0,     0],\n        [  101,  1999,  1037, ...,     0,     0,     0],\n        [  101,  1005,  2009, ...,     0,     0,     0]])\n array([[  101,  2070, 20636, ...,     0,     0,     0],\n        [  101,  5111,  2103, ...,     0,     0,     0],\n        [  101,  6788,  1005, ...,     0,     0,     0],\n        ...,\n        [  101, 14198, 20601, ...,     0,     0,     0],\n        [  101,  2009,  1005, ...,     0,     0,     0],\n        [  101,  2048,  1057, ...,  2739,  1033,     0]])\n array([[  101,  2634,  2003, ...,     0,     0,     0],\n        [  101,  2182,  2012, ...,     0,     0,     0],\n        [  101,  2745, 20475, ...,     0,     0,     0],\n        ...,\n        [  101,  7172, 11703, ...,     0,     0,     0],\n        [  101,  2137,  6302, ...,     0,     0,     0],\n        [  101,  1006, 13229, ...,     0,     0,     0]])\n array([[  101,  5499,  2110, ...,     0,     0,     0],\n        [  101, 18736,  4189, ...,     0,     0,     0],\n        [  101,  6662, 20996, ...,     0,     0,     0],\n        ...,\n        [  101,  5111,  2103, ...,     0,     0,     0],\n        [  101,  2167,  4420, ...,  1521,  1055,  3323],\n        [  101,  1996,  5499, ...,     0,     0,     0]])\n array([[  101, 11432,  2145, ...,     0,     0,     0],\n        [  101,  8956,  8221, ...,     0,     0,     0],\n        [  101,  2508, 17106, ...,     0,     0,     0],\n        ...,\n        [  101,  1999,  1037, ...,     0,     0,     0],\n        [  101,  2745, 27838, ...,     0,     0,     0],\n        [  101,  2348,  1996, ...,     0,     0,     0]])\n array([[  101, 16830,  2177, ...,     0,     0,     0],\n        [  101,  2096,  2009, ...,     0,     0,     0],\n        [  101,  7221,  3900, ...,     0,     0,     0],\n        ...,\n        [  101,  4911,  2739, ...,     0,     0,     0],\n        [  101,  1037,  2931, ...,     0,     0,     0],\n        [  101,  2007,  6207, ...,     0,     0,     0]])\n array([[  101,  6207,  2003, ...,     0,     0,     0],\n        [  101,  3010,  2120, ...,     0,     0,     0],\n        [  101,  9465, 10272, ...,     0,     0,     0],\n        ...,\n        [  101,  2009,  2318, ...,     0,     0,     0],\n        [  101, 19935,  2884, ...,     0,     0,     0],\n        [  101,  1037,  2184, ...,     0,     0,     0]])\n array([[  101,  1037, 11573, ...,     0,     0,     0],\n        [  101,  2010,  2376, ...,     0,     0,     0],\n        [  101, 19935,  2884, ...,     0,     0,     0],\n        ...,\n        [  101,  1996,  5499, ...,     0,     0,     0],\n        [  101,  2414,  1517, ...,     0,     0,     0],\n        [  101,  3731,  1011, ...,     0,     0,     0]])\n array([[  101,  2002,  1521, ...,     0,     0,     0],\n        [  101, 18301,  3003, ...,     0,     0,     0],\n        [  101,  1037,  3010, ...,     0,     0,     0],\n        ...,\n        [  101,  1037, 19075, ...,     0,     0,     0],\n        [  101,  2023,  2003, ...,     0,     0,     0],\n        [  101,  2175, 10623, ...,     0,     0,     0]])\n array([[  101,  2019,  2880, ...,     0,     0,     0],\n        [  101, 24552,  6165, ...,     0,     0,     0],\n        [  101, 27256, 29271, ...,     0,     0,     0],\n        ...,\n        [  101,  1996, 12765, ...,     0,     0,     0],\n        [  101,  3731,  1011, ...,  4916,  3675,  1029],\n        [  101,  3731,  1011, ...,     0,     0,     0]])\n array([[ 101, 1037, 2822, ...,    0,    0,    0],\n        [ 101, 9733, 2003, ...,    0,    0,    0],\n        [ 101, 1037, 2158, ...,    0,    0,    0],\n        ...,\n        [ 101, 2182, 2012, ...,    0,    0,    0],\n        [ 101, 2011, 6425, ...,    0,    0,    0],\n        [ 101, 2019, 2796, ...,    0,    0,    0]])\n array([[  101,  2419, 22116, ...,     0,     0,     0],\n        [  101,  2016,  2001, ...,     0,     0,     0],\n        [  101,  1037,  4861, ...,     0,     0,     0],\n        ...,\n        [  101,  1037, 19075, ...,     0,     0,     0],\n        [  101,  1006,  1047, ...,     0,     0,     0],\n        [  101,  5499,  2110, ...,     0,     0,     0]])\n array([[ 101, 1996, 2678, ...,    0,    0,    0],\n        [ 101, 7078, 9643, ...,    0,    0,    0],\n        [ 101, 1037, 7244, ...,    0,    0,    0],\n        ...,\n        [ 101, 2469, 4095, ...,    0,    0,    0],\n        [ 101, 2019, 2827, ...,    0,    0,    0],\n        [ 101, 1037, 2678, ...,    0,    0,    0]])\n array([[  101,  2045,  2031, ...,     0,     0,     0],\n        [  101,  2006,  5958, ...,     0,     0,     0],\n        [  101,  1996, 20864, ...,     0,     0,     0],\n        ...,\n        [  101,  2610,  1999, ...,     0,     0,     0],\n        [  101,  1057,  1012, ...,     0,     0,     0],\n        [  101,  1996, 20864, ...,     0,     0,     0]])\n array([[  101, 10850, 15916, ...,     0,     0,     0],\n        [  101,  2023,  2003, ...,     0,     0,     0],\n        [  101, 14474,  1010, ...,     0,     0,     0],\n        ...,\n        [  101, 24951,  2863, ...,     0,     0,     0],\n        [  101, 26357,  1010, ...,     0,     0,     0],\n        [  101,  2144, 12581, ...,     0,     0,     0]])\n array([[  101,  1996,  4827, ...,     0,     0,     0],\n        [  101,  4560, 18484, ...,     0,     0,     0],\n        [  101,  1006, 26665, ...,     0,     0,     0],\n        ...,\n        [  101,  1996,  2149, ...,     0,     0,     0],\n        [  101, 29017, 23063, ...,     0,     0,     0],\n        [  101,  2009,  1005, ...,     0,     0,     0]])\n array([[  101, 17734,  1005, ...,     0,     0,     0],\n        [  101,  2058,  1996, ...,     0,     0,     0],\n        [  101,  8945,  3683, ...,     0,     0,     0],\n        ...,\n        [  101,  4698,  2663, ...,     0,     0,     0],\n        [  101,  1037,  2329, ...,     0,     0,     0],\n        [  101, 13507,  2024, ...,     0,     0,     0]])\n array([[  101,  7929,  1010, ...,     0,     0,     0],\n        [  101, 17671,  2013, ...,     0,     0,     0],\n        [  101,  2769,  3084, ...,     0,     0,     0],\n        ...,\n        [  101,  2017,  2113, ...,     0,     0,     0],\n        [  101,  2007,  3017, ...,     0,     0,     0],\n        [  101,  3120,  1024, ...,     0,     0,     0]])\n array([[ 101, 1037, 2095, ...,    0,    0,    0],\n        [ 101, 2096, 2775, ...,    0,    0,    0],\n        [ 101, 2096, 6207, ...,    0,    0,    0],\n        ...,\n        [ 101, 2152, 3737, ..., 6513,    0,    0],\n        [ 101, 5499, 2110, ...,    0,    0,    0],\n        [ 101, 1996, 2158, ...,    0,    0,    0]])\n array([[  101,  2414,  1517, ...,     0,     0,     0],\n        [  101,  2006,  1996, ...,     0,     0,     0],\n        [  101,  2006,  6928, ...,     0,     0,     0],\n        ...,\n        [  101, 20864, 11538, ...,  2003, 29279,  1005],\n        [  101,  2023,  2003, ...,     0,     0,     0],\n        [  101,  3664,  2139, ...,  1999,  2645,     0]])\n array([[  101,  3674,  2739, ...,     0,     0,     0],\n        [  101,  1005,  2009, ...,     0,     0,     0],\n        [  101,  2013,  8942, ...,     0,     0,     0],\n        ...,\n        [  101,  2007,  6207, ...,     0,     0,     0],\n        [  101,  5085,  2100, ...,     0,     0,     0],\n        [  101,  2745, 20475, ...,     0,     0,     0]])\n array([[ 101, 3146, 2103, ...,    0,    0,    0],\n        [ 101, 7172, 2012, ...,    0,    0,    0],\n        [ 101, 2019, 5594, ...,    0,    0,    0],\n        ...,\n        [ 101, 6207, 2003, ...,    0,    0,    0],\n        [ 101, 3374, 2000, ...,    0,    0,    0],\n        [ 101, 2329, 4614, ...,    0,    0,    0]])\n array([[  101,  1999,  3243, ...,     0,     0,     0],\n        [  101,  5606,  1997, ...,     0,     0,     0],\n        [  101,  2430, 28430, ...,     0,     0,     0],\n        ...,\n        [  101,  2019,  4895, ...,     0,     0,     0],\n        [  101,  1999,  1037, ...,     0,     0,     0],\n        [  101,  6788,  1005, ...,     0,     0,     0]])\n array([[  101,  2009,  2318, ...,     0,     0,     0],\n        [  101, 16364,  3509, ...,     0,     0,     0],\n        [  101, 17671,  2013, ...,     0,     0,     0],\n        ...,\n        [  101,  1996, 15748, ...,     0,     0,     0],\n        [  101, 13952,  1013, ...,     0,     0,     0],\n        [  101,  6207,  2761, ...,     0,     0,     0]])\n array([[  101, 22091,  2860, ...,     0,     0,     0],\n        [  101,  4901, 18571, ...,     0,     0,     0],\n        [  101,  1037,  3861, ...,     0,     0,     0],\n        ...,\n        [  101, 22091,  2860, ...,     0,     0,     0],\n        [  101,  1996,  4056, ...,     0,     0,     0],\n        [  101,  1006, 26665, ...,     0,     0,     0]])\n array([[  101,  4401,  7549, ...,     0,     0,     0],\n        [  101,  6412,  1024, ...,  4988,  2508, 17106],\n        [  101,  1006, 26665, ...,     0,     0,     0],\n        ...,\n        [  101,  3146,  2103, ...,     0,     0,     0],\n        [  101,  1037, 13037, ...,     0,     0,     0],\n        [  101,  2429,  2000, ...,     0,     0,     0]])\n array([[  101,  1006, 13229, ...,     0,     0,     0],\n        [  101,  5035, 10930, ...,     0,     0,     0],\n        [  101,  2624,  2050, ...,     0,     0,     0],\n        ...,\n        [  101,  5190,  1997, ...,     0,     0,     0],\n        [  101,  9733,  2003, ...,     0,     0,     0],\n        [  101,  2382,  1011, ...,     0,     0,     0]])\n array([[ 101, 1037, 2149, ...,    0,    0,    0],\n        [ 101, 1996, 2047, ...,    0,    0,    0],\n        [ 101, 5869, 7136, ...,    0,    0,    0],\n        ...,\n        [ 101, 2048, 2827, ...,    0,    0,    0],\n        [ 101, 1037, 3189, ...,    0,    0,    0],\n        [ 101, 6816, 5249, ...,    0,    0,    0]])\n array([[  101,  1996,  2158, ...,     0,     0,     0],\n        [  101,  1006, 16137, ...,     0,     0,     0],\n        [  101,  2899,  1006, ...,     0,     0,     0],\n        ...,\n        [  101,  2502,  2924, ...,     0,     0,     0],\n        [  101,  2167,  4759, ...,     0,     0,     0],\n        [  101,  1037,  2460, ...,     0,     0,     0]])\n array([[  101,  1006, 16137, ...,     0,     0,     0],\n        [  101,  2196,  3571, ...,     0,     0,     0],\n        [  101,  2043,  5199, ...,     0,     0,     0],\n        ...,\n        [  101, 13952,  1010, ...,     0,     0,     0],\n        [  101,  1006, 26665, ...,     0,     0,     0],\n        [  101, 13952,  1010, ...,     0,     0,     0]])\n array([[  101,  2057,  1005, ...,     0,     0,     0],\n        [  101,  2216,  3236, ...,     0,     0,     0],\n        [  101, 10651,  2019, ...,     0,     0,     0],\n        ...,\n        [  101,  2009,  1005, ...,     0,     0,     0],\n        [  101,  7758,  2726, ...,     0,     0,     0],\n        [  101,  8956,  2749, ...,     0,     0,     0]])\n array([[ 101, 1037, 3522, ...,    0,    0,    0],\n        [ 101, 1037, 2235, ...,    0,    0,    0],\n        [ 101, 2053, 2028, ...,    0,    0,    0],\n        ...,\n        [ 101, 2006, 1996, ...,    0,    0,    0],\n        [ 101, 4895, 7630, ...,    0,    0,    0],\n        [ 101, 1996, 2279, ...,    0,    0,    0]])\n array([[  101,  2403,  1012, ...,     0,     0,     0],\n        [  101,  1999,  2023, ...,     0,     0,     0],\n        [  101, 13952,  1010, ...,     0,     0,     0],\n        ...,\n        [  101,  1996,  5499, ...,     0,     0,     0],\n        [  101,  2167,  4759, ...,     0,     0,     0],\n        [  101,  2009,  1005, ...,     0,     0,     0]])\n array([[  101,  2019,  2137, ...,     0,     0,     0],\n        [  101,  1996,  2047, ...,     0,     0,     0],\n        [  101, 18301, 17671, ...,     0,     0,     0],\n        ...,\n        [  101,  1999,  1037, ...,     0,     0,     0],\n        [  101,  1037,  2095, ...,     0,     0,     0],\n        [  101,  4454,  6736, ...,     0,     0,     0]])\n array([[  101,  6662, 20996, ...,     0,     0,     0],\n        [  101,  1006, 26665, ...,     0,     0,     0],\n        [  101,  1996, 11884, ...,     0,     0,     0],\n        ...,\n        [  101, 11256,  2031, ...,     0,     0,     0],\n        [  101,  9610, 14277, ...,     0,     0,     0],\n        [  101,  1037, 11573, ...,     0,     0,     0]])\n array([[  101,  2023,  2003, ...,     0,     0,     0],\n        [  101,  1996,  7960, ...,     0,     0,     0],\n        [  101, 14711,  9036, ...,     0,     0,     0],\n        ...,\n        [  101,  3146,  2103, ...,     0,     0,     0],\n        [  101,  2012,  2560, ...,     0,     0,     0],\n        [  101, 14633,  2003, ...,     0,     0,     0]])\n array([[  101,  2057,  2988, ...,     0,     0,     0],\n        [  101,  2023,  2003, ...,     0,     0,     0],\n        [  101,  6207, 10560, ...,     0,     0,     0],\n        ...,\n        [  101,  1999,  2023, ...,     0,     0,     0],\n        [  101,  2007,  3017, ...,     0,     0,     0],\n        [  101, 11155,  1000, ...,     0,     0,     0]])\n array([[  101,  2167, 24651, ...,     0,     0,     0],\n        [  101,  2092,  1010, ...,     0,     0,     0],\n        [  101, 19935,  2884, ...,     0,     0,     0],\n        ...,\n        [  101,  2096,  2775, ...,     0,     0,     0],\n        [  101,  1996, 16520, ...,     0,     0,     0],\n        [  101,  2034,  2039, ...,     0,     0,     0]])\n array([[  101,  1996,  8495, ...,     0,     0,     0],\n        [  101,  2348,  3010, ...,     0,     0,     0],\n        [  101,  1996, 14513, ...,     0,     0,     0],\n        ...,\n        [  101,  2625,  2084, ...,     0,     0,     0],\n        [  101,  1037, 12406, ...,     0,     0,     0],\n        [  101,  2043, 23292, ...,     0,     0,     0]])\n array([[  101, 10850, 15916, ...,     0,     0,     0],\n        [  101,  3745,  2023, ...,     0,     0,     0],\n        [  101,  3571,  2025, ...,     0,     0,     0],\n        ...,\n        [  101,  2009,  2089, ...,     0,     0,     0],\n        [  101,  1037,  2534, ...,     0,     0,     0],\n        [  101,  1996,  6207, ...,     0,     0,     0]])\n array([[  101,  9587,  3654, ...,     0,     0,     0],\n        [  101, 10651,  2023, ...,     0,     0,     0],\n        [  101, 16830,  2177, ...,     0,     0,     0],\n        ...,\n        [  101,  2019,  2137, ...,     0,     0,     0],\n        [  101,  2619, 14962, ...,     0,     0,     0],\n        [  101,  2006,  5095, ...,     0,     0,     0]])\n array([[  101,  1037, 11573, ...,     0,     0,     0],\n        [  101,  2045,  2009, ...,     0,     0,     0],\n        [  101,  1996, 18301, ...,     0,     0,     0],\n        ...,\n        [  101,  2048,  1057, ...,     0,     0,     0],\n        [  101,  4977,  5228, ...,     0,     0,     0],\n        [  101,  2167, 24651, ...,     0,     0,     0]])\n array([[  101,  1037, 19075, ...,     0,     0,     0],\n        [  101, 15335,  1517, ...,     0,     0,     0],\n        [  101, 16360,  1012, ...,     0,     0,     0],\n        ...,\n        [  101,  1037, 26277, ...,     0,     0,     0],\n        [  101,  2045,  2038, ...,     0,     0,     0],\n        [  101,  1037,  4069, ...,     0,     0,     0]])\n array([[  101,  2009,  1005, ...,     0,     0,     0],\n        [  101,  2017,  2113, ...,     0,     0,     0],\n        [  101, 13870,  1047, ...,     0,     0,     0],\n        ...,\n        [  101, 13675,  2923, ...,     0,     0,     0],\n        [  101,  5887,  9121, ...,     0,     0,     0],\n        [  101,  2096,  2009, ...,     0,     0,     0]])\n array([[  101,  5293, 14329, ...,     0,     0,     0],\n        [  101,  2280,  2350, ...,     0,     0,     0],\n        [  101,  2019,  4895, ...,     0,     0,     0],\n        ...,\n        [  101,  2359,  1024, ...,     0,     0,     0],\n        [  101,  2034,  1010, ...,     0,     0,     0],\n        [  101,  2016,  2003, ...,     0,     0,     0]])\n array([[  101,  4988,  4717, ...,     0,     0,     0],\n        [  101,  2048,  1997, ...,  2032,     0,     0],\n        [  101,  2195,  8956, ...,     0,     0,     0],\n        ...,\n        [  101,  7387,  2038, ...,     0,     0,     0],\n        [  101, 13952,  1010, ...,     0,     0,     0],\n        [  101,  6207,  2089, ...,     0,     0,     0]])\n array([[  101,  1996, 19379, ...,     0,     0,     0],\n        [  101,  7010,  2162, ...,     0,     0,     0],\n        [  101,  1037,  2861, ...,     0,     0,     0],\n        ...,\n        [  101,  1037,  2678, ...,     0,     0,     0],\n        [  101,  2019,  6884, ...,     0,     0,     0],\n        [  101,  2416,  1011, ...,     0,     0,     0]])\n array([[ 101, 5111, 2103, ...,    0,    0,    0],\n        [ 101, 1037, 2450, ...,    0,    0,    0],\n        [ 101, 1037, 2158, ...,    0,    0,    0],\n        ...,\n        [ 101, 1037, 2235, ...,    0,    0,    0],\n        [ 101, 1999, 1037, ...,    0,    0,    0],\n        [ 101, 1037, 2450, ...,    0,    0,    0]])\n array([[  101, 16878,  8485, ...,     0,     0,     0],\n        [  101,  1037,  2149, ...,     0,     0,     0],\n        [  101,  2381, 23176, ...,     0,     0,     0],\n        ...,\n        [  101, 10604,  3718, ...,     0,     0,     0],\n        [  101,  1037,  3234, ...,  6209,  1999, 20222],\n        [  101,  5635,  1011, ...,     0,     0,     0]])\n array([[ 101, 2728, 3269, ...,    0,    0,    0],\n        [ 101, 8224, 4297, ...,    0,    0,    0],\n        [ 101, 5499, 2110, ...,    0,    0,    0],\n        ...,\n        [ 101, 3664, 2139, ...,    0,    0,    0],\n        [ 101, 1996, 5499, ...,    0,    0,    0],\n        [ 101, 2061, 2009, ...,    0,    0,    0]])\n array([[  101,  2678, 24732, ...,     0,     0,     0],\n        [  101,  2096, 12191, ...,     0,     0,     0],\n        [  101,  4698,  2663, ...,     0,     0,     0],\n        ...,\n        [  101,  1006,  1047, ...,     0,     0,     0],\n        [  101, 10208, 19935, ...,     0,     0,     0],\n        [  101,  2508, 17106, ...,     0,     0,     0]])\n array([[  101,  1037,  2158, ...,     0,     0,     0],\n        [  101,  1996,  6207, ...,  2269,  1999,  7795],\n        [  101,  1037,  2450, ...,     0,     0,     0],\n        ...,\n        [  101,  1006, 26665, ...,     0,     0,     0],\n        [  101,  2023,  2003, ...,     0,     0,     0],\n        [  101,  9733,  1012, ...,     0,     0,     0]])\n array([[ 101, 5858, 2103, ...,    0,    0,    0],\n        [ 101, 2043, 1037, ...,    0,    0,    0],\n        [ 101, 2009, 1521, ...,    0,    0,    0],\n        ...,\n        [ 101, 1996, 2796, ...,    0,    0,    0],\n        [ 101, 1037, 3130, ...,    0,    0,    0],\n        [ 101, 1996, 2157, ...,    0,    0,    0]])\n array([[  101,  1037,  3861, ...,     0,     0,     0],\n        [  101,  3731,  1011, ...,     0,     0,     0],\n        [  101, 14198, 20601, ...,     0,     0,     0],\n        ...,\n        [  101,  9733,  1012, ...,     0,     0,     0],\n        [  101,  2057,  1521, ...,     0,     0,     0],\n        [  101,  2006,  1996, ...,     0,     0,     0]])\n array([[  101,  1037,  2158, ...,  6209,  1999, 20222],\n        [  101,  2000,  1996, ...,     0,     0,     0],\n        [  101, 15335,  1517, ...,     0,     0,     0],\n        ...,\n        [  101, 17671,  2007, ...,     0,     0,     0],\n        [  101,  1996,  2158, ...,     0,     0,     0],\n        [  101,  2343,  8112, ...,     0,     0,     0]])\n array([[  101,  2027,  2442, ...,     0,     0,     0],\n        [  101, 13952,  1517, ...,     0,     0,     0],\n        [  101,  1037,  6646, ...,     0,     0,     0],\n        ...,\n        [  101,  8945,  3683, ...,     0,     0,     0],\n        [  101,  6207,  2003, ...,     0,     0,     0],\n        [  101, 12685, 22458, ...,     0,     0,     0]])\n array([[  101,  5699,  7100, ...,     0,     0,     0],\n        [  101, 27256, 29271, ...,     0,     0,     0],\n        [  101,  3904,  1997, ...,     0,     0,     0],\n        ...,\n        [  101,  1996,  6378, ...,     0,     0,     0],\n        [  101,  2017,  2089, ...,     0,     0,     0],\n        [  101,  2137,  6302, ...,     0,     0,     0]])\n array([[  101,  5499,  2110, ...,     0,     0,     0],\n        [  101,  2007,  6207, ...,     0,     0,     0],\n        [  101,  8273,  3900, ...,     0,     0,     0],\n        ...,\n        [  101,  1006, 13229, ...,     0,     0,     0],\n        [  101,  2057,  1521, ...,     0,     0,     0],\n        [  101,  1996,  2976, ...,     0,     0,     0]])\n array([[  101,  5499,  2110, ...,     0,     0,     0],\n        [  101, 18301,  3003, ...,     0,     0,     0],\n        [  101,  2065,  2017, ...,     0,     0,     0],\n        ...,\n        [  101,  2053,  2028, ...,     0,     0,     0],\n        [  101,  2023,  2003, ...,     0,     0,     0],\n        [  101,  8749,  2031, ...,     0,     0,     0]])\n array([[  101,  1006, 13292, ...,     0,     0,     0],\n        [  101,  5340,  3509, ...,     0,     0,     0],\n        [  101,  6207,  3422, ...,     0,     0,     0],\n        ...,\n        [  101,  1000, 15501, ...,     0,     0,     0],\n        [  101,  2043,  6291, ...,     0,     0,     0],\n        [  101,  4916,  2718, ...,     0,     0,     0]])\n array([[  101,  1996, 19379, ...,     0,     0,     0],\n        [  101,  2047,  5746, ...,     0,     0,     0],\n        [  101,  2011,  6425, ...,     0,     0,     0],\n        ...,\n        [  101,  1037, 28520, ...,     0,     0,     0],\n        [  101,  4366,  1024, ...,     0,     0,     0],\n        [  101,  1037,  2450, ...,     0,     0,     0]])\n array([[  101,  9130,  1998, ...,     0,     0,     0],\n        [  101,  1996,  3405, ...,     0,     0,     0],\n        [  101,  1037,  4861, ...,     0,     0,     0],\n        ...,\n        [  101,  5499,  2110, ...,     0,     0,     0],\n        [  101,  3745,  2023, ...,     0,     0,     0],\n        [  101,  1037, 11573, ...,     0,     0,     0]])\n array([[  101, 10326, 20601, ..., 21124,  1029,  1007],\n        [  101,  4013,  6767, ...,     0,     0,     0],\n        [  101,  2047,  2259, ...,     0,     0,     0],\n        ...,\n        [  101,  1037,  9383, ...,     0,     0,     0],\n        [  101,  1037, 11573, ...,     0,     0,     0],\n        [  101,  1037,  1000, ...,     0,     0,     0]])].\nReshape your data either using array.reshape(-1, 1) if your data has a single feature or array.reshape(1, -1) if it contains a single sample."
          ]
        }
      ]
    },
    {
      "cell_type": "code",
      "source": [],
      "metadata": {
        "id": "Mt2zkt0iEivo"
      },
      "execution_count": null,
      "outputs": []
    },
    {
      "cell_type": "code",
      "source": [],
      "metadata": {
        "id": "yoaDqd7ZvQSq"
      },
      "execution_count": null,
      "outputs": []
    },
    {
      "cell_type": "code",
      "source": [],
      "metadata": {
        "id": "PSJcIMpuvQQi"
      },
      "execution_count": null,
      "outputs": []
    },
    {
      "cell_type": "code",
      "source": [],
      "metadata": {
        "id": "e4msqq7evQOJ"
      },
      "execution_count": null,
      "outputs": []
    }
  ]
}