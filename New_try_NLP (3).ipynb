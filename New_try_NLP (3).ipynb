{
  "nbformat": 4,
  "nbformat_minor": 0,
  "metadata": {
    "colab": {
      "provenance": [],
      "gpuType": "A100"
    },
    "kernelspec": {
      "name": "python3",
      "display_name": "Python 3"
    },
    "language_info": {
      "name": "python"
    },
    "gpuClass": "standard",
    "widgets": {
      "application/vnd.jupyter.widget-state+json": {
        "3c6a718c19b5402d968233c6a8eb650f": {
          "model_module": "@jupyter-widgets/controls",
          "model_name": "HBoxModel",
          "model_module_version": "1.5.0",
          "state": {
            "_dom_classes": [],
            "_model_module": "@jupyter-widgets/controls",
            "_model_module_version": "1.5.0",
            "_model_name": "HBoxModel",
            "_view_count": null,
            "_view_module": "@jupyter-widgets/controls",
            "_view_module_version": "1.5.0",
            "_view_name": "HBoxView",
            "box_style": "",
            "children": [
              "IPY_MODEL_0c51f55d158f4dc0a41bdb49302409b3",
              "IPY_MODEL_4e11c00be56e4ddfb4884cc52c7ccd4f",
              "IPY_MODEL_5596d97b058b422f9afd84a589a8b3d0"
            ],
            "layout": "IPY_MODEL_c8d7250748b94541ab2a908eb1ca5e7c"
          }
        },
        "0c51f55d158f4dc0a41bdb49302409b3": {
          "model_module": "@jupyter-widgets/controls",
          "model_name": "HTMLModel",
          "model_module_version": "1.5.0",
          "state": {
            "_dom_classes": [],
            "_model_module": "@jupyter-widgets/controls",
            "_model_module_version": "1.5.0",
            "_model_name": "HTMLModel",
            "_view_count": null,
            "_view_module": "@jupyter-widgets/controls",
            "_view_module_version": "1.5.0",
            "_view_name": "HTMLView",
            "description": "",
            "description_tooltip": null,
            "layout": "IPY_MODEL_ee31ff0aef1744a6b50950202f5db499",
            "placeholder": "​",
            "style": "IPY_MODEL_def320559a644337abcdb31a0fa94940",
            "value": "Downloading (…)solve/main/vocab.txt: 100%"
          }
        },
        "4e11c00be56e4ddfb4884cc52c7ccd4f": {
          "model_module": "@jupyter-widgets/controls",
          "model_name": "FloatProgressModel",
          "model_module_version": "1.5.0",
          "state": {
            "_dom_classes": [],
            "_model_module": "@jupyter-widgets/controls",
            "_model_module_version": "1.5.0",
            "_model_name": "FloatProgressModel",
            "_view_count": null,
            "_view_module": "@jupyter-widgets/controls",
            "_view_module_version": "1.5.0",
            "_view_name": "ProgressView",
            "bar_style": "success",
            "description": "",
            "description_tooltip": null,
            "layout": "IPY_MODEL_c037868900a244a99d3cda3443688297",
            "max": 231508,
            "min": 0,
            "orientation": "horizontal",
            "style": "IPY_MODEL_548492a9899249bdae103b7b4c529205",
            "value": 231508
          }
        },
        "5596d97b058b422f9afd84a589a8b3d0": {
          "model_module": "@jupyter-widgets/controls",
          "model_name": "HTMLModel",
          "model_module_version": "1.5.0",
          "state": {
            "_dom_classes": [],
            "_model_module": "@jupyter-widgets/controls",
            "_model_module_version": "1.5.0",
            "_model_name": "HTMLModel",
            "_view_count": null,
            "_view_module": "@jupyter-widgets/controls",
            "_view_module_version": "1.5.0",
            "_view_name": "HTMLView",
            "description": "",
            "description_tooltip": null,
            "layout": "IPY_MODEL_dbfc6284e313406683eba6d13ccf5747",
            "placeholder": "​",
            "style": "IPY_MODEL_1f2ed9c6370e4003882dbde31683d3d5",
            "value": " 232k/232k [00:00&lt;00:00, 2.67MB/s]"
          }
        },
        "c8d7250748b94541ab2a908eb1ca5e7c": {
          "model_module": "@jupyter-widgets/base",
          "model_name": "LayoutModel",
          "model_module_version": "1.2.0",
          "state": {
            "_model_module": "@jupyter-widgets/base",
            "_model_module_version": "1.2.0",
            "_model_name": "LayoutModel",
            "_view_count": null,
            "_view_module": "@jupyter-widgets/base",
            "_view_module_version": "1.2.0",
            "_view_name": "LayoutView",
            "align_content": null,
            "align_items": null,
            "align_self": null,
            "border": null,
            "bottom": null,
            "display": null,
            "flex": null,
            "flex_flow": null,
            "grid_area": null,
            "grid_auto_columns": null,
            "grid_auto_flow": null,
            "grid_auto_rows": null,
            "grid_column": null,
            "grid_gap": null,
            "grid_row": null,
            "grid_template_areas": null,
            "grid_template_columns": null,
            "grid_template_rows": null,
            "height": null,
            "justify_content": null,
            "justify_items": null,
            "left": null,
            "margin": null,
            "max_height": null,
            "max_width": null,
            "min_height": null,
            "min_width": null,
            "object_fit": null,
            "object_position": null,
            "order": null,
            "overflow": null,
            "overflow_x": null,
            "overflow_y": null,
            "padding": null,
            "right": null,
            "top": null,
            "visibility": null,
            "width": null
          }
        },
        "ee31ff0aef1744a6b50950202f5db499": {
          "model_module": "@jupyter-widgets/base",
          "model_name": "LayoutModel",
          "model_module_version": "1.2.0",
          "state": {
            "_model_module": "@jupyter-widgets/base",
            "_model_module_version": "1.2.0",
            "_model_name": "LayoutModel",
            "_view_count": null,
            "_view_module": "@jupyter-widgets/base",
            "_view_module_version": "1.2.0",
            "_view_name": "LayoutView",
            "align_content": null,
            "align_items": null,
            "align_self": null,
            "border": null,
            "bottom": null,
            "display": null,
            "flex": null,
            "flex_flow": null,
            "grid_area": null,
            "grid_auto_columns": null,
            "grid_auto_flow": null,
            "grid_auto_rows": null,
            "grid_column": null,
            "grid_gap": null,
            "grid_row": null,
            "grid_template_areas": null,
            "grid_template_columns": null,
            "grid_template_rows": null,
            "height": null,
            "justify_content": null,
            "justify_items": null,
            "left": null,
            "margin": null,
            "max_height": null,
            "max_width": null,
            "min_height": null,
            "min_width": null,
            "object_fit": null,
            "object_position": null,
            "order": null,
            "overflow": null,
            "overflow_x": null,
            "overflow_y": null,
            "padding": null,
            "right": null,
            "top": null,
            "visibility": null,
            "width": null
          }
        },
        "def320559a644337abcdb31a0fa94940": {
          "model_module": "@jupyter-widgets/controls",
          "model_name": "DescriptionStyleModel",
          "model_module_version": "1.5.0",
          "state": {
            "_model_module": "@jupyter-widgets/controls",
            "_model_module_version": "1.5.0",
            "_model_name": "DescriptionStyleModel",
            "_view_count": null,
            "_view_module": "@jupyter-widgets/base",
            "_view_module_version": "1.2.0",
            "_view_name": "StyleView",
            "description_width": ""
          }
        },
        "c037868900a244a99d3cda3443688297": {
          "model_module": "@jupyter-widgets/base",
          "model_name": "LayoutModel",
          "model_module_version": "1.2.0",
          "state": {
            "_model_module": "@jupyter-widgets/base",
            "_model_module_version": "1.2.0",
            "_model_name": "LayoutModel",
            "_view_count": null,
            "_view_module": "@jupyter-widgets/base",
            "_view_module_version": "1.2.0",
            "_view_name": "LayoutView",
            "align_content": null,
            "align_items": null,
            "align_self": null,
            "border": null,
            "bottom": null,
            "display": null,
            "flex": null,
            "flex_flow": null,
            "grid_area": null,
            "grid_auto_columns": null,
            "grid_auto_flow": null,
            "grid_auto_rows": null,
            "grid_column": null,
            "grid_gap": null,
            "grid_row": null,
            "grid_template_areas": null,
            "grid_template_columns": null,
            "grid_template_rows": null,
            "height": null,
            "justify_content": null,
            "justify_items": null,
            "left": null,
            "margin": null,
            "max_height": null,
            "max_width": null,
            "min_height": null,
            "min_width": null,
            "object_fit": null,
            "object_position": null,
            "order": null,
            "overflow": null,
            "overflow_x": null,
            "overflow_y": null,
            "padding": null,
            "right": null,
            "top": null,
            "visibility": null,
            "width": null
          }
        },
        "548492a9899249bdae103b7b4c529205": {
          "model_module": "@jupyter-widgets/controls",
          "model_name": "ProgressStyleModel",
          "model_module_version": "1.5.0",
          "state": {
            "_model_module": "@jupyter-widgets/controls",
            "_model_module_version": "1.5.0",
            "_model_name": "ProgressStyleModel",
            "_view_count": null,
            "_view_module": "@jupyter-widgets/base",
            "_view_module_version": "1.2.0",
            "_view_name": "StyleView",
            "bar_color": null,
            "description_width": ""
          }
        },
        "dbfc6284e313406683eba6d13ccf5747": {
          "model_module": "@jupyter-widgets/base",
          "model_name": "LayoutModel",
          "model_module_version": "1.2.0",
          "state": {
            "_model_module": "@jupyter-widgets/base",
            "_model_module_version": "1.2.0",
            "_model_name": "LayoutModel",
            "_view_count": null,
            "_view_module": "@jupyter-widgets/base",
            "_view_module_version": "1.2.0",
            "_view_name": "LayoutView",
            "align_content": null,
            "align_items": null,
            "align_self": null,
            "border": null,
            "bottom": null,
            "display": null,
            "flex": null,
            "flex_flow": null,
            "grid_area": null,
            "grid_auto_columns": null,
            "grid_auto_flow": null,
            "grid_auto_rows": null,
            "grid_column": null,
            "grid_gap": null,
            "grid_row": null,
            "grid_template_areas": null,
            "grid_template_columns": null,
            "grid_template_rows": null,
            "height": null,
            "justify_content": null,
            "justify_items": null,
            "left": null,
            "margin": null,
            "max_height": null,
            "max_width": null,
            "min_height": null,
            "min_width": null,
            "object_fit": null,
            "object_position": null,
            "order": null,
            "overflow": null,
            "overflow_x": null,
            "overflow_y": null,
            "padding": null,
            "right": null,
            "top": null,
            "visibility": null,
            "width": null
          }
        },
        "1f2ed9c6370e4003882dbde31683d3d5": {
          "model_module": "@jupyter-widgets/controls",
          "model_name": "DescriptionStyleModel",
          "model_module_version": "1.5.0",
          "state": {
            "_model_module": "@jupyter-widgets/controls",
            "_model_module_version": "1.5.0",
            "_model_name": "DescriptionStyleModel",
            "_view_count": null,
            "_view_module": "@jupyter-widgets/base",
            "_view_module_version": "1.2.0",
            "_view_name": "StyleView",
            "description_width": ""
          }
        },
        "f8869a3086e24b7589c4f019cba58d59": {
          "model_module": "@jupyter-widgets/controls",
          "model_name": "HBoxModel",
          "model_module_version": "1.5.0",
          "state": {
            "_dom_classes": [],
            "_model_module": "@jupyter-widgets/controls",
            "_model_module_version": "1.5.0",
            "_model_name": "HBoxModel",
            "_view_count": null,
            "_view_module": "@jupyter-widgets/controls",
            "_view_module_version": "1.5.0",
            "_view_name": "HBoxView",
            "box_style": "",
            "children": [
              "IPY_MODEL_63cd12b3908f4fcfbee4246f0f364cd3",
              "IPY_MODEL_dd94d5f21a9f4d7fac6a8ef4103d03c9",
              "IPY_MODEL_3dd0f8edfacf498dab9a83e3317ab0cc"
            ],
            "layout": "IPY_MODEL_3460890e66c547f6b12ebbb88f9406de"
          }
        },
        "63cd12b3908f4fcfbee4246f0f364cd3": {
          "model_module": "@jupyter-widgets/controls",
          "model_name": "HTMLModel",
          "model_module_version": "1.5.0",
          "state": {
            "_dom_classes": [],
            "_model_module": "@jupyter-widgets/controls",
            "_model_module_version": "1.5.0",
            "_model_name": "HTMLModel",
            "_view_count": null,
            "_view_module": "@jupyter-widgets/controls",
            "_view_module_version": "1.5.0",
            "_view_name": "HTMLView",
            "description": "",
            "description_tooltip": null,
            "layout": "IPY_MODEL_ae9d9664956348949233db5ba60746ab",
            "placeholder": "​",
            "style": "IPY_MODEL_99e8e60e78874ff3832d5d9e41b14bae",
            "value": "Downloading (…)okenizer_config.json: 100%"
          }
        },
        "dd94d5f21a9f4d7fac6a8ef4103d03c9": {
          "model_module": "@jupyter-widgets/controls",
          "model_name": "FloatProgressModel",
          "model_module_version": "1.5.0",
          "state": {
            "_dom_classes": [],
            "_model_module": "@jupyter-widgets/controls",
            "_model_module_version": "1.5.0",
            "_model_name": "FloatProgressModel",
            "_view_count": null,
            "_view_module": "@jupyter-widgets/controls",
            "_view_module_version": "1.5.0",
            "_view_name": "ProgressView",
            "bar_style": "success",
            "description": "",
            "description_tooltip": null,
            "layout": "IPY_MODEL_72267744eafd442e8e53d73bd472146e",
            "max": 28,
            "min": 0,
            "orientation": "horizontal",
            "style": "IPY_MODEL_3b3574204f38438bae5b2fc0fca1bea2",
            "value": 28
          }
        },
        "3dd0f8edfacf498dab9a83e3317ab0cc": {
          "model_module": "@jupyter-widgets/controls",
          "model_name": "HTMLModel",
          "model_module_version": "1.5.0",
          "state": {
            "_dom_classes": [],
            "_model_module": "@jupyter-widgets/controls",
            "_model_module_version": "1.5.0",
            "_model_name": "HTMLModel",
            "_view_count": null,
            "_view_module": "@jupyter-widgets/controls",
            "_view_module_version": "1.5.0",
            "_view_name": "HTMLView",
            "description": "",
            "description_tooltip": null,
            "layout": "IPY_MODEL_089ae64cf60848d1bd57b67f2fccda95",
            "placeholder": "​",
            "style": "IPY_MODEL_36311feeec1e489fa6c1a5f7911bf873",
            "value": " 28.0/28.0 [00:00&lt;00:00, 355B/s]"
          }
        },
        "3460890e66c547f6b12ebbb88f9406de": {
          "model_module": "@jupyter-widgets/base",
          "model_name": "LayoutModel",
          "model_module_version": "1.2.0",
          "state": {
            "_model_module": "@jupyter-widgets/base",
            "_model_module_version": "1.2.0",
            "_model_name": "LayoutModel",
            "_view_count": null,
            "_view_module": "@jupyter-widgets/base",
            "_view_module_version": "1.2.0",
            "_view_name": "LayoutView",
            "align_content": null,
            "align_items": null,
            "align_self": null,
            "border": null,
            "bottom": null,
            "display": null,
            "flex": null,
            "flex_flow": null,
            "grid_area": null,
            "grid_auto_columns": null,
            "grid_auto_flow": null,
            "grid_auto_rows": null,
            "grid_column": null,
            "grid_gap": null,
            "grid_row": null,
            "grid_template_areas": null,
            "grid_template_columns": null,
            "grid_template_rows": null,
            "height": null,
            "justify_content": null,
            "justify_items": null,
            "left": null,
            "margin": null,
            "max_height": null,
            "max_width": null,
            "min_height": null,
            "min_width": null,
            "object_fit": null,
            "object_position": null,
            "order": null,
            "overflow": null,
            "overflow_x": null,
            "overflow_y": null,
            "padding": null,
            "right": null,
            "top": null,
            "visibility": null,
            "width": null
          }
        },
        "ae9d9664956348949233db5ba60746ab": {
          "model_module": "@jupyter-widgets/base",
          "model_name": "LayoutModel",
          "model_module_version": "1.2.0",
          "state": {
            "_model_module": "@jupyter-widgets/base",
            "_model_module_version": "1.2.0",
            "_model_name": "LayoutModel",
            "_view_count": null,
            "_view_module": "@jupyter-widgets/base",
            "_view_module_version": "1.2.0",
            "_view_name": "LayoutView",
            "align_content": null,
            "align_items": null,
            "align_self": null,
            "border": null,
            "bottom": null,
            "display": null,
            "flex": null,
            "flex_flow": null,
            "grid_area": null,
            "grid_auto_columns": null,
            "grid_auto_flow": null,
            "grid_auto_rows": null,
            "grid_column": null,
            "grid_gap": null,
            "grid_row": null,
            "grid_template_areas": null,
            "grid_template_columns": null,
            "grid_template_rows": null,
            "height": null,
            "justify_content": null,
            "justify_items": null,
            "left": null,
            "margin": null,
            "max_height": null,
            "max_width": null,
            "min_height": null,
            "min_width": null,
            "object_fit": null,
            "object_position": null,
            "order": null,
            "overflow": null,
            "overflow_x": null,
            "overflow_y": null,
            "padding": null,
            "right": null,
            "top": null,
            "visibility": null,
            "width": null
          }
        },
        "99e8e60e78874ff3832d5d9e41b14bae": {
          "model_module": "@jupyter-widgets/controls",
          "model_name": "DescriptionStyleModel",
          "model_module_version": "1.5.0",
          "state": {
            "_model_module": "@jupyter-widgets/controls",
            "_model_module_version": "1.5.0",
            "_model_name": "DescriptionStyleModel",
            "_view_count": null,
            "_view_module": "@jupyter-widgets/base",
            "_view_module_version": "1.2.0",
            "_view_name": "StyleView",
            "description_width": ""
          }
        },
        "72267744eafd442e8e53d73bd472146e": {
          "model_module": "@jupyter-widgets/base",
          "model_name": "LayoutModel",
          "model_module_version": "1.2.0",
          "state": {
            "_model_module": "@jupyter-widgets/base",
            "_model_module_version": "1.2.0",
            "_model_name": "LayoutModel",
            "_view_count": null,
            "_view_module": "@jupyter-widgets/base",
            "_view_module_version": "1.2.0",
            "_view_name": "LayoutView",
            "align_content": null,
            "align_items": null,
            "align_self": null,
            "border": null,
            "bottom": null,
            "display": null,
            "flex": null,
            "flex_flow": null,
            "grid_area": null,
            "grid_auto_columns": null,
            "grid_auto_flow": null,
            "grid_auto_rows": null,
            "grid_column": null,
            "grid_gap": null,
            "grid_row": null,
            "grid_template_areas": null,
            "grid_template_columns": null,
            "grid_template_rows": null,
            "height": null,
            "justify_content": null,
            "justify_items": null,
            "left": null,
            "margin": null,
            "max_height": null,
            "max_width": null,
            "min_height": null,
            "min_width": null,
            "object_fit": null,
            "object_position": null,
            "order": null,
            "overflow": null,
            "overflow_x": null,
            "overflow_y": null,
            "padding": null,
            "right": null,
            "top": null,
            "visibility": null,
            "width": null
          }
        },
        "3b3574204f38438bae5b2fc0fca1bea2": {
          "model_module": "@jupyter-widgets/controls",
          "model_name": "ProgressStyleModel",
          "model_module_version": "1.5.0",
          "state": {
            "_model_module": "@jupyter-widgets/controls",
            "_model_module_version": "1.5.0",
            "_model_name": "ProgressStyleModel",
            "_view_count": null,
            "_view_module": "@jupyter-widgets/base",
            "_view_module_version": "1.2.0",
            "_view_name": "StyleView",
            "bar_color": null,
            "description_width": ""
          }
        },
        "089ae64cf60848d1bd57b67f2fccda95": {
          "model_module": "@jupyter-widgets/base",
          "model_name": "LayoutModel",
          "model_module_version": "1.2.0",
          "state": {
            "_model_module": "@jupyter-widgets/base",
            "_model_module_version": "1.2.0",
            "_model_name": "LayoutModel",
            "_view_count": null,
            "_view_module": "@jupyter-widgets/base",
            "_view_module_version": "1.2.0",
            "_view_name": "LayoutView",
            "align_content": null,
            "align_items": null,
            "align_self": null,
            "border": null,
            "bottom": null,
            "display": null,
            "flex": null,
            "flex_flow": null,
            "grid_area": null,
            "grid_auto_columns": null,
            "grid_auto_flow": null,
            "grid_auto_rows": null,
            "grid_column": null,
            "grid_gap": null,
            "grid_row": null,
            "grid_template_areas": null,
            "grid_template_columns": null,
            "grid_template_rows": null,
            "height": null,
            "justify_content": null,
            "justify_items": null,
            "left": null,
            "margin": null,
            "max_height": null,
            "max_width": null,
            "min_height": null,
            "min_width": null,
            "object_fit": null,
            "object_position": null,
            "order": null,
            "overflow": null,
            "overflow_x": null,
            "overflow_y": null,
            "padding": null,
            "right": null,
            "top": null,
            "visibility": null,
            "width": null
          }
        },
        "36311feeec1e489fa6c1a5f7911bf873": {
          "model_module": "@jupyter-widgets/controls",
          "model_name": "DescriptionStyleModel",
          "model_module_version": "1.5.0",
          "state": {
            "_model_module": "@jupyter-widgets/controls",
            "_model_module_version": "1.5.0",
            "_model_name": "DescriptionStyleModel",
            "_view_count": null,
            "_view_module": "@jupyter-widgets/base",
            "_view_module_version": "1.2.0",
            "_view_name": "StyleView",
            "description_width": ""
          }
        },
        "0b51cabe8aeb43fd983c93baadeff7d3": {
          "model_module": "@jupyter-widgets/controls",
          "model_name": "HBoxModel",
          "model_module_version": "1.5.0",
          "state": {
            "_dom_classes": [],
            "_model_module": "@jupyter-widgets/controls",
            "_model_module_version": "1.5.0",
            "_model_name": "HBoxModel",
            "_view_count": null,
            "_view_module": "@jupyter-widgets/controls",
            "_view_module_version": "1.5.0",
            "_view_name": "HBoxView",
            "box_style": "",
            "children": [
              "IPY_MODEL_8570c87f43f14d96b6589eee68de0728",
              "IPY_MODEL_7e3272bf25c94171b5c62f8ebc03c191",
              "IPY_MODEL_6039d33781994e8bbe8c48ec215e6e2b"
            ],
            "layout": "IPY_MODEL_dea814815e354ef0829b2e94965a7764"
          }
        },
        "8570c87f43f14d96b6589eee68de0728": {
          "model_module": "@jupyter-widgets/controls",
          "model_name": "HTMLModel",
          "model_module_version": "1.5.0",
          "state": {
            "_dom_classes": [],
            "_model_module": "@jupyter-widgets/controls",
            "_model_module_version": "1.5.0",
            "_model_name": "HTMLModel",
            "_view_count": null,
            "_view_module": "@jupyter-widgets/controls",
            "_view_module_version": "1.5.0",
            "_view_name": "HTMLView",
            "description": "",
            "description_tooltip": null,
            "layout": "IPY_MODEL_8d1b52b3e9474e36bc4415516854c825",
            "placeholder": "​",
            "style": "IPY_MODEL_18038f29ed014bca95deb0a982c3d929",
            "value": "Downloading (…)lve/main/config.json: 100%"
          }
        },
        "7e3272bf25c94171b5c62f8ebc03c191": {
          "model_module": "@jupyter-widgets/controls",
          "model_name": "FloatProgressModel",
          "model_module_version": "1.5.0",
          "state": {
            "_dom_classes": [],
            "_model_module": "@jupyter-widgets/controls",
            "_model_module_version": "1.5.0",
            "_model_name": "FloatProgressModel",
            "_view_count": null,
            "_view_module": "@jupyter-widgets/controls",
            "_view_module_version": "1.5.0",
            "_view_name": "ProgressView",
            "bar_style": "success",
            "description": "",
            "description_tooltip": null,
            "layout": "IPY_MODEL_5c37a624e2fe432092a9f7ba2adba407",
            "max": 570,
            "min": 0,
            "orientation": "horizontal",
            "style": "IPY_MODEL_e1fa532e918349b7b5addceae6965d16",
            "value": 570
          }
        },
        "6039d33781994e8bbe8c48ec215e6e2b": {
          "model_module": "@jupyter-widgets/controls",
          "model_name": "HTMLModel",
          "model_module_version": "1.5.0",
          "state": {
            "_dom_classes": [],
            "_model_module": "@jupyter-widgets/controls",
            "_model_module_version": "1.5.0",
            "_model_name": "HTMLModel",
            "_view_count": null,
            "_view_module": "@jupyter-widgets/controls",
            "_view_module_version": "1.5.0",
            "_view_name": "HTMLView",
            "description": "",
            "description_tooltip": null,
            "layout": "IPY_MODEL_46f4979f4e724272be0fa3186743c6e7",
            "placeholder": "​",
            "style": "IPY_MODEL_66466a5704d14761b9f92af976a7d9cb",
            "value": " 570/570 [00:00&lt;00:00, 11.4kB/s]"
          }
        },
        "dea814815e354ef0829b2e94965a7764": {
          "model_module": "@jupyter-widgets/base",
          "model_name": "LayoutModel",
          "model_module_version": "1.2.0",
          "state": {
            "_model_module": "@jupyter-widgets/base",
            "_model_module_version": "1.2.0",
            "_model_name": "LayoutModel",
            "_view_count": null,
            "_view_module": "@jupyter-widgets/base",
            "_view_module_version": "1.2.0",
            "_view_name": "LayoutView",
            "align_content": null,
            "align_items": null,
            "align_self": null,
            "border": null,
            "bottom": null,
            "display": null,
            "flex": null,
            "flex_flow": null,
            "grid_area": null,
            "grid_auto_columns": null,
            "grid_auto_flow": null,
            "grid_auto_rows": null,
            "grid_column": null,
            "grid_gap": null,
            "grid_row": null,
            "grid_template_areas": null,
            "grid_template_columns": null,
            "grid_template_rows": null,
            "height": null,
            "justify_content": null,
            "justify_items": null,
            "left": null,
            "margin": null,
            "max_height": null,
            "max_width": null,
            "min_height": null,
            "min_width": null,
            "object_fit": null,
            "object_position": null,
            "order": null,
            "overflow": null,
            "overflow_x": null,
            "overflow_y": null,
            "padding": null,
            "right": null,
            "top": null,
            "visibility": null,
            "width": null
          }
        },
        "8d1b52b3e9474e36bc4415516854c825": {
          "model_module": "@jupyter-widgets/base",
          "model_name": "LayoutModel",
          "model_module_version": "1.2.0",
          "state": {
            "_model_module": "@jupyter-widgets/base",
            "_model_module_version": "1.2.0",
            "_model_name": "LayoutModel",
            "_view_count": null,
            "_view_module": "@jupyter-widgets/base",
            "_view_module_version": "1.2.0",
            "_view_name": "LayoutView",
            "align_content": null,
            "align_items": null,
            "align_self": null,
            "border": null,
            "bottom": null,
            "display": null,
            "flex": null,
            "flex_flow": null,
            "grid_area": null,
            "grid_auto_columns": null,
            "grid_auto_flow": null,
            "grid_auto_rows": null,
            "grid_column": null,
            "grid_gap": null,
            "grid_row": null,
            "grid_template_areas": null,
            "grid_template_columns": null,
            "grid_template_rows": null,
            "height": null,
            "justify_content": null,
            "justify_items": null,
            "left": null,
            "margin": null,
            "max_height": null,
            "max_width": null,
            "min_height": null,
            "min_width": null,
            "object_fit": null,
            "object_position": null,
            "order": null,
            "overflow": null,
            "overflow_x": null,
            "overflow_y": null,
            "padding": null,
            "right": null,
            "top": null,
            "visibility": null,
            "width": null
          }
        },
        "18038f29ed014bca95deb0a982c3d929": {
          "model_module": "@jupyter-widgets/controls",
          "model_name": "DescriptionStyleModel",
          "model_module_version": "1.5.0",
          "state": {
            "_model_module": "@jupyter-widgets/controls",
            "_model_module_version": "1.5.0",
            "_model_name": "DescriptionStyleModel",
            "_view_count": null,
            "_view_module": "@jupyter-widgets/base",
            "_view_module_version": "1.2.0",
            "_view_name": "StyleView",
            "description_width": ""
          }
        },
        "5c37a624e2fe432092a9f7ba2adba407": {
          "model_module": "@jupyter-widgets/base",
          "model_name": "LayoutModel",
          "model_module_version": "1.2.0",
          "state": {
            "_model_module": "@jupyter-widgets/base",
            "_model_module_version": "1.2.0",
            "_model_name": "LayoutModel",
            "_view_count": null,
            "_view_module": "@jupyter-widgets/base",
            "_view_module_version": "1.2.0",
            "_view_name": "LayoutView",
            "align_content": null,
            "align_items": null,
            "align_self": null,
            "border": null,
            "bottom": null,
            "display": null,
            "flex": null,
            "flex_flow": null,
            "grid_area": null,
            "grid_auto_columns": null,
            "grid_auto_flow": null,
            "grid_auto_rows": null,
            "grid_column": null,
            "grid_gap": null,
            "grid_row": null,
            "grid_template_areas": null,
            "grid_template_columns": null,
            "grid_template_rows": null,
            "height": null,
            "justify_content": null,
            "justify_items": null,
            "left": null,
            "margin": null,
            "max_height": null,
            "max_width": null,
            "min_height": null,
            "min_width": null,
            "object_fit": null,
            "object_position": null,
            "order": null,
            "overflow": null,
            "overflow_x": null,
            "overflow_y": null,
            "padding": null,
            "right": null,
            "top": null,
            "visibility": null,
            "width": null
          }
        },
        "e1fa532e918349b7b5addceae6965d16": {
          "model_module": "@jupyter-widgets/controls",
          "model_name": "ProgressStyleModel",
          "model_module_version": "1.5.0",
          "state": {
            "_model_module": "@jupyter-widgets/controls",
            "_model_module_version": "1.5.0",
            "_model_name": "ProgressStyleModel",
            "_view_count": null,
            "_view_module": "@jupyter-widgets/base",
            "_view_module_version": "1.2.0",
            "_view_name": "StyleView",
            "bar_color": null,
            "description_width": ""
          }
        },
        "46f4979f4e724272be0fa3186743c6e7": {
          "model_module": "@jupyter-widgets/base",
          "model_name": "LayoutModel",
          "model_module_version": "1.2.0",
          "state": {
            "_model_module": "@jupyter-widgets/base",
            "_model_module_version": "1.2.0",
            "_model_name": "LayoutModel",
            "_view_count": null,
            "_view_module": "@jupyter-widgets/base",
            "_view_module_version": "1.2.0",
            "_view_name": "LayoutView",
            "align_content": null,
            "align_items": null,
            "align_self": null,
            "border": null,
            "bottom": null,
            "display": null,
            "flex": null,
            "flex_flow": null,
            "grid_area": null,
            "grid_auto_columns": null,
            "grid_auto_flow": null,
            "grid_auto_rows": null,
            "grid_column": null,
            "grid_gap": null,
            "grid_row": null,
            "grid_template_areas": null,
            "grid_template_columns": null,
            "grid_template_rows": null,
            "height": null,
            "justify_content": null,
            "justify_items": null,
            "left": null,
            "margin": null,
            "max_height": null,
            "max_width": null,
            "min_height": null,
            "min_width": null,
            "object_fit": null,
            "object_position": null,
            "order": null,
            "overflow": null,
            "overflow_x": null,
            "overflow_y": null,
            "padding": null,
            "right": null,
            "top": null,
            "visibility": null,
            "width": null
          }
        },
        "66466a5704d14761b9f92af976a7d9cb": {
          "model_module": "@jupyter-widgets/controls",
          "model_name": "DescriptionStyleModel",
          "model_module_version": "1.5.0",
          "state": {
            "_model_module": "@jupyter-widgets/controls",
            "_model_module_version": "1.5.0",
            "_model_name": "DescriptionStyleModel",
            "_view_count": null,
            "_view_module": "@jupyter-widgets/base",
            "_view_module_version": "1.2.0",
            "_view_name": "StyleView",
            "description_width": ""
          }
        }
      }
    }
  },
  "cells": [
    {
      "cell_type": "code",
      "execution_count": 1,
      "metadata": {
        "colab": {
          "base_uri": "https://localhost:8080/"
        },
        "id": "OBs1yuF1FS2k",
        "outputId": "bfea0438-cd45-477b-b0d3-dcc18b33bef1"
      },
      "outputs": [
        {
          "output_type": "stream",
          "name": "stderr",
          "text": [
            "[nltk_data] Downloading package stopwords to /root/nltk_data...\n",
            "[nltk_data]   Unzipping corpora/stopwords.zip.\n",
            "[nltk_data] Downloading package punkt to /root/nltk_data...\n",
            "[nltk_data]   Unzipping tokenizers/punkt.zip.\n",
            "[nltk_data] Downloading package wordnet to /root/nltk_data...\n"
          ]
        }
      ],
      "source": [
        "import warnings\n",
        "warnings.filterwarnings('ignore')\n",
        "\n",
        "import re\n",
        "import string\n",
        "import os\n",
        "from collections import defaultdict\n",
        "from collections import Counter\n",
        "from nltk.corpus import stopwords\n",
        "from sklearn.feature_extraction.text import TfidfVectorizer\n",
        "\n",
        "# General science/numeric tools\n",
        "import pandas as pd\n",
        "import numpy as np\n",
        "\n",
        "from sklearn.feature_extraction.text import TfidfVectorizer, CountVectorizer\n",
        "from sklearn.model_selection import train_test_split\n",
        "from sklearn.naive_bayes import MultinomialNB\n",
        "\n",
        "from sklearn import metrics\n",
        "from sklearn.metrics import confusion_matrix,accuracy_score,roc_auc_score,roc_curve,auc,f1_score\n",
        "\n",
        "# Plotting libraries\n",
        "import matplotlib.pyplot as plt\n",
        "import seaborn as sns\n",
        "plt.style.use('ggplot')\n",
        "\n",
        "# NLTK for NLP tools such as stemming, lemmatizing\n",
        "import nltk\n",
        "from nltk.corpus import stopwords\n",
        "nltk.download('stopwords')\n",
        "from nltk.util import ngrams\n",
        "from nltk.tokenize import word_tokenize\n",
        "from nltk.stem import WordNetLemmatizer\n",
        "from nltk.corpus import wordnet\n",
        "nltk.download('punkt')\n",
        "nltk.download('wordnet')\n",
        "stop = set(stopwords.words('english'))\n",
        "\n",
        "from sklearn.feature_extraction.text import CountVectorizer\n",
        "\n",
        "import gensim\n",
        "from tqdm.notebook import tqdm\n",
        "\n",
        "import torch\n",
        "import random\n",
        "from torchtext import datasets\n",
        "from torchtext.data.functional import to_map_style_dataset\n",
        "from torch.utils.data import DataLoader,Sampler\n",
        "from torch.nn.utils.rnn import pad_sequence\n",
        "\n",
        "import matplotlib.pyplot as plt\n",
        "import torch\n",
        "from torchtext import data\n",
        "import torch.nn as nn\n",
        "from torch.nn.utils.rnn import pack_padded_sequence, pad_packed_sequence\n",
        "import torch.optim as optim\n",
        "from sklearn.metrics import accuracy_score, classification_report, confusion_matrix\n",
        "import seaborn as sns\n",
        "import spacy\n",
        "from torchdata.datapipes.iter import FileOpener, IterableWrapper, CSVParser\n",
        "import os\n",
        "from torch import nn\n",
        "from torch.nn import functional as F"
      ]
    },
    {
      "cell_type": "code",
      "source": [
        "# to access my drive to read the csv-files\n",
        "from google.colab import drive\n",
        "drive.mount('/content/drive')\n",
        "\n",
        "# link to the folder of Colab Notebooks \n",
        "%cd '/content/drive/MyDrive/Colab Notebooks'"
      ],
      "metadata": {
        "colab": {
          "base_uri": "https://localhost:8080/"
        },
        "id": "XwX1jtbBFexF",
        "outputId": "37919e10-076d-4c28-c9de-520d68b514c2"
      },
      "execution_count": 2,
      "outputs": [
        {
          "output_type": "stream",
          "name": "stdout",
          "text": [
            "Mounted at /content/drive\n",
            "/content/drive/MyDrive/Colab Notebooks\n"
          ]
        }
      ]
    },
    {
      "cell_type": "code",
      "source": [
        "df = pd.read_csv('train_bodies.csv')\n",
        "df1 = pd.read_csv('train_stances.csv')\n",
        "\n",
        "df_merge = pd.merge(df, df1, on='Body ID')\n",
        "\n",
        "TEXT_C = ['articleBody','Headline']\n",
        "TARGET_C = 'Stance'\n",
        "\n",
        "df_merge['Stance'].replace(['agree', 'disagree', 'discuss'], 'related',inplace=True)\n",
        "print(df_merge['Stance'].value_counts())\n",
        "# print(train_text.isna().sum())"
      ],
      "metadata": {
        "colab": {
          "base_uri": "https://localhost:8080/"
        },
        "id": "OS6DlsQ2FhZF",
        "outputId": "ea7f6de7-f59a-4282-9613-ab458425ebc8"
      },
      "execution_count": 3,
      "outputs": [
        {
          "output_type": "stream",
          "name": "stdout",
          "text": [
            "unrelated    36545\n",
            "related      13427\n",
            "Name: Stance, dtype: int64\n"
          ]
        }
      ]
    },
    {
      "cell_type": "code",
      "source": [
        "len(df_merge)"
      ],
      "metadata": {
        "colab": {
          "base_uri": "https://localhost:8080/"
        },
        "id": "zD0OeiGHZnrp",
        "outputId": "8271ed23-5152-422b-9c18-d04a8d8bc66e"
      },
      "execution_count": 4,
      "outputs": [
        {
          "output_type": "execute_result",
          "data": {
            "text/plain": [
              "49972"
            ]
          },
          "metadata": {},
          "execution_count": 4
        }
      ]
    },
    {
      "cell_type": "code",
      "source": [
        "#drop Body ID \n",
        "df_merge.drop(\"Body ID\", axis=1, inplace=True)\n",
        "\n",
        "# Split data into train and temporary sets with an 80:20 split ratio\n",
        "train, test = train_test_split(df_merge.head(10000), test_size=0.2, random_state=42)\n",
        "\n",
        "# Split the temporary set into validation and test sets with a 50:50 split ratio\n",
        "val, test = train_test_split(test, test_size=0.5, random_state=42)\n"
      ],
      "metadata": {
        "id": "6c2ITzFUMri9"
      },
      "execution_count": 5,
      "outputs": []
    },
    {
      "cell_type": "code",
      "source": [
        "# Extract the text data and target data for each set\n",
        "train_text, train_target = train[TEXT_C], train[TARGET_C]\n",
        "val_text, val_target = val[TEXT_C], val[TARGET_C]\n",
        "test_text, test_target = test[TEXT_C], test[TARGET_C]\n",
        "print('Size of training set:',train.shape)\n",
        "print('Size of validation set:',val.shape)\n",
        "print('Size of validation set:',test.shape)\n",
        "print(type(train_target))"
      ],
      "metadata": {
        "id": "UeRNvP_5PtQZ",
        "colab": {
          "base_uri": "https://localhost:8080/"
        },
        "outputId": "c02d7878-cf88-4178-ae53-ee05f57b5cf7"
      },
      "execution_count": 6,
      "outputs": [
        {
          "output_type": "stream",
          "name": "stdout",
          "text": [
            "Size of training set: (8000, 3)\n",
            "Size of validation set: (1000, 3)\n",
            "Size of validation set: (1000, 3)\n",
            "<class 'pandas.core.series.Series'>\n"
          ]
        }
      ]
    },
    {
      "cell_type": "code",
      "source": [
        "# Convert the target data to numerical values\n",
        "train = train.replace({'unrelated': 0, 'related': 1})\n",
        "val = val.replace({'unrelated': 0, 'related': 1})\n",
        "test = test.replace({'unrelated': 0, 'related': 1})\n",
        "\n",
        "train_target = train_target.replace({'unrelated': 0, 'related': 1})\n",
        "val_target = val_target.replace({'unrelated': 0, 'related': 1})\n",
        "test_target = test_target.replace({'unrelated': 0, 'related': 1})\n",
        "\n",
        "#build a new target-series data for BERT-model (prevent that the original data is changed)\n",
        "train_target_1 = train_target\n",
        "val_target_1 = val_target\n",
        "test_target_1 = test_target\n",
        "\n",
        "train_text_1 = train_text\n",
        "val_text_1 = val_text\n",
        "test_text_1 = test_text"
      ],
      "metadata": {
        "id": "BdJi9BHTi5G6"
      },
      "execution_count": 7,
      "outputs": []
    },
    {
      "cell_type": "markdown",
      "source": [
        "TF-IDF"
      ],
      "metadata": {
        "id": "Y5oAmEQbkyaY"
      }
    },
    {
      "cell_type": "code",
      "source": [
        "# import re\n",
        "# from nltk.corpus import stopwords\n",
        "# from sklearn.feature_extraction.text import TfidfVectorizer\n",
        "\n",
        "# Define a preprocessing function\n",
        "def preprocess(text):\n",
        "    # Remove punctuation\n",
        "    text = re.sub(r'[^\\w\\s]', '', text)\n",
        "    # Remove stop words\n",
        "    stop_words = set(stopwords.words('english'))\n",
        "    tokens = text.split()\n",
        "    tokens = [token for token in tokens if token.lower() not in stop_words]\n",
        "    # Convert tokens back to text\n",
        "    text = ' '.join(tokens)\n",
        "    return text"
      ],
      "metadata": {
        "id": "7_5NeVKIH12T"
      },
      "execution_count": 8,
      "outputs": []
    },
    {
      "cell_type": "code",
      "source": [
        "# train_data = train_text\n",
        "# train_data\n",
        "# change the dataframe with two columns to a column to be used in tfidf function\n",
        "combined_train_series = (train_text['articleBody']+train_text['Headline']).apply(preprocess)\n",
        "combined_val_series = (val_text['articleBody']+val_text['Headline']).apply(preprocess)\n",
        "combined_test_series = (test_text['articleBody']+test_text['Headline']).apply(preprocess)\n"
      ],
      "metadata": {
        "id": "I0mFen8AY4SP"
      },
      "execution_count": 9,
      "outputs": []
    },
    {
      "cell_type": "code",
      "source": [
        "# Convert the text data to numerical data\n",
        "\n",
        "# Use TF-IDF to convert the text data to feature vectors\n",
        "tfidf = TfidfVectorizer(decode_error='ignore', lowercase=True, min_df=2)\n",
        "# can set up max_df=0.8/0.9 to avoid the intervention of the most common words\n",
        "train_features = tfidf.fit_transform(combined_train_series.values.astype('U'))\n",
        "val_features = tfidf.transform(combined_val_series.values.astype('U'))\n",
        "test_features = tfidf.transform(combined_test_series.values.astype('U'))"
      ],
      "metadata": {
        "id": "b6vc3N0jSS8i"
      },
      "execution_count": 10,
      "outputs": []
    },
    {
      "cell_type": "code",
      "source": [
        "print('Size of training set:',train_features.shape)\n",
        "print('Size of validation set:',val_features.shape)\n",
        "print('Size of validation set:',test_features.shape)"
      ],
      "metadata": {
        "colab": {
          "base_uri": "https://localhost:8080/"
        },
        "id": "nLnOqpc2UGO6",
        "outputId": "87dfcd2f-71f2-4831-c57c-95845e3b9d14"
      },
      "execution_count": 11,
      "outputs": [
        {
          "output_type": "stream",
          "name": "stdout",
          "text": [
            "Size of training set: (8000, 13615)\n",
            "Size of validation set: (1000, 13615)\n",
            "Size of validation set: (1000, 13615)\n"
          ]
        }
      ]
    },
    {
      "cell_type": "code",
      "source": [
        "# # Convert the target data to numerical values\n",
        "# train_target = train_target.replace({'unrelated': 0, 'related': 1})\n",
        "# val_target = val_target.replace({'unrelated': 0, 'related': 1})\n",
        "# test_target = test_target.replace({'unrelated': 0, 'related': 1})\n",
        "\n",
        "# # train = train.replace({'unrelated': 0, 'related': 1})\n",
        "# # val = val.replace({'unrelated': 0, 'related': 1})\n",
        "# # test = test.replace({'unrelated': 0, 'related': 1})\n",
        "\n",
        "# #build a new target-series data for BERT-model (prevent that the original data is changed)\n",
        "# train_target_1 = train_target\n",
        "# val_target_1 = val_target\n",
        "# test_target_1 = test_target\n",
        "\n",
        "# train_text_1 = train_text\n",
        "# val_text_1 = val_text\n",
        "# test_text_1 = test_text"
      ],
      "metadata": {
        "id": "y2S_kakuc984"
      },
      "execution_count": 12,
      "outputs": []
    },
    {
      "cell_type": "markdown",
      "source": [
        "BERT"
      ],
      "metadata": {
        "id": "uZoQz1bVkv2b"
      }
    },
    {
      "cell_type": "code",
      "source": [
        "# import locale\n",
        "# locale.getpreferredencoding = lambda: \"UTF-8\""
      ],
      "metadata": {
        "id": "CEwsudrNdVK2"
      },
      "execution_count": 24,
      "outputs": []
    },
    {
      "cell_type": "code",
      "source": [
        "!pip install transformers"
      ],
      "metadata": {
        "colab": {
          "base_uri": "https://localhost:8080/"
        },
        "id": "lPDmFBCYc5OR",
        "outputId": "e2576ef9-1daf-4248-b340-74cebbc53a0e"
      },
      "execution_count": 13,
      "outputs": [
        {
          "output_type": "stream",
          "name": "stdout",
          "text": [
            "Looking in indexes: https://pypi.org/simple, https://us-python.pkg.dev/colab-wheels/public/simple/\n",
            "Collecting transformers\n",
            "  Downloading transformers-4.28.1-py3-none-any.whl (7.0 MB)\n",
            "\u001b[2K     \u001b[90m━━━━━━━━━━━━━━━━━━━━━━━━━━━━━━━━━━━━━━━━\u001b[0m \u001b[32m7.0/7.0 MB\u001b[0m \u001b[31m27.7 MB/s\u001b[0m eta \u001b[36m0:00:00\u001b[0m\n",
            "\u001b[?25hCollecting huggingface-hub<1.0,>=0.11.0\n",
            "  Downloading huggingface_hub-0.14.1-py3-none-any.whl (224 kB)\n",
            "\u001b[2K     \u001b[90m━━━━━━━━━━━━━━━━━━━━━━━━━━━━━━━━━━━━━━\u001b[0m \u001b[32m224.5/224.5 kB\u001b[0m \u001b[31m22.8 MB/s\u001b[0m eta \u001b[36m0:00:00\u001b[0m\n",
            "\u001b[?25hRequirement already satisfied: pyyaml>=5.1 in /usr/local/lib/python3.10/dist-packages (from transformers) (6.0)\n",
            "Requirement already satisfied: tqdm>=4.27 in /usr/local/lib/python3.10/dist-packages (from transformers) (4.65.0)\n",
            "Requirement already satisfied: numpy>=1.17 in /usr/local/lib/python3.10/dist-packages (from transformers) (1.22.4)\n",
            "Requirement already satisfied: requests in /usr/local/lib/python3.10/dist-packages (from transformers) (2.27.1)\n",
            "Requirement already satisfied: regex!=2019.12.17 in /usr/local/lib/python3.10/dist-packages (from transformers) (2022.10.31)\n",
            "Collecting tokenizers!=0.11.3,<0.14,>=0.11.1\n",
            "  Downloading tokenizers-0.13.3-cp310-cp310-manylinux_2_17_x86_64.manylinux2014_x86_64.whl (7.8 MB)\n",
            "\u001b[2K     \u001b[90m━━━━━━━━━━━━━━━━━━━━━━━━━━━━━━━━━━━━━━━━\u001b[0m \u001b[32m7.8/7.8 MB\u001b[0m \u001b[31m89.5 MB/s\u001b[0m eta \u001b[36m0:00:00\u001b[0m\n",
            "\u001b[?25hRequirement already satisfied: filelock in /usr/local/lib/python3.10/dist-packages (from transformers) (3.12.0)\n",
            "Requirement already satisfied: packaging>=20.0 in /usr/local/lib/python3.10/dist-packages (from transformers) (23.1)\n",
            "Requirement already satisfied: typing-extensions>=3.7.4.3 in /usr/local/lib/python3.10/dist-packages (from huggingface-hub<1.0,>=0.11.0->transformers) (4.5.0)\n",
            "Requirement already satisfied: fsspec in /usr/local/lib/python3.10/dist-packages (from huggingface-hub<1.0,>=0.11.0->transformers) (2023.4.0)\n",
            "Requirement already satisfied: idna<4,>=2.5 in /usr/local/lib/python3.10/dist-packages (from requests->transformers) (3.4)\n",
            "Requirement already satisfied: charset-normalizer~=2.0.0 in /usr/local/lib/python3.10/dist-packages (from requests->transformers) (2.0.12)\n",
            "Requirement already satisfied: certifi>=2017.4.17 in /usr/local/lib/python3.10/dist-packages (from requests->transformers) (2022.12.7)\n",
            "Requirement already satisfied: urllib3<1.27,>=1.21.1 in /usr/local/lib/python3.10/dist-packages (from requests->transformers) (1.26.15)\n",
            "Installing collected packages: tokenizers, huggingface-hub, transformers\n",
            "Successfully installed huggingface-hub-0.14.1 tokenizers-0.13.3 transformers-4.28.1\n"
          ]
        }
      ]
    },
    {
      "cell_type": "code",
      "source": [
        "from transformers import BertTokenizer\n",
        "\n",
        "tokenizer = BertTokenizer.from_pretrained('bert-base-uncased')"
      ],
      "metadata": {
        "id": "e0tpHBlVc5ME",
        "colab": {
          "base_uri": "https://localhost:8080/",
          "height": 113,
          "referenced_widgets": [
            "3c6a718c19b5402d968233c6a8eb650f",
            "0c51f55d158f4dc0a41bdb49302409b3",
            "4e11c00be56e4ddfb4884cc52c7ccd4f",
            "5596d97b058b422f9afd84a589a8b3d0",
            "c8d7250748b94541ab2a908eb1ca5e7c",
            "ee31ff0aef1744a6b50950202f5db499",
            "def320559a644337abcdb31a0fa94940",
            "c037868900a244a99d3cda3443688297",
            "548492a9899249bdae103b7b4c529205",
            "dbfc6284e313406683eba6d13ccf5747",
            "1f2ed9c6370e4003882dbde31683d3d5",
            "f8869a3086e24b7589c4f019cba58d59",
            "63cd12b3908f4fcfbee4246f0f364cd3",
            "dd94d5f21a9f4d7fac6a8ef4103d03c9",
            "3dd0f8edfacf498dab9a83e3317ab0cc",
            "3460890e66c547f6b12ebbb88f9406de",
            "ae9d9664956348949233db5ba60746ab",
            "99e8e60e78874ff3832d5d9e41b14bae",
            "72267744eafd442e8e53d73bd472146e",
            "3b3574204f38438bae5b2fc0fca1bea2",
            "089ae64cf60848d1bd57b67f2fccda95",
            "36311feeec1e489fa6c1a5f7911bf873",
            "0b51cabe8aeb43fd983c93baadeff7d3",
            "8570c87f43f14d96b6589eee68de0728",
            "7e3272bf25c94171b5c62f8ebc03c191",
            "6039d33781994e8bbe8c48ec215e6e2b",
            "dea814815e354ef0829b2e94965a7764",
            "8d1b52b3e9474e36bc4415516854c825",
            "18038f29ed014bca95deb0a982c3d929",
            "5c37a624e2fe432092a9f7ba2adba407",
            "e1fa532e918349b7b5addceae6965d16",
            "46f4979f4e724272be0fa3186743c6e7",
            "66466a5704d14761b9f92af976a7d9cb"
          ]
        },
        "outputId": "476e294b-c697-4ae3-ce4f-e8250867018d"
      },
      "execution_count": 14,
      "outputs": [
        {
          "output_type": "display_data",
          "data": {
            "text/plain": [
              "Downloading (…)solve/main/vocab.txt:   0%|          | 0.00/232k [00:00<?, ?B/s]"
            ],
            "application/vnd.jupyter.widget-view+json": {
              "version_major": 2,
              "version_minor": 0,
              "model_id": "3c6a718c19b5402d968233c6a8eb650f"
            }
          },
          "metadata": {}
        },
        {
          "output_type": "display_data",
          "data": {
            "text/plain": [
              "Downloading (…)okenizer_config.json:   0%|          | 0.00/28.0 [00:00<?, ?B/s]"
            ],
            "application/vnd.jupyter.widget-view+json": {
              "version_major": 2,
              "version_minor": 0,
              "model_id": "f8869a3086e24b7589c4f019cba58d59"
            }
          },
          "metadata": {}
        },
        {
          "output_type": "display_data",
          "data": {
            "text/plain": [
              "Downloading (…)lve/main/config.json:   0%|          | 0.00/570 [00:00<?, ?B/s]"
            ],
            "application/vnd.jupyter.widget-view+json": {
              "version_major": 2,
              "version_minor": 0,
              "model_id": "0b51cabe8aeb43fd983c93baadeff7d3"
            }
          },
          "metadata": {}
        }
      ]
    },
    {
      "cell_type": "code",
      "source": [
        "init_token = tokenizer.cls_token\n",
        "eos_token = tokenizer.sep_token\n",
        "pad_token = tokenizer.pad_token\n",
        "unk_token = tokenizer.unk_token\n",
        "init_token_idx = tokenizer.cls_token_id\n",
        "eos_token_idx = tokenizer.sep_token_id\n",
        "pad_token_idx = tokenizer.pad_token_id\n",
        "unk_token_idx = tokenizer.unk_token_id\n",
        "\n",
        "print(init_token, eos_token, pad_token, unk_token)\n"
      ],
      "metadata": {
        "colab": {
          "base_uri": "https://localhost:8080/"
        },
        "id": "7fCVWrGCc5Jb",
        "outputId": "1fea6e93-73b3-401c-9ca3-fdaedf94c7c3"
      },
      "execution_count": 15,
      "outputs": [
        {
          "output_type": "stream",
          "name": "stdout",
          "text": [
            "[CLS] [SEP] [PAD] [UNK]\n"
          ]
        }
      ]
    },
    {
      "cell_type": "code",
      "source": [
        "max_input_length = tokenizer.max_model_input_sizes['bert-base-uncased']\n",
        "\n",
        "def tokenize_and_cut(sentence):\n",
        "    tokens = tokenizer.tokenize(sentence) \n",
        "    tokens = tokens[:max_input_length-2]\n",
        "    return tokens\n",
        "\n"
      ],
      "metadata": {
        "id": "1SwMYr4Uc5HR"
      },
      "execution_count": 16,
      "outputs": []
    },
    {
      "cell_type": "code",
      "source": [
        "# import torch\n",
        "# import random\n",
        "# from torchtext import datasets\n",
        "# from torchtext.data.functional import to_map_style_dataset\n",
        "\n",
        "train_dataset  = to_map_style_dataset(train.values)\n",
        "# y_train_dataset = to_map_style_dataset(y_train_2)\n",
        "val_dataset  = to_map_style_dataset(val.values)\n",
        "# y_val_dataset = to_map_style_dataset(y_val_2)\n",
        "test_dataset   = to_map_style_dataset(test.values)\n",
        "# y_test_dataset = to_map_style_dataset(y_test_2)\n",
        "\n",
        "train_dataset = list(train_dataset)\n",
        "val_dataset = list(val_dataset)\n",
        "test_dataset = list(test_dataset)"
      ],
      "metadata": {
        "id": "NzIl276gicpw"
      },
      "execution_count": 17,
      "outputs": []
    },
    {
      "cell_type": "code",
      "source": [
        "# from torch.utils.data import DataLoader,Sampler\n",
        "# from torch.nn.utils.rnn import pad_sequence\n",
        "\n",
        "BATCH_SIZE = 32\n",
        "\n",
        "\n",
        "# integrate headline and articlebody in this step\n",
        "def vectorize_batch(batch):\n",
        "    '''Take a batch of (text,label) pairs and return tensors ready for input to the model.'''\n",
        "    label_list, text_list = [], []\n",
        "    # train_dataset_c[0]['Headline'][0]    \n",
        "    for (headline, body,stance) in batch:\n",
        "    # for item in batch:\n",
        "    #   headline, body, stance, *_ = item  # unpack only the first 3 values of the tuple\n",
        "      # Use a for loop to iterate over each row in the dataframe\n",
        "      # for i in range (len(X_train_bert)):\n",
        "        # Add the new string to the new_column_values list\n",
        "      label_list.append(int(stance))\n",
        "      tokens = tokenizer.convert_tokens_to_ids(tokenize_and_cut(headline))\n",
        "      tokens1 = tokenizer.convert_tokens_to_ids(tokenize_and_cut(body))\n",
        "      tokens1 = tokens1[0:max_input_length]\n",
        "      text_list.append(torch.tensor(tokens))\n",
        "      # print(text_list)\n",
        "    return pad_sequence(text_list,\n",
        "                        padding_value=pad_token_idx,\n",
        "                        batch_first=True), torch.tensor(label_list)\n",
        "                                      \n",
        "class BucketSampler(Sampler):\n",
        "    def __init__(self, dataset, batch_size):\n",
        "        # train_list = list(dataset)\n",
        "        indices = [(i, len(tokenizer(s[0]))) for i, s in enumerate(dataset)]\n",
        "        random.shuffle(indices)\n",
        "        self.batch_size = batch_size\n",
        "        \n",
        "        # create pool of indices with similar lengths \n",
        "        self.pooled_indices = []\n",
        "        for i in range(0, len(indices), self.batch_size * 100):\n",
        "            self.pooled_indices.extend(sorted(indices[i:i + self.batch_size * 100], key=lambda x: x[1]))\n",
        "        self.pooled_indices = [x[0] for x in self.pooled_indices]\n",
        "        \n",
        "    def __iter__(self):\n",
        "        self.count = 0\n",
        "        return self\n",
        "    \n",
        "    def __next__(self):\n",
        "        # yield indices for current batch\n",
        "        if self.count >= len(self.pooled_indices)-self.batch_size:\n",
        "            raise StopIteration\n",
        "        self.count += 1\n",
        "        \n",
        "        for i in range(0, len(self.pooled_indices), self.batch_size):\n",
        "            return self.pooled_indices[self.count:self.count + self.batch_size]\n",
        "        \n",
        "    def __len__(self):\n",
        "        return len(self.pooled_indices)\n",
        "\n",
        "\n",
        "train_iterator  = DataLoader(train_dataset, collate_fn=vectorize_batch, batch_size=BATCH_SIZE)\n",
        "val_iterator  = DataLoader(val_dataset, collate_fn=vectorize_batch, batch_size=BATCH_SIZE)\n",
        "test_iterator   = DataLoader(test_dataset,  collate_fn=vectorize_batch, batch_size=BATCH_SIZE)\n"
      ],
      "metadata": {
        "id": "9I-dCgOgc5E4"
      },
      "execution_count": 18,
      "outputs": []
    },
    {
      "cell_type": "code",
      "source": [
        "# for x,y in val_iterator:\n",
        "#   print(y)"
      ],
      "metadata": {
        "id": "6x736oilyWxo"
      },
      "execution_count": 19,
      "outputs": []
    },
    {
      "cell_type": "code",
      "source": [
        "# train_iterator\n",
        "# len(train_iterator)"
      ],
      "metadata": {
        "id": "GQcVF0EDeXuV"
      },
      "execution_count": 20,
      "outputs": []
    },
    {
      "cell_type": "code",
      "source": [
        "train_text_bert = []\n",
        "train_target_bert = []\n",
        "\n",
        "for i, (train_text_1, train_target_1) in enumerate(train_iterator):\n",
        "    for e in train_text_1.tolist():\n",
        "      train_text_bert.append(e)\n",
        "    for e in train_target_1.tolist():\n",
        "      train_target_bert.append(e)\n",
        "\n",
        "val_text_bert = []\n",
        "val_target_bert = []\n",
        "\n",
        "for i, (val_text_1, val_target_1) in enumerate(val_iterator):\n",
        "    for e in val_text_1.tolist():\n",
        "      val_text_bert.append(e)\n",
        "    for e in val_target_1.tolist():\n",
        "      val_target_bert.append(e)\n",
        "\n",
        "test_text_bert = []\n",
        "test_target_bert = []\n",
        "\n",
        "for i, (test_text_1, test_target_1) in enumerate(test_iterator):\n",
        "    for e in test_text_1.tolist():\n",
        "      test_text_bert.append(e)\n",
        "    for e in test_target_1.tolist():\n",
        "      test_target_bert.append(e)"
      ],
      "metadata": {
        "id": "kuVwYV086RW3"
      },
      "execution_count": 21,
      "outputs": []
    },
    {
      "cell_type": "markdown",
      "source": [
        "Build the Naive Bayes for TF-IDF"
      ],
      "metadata": {
        "id": "Q-OmxwM2vKh_"
      }
    },
    {
      "cell_type": "code",
      "source": [
        "#Import the liberary\n",
        "import seaborn as sn\n",
        "%matplotlib inline\n",
        "from sklearn import metrics\n",
        "from sklearn.metrics import confusion_matrix,accuracy_score,roc_auc_score,roc_curve,auc,f1_score"
      ],
      "metadata": {
        "id": "56xwjHJlTys_"
      },
      "execution_count": 34,
      "outputs": []
    },
    {
      "cell_type": "code",
      "source": [
        "# Create the confusion matrix\n",
        "def plot_confusion_matrix(y_test, y_pred):\n",
        "    ''' Plot the confusion matrix for the target labels and predictions '''\n",
        "    cm = confusion_matrix(y_test, y_pred)\n",
        "\n",
        "    # Create a dataframe with the confusion matrix values\n",
        "    df_cm = pd.DataFrame(cm, range(cm.shape[0]),\n",
        "                  range(cm.shape[1]))\n",
        "\n",
        "    # Plot the confusion matrix\n",
        "    sn.set(font_scale=1.4) # for label size\n",
        "    sn.heatmap(df_cm, annot=True,fmt='.0f',cmap=\"YlGnBu\",annot_kws={\"size\": 10}) # font size\n",
        "    plt.show()\n",
        "\n",
        "def plot_roc_curve(y_test, y_pred):\n",
        "    ''' Plot the ROC curve for the target labels and predictions'''\n",
        "    fpr, tpr, thresholds = roc_curve(y_test, y_pred, pos_label=1)\n",
        "    roc_auc= auc(fpr,tpr)\n",
        "    plt.figure(figsize=(12, 12))\n",
        "    ax = plt.subplot(121)\n",
        "    ax.set_aspect(1)\n",
        "    \n",
        "    plt.title('Receiver Operating Characteristic')\n",
        "    plt.plot(fpr, tpr, 'b', label = 'AUC = %0.2f' % roc_auc)\n",
        "    plt.legend(loc = 'lower right')\n",
        "    plt.plot([0, 1], [0, 1],'r--')\n",
        "    plt.xlim([0, 1])\n",
        "    plt.ylim([0, 1])\n",
        "    plt.ylabel('True Positive Rate')\n",
        "    plt.xlabel('False Positive Rate')\n",
        "    plt.show()"
      ],
      "metadata": {
        "id": "ZhVVb_Z-ACz2"
      },
      "execution_count": 35,
      "outputs": []
    },
    {
      "cell_type": "code",
      "source": [
        "# create the model, train it on the train dataset and print the scores\n",
        "from sklearn.naive_bayes import GaussianNB\n",
        "\n",
        "model = GaussianNB() #MultinomialNB() #GaussianNB()\n",
        "model.fit(train_features.toarray(), train_target)\n",
        "print(\"Train score:\", model.score(train_features.toarray(), train_target))\n",
        "# print(\"Validation score:\", model.score(val_features.toarray(), val_target))\n",
        "print(\"Test score:\", model.score(test_features.toarray(), test_target))"
      ],
      "metadata": {
        "colab": {
          "base_uri": "https://localhost:8080/"
        },
        "id": "-RPd-2lVvQc5",
        "outputId": "5d51962d-7e0b-4255-865c-6235e4039252"
      },
      "execution_count": 42,
      "outputs": [
        {
          "output_type": "stream",
          "name": "stdout",
          "text": [
            "Train score: 0.8755\n",
            "Test score: 0.825\n"
          ]
        }
      ]
    },
    {
      "cell_type": "code",
      "source": [
        "y_pred = model.predict(test_features.toarray())\n",
        "#print the classification report to highlight the accuracy with f1-score, precision and recall\n",
        "\n",
        "print(metrics.classification_report(test_target, y_pred))\n",
        "plot_confusion_matrix(test_target, y_pred)\n",
        "plot_roc_curve(test_target, y_pred)"
      ],
      "metadata": {
        "colab": {
          "base_uri": "https://localhost:8080/",
          "height": 1000
        },
        "id": "Qm8-n2LWvQZl",
        "outputId": "f15fab2a-3832-4784-ee8d-f139c0298557"
      },
      "execution_count": 37,
      "outputs": [
        {
          "output_type": "stream",
          "name": "stdout",
          "text": [
            "              precision    recall  f1-score   support\n",
            "\n",
            "           0       0.95      0.84      0.90       895\n",
            "           1       0.33      0.66      0.44       105\n",
            "\n",
            "    accuracy                           0.82      1000\n",
            "   macro avg       0.64      0.75      0.67      1000\n",
            "weighted avg       0.89      0.82      0.85      1000\n",
            "\n"
          ]
        },
        {
          "output_type": "display_data",
          "data": {
            "text/plain": [
              "<Figure size 640x480 with 2 Axes>"
            ],
            "image/png": "[encoded data removed]"
          },
          "metadata": {}
        },
        {
          "output_type": "display_data",
          "data": {
            "text/plain": [
              "<Figure size 1200x1200 with 1 Axes>"
            ],
            "image/png": "[encoded data removed]"
          },
          "metadata": {}
        }
      ]
    },
    {
      "cell_type": "code",
      "source": [
        "print(type(test_text_bert))"
      ],
      "metadata": {
        "id": "TigPUvl3DpmK",
        "colab": {
          "base_uri": "https://localhost:8080/"
        },
        "outputId": "03432bdc-04ad-4729-f1f4-e2948cfd1db4"
      },
      "execution_count": 38,
      "outputs": [
        {
          "output_type": "stream",
          "name": "stdout",
          "text": [
            "<class 'list'>\n"
          ]
        }
      ]
    },
    {
      "cell_type": "markdown",
      "source": [
        "Build the Bayes model on BERT-Model"
      ],
      "metadata": {
        "id": "yV4fdNBADp7W"
      }
    },
    {
      "cell_type": "code",
      "source": [],
      "metadata": {
        "id": "FdZ5eLJl5bWo"
      },
      "execution_count": 55,
      "outputs": []
    },
    {
      "cell_type": "code",
      "source": [
        "# create the model, train it on the train dataset and print the scores\n",
        "model = GaussianNB() #MultinomialNB()  #GaussianNB()\n",
        "model.fit(train_text_bert, train_target_bert)\n",
        "print(\"Train score:\", model.score(train_text_bert, train_target_bert))\n",
        "# print(\"Validation score:\", model.score(val_text_bert, val_target_bert))\n",
        "print(\"Test score:\", model.score(test_text_bert, test_target_bert))"
      ],
      "metadata": {
        "colab": {
          "base_uri": "https://localhost:8080/"
        },
        "id": "VAlsdJ0aJQMV",
        "outputId": "63a539c1-9618-4dc2-8152-4586be6a83cb"
      },
      "execution_count": 40,
      "outputs": [
        {
          "output_type": "stream",
          "name": "stdout",
          "text": [
            "Train score: 0.773875\n",
            "Test score: 0.773\n"
          ]
        }
      ]
    },
    {
      "cell_type": "code",
      "source": [
        "y_pred = model.predict(test_text_bert)\n",
        "#print the classification report to highlight the accuracy with f1-score, precision and recall\n",
        "\n",
        "print(metrics.classification_report(test_target_bert, y_pred))\n",
        "plot_confusion_matrix(test_target_bert, y_pred)\n",
        "plot_roc_curve(test_target_bert, y_pred)"
      ],
      "metadata": {
        "colab": {
          "base_uri": "https://localhost:8080/",
          "height": 1000
        },
        "id": "hXO2GCtxvQU6",
        "outputId": "345f64f5-310f-4871-e449-a9e5ced11dd2"
      },
      "execution_count": 41,
      "outputs": [
        {
          "output_type": "stream",
          "name": "stdout",
          "text": [
            "              precision    recall  f1-score   support\n",
            "\n",
            "           0       0.93      0.81      0.86       895\n",
            "           1       0.23      0.50      0.31       105\n",
            "\n",
            "    accuracy                           0.77      1000\n",
            "   macro avg       0.58      0.65      0.59      1000\n",
            "weighted avg       0.86      0.77      0.81      1000\n",
            "\n"
          ]
        },
        {
          "output_type": "display_data",
          "data": {
            "text/plain": [
              "<Figure size 640x480 with 2 Axes>"
            ],
            "image/png": "[encoded data removed]"
          },
          "metadata": {}
        },
        {
          "output_type": "display_data",
          "data": {
            "text/plain": [
              "<Figure size 1200x1200 with 1 Axes>"
            ],
            "image/png": "[encoded data removed]"
          },
          "metadata": {}
        }
      ]
    },
    {
      "cell_type": "code",
      "source": [],
      "metadata": {
        "id": "Mt2zkt0iEivo"
      },
      "execution_count": 124,
      "outputs": []
    },
    {
      "cell_type": "markdown",
      "source": [
        "LSTM model for TF-IDF"
      ],
      "metadata": {
        "id": "ZveqhWPl9Cy2"
      }
    },
    {
      "cell_type": "code",
      "source": [
        "import matplotlib.pyplot as plt\n",
        "import torch\n",
        "from torchtext import data\n",
        "import torch.nn as nn\n",
        "from torch.nn.utils.rnn import pack_padded_sequence, pad_packed_sequence\n",
        "import torch.optim as optim\n",
        "from sklearn.metrics import accuracy_score, classification_report, confusion_matrix\n",
        "import seaborn as sns\n",
        "import spacy\n",
        "from torchdata.datapipes.iter import FileOpener, IterableWrapper, CSVParser\n",
        "import os\n",
        "from torch import nn\n",
        "from torch.nn import functional as F"
      ],
      "metadata": {
        "id": "yoaDqd7ZvQSq"
      },
      "execution_count": 22,
      "outputs": []
    },
    {
      "cell_type": "code",
      "source": [
        "vocab = tfidf.get_feature_names_out()\n",
        "len(vocab)"
      ],
      "metadata": {
        "colab": {
          "base_uri": "https://localhost:8080/"
        },
        "id": "nK2dpQ68NH0r",
        "outputId": "4b80c106-a728-4972-8708-c32ca1928602"
      },
      "execution_count": 23,
      "outputs": [
        {
          "output_type": "execute_result",
          "data": {
            "text/plain": [
              "13615"
            ]
          },
          "metadata": {},
          "execution_count": 23
        }
      ]
    },
    {
      "cell_type": "code",
      "source": [
        "# vocab = tfidf.get_feature_names_out()\n",
        "# len(vocab)\n",
        "\n",
        "class TEXT_LSTM(nn.Module):\n",
        "    def __init__(self, dimension=64):\n",
        "        super(TEXT_LSTM, self).__init__()\n",
        "        self.embedding_layer = nn.Embedding(len(vocab), 300)\n",
        "        self.rnn = nn.LSTM(\n",
        "            input_size=300,\n",
        "            hidden_size=dimension,\n",
        "            num_layers=1,\n",
        "            bidirectional=True,\n",
        "            batch_first=True)\n",
        "        self.drop = nn.Dropout(p=0.5)\n",
        "        self.fc = nn.Linear(2*dimension, 1)\n",
        "\n",
        "    def forward(self, X_batch):\n",
        "        embeddings = self.embedding_layer(X_batch)\n",
        "        # print(1)\n",
        "        # print(embeddings)\n",
        "        # print(embeddings.shape)\n",
        "        output, hidden = self.rnn(embeddings)\n",
        "        # print(2)\n",
        "        # print(output)     \n",
        "        # print(output.shape) \n",
        "        # text_fea = self.drop(output[:,-1])\n",
        "        text_fea = self.drop(output)\n",
        "        # print(3)\n",
        "        # print(text_fea)\n",
        "        # print(type(text_fea))\n",
        "        # print(text_fea.shape)\n",
        "\n",
        "        text_fea = self.fc(text_fea)\n",
        "        # print(4)\n",
        "        text_fea = torch.squeeze(text_fea,1)\n",
        "        # print(5)\n",
        "        text_out = torch.sigmoid(text_fea)\n",
        "        # print(6)\n",
        "        return text_out\n",
        "\n",
        "    \n",
        "# Print out the layers\n",
        "model = TEXT_LSTM()\n",
        "print(\"Layers:\")\n",
        "for layer in model.children():\n",
        "    print(\"\\t{}\".format(layer))"
      ],
      "metadata": {
        "id": "PSJcIMpuvQQi",
        "colab": {
          "base_uri": "https://localhost:8080/"
        },
        "outputId": "143548bd-207d-49c4-a5b1-387dc2e6244e"
      },
      "execution_count": 24,
      "outputs": [
        {
          "output_type": "stream",
          "name": "stdout",
          "text": [
            "Layers:\n",
            "\tEmbedding(13615, 300)\n",
            "\tLSTM(300, 64, batch_first=True, bidirectional=True)\n",
            "\tDropout(p=0.5, inplace=False)\n",
            "\tLinear(in_features=128, out_features=1, bias=True)\n"
          ]
        }
      ]
    },
    {
      "cell_type": "code",
      "source": [
        "def save_checkpoint(save_path,model,optimizer,valid_loss):\n",
        "    if save_path == None:\n",
        "        return\n",
        "    state_dict ={'model_state_dict': model.state_dict(),\n",
        "                 'optimizer_state_dict': optimizer.state_dict(),\n",
        "                 'valid_loss': valid_loss}\n",
        "    torch.save(state_dict, save_path)\n",
        "    print(f'Model saved to ==> {save_path}')\n",
        "    \n",
        "def load_checkpoint(load_path,model,optimizer):\n",
        "    if load_path == None:\n",
        "        return\n",
        "    state_dict = torch.load(load_path)\n",
        "    print(f'Model loaded from <== {load_path}')\n",
        "    \n",
        "    model.load_state_dict(state_dict['model_state_dict'])\n",
        "    optimizer.load_state_dict(state_dict['optimizer_state_dict'])\n",
        "    \n",
        "    return state_dict['valid_loss']\n",
        "\n",
        "def save_metrics(save_path,train_loss_list, valid_loss_list,global_steps_list):\n",
        "    if save_path==None:\n",
        "        return\n",
        "    state_dict= {'train_loss_list': train_loss_list,\n",
        "                 'valid_loss_list': valid_loss_list,\n",
        "                 'global_steps_list': global_steps_list}\n",
        "    torch.save(state_dict, save_path)\n",
        "    print(f'Metrics saved to ==> {save_path}')\n",
        "# def save_metrics(train_loss_list, valid_loss_list, global_steps_list):\n",
        "#     metrics = {\n",
        "#         'train_loss_list': train_loss_list,\n",
        "#         'valid_loss_list': valid_loss_list,\n",
        "#         'global_steps_list': global_steps_list\n",
        "#     }\n",
        "#     return metrics\n",
        "\n",
        "    \n",
        "def load_metrics(load_path):\n",
        "    if load_path == None:\n",
        "        return \n",
        "    state_dict = torch.load(load_path)\n",
        "    print(f'Metrics loaded from <== {load_path}')\n",
        "    return state_dict['train_loss_list'],state_dict['valid_loss_list'],state_dict['global_steps_list']"
      ],
      "metadata": {
        "id": "e4msqq7evQOJ"
      },
      "execution_count": 25,
      "outputs": []
    },
    {
      "cell_type": "code",
      "source": [
        "train_loader_s = zip(train_features,train_target)\n",
        "val_loader_s = zip(val_features,val_target)\n",
        "test_loader = zip(test_features, test_target)\n",
        "device = torch.device(\"cuda\" if torch.cuda.is_available() else \"cpu\")"
      ],
      "metadata": {
        "id": "8qYGO1Dh9Khy"
      },
      "execution_count": 26,
      "outputs": []
    },
    {
      "cell_type": "code",
      "source": [
        "def train(model,\n",
        "          optimizer,):\n",
        "  \n",
        "    criterion = nn.BCELoss()\n",
        "    num_epochs = int(5)\n",
        "    eval_every = train_features.shape[0] // 2\n",
        "    file_path = \"output\"\n",
        "    best_valid_loss = float(\"Inf\")\n",
        "    # Initial running values\n",
        "    running_loss = 0.0\n",
        "    valid_running_loss = 0.0\n",
        "    global_step = 0\n",
        "    train_loss_list=[]\n",
        "    valid_loss_list = []\n",
        "    global_steps_list = []\n",
        "    # Training Loop\n",
        "    model.train()\n",
        "    for epoch in range(num_epochs):\n",
        "        # print(epoch)\n",
        "        losses = []\n",
        "        for text, labels in zip(train_features,train_target):\n",
        "            # print(train_loader_tf)\n",
        "            # print(text)\n",
        "            # print(global_step)\n",
        "            # print(eval_every)\n",
        "            # Move everything to the right device\n",
        "            # text = text.toarray()\n",
        "            text = torch.tensor(text.shape[0])\n",
        "            labels = torch.tensor(labels)\n",
        "            text   = text.unsqueeze(-1).to(device)\n",
        "            labels = labels.to(device)\n",
        "            \n",
        "            # Forward pass\n",
        "            output = model(text.long())\n",
        "            # print(output.size())\n",
        "            # print(labels.size())\n",
        "            # Calculate loss\n",
        "\n",
        "            loss = criterion(output, labels.float().view(-1,1).squeeze(0))\n",
        "            # output.to(torch.float32), labels.to(torch.float32)\n",
        "            # loss = criterion(output.to(torch.float32), labels.to(torch.float32))\n",
        "            losses.append(loss.item())\n",
        "\n",
        "            # Backward pass\n",
        "            optimizer.zero_grad()\n",
        "            loss.backward()\n",
        "            optimizer.step()\n",
        "            \n",
        "            # Update running values\n",
        "            running_loss += loss.item()\n",
        "            global_step  += 1\n",
        "            # print(global_step)\n",
        "            # print(eval_every)\n",
        "            # Evaluation step\n",
        "            if global_step % eval_every == 0:\n",
        "                model.eval()\n",
        "                with torch.no_grad():\n",
        "                    # Validation loop\n",
        "                    valid_losses = []\n",
        "                    for text, labels in zip(val_features,val_target):\n",
        "                        text = torch.tensor(text.shape[0])\n",
        "                        labels = torch.tensor(labels)\n",
        "                        text   = text.unsqueeze(-1).to(device)\n",
        "                        labels = labels.to(device)\n",
        "                        output = model(text.long())\n",
        "                        loss = criterion(output, labels.float().view(-1,1).squeeze(0))\n",
        "                        valid_losses.append(loss.item())\n",
        "                        # loss = criterion(output.to(torch.float32), labels.to(torch.float32))\n",
        "                        valid_running_loss += loss.item()\n",
        "                    \n",
        "                # Evaluation\n",
        "                average_train_loss = running_loss/eval_every\n",
        "                average_valid_loss = valid_running_loss/len(text) #valid_loader\n",
        "                train_loss_list.append(average_train_loss)\n",
        "                valid_loss_list.append(average_valid_loss)\n",
        "                global_steps_list.append(global_step)\n",
        "\n",
        "                # Resetting running values\n",
        "                running_loss = 0.0\n",
        "                valid_running_loss = 0.0\n",
        "                model.train()\n",
        "                # print(epoch)\n",
        "                print('Epoch[{}/{}], Step [{}/{}], Train loss:{:.4f}, Valid loss:{:.4f}'.format(\n",
        "                epoch+1, num_epochs, global_step, num_epochs*len(text),average_train_loss,\n",
        "                    average_valid_loss))\n",
        "\n",
        "                # Checkpoint\n",
        "\n",
        "                # if best_valid_loss > average_valid_loss:\n",
        "                best_valid_loss = average_valid_loss\n",
        "                save_checkpoint(file_path+'/model.pt', model, optimizer, best_valid_loss)\n",
        "                save_metrics(file_path+'/model.pt',train_loss_list,valid_loss_list,global_steps_list)\n",
        "                    # file_path+'/model.pt'\n",
        "          # metrics = save_metrics(file_path+'/model.pt',train_loss_list,valid_loss_list,global_steps_list)\n",
        "          # print('Training is Done!')\n",
        "    # double-check whether any data is in these three elements \n",
        "          # \n",
        "    # file_path+'/metrics.pt',\n",
        "    print('Epoch {} done'.format(epoch+1))\n",
        "\n",
        "    metrics = save_metrics(\"output\"+'/model.pt',train_loss_list,valid_loss_list,global_steps_list)\n",
        "    print('Training is Done!')\n",
        "    return train_loss_list,valid_loss_list,global_steps_list\n",
        "loss_fn = nn.BCELoss()\n",
        "optimizer = optim.Adam(model.parameters(), lr=1e-3)\n",
        "model = model.to(device)\n",
        "train_loss_list,valid_loss_list,global_steps_list = train(model, optimizer) #, file_path=destination_folder\n",
        "# file_path=\"output\""
      ],
      "metadata": {
        "colab": {
          "base_uri": "https://localhost:8080/"
        },
        "id": "z2a2wUJ99Kb6",
        "outputId": "fa295104-1b44-4745-a16e-812e82c010cf"
      },
      "execution_count": 27,
      "outputs": [
        {
          "output_type": "stream",
          "name": "stdout",
          "text": [
            "Epoch[1/5], Step [4000/5], Train loss:0.3345, Valid loss:304.9929\n",
            "Model saved to ==> output/model.pt\n",
            "Metrics saved to ==> output/model.pt\n",
            "Epoch[1/5], Step [8000/5], Train loss:0.3513, Valid loss:305.9491\n",
            "Model saved to ==> output/model.pt\n",
            "Metrics saved to ==> output/model.pt\n",
            "Epoch[2/5], Step [12000/5], Train loss:0.3302, Valid loss:304.8455\n",
            "Model saved to ==> output/model.pt\n",
            "Metrics saved to ==> output/model.pt\n",
            "Epoch[2/5], Step [16000/5], Train loss:0.3512, Valid loss:306.5671\n",
            "Model saved to ==> output/model.pt\n",
            "Metrics saved to ==> output/model.pt\n",
            "Epoch[3/5], Step [20000/5], Train loss:0.3306, Valid loss:305.3224\n",
            "Model saved to ==> output/model.pt\n",
            "Metrics saved to ==> output/model.pt\n",
            "Epoch[3/5], Step [24000/5], Train loss:0.3535, Valid loss:306.5450\n",
            "Model saved to ==> output/model.pt\n",
            "Metrics saved to ==> output/model.pt\n",
            "Epoch[4/5], Step [28000/5], Train loss:0.3302, Valid loss:304.8533\n",
            "Model saved to ==> output/model.pt\n",
            "Metrics saved to ==> output/model.pt\n",
            "Epoch[4/5], Step [32000/5], Train loss:0.3485, Valid loss:305.9724\n",
            "Model saved to ==> output/model.pt\n",
            "Metrics saved to ==> output/model.pt\n",
            "Epoch[5/5], Step [36000/5], Train loss:0.3302, Valid loss:304.9042\n",
            "Model saved to ==> output/model.pt\n",
            "Metrics saved to ==> output/model.pt\n",
            "Epoch[5/5], Step [40000/5], Train loss:0.3492, Valid loss:308.4136\n",
            "Model saved to ==> output/model.pt\n",
            "Metrics saved to ==> output/model.pt\n",
            "Epoch 5 done\n",
            "Metrics saved to ==> output/model.pt\n",
            "Training is Done!\n"
          ]
        }
      ]
    },
    {
      "cell_type": "code",
      "source": [
        "# Examine model training\n",
        "# metrics = save_metrics(\"output/model.pt\",train_loss_list, valid_loss_list, global_steps_list)\n",
        "# train_loss_list, valid_loss_list, global_steps_list = load_metrics(destination_folder+'/metrics.pt')\n",
        "\n",
        "# metrics = save_metrics(file_path+'/model.pt',train_loss_list, valid_loss_list, global_steps_list)\n",
        "\n",
        "plt.plot(global_steps_list, valid_loss_list, label='Valid')\n",
        "plt.plot(global_steps_list, train_loss_list, label='Train')\n",
        "plt.xlabel('Global Steps')\n",
        "plt.ylabel('Loss')\n",
        "plt.legend()\n",
        "plt.show()\n",
        "\n",
        "# plt.plot(metrics['global_steps_list'], metrics['train_loss_list'], label='Train')"
      ],
      "metadata": {
        "colab": {
          "base_uri": "https://localhost:8080/",
          "height": 453
        },
        "id": "BwrUrl-_9KZF",
        "outputId": "8829d0d6-d561-4e46-b67b-50e16128d3e8"
      },
      "execution_count": 28,
      "outputs": [
        {
          "output_type": "display_data",
          "data": {
            "text/plain": [
              "<Figure size 640x480 with 1 Axes>"
            ],
            "image/png": "[encoded data removed]"
          },
          "metadata": {}
        }
      ]
    },
    {
      "cell_type": "markdown",
      "source": [
        "Evaluation"
      ],
      "metadata": {
        "id": "cvofxMQOQKl6"
      }
    },
    {
      "cell_type": "code",
      "source": [
        "def evaluate(model, test_loader, version='title', threshold=0.5):\n",
        "    y_pred = []\n",
        "    y_true = []\n",
        "    model.eval()\n",
        "    with torch.no_grad():\n",
        "        for text, labels in test_loader:\n",
        "            # text = text.to(device)\n",
        "            # labels = labels.to(device)\n",
        "            # output = model(text.long())\n",
        "            # output = (output > threshold).int()\n",
        "            # y_pred.extend(output.tolist())\n",
        "            # y_true.extend(labels.cpu().tolist())\n",
        "                                  \n",
        "            \n",
        "            text = torch.tensor(text.shape[0])\n",
        "            labels = torch.tensor(labels)\n",
        "            text   = text.unsqueeze(-1).to(device) #device\n",
        "            labels = labels.to(device) #device\n",
        "            output = model(text.long())\n",
        "\n",
        "            output = (output > threshold).int()\n",
        "            y_pred.extend(output.tolist())\n",
        "            y_true.append(labels)\n",
        "\n",
        "\n",
        "\n",
        "            # text = torch.tensor(text.shape[0])\n",
        "            #             labels = torch.tensor(labels)\n",
        "            #             text   = text.unsqueeze(-1).to(device)\n",
        "            #             labels = labels.to(device)\n",
        "            #             output = model(text.long())\n",
        "            # print(labels)\n",
        "            # labels = labels.to(device)\n",
        "            # text   = text.unsqueeze(-1).to(device)\n",
        "            # text = text.to(device)\n",
        "            #text_len = text_len.to(device)\n",
        "            # output = model(text.long()).numpy()\n",
        "            \n",
        "            # y_true = [label.item() for label in labels]\n",
        "\n",
        "            # y_true.append(labels)\n",
        "            \n",
        "            # y_true.extend(labels.tolist())\n",
        "            \n",
        "    \n",
        "    print('Classification Report:')\n",
        "    print(classification_report(y_true,y_pred,labels=[1,0], digits=4))\n",
        "    \n",
        "    cm = confusion_matrix(y_true,y_pred,labels=[1,0])\n",
        "    ax = plt.subplot()\n",
        "    sns.heatmap(cm,annot=True, ax=ax,cmap='Blues',fmt='d')\n",
        "    \n",
        "    ax.set_title('Confusion Matrix')\n",
        "    ax.set_xlabel('Predicated Labels')\n",
        "    ax.set_ylabel('True Labels')\n",
        "    \n",
        "    ax.xaxis.set_ticklabels(['Real','Irrelevant'])\n",
        "    ax.yaxis.set_ticklabels(['Real','Irrelevant'])"
      ],
      "metadata": {
        "id": "tuLSVo4ImQkk"
      },
      "execution_count": 29,
      "outputs": []
    },
    {
      "cell_type": "code",
      "source": [
        "# print(y_pred())"
      ],
      "metadata": {
        "id": "jmbZJT9plAJ-"
      },
      "execution_count": 30,
      "outputs": []
    },
    {
      "cell_type": "code",
      "source": [
        "# tensor_on_cpu = tensor_on_gpu.cpu()\n",
        "# numpy_array = tensor_on_cpu.numpy()"
      ],
      "metadata": {
        "id": "zrWcJxDghwog"
      },
      "execution_count": 31,
      "outputs": []
    },
    {
      "cell_type": "code",
      "source": [
        "best_model = TEXT_LSTM().to(device)\n",
        "optimizer = optim.Adam(best_model.parameters(), lr = 0.001)\n",
        "# load_checkpoint(destination_folder+'/model.pt',best_model,optimizer)\n",
        "evaluate(best_model, test_loader)"
      ],
      "metadata": {
        "colab": {
          "base_uri": "https://localhost:8080/",
          "height": 657
        },
        "id": "HKDEZLynQHbl",
        "outputId": "d3853b87-cc90-4a94-9bd0-9b84b3e01dcb"
      },
      "execution_count": 32,
      "outputs": [
        {
          "output_type": "stream",
          "name": "stdout",
          "text": [
            "Classification Report:\n",
            "              precision    recall  f1-score   support\n",
            "\n",
            "           1     0.1050    1.0000    0.1900       105\n",
            "           0     0.0000    0.0000    0.0000       895\n",
            "\n",
            "    accuracy                         0.1050      1000\n",
            "   macro avg     0.0525    0.5000    0.0950      1000\n",
            "weighted avg     0.0110    0.1050    0.0200      1000\n",
            "\n"
          ]
        },
        {
          "output_type": "display_data",
          "data": {
            "text/plain": [
              "<Figure size 640x480 with 2 Axes>"
            ],
            "image/png": "[encoded data removed]"
          },
          "metadata": {}
        }
      ]
    },
    {
      "cell_type": "markdown",
      "source": [
        "LSTM model for Bert"
      ],
      "metadata": {
        "id": "DfctPOeS5UPn"
      }
    },
    {
      "cell_type": "code",
      "source": [
        "# vocab_bert = tfidf.get_feature_names_out()\n",
        "# len(vocab)\n",
        "\n",
        "# from transformers import BertTokenizer\n",
        "\n",
        "# tokenizer = BertTokenizer.from_pretrained('bert-base-uncased')\n",
        "device = torch.device(\"cuda\" if torch.cuda.is_available() else \"cpu\")\n",
        "vocab_bert = tokenizer.get_vocab()\n",
        "len(vocab_bert)"
      ],
      "metadata": {
        "colab": {
          "base_uri": "https://localhost:8080/"
        },
        "id": "_ubra1r8R446",
        "outputId": "6df3a693-e635-4bd2-c965-21c5fdc40fec"
      },
      "execution_count": 78,
      "outputs": [
        {
          "output_type": "execute_result",
          "data": {
            "text/plain": [
              "30522"
            ]
          },
          "metadata": {},
          "execution_count": 78
        }
      ]
    },
    {
      "cell_type": "code",
      "source": [
        "# vocab = tfidf.get_feature_names_out()\n",
        "# len(vocab)\n",
        "\n",
        "class TEXT_LSTM(nn.Module):\n",
        "    def __init__(self, dimension=64):\n",
        "        super(TEXT_LSTM, self).__init__()\n",
        "        self.embedding_layer = nn.Embedding(len(vocab_bert), 300)\n",
        "        self.rnn = nn.LSTM(\n",
        "            input_size=300,\n",
        "            hidden_size=dimension,\n",
        "            num_layers=1,\n",
        "            bidirectional=True,\n",
        "            batch_first=True)\n",
        "        self.drop = nn.Dropout(p=0.5)\n",
        "        self.fc = nn.Linear(2*dimension, 2)\n",
        "\n",
        "    def forward(self, X_batch):\n",
        "        embeddings = self.embedding_layer(X_batch)\n",
        "        output, hidden = self.rnn(embeddings)\n",
        "        text_fea = self.drop(output[:,-1])\n",
        "        # text_fea = self.drop(output)\n",
        "        text_fea = self.fc(text_fea)\n",
        "        text_fea = torch.squeeze(text_fea,1)\n",
        "        # text_fea = torch.squeeze(text_fea)\n",
        "        text_out = torch.sigmoid(text_fea)\n",
        "        return text_out\n",
        "\n",
        "    \n",
        "# Print out the layers\n",
        "model = TEXT_LSTM()\n",
        "print(\"Layers:\")\n",
        "for layer in model.children():\n",
        "    print(\"\\t{}\".format(layer))"
      ],
      "metadata": {
        "colab": {
          "base_uri": "https://localhost:8080/"
        },
        "id": "7u-8llDsRrPO",
        "outputId": "f7414f88-2653-4519-ea00-543e3a2eb56e"
      },
      "execution_count": 79,
      "outputs": [
        {
          "output_type": "stream",
          "name": "stdout",
          "text": [
            "Layers:\n",
            "\tEmbedding(30522, 300)\n",
            "\tLSTM(300, 64, batch_first=True, bidirectional=True)\n",
            "\tDropout(p=0.5, inplace=False)\n",
            "\tLinear(in_features=128, out_features=2, bias=True)\n"
          ]
        }
      ]
    },
    {
      "cell_type": "code",
      "source": [
        "def save_checkpoint(save_path,model,optimizer,valid_loss):\n",
        "    if save_path == None:\n",
        "        return\n",
        "    state_dict ={'model_state_dict': model.state_dict(),\n",
        "                 'optimizer_state_dict': optimizer.state_dict(),\n",
        "                 'valid_loss': valid_loss}\n",
        "    torch.save(state_dict, save_path)\n",
        "    print(f'Model saved to ==> {save_path}')\n",
        "    \n",
        "def load_checkpoint(load_path,model,optimizer):\n",
        "    if load_path == None:\n",
        "        return\n",
        "    state_dict = torch.load(load_path)\n",
        "    print(f'Model loaded from <== {load_path}')\n",
        "    \n",
        "    model.load_state_dict(state_dict['model_state_dict'])\n",
        "    optimizer.load_state_dict(state_dict['optimizer_state_dict'])\n",
        "    \n",
        "    return state_dict['valid_loss']\n",
        "\n",
        "def save_metrics(save_path,train_loss_list, valid_loss_list,global_steps_list):\n",
        "    if save_path==None:\n",
        "        return\n",
        "    state_dict= {'train_loss_list': train_loss_list,\n",
        "                 'valid_loss_list': valid_loss_list,\n",
        "                 'global_steps_list': global_steps_list}\n",
        "    torch.save(state_dict, save_path)\n",
        "    print(f'Metrics saved to ==> {save_path}')\n",
        "# def save_metrics(train_loss_list, valid_loss_list, global_steps_list):\n",
        "#     metrics = {\n",
        "#         'train_loss_list': train_loss_list,\n",
        "#         'valid_loss_list': valid_loss_list,\n",
        "#         'global_steps_list': global_steps_list\n",
        "#     }\n",
        "#     return metrics\n",
        "\n",
        "    \n",
        "def load_metrics(load_path):\n",
        "    if load_path == None:\n",
        "        return \n",
        "    state_dict = torch.load(load_path)\n",
        "    print(f'Metrics loaded from <== {load_path}')\n",
        "    return state_dict['train_loss_list'],state_dict['valid_loss_list'],state_dict['global_steps_list']"
      ],
      "metadata": {
        "id": "lJVaMruKRs1z"
      },
      "execution_count": 80,
      "outputs": []
    },
    {
      "cell_type": "code",
      "source": [
        "# # train_loader = zip(train_text_bert,train_target_bert)\n",
        "# # val_loader = zip(val_text_bert,val_target_bert)\n",
        "# # test_loader = zip(test_text_bert, test_target_bert)\n",
        "# device = torch.device(\"cuda\" if torch.cuda.is_available() else \"cpu\")\n",
        "len(train_dataset) // 2\n",
        "# len(train_iterator) //3"
      ],
      "metadata": {
        "colab": {
          "base_uri": "https://localhost:8080/"
        },
        "id": "l5CJrIsYQHVL",
        "outputId": "307cbb02-8f0f-4e62-8100-1a6aef8cf5a9"
      },
      "execution_count": 81,
      "outputs": [
        {
          "output_type": "execute_result",
          "data": {
            "text/plain": [
              "4000"
            ]
          },
          "metadata": {},
          "execution_count": 81
        }
      ]
    },
    {
      "cell_type": "code",
      "source": [
        "def train(model,\n",
        "          optimizer,):\n",
        "    criterion = nn.CrossEntropyLoss()\n",
        "    train_loader_bert = train_iterator\n",
        "    valid_loader_bert = val_iterator\n",
        "    num_epochs = 5\n",
        "    eval_every = 1#len(train_dataset) // 2\n",
        "    file_path = \"output\"\n",
        "    best_valid_loss = float(\"Inf\")\n",
        "    \n",
        "    # Initial running values\n",
        "    running_loss = 0.0\n",
        "    valid_running_loss = 0.0\n",
        "    global_step = 0\n",
        "    train_loss_list=[]\n",
        "    valid_loss_list = []\n",
        "    global_steps_list = []\n",
        "    # Training Loop\n",
        "    model.train()\n",
        "    for epoch in range(num_epochs):\n",
        "        losses = []\n",
        "        for text, labels in train_loader_bert:\n",
        "            # print(text)\n",
        "            # print(global_step)\n",
        "            # print(eval_every)\n",
        "            # Move everything to the right device\n",
        "            # text = text.toarray()\n",
        "\n",
        "            text = torch.tensor(text) #.shape[0] ##\n",
        "            labels = torch.tensor(labels) ##\n",
        "\n",
        "\n",
        "            text   = text.to(device)\n",
        "            labels = labels.to(device)\n",
        "            \n",
        "            # Forward pass\n",
        "            output = model(text)\n",
        "            # print(output.size())\n",
        "            # print(labels.size())\n",
        "            # Calculate loss\n",
        "            # output = torch.argmax(output, dim=1)\n",
        "            output = torch.squeeze(output)\n",
        "            # labels = torch.nn.functional.one_hot(labels)\n",
        "            labels = (labels - labels.min()).long()\n",
        "            labels = F.one_hot(labels, num_classes=2)\n",
        "            labels = labels.float()\n",
        "\n",
        "            # print(labels.size())\n",
        "            loss = criterion(output, labels)\n",
        "            # loss = criterion(output.to(torch.float32), labels.to(torch.float32))\n",
        "\n",
        "            # output.to(torch.float32), labels.to(torch.float32)\n",
        "            # loss = criterion(output.to(torch.float32), labels.to(torch.float32))\n",
        "            losses.append(loss.item())\n",
        "\n",
        "            # Backward pass\n",
        "            optimizer.zero_grad()\n",
        "            loss.backward()\n",
        "            optimizer.step()\n",
        "            \n",
        "            # Update running values\n",
        "            running_loss += loss.item()\n",
        "            global_step  += 1\n",
        "            # print(global_step)\n",
        "            # print(eval_every)\n",
        "            # Evaluation step\n",
        "            if global_step % eval_every == 0:\n",
        "                print('enter')\n",
        "                model.eval()\n",
        "                with torch.no_grad():\n",
        "                    # Validation loop\n",
        "                    valid_losses = []\n",
        "                    for text, labels in valid_loader_bert:\n",
        "                        # print(labels)\n",
        "                        text = torch.tensor(text)\n",
        "                        labels = torch.tensor(labels)\n",
        "                        # text   = text.unsqueeze(-1).to(device)\n",
        "                        labels = labels.to(device)\n",
        "                        output = model(text.long())\n",
        "                        # loss = criterion(output, labels)\n",
        "                        loss = criterion(output, labels)\n",
        "                        valid_losses.append(loss.item())\n",
        "                        # loss = criterion(output.to(torch.float32), labels.to(torch.float32))\n",
        "                        valid_running_loss += loss.item()\n",
        "\n",
        "                        # text = torch.tensor(text)#.shape[0]\n",
        "                        # labels = torch.tensor(labels)\n",
        "                        # # text = text.to(device)\n",
        "                        # text = text.to(device)\n",
        "                        # labels = labels.to(device)\n",
        "                        # print(text)\n",
        "                        # output = model(text.long())#\n",
        "                        # loss = criterion(output, labels)\n",
        "                        # valid_losses.append(loss.item())\n",
        "                        # # loss = criterion(output.to(torch.float32), labels.to(torch.float32))\n",
        "                        # valid_running_loss += loss.item()\n",
        "                    \n",
        "                # Evaluation\n",
        "                average_train_loss = running_loss/eval_every\n",
        "                average_valid_loss = valid_running_loss/len(text) #valid_loader\n",
        "                train_loss_list.append(average_train_loss)\n",
        "                valid_loss_list.append(average_valid_loss)\n",
        "                global_steps_list.append(global_step)\n",
        "\n",
        "                # Resetting running values\n",
        "                running_loss = 0.0\n",
        "                valid_running_loss = 0.0\n",
        "                model.train()\n",
        "                print(len(text))\n",
        "                print(num_epochs*len(text))\n",
        "                print('Epoch[{}/{}], Step [{}/{}], Train loss:{:.4f}, Valid loss:{:.4f}'.format(\n",
        "                epoch+1, num_epochs, global_step, num_epochs*len(text),average_train_loss,\n",
        "                    average_valid_loss))\n",
        "\n",
        "                # Checkpoint\n",
        "\n",
        "                # if best_valid_loss > average_valid_loss:\n",
        "                best_valid_loss = average_valid_loss\n",
        "                save_checkpoint(file_path+'/model.pt', model, optimizer, best_valid_loss)\n",
        "                save_metrics(file_path+'/model.pt',train_loss_list,valid_loss_list,global_steps_list)\n",
        "                    # file_path+'/model.pt'\n",
        "    # metrics = save_metrics(file_path+'/model.pt',train_loss_list,valid_loss_list,global_steps_list)\n",
        "    # print('Training is Done!')\n",
        "    # # double-check whether any data is in these three elements \n",
        "    # return train_loss_list,valid_loss_list,global_steps_list\n",
        "    # file_path+'/metrics.pt',\n",
        "    print('Epoch {} done'.format(epoch+1))\n",
        "\n",
        "    metrics = save_metrics(\"output\"+'/model.pt',train_loss_list,valid_loss_list,global_steps_list)\n",
        "    print('Training is Done!')\n",
        "    return train_loss_list,valid_loss_list,global_steps_list\n",
        "loss_fn = nn.BCELoss()\n",
        "optimizer = optim.Adam(model.parameters(), lr=1e-3)\n",
        "model = model.to(device)\n",
        "train_loss_list,valid_loss_list,global_steps_list = train(model, optimizer)#, num_epochs=5, train_loader_bert=train_iterator #, file_path=destination_folder\n",
        "# file_path=\"output\""
      ],
      "metadata": {
        "colab": {
          "base_uri": "https://localhost:8080/",
          "height": 428
        },
        "id": "b9HXXpeC5ea1",
        "outputId": "d9478a0b-704a-4e16-fbf1-665b96153681"
      },
      "execution_count": 83,
      "outputs": [
        {
          "output_type": "stream",
          "name": "stdout",
          "text": [
            "enter\n"
          ]
        },
        {
          "output_type": "error",
          "ename": "RuntimeError",
          "evalue": "ignored",
          "traceback": [
            "\u001b[0;31m---------------------------------------------------------------------------\u001b[0m",
            "\u001b[0;31mRuntimeError\u001b[0m                              Traceback (most recent call last)",
            "\u001b[0;32m<ipython-input-83-cddc647380ce>\u001b[0m in \u001b[0;36m<cell line: 135>\u001b[0;34m()\u001b[0m\n\u001b[1;32m    133\u001b[0m \u001b[0moptimizer\u001b[0m \u001b[0;34m=\u001b[0m \u001b[0moptim\u001b[0m\u001b[0;34m.\u001b[0m\u001b[0mAdam\u001b[0m\u001b[0;34m(\u001b[0m\u001b[0mmodel\u001b[0m\u001b[0;34m.\u001b[0m\u001b[0mparameters\u001b[0m\u001b[0;34m(\u001b[0m\u001b[0;34m)\u001b[0m\u001b[0;34m,\u001b[0m \u001b[0mlr\u001b[0m\u001b[0;34m=\u001b[0m\u001b[0;36m1e-3\u001b[0m\u001b[0;34m)\u001b[0m\u001b[0;34m\u001b[0m\u001b[0;34m\u001b[0m\u001b[0m\n\u001b[1;32m    134\u001b[0m \u001b[0mmodel\u001b[0m \u001b[0;34m=\u001b[0m \u001b[0mmodel\u001b[0m\u001b[0;34m.\u001b[0m\u001b[0mto\u001b[0m\u001b[0;34m(\u001b[0m\u001b[0mdevice\u001b[0m\u001b[0;34m)\u001b[0m\u001b[0;34m\u001b[0m\u001b[0;34m\u001b[0m\u001b[0m\n\u001b[0;32m--> 135\u001b[0;31m \u001b[0mtrain_loss_list\u001b[0m\u001b[0;34m,\u001b[0m\u001b[0mvalid_loss_list\u001b[0m\u001b[0;34m,\u001b[0m\u001b[0mglobal_steps_list\u001b[0m \u001b[0;34m=\u001b[0m \u001b[0mtrain\u001b[0m\u001b[0;34m(\u001b[0m\u001b[0mmodel\u001b[0m\u001b[0;34m,\u001b[0m \u001b[0moptimizer\u001b[0m\u001b[0;34m)\u001b[0m\u001b[0;31m#, num_epochs=5, train_loader_bert=train_iterator #, file_path=destination_folder\u001b[0m\u001b[0;34m\u001b[0m\u001b[0;34m\u001b[0m\u001b[0m\n\u001b[0m\u001b[1;32m    136\u001b[0m \u001b[0;31m# file_path=\"output\"\u001b[0m\u001b[0;34m\u001b[0m\u001b[0;34m\u001b[0m\u001b[0m\n",
            "\u001b[0;32m<ipython-input-83-cddc647380ce>\u001b[0m in \u001b[0;36mtrain\u001b[0;34m(model, optimizer)\u001b[0m\n\u001b[1;32m     77\u001b[0m                         \u001b[0;31m# text   = text.unsqueeze(-1).to(device)\u001b[0m\u001b[0;34m\u001b[0m\u001b[0;34m\u001b[0m\u001b[0m\n\u001b[1;32m     78\u001b[0m                         \u001b[0mlabels\u001b[0m \u001b[0;34m=\u001b[0m \u001b[0mlabels\u001b[0m\u001b[0;34m.\u001b[0m\u001b[0mto\u001b[0m\u001b[0;34m(\u001b[0m\u001b[0mdevice\u001b[0m\u001b[0;34m)\u001b[0m\u001b[0;34m\u001b[0m\u001b[0;34m\u001b[0m\u001b[0m\n\u001b[0;32m---> 79\u001b[0;31m                         \u001b[0moutput\u001b[0m \u001b[0;34m=\u001b[0m \u001b[0mmodel\u001b[0m\u001b[0;34m(\u001b[0m\u001b[0mtext\u001b[0m\u001b[0;34m.\u001b[0m\u001b[0mlong\u001b[0m\u001b[0;34m(\u001b[0m\u001b[0;34m)\u001b[0m\u001b[0;34m)\u001b[0m\u001b[0;34m.\u001b[0m\u001b[0mcpu\u001b[0m\u001b[0;34m(\u001b[0m\u001b[0;34m)\u001b[0m\u001b[0;34m\u001b[0m\u001b[0;34m\u001b[0m\u001b[0m\n\u001b[0m\u001b[1;32m     80\u001b[0m                         \u001b[0;31m# loss = criterion(output, labels)\u001b[0m\u001b[0;34m\u001b[0m\u001b[0;34m\u001b[0m\u001b[0m\n\u001b[1;32m     81\u001b[0m                         \u001b[0mloss\u001b[0m \u001b[0;34m=\u001b[0m \u001b[0mcriterion\u001b[0m\u001b[0;34m(\u001b[0m\u001b[0moutput\u001b[0m\u001b[0;34m,\u001b[0m \u001b[0mlabels\u001b[0m\u001b[0;34m)\u001b[0m\u001b[0;34m\u001b[0m\u001b[0;34m\u001b[0m\u001b[0m\n",
            "\u001b[0;32m/usr/local/lib/python3.10/dist-packages/torch/nn/modules/module.py\u001b[0m in \u001b[0;36m_call_impl\u001b[0;34m(self, *args, **kwargs)\u001b[0m\n\u001b[1;32m   1499\u001b[0m                 \u001b[0;32mor\u001b[0m \u001b[0m_global_backward_pre_hooks\u001b[0m \u001b[0;32mor\u001b[0m \u001b[0m_global_backward_hooks\u001b[0m\u001b[0;34m\u001b[0m\u001b[0;34m\u001b[0m\u001b[0m\n\u001b[1;32m   1500\u001b[0m                 or _global_forward_hooks or _global_forward_pre_hooks):\n\u001b[0;32m-> 1501\u001b[0;31m             \u001b[0;32mreturn\u001b[0m \u001b[0mforward_call\u001b[0m\u001b[0;34m(\u001b[0m\u001b[0;34m*\u001b[0m\u001b[0margs\u001b[0m\u001b[0;34m,\u001b[0m \u001b[0;34m**\u001b[0m\u001b[0mkwargs\u001b[0m\u001b[0;34m)\u001b[0m\u001b[0;34m\u001b[0m\u001b[0;34m\u001b[0m\u001b[0m\n\u001b[0m\u001b[1;32m   1502\u001b[0m         \u001b[0;31m# Do not call functions when jit is used\u001b[0m\u001b[0;34m\u001b[0m\u001b[0;34m\u001b[0m\u001b[0m\n\u001b[1;32m   1503\u001b[0m         \u001b[0mfull_backward_hooks\u001b[0m\u001b[0;34m,\u001b[0m \u001b[0mnon_full_backward_hooks\u001b[0m \u001b[0;34m=\u001b[0m \u001b[0;34m[\u001b[0m\u001b[0;34m]\u001b[0m\u001b[0;34m,\u001b[0m \u001b[0;34m[\u001b[0m\u001b[0;34m]\u001b[0m\u001b[0;34m\u001b[0m\u001b[0;34m\u001b[0m\u001b[0m\n",
            "\u001b[0;32m<ipython-input-79-3ea152c9f34c>\u001b[0m in \u001b[0;36mforward\u001b[0;34m(self, X_batch)\u001b[0m\n\u001b[1;32m     16\u001b[0m \u001b[0;34m\u001b[0m\u001b[0m\n\u001b[1;32m     17\u001b[0m     \u001b[0;32mdef\u001b[0m \u001b[0mforward\u001b[0m\u001b[0;34m(\u001b[0m\u001b[0mself\u001b[0m\u001b[0;34m,\u001b[0m \u001b[0mX_batch\u001b[0m\u001b[0;34m)\u001b[0m\u001b[0;34m:\u001b[0m\u001b[0;34m\u001b[0m\u001b[0;34m\u001b[0m\u001b[0m\n\u001b[0;32m---> 18\u001b[0;31m         \u001b[0membeddings\u001b[0m \u001b[0;34m=\u001b[0m \u001b[0mself\u001b[0m\u001b[0;34m.\u001b[0m\u001b[0membedding_layer\u001b[0m\u001b[0;34m(\u001b[0m\u001b[0mX_batch\u001b[0m\u001b[0;34m)\u001b[0m\u001b[0;34m\u001b[0m\u001b[0;34m\u001b[0m\u001b[0m\n\u001b[0m\u001b[1;32m     19\u001b[0m         \u001b[0moutput\u001b[0m\u001b[0;34m,\u001b[0m \u001b[0mhidden\u001b[0m \u001b[0;34m=\u001b[0m \u001b[0mself\u001b[0m\u001b[0;34m.\u001b[0m\u001b[0mrnn\u001b[0m\u001b[0;34m(\u001b[0m\u001b[0membeddings\u001b[0m\u001b[0;34m)\u001b[0m\u001b[0;34m\u001b[0m\u001b[0;34m\u001b[0m\u001b[0m\n\u001b[1;32m     20\u001b[0m         \u001b[0mtext_fea\u001b[0m \u001b[0;34m=\u001b[0m \u001b[0mself\u001b[0m\u001b[0;34m.\u001b[0m\u001b[0mdrop\u001b[0m\u001b[0;34m(\u001b[0m\u001b[0moutput\u001b[0m\u001b[0;34m[\u001b[0m\u001b[0;34m:\u001b[0m\u001b[0;34m,\u001b[0m\u001b[0;34m-\u001b[0m\u001b[0;36m1\u001b[0m\u001b[0;34m]\u001b[0m\u001b[0;34m)\u001b[0m\u001b[0;34m\u001b[0m\u001b[0;34m\u001b[0m\u001b[0m\n",
            "\u001b[0;32m/usr/local/lib/python3.10/dist-packages/torch/nn/modules/module.py\u001b[0m in \u001b[0;36m_call_impl\u001b[0;34m(self, *args, **kwargs)\u001b[0m\n\u001b[1;32m   1499\u001b[0m                 \u001b[0;32mor\u001b[0m \u001b[0m_global_backward_pre_hooks\u001b[0m \u001b[0;32mor\u001b[0m \u001b[0m_global_backward_hooks\u001b[0m\u001b[0;34m\u001b[0m\u001b[0;34m\u001b[0m\u001b[0m\n\u001b[1;32m   1500\u001b[0m                 or _global_forward_hooks or _global_forward_pre_hooks):\n\u001b[0;32m-> 1501\u001b[0;31m             \u001b[0;32mreturn\u001b[0m \u001b[0mforward_call\u001b[0m\u001b[0;34m(\u001b[0m\u001b[0;34m*\u001b[0m\u001b[0margs\u001b[0m\u001b[0;34m,\u001b[0m \u001b[0;34m**\u001b[0m\u001b[0mkwargs\u001b[0m\u001b[0;34m)\u001b[0m\u001b[0;34m\u001b[0m\u001b[0;34m\u001b[0m\u001b[0m\n\u001b[0m\u001b[1;32m   1502\u001b[0m         \u001b[0;31m# Do not call functions when jit is used\u001b[0m\u001b[0;34m\u001b[0m\u001b[0;34m\u001b[0m\u001b[0m\n\u001b[1;32m   1503\u001b[0m         \u001b[0mfull_backward_hooks\u001b[0m\u001b[0;34m,\u001b[0m \u001b[0mnon_full_backward_hooks\u001b[0m \u001b[0;34m=\u001b[0m \u001b[0;34m[\u001b[0m\u001b[0;34m]\u001b[0m\u001b[0;34m,\u001b[0m \u001b[0;34m[\u001b[0m\u001b[0;34m]\u001b[0m\u001b[0;34m\u001b[0m\u001b[0;34m\u001b[0m\u001b[0m\n",
            "\u001b[0;32m/usr/local/lib/python3.10/dist-packages/torch/nn/modules/sparse.py\u001b[0m in \u001b[0;36mforward\u001b[0;34m(self, input)\u001b[0m\n\u001b[1;32m    160\u001b[0m \u001b[0;34m\u001b[0m\u001b[0m\n\u001b[1;32m    161\u001b[0m     \u001b[0;32mdef\u001b[0m \u001b[0mforward\u001b[0m\u001b[0;34m(\u001b[0m\u001b[0mself\u001b[0m\u001b[0;34m,\u001b[0m \u001b[0minput\u001b[0m\u001b[0;34m:\u001b[0m \u001b[0mTensor\u001b[0m\u001b[0;34m)\u001b[0m \u001b[0;34m->\u001b[0m \u001b[0mTensor\u001b[0m\u001b[0;34m:\u001b[0m\u001b[0;34m\u001b[0m\u001b[0;34m\u001b[0m\u001b[0m\n\u001b[0;32m--> 162\u001b[0;31m         return F.embedding(\n\u001b[0m\u001b[1;32m    163\u001b[0m             \u001b[0minput\u001b[0m\u001b[0;34m,\u001b[0m \u001b[0mself\u001b[0m\u001b[0;34m.\u001b[0m\u001b[0mweight\u001b[0m\u001b[0;34m,\u001b[0m \u001b[0mself\u001b[0m\u001b[0;34m.\u001b[0m\u001b[0mpadding_idx\u001b[0m\u001b[0;34m,\u001b[0m \u001b[0mself\u001b[0m\u001b[0;34m.\u001b[0m\u001b[0mmax_norm\u001b[0m\u001b[0;34m,\u001b[0m\u001b[0;34m\u001b[0m\u001b[0;34m\u001b[0m\u001b[0m\n\u001b[1;32m    164\u001b[0m             self.norm_type, self.scale_grad_by_freq, self.sparse)\n",
            "\u001b[0;32m/usr/local/lib/python3.10/dist-packages/torch/nn/functional.py\u001b[0m in \u001b[0;36membedding\u001b[0;34m(input, weight, padding_idx, max_norm, norm_type, scale_grad_by_freq, sparse)\u001b[0m\n\u001b[1;32m   2208\u001b[0m         \u001b[0;31m# remove once script supports set_grad_enabled\u001b[0m\u001b[0;34m\u001b[0m\u001b[0;34m\u001b[0m\u001b[0m\n\u001b[1;32m   2209\u001b[0m         \u001b[0m_no_grad_embedding_renorm_\u001b[0m\u001b[0;34m(\u001b[0m\u001b[0mweight\u001b[0m\u001b[0;34m,\u001b[0m \u001b[0minput\u001b[0m\u001b[0;34m,\u001b[0m \u001b[0mmax_norm\u001b[0m\u001b[0;34m,\u001b[0m \u001b[0mnorm_type\u001b[0m\u001b[0;34m)\u001b[0m\u001b[0;34m\u001b[0m\u001b[0;34m\u001b[0m\u001b[0m\n\u001b[0;32m-> 2210\u001b[0;31m     \u001b[0;32mreturn\u001b[0m \u001b[0mtorch\u001b[0m\u001b[0;34m.\u001b[0m\u001b[0membedding\u001b[0m\u001b[0;34m(\u001b[0m\u001b[0mweight\u001b[0m\u001b[0;34m,\u001b[0m \u001b[0minput\u001b[0m\u001b[0;34m,\u001b[0m \u001b[0mpadding_idx\u001b[0m\u001b[0;34m,\u001b[0m \u001b[0mscale_grad_by_freq\u001b[0m\u001b[0;34m,\u001b[0m \u001b[0msparse\u001b[0m\u001b[0;34m)\u001b[0m\u001b[0;34m\u001b[0m\u001b[0;34m\u001b[0m\u001b[0m\n\u001b[0m\u001b[1;32m   2211\u001b[0m \u001b[0;34m\u001b[0m\u001b[0m\n\u001b[1;32m   2212\u001b[0m \u001b[0;34m\u001b[0m\u001b[0m\n",
            "\u001b[0;31mRuntimeError\u001b[0m: Expected all tensors to be on the same device, but found at least two devices, cuda:0 and cpu! (when checking argument for argument index in method wrapper_CUDA__index_select)"
          ]
        }
      ]
    },
    {
      "cell_type": "code",
      "source": [
        "# train_loss_list, valid_loss_list, global_steps_list = load_metrics(destination_folder+'/metrics.pt')\n",
        "\n",
        "plt.plot(global_steps_list, valid_loss_list, label='Valid')\n",
        "plt.plot(global_steps_list, train_loss_list, label='Train')\n",
        "plt.xlabel('Global Steps')\n",
        "plt.ylabel('Loss')\n",
        "plt.legend()\n",
        "plt.show()"
      ],
      "metadata": {
        "colab": {
          "base_uri": "https://localhost:8080/",
          "height": 453
        },
        "id": "KnC32Ngn5q0u",
        "outputId": "48ae9ecb-ed0a-418d-a94a-a87ac6ce1436"
      },
      "execution_count": 33,
      "outputs": [
        {
          "output_type": "display_data",
          "data": {
            "text/plain": [
              "<Figure size 640x480 with 1 Axes>"
            ],
            "image/png": "[encoded data removed]"
          },
          "metadata": {}
        }
      ]
    },
    {
      "cell_type": "code",
      "source": [],
      "metadata": {
        "id": "nWkCAoz_XBXn"
      },
      "execution_count": null,
      "outputs": []
    },
    {
      "cell_type": "markdown",
      "source": [
        "Evaluation\n"
      ],
      "metadata": {
        "id": "BzSDvwNvSRgA"
      }
    },
    {
      "cell_type": "code",
      "source": [
        "def evaluate(model, test_loader, version='title', threshold=0.5):\n",
        "    y_pred = []\n",
        "    y_true = []\n",
        "    model.eval()\n",
        "    test_loader_bert = test_iterator\n",
        "    with torch.no_grad():\n",
        "        for text, labels in test_loader_bert:\n",
        "\n",
        "            # text = torch.tensor(text.shape[0])\n",
        "            #             labels = torch.tensor(labels)\n",
        "            #             text   = text.unsqueeze(-1).to(device)\n",
        "            #             labels = labels.to(device)\n",
        "            #             output = model(text.long())\n",
        "            # text = torch.tensor(text.shape[0])\n",
        "            # labels = torch.tensor(labels)\n",
        "            # text   = text.unsqueeze(-1).to(device)\n",
        "            # labels = labels.to(device)\n",
        "\n",
        "            text = torch.tensor(text)\n",
        "            labels = torch.tensor(labels)\n",
        "            # text   = text.unsqueeze(-1).to(device)\n",
        "            labels = labels.to(device)\n",
        "            output = model(text.long())\n",
        "            # labels = labels.to(device)\n",
        "            # text   = text.unsqueeze(-1).to(device)\n",
        "            # text = text.to(device)\n",
        "            #text_len = text_len.to(device)\n",
        "            output = model(text.long())\n",
        "            # output = torch.squeeze(output)\n",
        "            # print(output)\n",
        "            # print(output)\n",
        "            # print(labels.shape)\n",
        "            output = (output > threshold).int()\n",
        "            output = output[:, 1] \n",
        "            # print(output)\n",
        "            y_pred.extend(output.tolist())\n",
        "            # y_pred.extend([output.item()])\n",
        "            y_true.extend(labels.tolist())\n",
        "            # y_true.extend(labels.tolist())\n",
        "            print(y_pred)\n",
        "            print(y_true)\n",
        "            # break\n",
        "    print('Classification Report:')\n",
        "    print(classification_report(y_true,y_pred, digits=4))\n",
        "    \n",
        "    cm = confusion_matrix(y_true,y_pred,labels=[1,0])\n",
        "    ax = plt.subplot()\n",
        "    sns.heatmap(cm,annot=True, ax=ax,cmap='Blues',fmt='d')\n",
        "    \n",
        "    ax.set_title('Confusion Matrix')\n",
        "    ax.set_xlabel('Predicated Labels')\n",
        "    ax.set_ylabel('True Labels')\n",
        "    \n",
        "    ax.xaxis.set_ticklabels(['Real','Irrelevant'])\n",
        "    ax.yaxis.set_ticklabels(['Real','Irrelevant'])"
      ],
      "metadata": {
        "id": "-dtPZikfSLtf"
      },
      "execution_count": 87,
      "outputs": []
    },
    {
      "cell_type": "code",
      "source": [
        "# test_loader=test_iterator"
      ],
      "metadata": {
        "id": "rYDGFPsbYEi1"
      },
      "execution_count": 85,
      "outputs": []
    },
    {
      "cell_type": "code",
      "source": [
        "best_model = TEXT_LSTM().to(device)\n",
        "optimizer = optim.Adam(best_model.parameters(), lr = 0.001)\n",
        "# load_checkpoint(destination_folder+'/model.pt',best_model,optimizer)\n",
        "evaluate(best_model, test_loader = test_iterator)"
      ],
      "metadata": {
        "colab": {
          "base_uri": "https://localhost:8080/",
          "height": 374
        },
        "id": "DYZzUVoz5qv2",
        "outputId": "64a1f915-4a12-4d31-a191-d4b6976bfe70"
      },
      "execution_count": 86,
      "outputs": [
        {
          "output_type": "error",
          "ename": "RuntimeError",
          "evalue": "ignored",
          "traceback": [
            "\u001b[0;31m---------------------------------------------------------------------------\u001b[0m",
            "\u001b[0;31mRuntimeError\u001b[0m                              Traceback (most recent call last)",
            "\u001b[0;32m<ipython-input-86-f8ebe4e17595>\u001b[0m in \u001b[0;36m<cell line: 4>\u001b[0;34m()\u001b[0m\n\u001b[1;32m      2\u001b[0m \u001b[0moptimizer\u001b[0m \u001b[0;34m=\u001b[0m \u001b[0moptim\u001b[0m\u001b[0;34m.\u001b[0m\u001b[0mAdam\u001b[0m\u001b[0;34m(\u001b[0m\u001b[0mbest_model\u001b[0m\u001b[0;34m.\u001b[0m\u001b[0mparameters\u001b[0m\u001b[0;34m(\u001b[0m\u001b[0;34m)\u001b[0m\u001b[0;34m,\u001b[0m \u001b[0mlr\u001b[0m \u001b[0;34m=\u001b[0m \u001b[0;36m0.001\u001b[0m\u001b[0;34m)\u001b[0m\u001b[0;34m\u001b[0m\u001b[0;34m\u001b[0m\u001b[0m\n\u001b[1;32m      3\u001b[0m \u001b[0;31m# load_checkpoint(destination_folder+'/model.pt',best_model,optimizer)\u001b[0m\u001b[0;34m\u001b[0m\u001b[0;34m\u001b[0m\u001b[0m\n\u001b[0;32m----> 4\u001b[0;31m \u001b[0mevaluate\u001b[0m\u001b[0;34m(\u001b[0m\u001b[0mbest_model\u001b[0m\u001b[0;34m,\u001b[0m \u001b[0mtest_loader\u001b[0m \u001b[0;34m=\u001b[0m \u001b[0mtest_iterator\u001b[0m\u001b[0;34m)\u001b[0m\u001b[0;34m\u001b[0m\u001b[0;34m\u001b[0m\u001b[0m\n\u001b[0m",
            "\u001b[0;32m<ipython-input-84-a7acf1e94d36>\u001b[0m in \u001b[0;36mevaluate\u001b[0;34m(model, test_loader, version, threshold)\u001b[0m\n\u001b[1;32m     21\u001b[0m             \u001b[0;31m# text   = text.unsqueeze(-1).to(device)\u001b[0m\u001b[0;34m\u001b[0m\u001b[0;34m\u001b[0m\u001b[0m\n\u001b[1;32m     22\u001b[0m             \u001b[0mlabels\u001b[0m \u001b[0;34m=\u001b[0m \u001b[0mlabels\u001b[0m\u001b[0;34m.\u001b[0m\u001b[0mto\u001b[0m\u001b[0;34m(\u001b[0m\u001b[0mdevice\u001b[0m\u001b[0;34m)\u001b[0m\u001b[0;34m\u001b[0m\u001b[0;34m\u001b[0m\u001b[0m\n\u001b[0;32m---> 23\u001b[0;31m             \u001b[0moutput\u001b[0m \u001b[0;34m=\u001b[0m \u001b[0mmodel\u001b[0m\u001b[0;34m(\u001b[0m\u001b[0mtext\u001b[0m\u001b[0;34m.\u001b[0m\u001b[0mlong\u001b[0m\u001b[0;34m(\u001b[0m\u001b[0;34m)\u001b[0m\u001b[0;34m)\u001b[0m\u001b[0;34m\u001b[0m\u001b[0;34m\u001b[0m\u001b[0m\n\u001b[0m\u001b[1;32m     24\u001b[0m             \u001b[0;31m# labels = labels.to(device)\u001b[0m\u001b[0;34m\u001b[0m\u001b[0;34m\u001b[0m\u001b[0m\n\u001b[1;32m     25\u001b[0m             \u001b[0;31m# text   = text.unsqueeze(-1).to(device)\u001b[0m\u001b[0;34m\u001b[0m\u001b[0;34m\u001b[0m\u001b[0m\n",
            "\u001b[0;32m/usr/local/lib/python3.10/dist-packages/torch/nn/modules/module.py\u001b[0m in \u001b[0;36m_call_impl\u001b[0;34m(self, *args, **kwargs)\u001b[0m\n\u001b[1;32m   1499\u001b[0m                 \u001b[0;32mor\u001b[0m \u001b[0m_global_backward_pre_hooks\u001b[0m \u001b[0;32mor\u001b[0m \u001b[0m_global_backward_hooks\u001b[0m\u001b[0;34m\u001b[0m\u001b[0;34m\u001b[0m\u001b[0m\n\u001b[1;32m   1500\u001b[0m                 or _global_forward_hooks or _global_forward_pre_hooks):\n\u001b[0;32m-> 1501\u001b[0;31m             \u001b[0;32mreturn\u001b[0m \u001b[0mforward_call\u001b[0m\u001b[0;34m(\u001b[0m\u001b[0;34m*\u001b[0m\u001b[0margs\u001b[0m\u001b[0;34m,\u001b[0m \u001b[0;34m**\u001b[0m\u001b[0mkwargs\u001b[0m\u001b[0;34m)\u001b[0m\u001b[0;34m\u001b[0m\u001b[0;34m\u001b[0m\u001b[0m\n\u001b[0m\u001b[1;32m   1502\u001b[0m         \u001b[0;31m# Do not call functions when jit is used\u001b[0m\u001b[0;34m\u001b[0m\u001b[0;34m\u001b[0m\u001b[0m\n\u001b[1;32m   1503\u001b[0m         \u001b[0mfull_backward_hooks\u001b[0m\u001b[0;34m,\u001b[0m \u001b[0mnon_full_backward_hooks\u001b[0m \u001b[0;34m=\u001b[0m \u001b[0;34m[\u001b[0m\u001b[0;34m]\u001b[0m\u001b[0;34m,\u001b[0m \u001b[0;34m[\u001b[0m\u001b[0;34m]\u001b[0m\u001b[0;34m\u001b[0m\u001b[0;34m\u001b[0m\u001b[0m\n",
            "\u001b[0;32m<ipython-input-79-3ea152c9f34c>\u001b[0m in \u001b[0;36mforward\u001b[0;34m(self, X_batch)\u001b[0m\n\u001b[1;32m     16\u001b[0m \u001b[0;34m\u001b[0m\u001b[0m\n\u001b[1;32m     17\u001b[0m     \u001b[0;32mdef\u001b[0m \u001b[0mforward\u001b[0m\u001b[0;34m(\u001b[0m\u001b[0mself\u001b[0m\u001b[0;34m,\u001b[0m \u001b[0mX_batch\u001b[0m\u001b[0;34m)\u001b[0m\u001b[0;34m:\u001b[0m\u001b[0;34m\u001b[0m\u001b[0;34m\u001b[0m\u001b[0m\n\u001b[0;32m---> 18\u001b[0;31m         \u001b[0membeddings\u001b[0m \u001b[0;34m=\u001b[0m \u001b[0mself\u001b[0m\u001b[0;34m.\u001b[0m\u001b[0membedding_layer\u001b[0m\u001b[0;34m(\u001b[0m\u001b[0mX_batch\u001b[0m\u001b[0;34m)\u001b[0m\u001b[0;34m\u001b[0m\u001b[0;34m\u001b[0m\u001b[0m\n\u001b[0m\u001b[1;32m     19\u001b[0m         \u001b[0moutput\u001b[0m\u001b[0;34m,\u001b[0m \u001b[0mhidden\u001b[0m \u001b[0;34m=\u001b[0m \u001b[0mself\u001b[0m\u001b[0;34m.\u001b[0m\u001b[0mrnn\u001b[0m\u001b[0;34m(\u001b[0m\u001b[0membeddings\u001b[0m\u001b[0;34m)\u001b[0m\u001b[0;34m\u001b[0m\u001b[0;34m\u001b[0m\u001b[0m\n\u001b[1;32m     20\u001b[0m         \u001b[0mtext_fea\u001b[0m \u001b[0;34m=\u001b[0m \u001b[0mself\u001b[0m\u001b[0;34m.\u001b[0m\u001b[0mdrop\u001b[0m\u001b[0;34m(\u001b[0m\u001b[0moutput\u001b[0m\u001b[0;34m[\u001b[0m\u001b[0;34m:\u001b[0m\u001b[0;34m,\u001b[0m\u001b[0;34m-\u001b[0m\u001b[0;36m1\u001b[0m\u001b[0;34m]\u001b[0m\u001b[0;34m)\u001b[0m\u001b[0;34m\u001b[0m\u001b[0;34m\u001b[0m\u001b[0m\n",
            "\u001b[0;32m/usr/local/lib/python3.10/dist-packages/torch/nn/modules/module.py\u001b[0m in \u001b[0;36m_call_impl\u001b[0;34m(self, *args, **kwargs)\u001b[0m\n\u001b[1;32m   1499\u001b[0m                 \u001b[0;32mor\u001b[0m \u001b[0m_global_backward_pre_hooks\u001b[0m \u001b[0;32mor\u001b[0m \u001b[0m_global_backward_hooks\u001b[0m\u001b[0;34m\u001b[0m\u001b[0;34m\u001b[0m\u001b[0m\n\u001b[1;32m   1500\u001b[0m                 or _global_forward_hooks or _global_forward_pre_hooks):\n\u001b[0;32m-> 1501\u001b[0;31m             \u001b[0;32mreturn\u001b[0m \u001b[0mforward_call\u001b[0m\u001b[0;34m(\u001b[0m\u001b[0;34m*\u001b[0m\u001b[0margs\u001b[0m\u001b[0;34m,\u001b[0m \u001b[0;34m**\u001b[0m\u001b[0mkwargs\u001b[0m\u001b[0;34m)\u001b[0m\u001b[0;34m\u001b[0m\u001b[0;34m\u001b[0m\u001b[0m\n\u001b[0m\u001b[1;32m   1502\u001b[0m         \u001b[0;31m# Do not call functions when jit is used\u001b[0m\u001b[0;34m\u001b[0m\u001b[0;34m\u001b[0m\u001b[0m\n\u001b[1;32m   1503\u001b[0m         \u001b[0mfull_backward_hooks\u001b[0m\u001b[0;34m,\u001b[0m \u001b[0mnon_full_backward_hooks\u001b[0m \u001b[0;34m=\u001b[0m \u001b[0;34m[\u001b[0m\u001b[0;34m]\u001b[0m\u001b[0;34m,\u001b[0m \u001b[0;34m[\u001b[0m\u001b[0;34m]\u001b[0m\u001b[0;34m\u001b[0m\u001b[0;34m\u001b[0m\u001b[0m\n",
            "\u001b[0;32m/usr/local/lib/python3.10/dist-packages/torch/nn/modules/sparse.py\u001b[0m in \u001b[0;36mforward\u001b[0;34m(self, input)\u001b[0m\n\u001b[1;32m    160\u001b[0m \u001b[0;34m\u001b[0m\u001b[0m\n\u001b[1;32m    161\u001b[0m     \u001b[0;32mdef\u001b[0m \u001b[0mforward\u001b[0m\u001b[0;34m(\u001b[0m\u001b[0mself\u001b[0m\u001b[0;34m,\u001b[0m \u001b[0minput\u001b[0m\u001b[0;34m:\u001b[0m \u001b[0mTensor\u001b[0m\u001b[0;34m)\u001b[0m \u001b[0;34m->\u001b[0m \u001b[0mTensor\u001b[0m\u001b[0;34m:\u001b[0m\u001b[0;34m\u001b[0m\u001b[0;34m\u001b[0m\u001b[0m\n\u001b[0;32m--> 162\u001b[0;31m         return F.embedding(\n\u001b[0m\u001b[1;32m    163\u001b[0m             \u001b[0minput\u001b[0m\u001b[0;34m,\u001b[0m \u001b[0mself\u001b[0m\u001b[0;34m.\u001b[0m\u001b[0mweight\u001b[0m\u001b[0;34m,\u001b[0m \u001b[0mself\u001b[0m\u001b[0;34m.\u001b[0m\u001b[0mpadding_idx\u001b[0m\u001b[0;34m,\u001b[0m \u001b[0mself\u001b[0m\u001b[0;34m.\u001b[0m\u001b[0mmax_norm\u001b[0m\u001b[0;34m,\u001b[0m\u001b[0;34m\u001b[0m\u001b[0;34m\u001b[0m\u001b[0m\n\u001b[1;32m    164\u001b[0m             self.norm_type, self.scale_grad_by_freq, self.sparse)\n",
            "\u001b[0;32m/usr/local/lib/python3.10/dist-packages/torch/nn/functional.py\u001b[0m in \u001b[0;36membedding\u001b[0;34m(input, weight, padding_idx, max_norm, norm_type, scale_grad_by_freq, sparse)\u001b[0m\n\u001b[1;32m   2208\u001b[0m         \u001b[0;31m# remove once script supports set_grad_enabled\u001b[0m\u001b[0;34m\u001b[0m\u001b[0;34m\u001b[0m\u001b[0m\n\u001b[1;32m   2209\u001b[0m         \u001b[0m_no_grad_embedding_renorm_\u001b[0m\u001b[0;34m(\u001b[0m\u001b[0mweight\u001b[0m\u001b[0;34m,\u001b[0m \u001b[0minput\u001b[0m\u001b[0;34m,\u001b[0m \u001b[0mmax_norm\u001b[0m\u001b[0;34m,\u001b[0m \u001b[0mnorm_type\u001b[0m\u001b[0;34m)\u001b[0m\u001b[0;34m\u001b[0m\u001b[0;34m\u001b[0m\u001b[0m\n\u001b[0;32m-> 2210\u001b[0;31m     \u001b[0;32mreturn\u001b[0m \u001b[0mtorch\u001b[0m\u001b[0;34m.\u001b[0m\u001b[0membedding\u001b[0m\u001b[0;34m(\u001b[0m\u001b[0mweight\u001b[0m\u001b[0;34m,\u001b[0m \u001b[0minput\u001b[0m\u001b[0;34m,\u001b[0m \u001b[0mpadding_idx\u001b[0m\u001b[0;34m,\u001b[0m \u001b[0mscale_grad_by_freq\u001b[0m\u001b[0;34m,\u001b[0m \u001b[0msparse\u001b[0m\u001b[0;34m)\u001b[0m\u001b[0;34m\u001b[0m\u001b[0;34m\u001b[0m\u001b[0m\n\u001b[0m\u001b[1;32m   2211\u001b[0m \u001b[0;34m\u001b[0m\u001b[0m\n\u001b[1;32m   2212\u001b[0m \u001b[0;34m\u001b[0m\u001b[0m\n",
            "\u001b[0;31mRuntimeError\u001b[0m: Expected all tensors to be on the same device, but found at least two devices, cuda:0 and cpu! (when checking argument for argument index in method wrapper_CUDA__index_select)"
          ]
        }
      ]
    },
    {
      "cell_type": "markdown",
      "source": [],
      "metadata": {
        "id": "CJenJv09adpq"
      }
    },
    {
      "cell_type": "markdown",
      "source": [
        "Build the mdoel on agree/disagree/discuss classification"
      ],
      "metadata": {
        "id": "I0i9TDxUQAmd"
      }
    },
    {
      "cell_type": "code",
      "source": [
        "df = pd.read_csv('train_bodies.csv')\n",
        "df1 = pd.read_csv('train_stances.csv')\n",
        "\n",
        "df_merge_3classify = pd.merge(df, df1, on='Body ID')\n",
        "\n",
        "TEXT_C = ['articleBody','Headline']\n",
        "TARGET_C = 'Stance'\n",
        "\n",
        "# df_merge['Stance'].replace(['agree', 'disagree', 'discuss'], 'related',inplace=True)\n",
        "#drop Body ID and 'unrelated' in the column 'Stance'\n",
        "df_merge_3classify.drop(\"Body ID\", axis=1, inplace=True)\n",
        "df2 = df_merge_3classify.drop(df_merge_3classify[df_merge_3classify['Stance'] == 'unrelated'].index)\n",
        "\n",
        "print(df2['Stance'].value_counts())"
      ],
      "metadata": {
        "colab": {
          "base_uri": "https://localhost:8080/"
        },
        "id": "oMLcLqmgmQh1",
        "outputId": "fdfdbadc-1654-4ddf-b364-25a9ca56903c"
      },
      "execution_count": 37,
      "outputs": [
        {
          "output_type": "stream",
          "name": "stdout",
          "text": [
            "discuss     8909\n",
            "agree       3678\n",
            "disagree     840\n",
            "Name: Stance, dtype: int64\n"
          ]
        }
      ]
    },
    {
      "cell_type": "code",
      "source": [
        "len(df2)"
      ],
      "metadata": {
        "colab": {
          "base_uri": "https://localhost:8080/"
        },
        "id": "M-Gzgm0CYlrX",
        "outputId": "557d7e56-814d-4ab5-da80-4d436f12da24"
      },
      "execution_count": 38,
      "outputs": [
        {
          "output_type": "execute_result",
          "data": {
            "text/plain": [
              "13427"
            ]
          },
          "metadata": {},
          "execution_count": 38
        }
      ]
    },
    {
      "cell_type": "code",
      "source": [
        "# Split data into train and temporary sets with an 60:40 split ratio\n",
        "train, test = train_test_split(df2, test_size=0.3, random_state=42)\n",
        "\n",
        "# Split the temporary set into validation and test sets with a 50:50 split ratio\n",
        "val, test = train_test_split(test, test_size=0.5, random_state=42)"
      ],
      "metadata": {
        "id": "apiRPj5pmQex"
      },
      "execution_count": 39,
      "outputs": []
    },
    {
      "cell_type": "code",
      "source": [
        "# Extract the text data and target data for each set\n",
        "train_text_new, train_target_new = train[TEXT_C], train[TARGET_C]\n",
        "val_text_new, val_target_new = val[TEXT_C], val[TARGET_C]\n",
        "test_text_new, test_target_new = test[TEXT_C], test[TARGET_C]\n",
        "print('Size of training set:',train.shape)\n",
        "print('Size of validation set:',val.shape)\n",
        "print('Size of validation set:',test.shape)\n",
        "# print(type(train_target))"
      ],
      "metadata": {
        "colab": {
          "base_uri": "https://localhost:8080/"
        },
        "id": "H4hx6CEdmQbf",
        "outputId": "baeeedc4-c96b-467a-b196-f0d0a1df4e64"
      },
      "execution_count": 40,
      "outputs": [
        {
          "output_type": "stream",
          "name": "stdout",
          "text": [
            "Size of training set: (9398, 3)\n",
            "Size of validation set: (2014, 3)\n",
            "Size of validation set: (2015, 3)\n"
          ]
        }
      ]
    },
    {
      "cell_type": "code",
      "source": [
        "type(train_target_new)"
      ],
      "metadata": {
        "id": "wObd8yzLm1pV",
        "colab": {
          "base_uri": "https://localhost:8080/"
        },
        "outputId": "3f1ff005-e87c-449f-88b7-b381769f888d"
      },
      "execution_count": 41,
      "outputs": [
        {
          "output_type": "execute_result",
          "data": {
            "text/plain": [
              "pandas.core.series.Series"
            ]
          },
          "metadata": {},
          "execution_count": 41
        }
      ]
    },
    {
      "cell_type": "code",
      "source": [
        "# train_target_new = train_target_new.replace({'unrelated': 0, 'related': 1})\n",
        "# val_target_new = val_target_new.replace({'unrelated': 0, 'related': 1})\n",
        "# test_target_new = test_target_new.replace({'unrelated': 0, 'related': 1})\n",
        "\n",
        "train_target_new = train_target_new.replace({'agree': '0', 'discuss': '1', 'disagree': '2'})\n",
        "val_target_new = val_target_new.replace({'agree': '0', 'discuss': '1', 'disagree': '2'})\n",
        "test_target_new = test_target_new.replace({'agree': '0', 'discuss': '1', 'disagree': '2'})\n",
        "\n",
        "# train = train.replace({'unrelated': 0, 'related': 1})\n",
        "# val = val.replace({'unrelated': 0, 'related': 1})\n",
        "# test = test.replace({'unrelated': 0, 'related': 1})\n",
        "\n",
        "train_new = train.replace({'agree': '0', 'discuss': '1', 'disagree': '2'})\n",
        "val_new = val.replace({'agree': '0', 'discuss': '1', 'disagree': '2'})\n",
        "test_new = test.replace({'agree': '0', 'discuss': '1', 'disagree': '2'})"
      ],
      "metadata": {
        "id": "61b7JLYgg0-c"
      },
      "execution_count": 42,
      "outputs": []
    },
    {
      "cell_type": "code",
      "source": [
        "!pip install transformers"
      ],
      "metadata": {
        "colab": {
          "base_uri": "https://localhost:8080/"
        },
        "id": "0ZaVVGmlmBzl",
        "outputId": "e733c730-9331-4606-9f87-f8f514948959"
      },
      "execution_count": 43,
      "outputs": [
        {
          "output_type": "stream",
          "name": "stdout",
          "text": [
            "Looking in indexes: https://pypi.org/simple, https://us-python.pkg.dev/colab-wheels/public/simple/\n",
            "Requirement already satisfied: transformers in /usr/local/lib/python3.10/dist-packages (4.28.1)\n",
            "Requirement already satisfied: requests in /usr/local/lib/python3.10/dist-packages (from transformers) (2.27.1)\n",
            "Requirement already satisfied: huggingface-hub<1.0,>=0.11.0 in /usr/local/lib/python3.10/dist-packages (from transformers) (0.14.1)\n",
            "Requirement already satisfied: regex!=2019.12.17 in /usr/local/lib/python3.10/dist-packages (from transformers) (2022.10.31)\n",
            "Requirement already satisfied: tqdm>=4.27 in /usr/local/lib/python3.10/dist-packages (from transformers) (4.65.0)\n",
            "Requirement already satisfied: pyyaml>=5.1 in /usr/local/lib/python3.10/dist-packages (from transformers) (6.0)\n",
            "Requirement already satisfied: tokenizers!=0.11.3,<0.14,>=0.11.1 in /usr/local/lib/python3.10/dist-packages (from transformers) (0.13.3)\n",
            "Requirement already satisfied: filelock in /usr/local/lib/python3.10/dist-packages (from transformers) (3.12.0)\n",
            "Requirement already satisfied: numpy>=1.17 in /usr/local/lib/python3.10/dist-packages (from transformers) (1.22.4)\n",
            "Requirement already satisfied: packaging>=20.0 in /usr/local/lib/python3.10/dist-packages (from transformers) (23.1)\n",
            "Requirement already satisfied: typing-extensions>=3.7.4.3 in /usr/local/lib/python3.10/dist-packages (from huggingface-hub<1.0,>=0.11.0->transformers) (4.5.0)\n",
            "Requirement already satisfied: fsspec in /usr/local/lib/python3.10/dist-packages (from huggingface-hub<1.0,>=0.11.0->transformers) (2023.4.0)\n",
            "Requirement already satisfied: certifi>=2017.4.17 in /usr/local/lib/python3.10/dist-packages (from requests->transformers) (2022.12.7)\n",
            "Requirement already satisfied: urllib3<1.27,>=1.21.1 in /usr/local/lib/python3.10/dist-packages (from requests->transformers) (1.26.15)\n",
            "Requirement already satisfied: idna<4,>=2.5 in /usr/local/lib/python3.10/dist-packages (from requests->transformers) (3.4)\n",
            "Requirement already satisfied: charset-normalizer~=2.0.0 in /usr/local/lib/python3.10/dist-packages (from requests->transformers) (2.0.12)\n"
          ]
        }
      ]
    },
    {
      "cell_type": "code",
      "source": [
        "from transformers import BertTokenizer\n",
        "\n",
        "tokenizer = BertTokenizer.from_pretrained('bert-base-uncased')"
      ],
      "metadata": {
        "id": "txFG7rQikQpT"
      },
      "execution_count": 44,
      "outputs": []
    },
    {
      "cell_type": "code",
      "source": [
        "init_token = tokenizer.cls_token\n",
        "eos_token = tokenizer.sep_token\n",
        "pad_token = tokenizer.pad_token\n",
        "unk_token = tokenizer.unk_token\n",
        "init_token_idx = tokenizer.cls_token_id\n",
        "eos_token_idx = tokenizer.sep_token_id\n",
        "pad_token_idx = tokenizer.pad_token_id\n",
        "unk_token_idx = tokenizer.unk_token_id\n",
        "\n",
        "print(init_token, eos_token, pad_token, unk_token)"
      ],
      "metadata": {
        "colab": {
          "base_uri": "https://localhost:8080/"
        },
        "id": "AEKaXxfMl8Wx",
        "outputId": "1d519f90-93c5-4340-8a69-f823f14e25d9"
      },
      "execution_count": 45,
      "outputs": [
        {
          "output_type": "stream",
          "name": "stdout",
          "text": [
            "[CLS] [SEP] [PAD] [UNK]\n"
          ]
        }
      ]
    },
    {
      "cell_type": "code",
      "source": [
        "max_input_length = tokenizer.max_model_input_sizes['bert-base-uncased']\n",
        "\n",
        "def tokenize_and_cut(sentence):\n",
        "    tokens = tokenizer.tokenize(sentence) \n",
        "    tokens = tokens[:max_input_length-2]\n",
        "    return tokens"
      ],
      "metadata": {
        "id": "9pELvEbal8T7"
      },
      "execution_count": 46,
      "outputs": []
    },
    {
      "cell_type": "code",
      "source": [
        "# import torch\n",
        "# import random\n",
        "# from torchtext import datasets\n",
        "# from torchtext.data.functional import to_map_style_dataset\n",
        "\n",
        "train_dataset_new  = to_map_style_dataset(train_new.values)\n",
        "# y_train_dataset = to_map_style_dataset(y_train_2)\n",
        "val_dataset_new  = to_map_style_dataset(val_new.values)\n",
        "# y_val_dataset = to_map_style_dataset(y_val_2)\n",
        "test_dataset_new   = to_map_style_dataset(test_new.values)\n",
        "# y_test_dataset = to_map_style_dataset(y_test_2)\n",
        "\n",
        "train_dataset_new = list(train_dataset_new)\n",
        "val_dataset_new = list(val_dataset_new)\n",
        "test_dataset_new = list(test_dataset_new)"
      ],
      "metadata": {
        "id": "q6Xq_XWhl8Rl"
      },
      "execution_count": 47,
      "outputs": []
    },
    {
      "cell_type": "code",
      "source": [
        "# from torch.utils.data import DataLoader,Sampler\n",
        "# from torch.nn.utils.rnn import pad_sequence\n",
        "\n",
        "BATCH_SIZE = 32\n",
        "\n",
        "\n",
        "# integrate headline and articlebody in this step\n",
        "def vectorize_batch(batch):\n",
        "    '''Take a batch of (text,label) pairs and return tensors ready for input to the model.'''\n",
        "    label_list, text_list = [], []\n",
        "    # train_dataset_c[0]['Headline'][0]    \n",
        "    for (headline, body,stance) in batch:\n",
        "    # for item in batch:\n",
        "    #   headline, body, stance, *_ = item  # unpack only the first 3 values of the tuple\n",
        "      # Use a for loop to iterate over each row in the dataframe\n",
        "      # for i in range (len(X_train_bert)):\n",
        "        # Add the new string to the new_column_values list\n",
        "      label_list.append(int(stance))\n",
        "      tokens = tokenizer.convert_tokens_to_ids(tokenize_and_cut(headline))\n",
        "      tokens1 = tokenizer.convert_tokens_to_ids(tokenize_and_cut(body))\n",
        "      tokens1 = tokens1[0:max_input_length]\n",
        "      text_list.append(torch.tensor(tokens))\n",
        "      # print(text_list)\n",
        "    return pad_sequence(text_list,\n",
        "                        padding_value=pad_token_idx,\n",
        "                        batch_first=True), torch.tensor(label_list)\n",
        "                                      \n",
        "class BucketSampler(Sampler):\n",
        "    def __init__(self, dataset, batch_size):\n",
        "        # train_list = list(dataset)\n",
        "        indices = [(i, len(tokenizer(s[0]))) for i, s in enumerate(dataset)]\n",
        "        random.shuffle(indices)\n",
        "        self.batch_size = batch_size\n",
        "        \n",
        "        # create pool of indices with similar lengths \n",
        "        self.pooled_indices = []\n",
        "        for i in range(0, len(indices), self.batch_size * 100):\n",
        "            self.pooled_indices.extend(sorted(indices[i:i + self.batch_size * 100], key=lambda x: x[1]))\n",
        "        self.pooled_indices = [x[0] for x in self.pooled_indices]\n",
        "        \n",
        "    def __iter__(self):\n",
        "        self.count = 0\n",
        "        return self\n",
        "    \n",
        "    def __next__(self):\n",
        "        # yield indices for current batch\n",
        "        if self.count >= len(self.pooled_indices)-self.batch_size:\n",
        "            raise StopIteration\n",
        "        self.count += 1\n",
        "        \n",
        "        for i in range(0, len(self.pooled_indices), self.batch_size):\n",
        "            return self.pooled_indices[self.count:self.count + self.batch_size]\n",
        "        \n",
        "    def __len__(self):\n",
        "        return len(self.pooled_indices)\n",
        "\n",
        "\n",
        "train_iterator_new  = DataLoader(train_dataset_new, collate_fn=vectorize_batch, batch_size=BATCH_SIZE)\n",
        "val_iterator_new  = DataLoader(val_dataset_new, collate_fn=vectorize_batch, batch_size=BATCH_SIZE)\n",
        "test_iterator_new   = DataLoader(test_dataset_new,  collate_fn=vectorize_batch, batch_size=BATCH_SIZE)\n"
      ],
      "metadata": {
        "id": "9pjKgHX7mXZQ"
      },
      "execution_count": 48,
      "outputs": []
    },
    {
      "cell_type": "markdown",
      "source": [
        "LSTM"
      ],
      "metadata": {
        "id": "dCXeK8AenVlh"
      }
    },
    {
      "cell_type": "code",
      "source": [
        "device = torch.device(\"cuda\" if torch.cuda.is_available() else \"cpu\")\n",
        "vocab_bert = tokenizer.get_vocab()\n",
        "len(vocab_bert)"
      ],
      "metadata": {
        "colab": {
          "base_uri": "https://localhost:8080/"
        },
        "id": "JyN3AhUNnVNc",
        "outputId": "5f47f244-769f-4686-acd6-670e04a05153"
      },
      "execution_count": 49,
      "outputs": [
        {
          "output_type": "execute_result",
          "data": {
            "text/plain": [
              "30522"
            ]
          },
          "metadata": {},
          "execution_count": 49
        }
      ]
    },
    {
      "cell_type": "code",
      "source": [
        "# vocab = tfidf.get_feature_names_out()\n",
        "# len(vocab)\n",
        "\n",
        "class TEXT_LSTM(nn.Module):\n",
        "    def __init__(self, dimension=64):\n",
        "        super(TEXT_LSTM, self).__init__()\n",
        "        self.embedding_layer = nn.Embedding(len(vocab_bert), 300)\n",
        "        self.rnn = nn.LSTM(\n",
        "            input_size=300,\n",
        "            hidden_size=dimension,\n",
        "            num_layers=1,\n",
        "            bidirectional=True,\n",
        "            batch_first=True)\n",
        "        self.drop = nn.Dropout(p=0.5)\n",
        "        self.fc = nn.Linear(2*dimension, 3)\n",
        "\n",
        "    def forward(self, X_batch):\n",
        "        embeddings = self.embedding_layer(X_batch)\n",
        "        output, hidden = self.rnn(embeddings)\n",
        "        text_fea = self.drop(output[:,-1])\n",
        "        # text_fea = self.drop(output)\n",
        "        text_fea = self.fc(text_fea)\n",
        "        text_fea = torch.squeeze(text_fea,1)\n",
        "        # text_fea = torch.squeeze(text_fea)\n",
        "        text_out = torch.sigmoid(text_fea)\n",
        "        return text_out\n",
        "\n",
        "    \n",
        "# Print out the layers\n",
        "model = TEXT_LSTM()\n",
        "print(\"Layers:\")\n",
        "for layer in model.children():\n",
        "    print(\"\\t{}\".format(layer))"
      ],
      "metadata": {
        "colab": {
          "base_uri": "https://localhost:8080/"
        },
        "id": "F1RgcQRumXFy",
        "outputId": "309b341e-af5d-4e56-9f9e-a3163032e35d"
      },
      "execution_count": 50,
      "outputs": [
        {
          "output_type": "stream",
          "name": "stdout",
          "text": [
            "Layers:\n",
            "\tEmbedding(30522, 300)\n",
            "\tLSTM(300, 64, batch_first=True, bidirectional=True)\n",
            "\tDropout(p=0.5, inplace=False)\n",
            "\tLinear(in_features=128, out_features=3, bias=True)\n"
          ]
        }
      ]
    },
    {
      "cell_type": "code",
      "source": [
        "def save_checkpoint(save_path,model,optimizer,valid_loss):\n",
        "    if save_path == None:\n",
        "        return\n",
        "    state_dict ={'model_state_dict': model.state_dict(),\n",
        "                 'optimizer_state_dict': optimizer.state_dict(),\n",
        "                 'valid_loss': valid_loss}\n",
        "    torch.save(state_dict, save_path)\n",
        "    print(f'Model saved to ==> {save_path}')\n",
        "    \n",
        "def load_checkpoint(load_path,model,optimizer):\n",
        "    if load_path == None:\n",
        "        return\n",
        "    state_dict = torch.load(load_path)\n",
        "    print(f'Model loaded from <== {load_path}')\n",
        "    \n",
        "    model.load_state_dict(state_dict['model_state_dict'])\n",
        "    optimizer.load_state_dict(state_dict['optimizer_state_dict'])\n",
        "    \n",
        "    return state_dict['valid_loss']\n",
        "\n",
        "def save_metrics(save_path,train_loss_list, valid_loss_list,global_steps_list):\n",
        "    if save_path==None:\n",
        "        return\n",
        "    state_dict= {'train_loss_list': train_loss_list,\n",
        "                 'valid_loss_list': valid_loss_list,\n",
        "                 'global_steps_list': global_steps_list}\n",
        "    torch.save(state_dict, save_path)\n",
        "    print(f'Metrics saved to ==> {save_path}')\n",
        "# def save_metrics(train_loss_list, valid_loss_list, global_steps_list):\n",
        "#     metrics = {\n",
        "#         'train_loss_list': train_loss_list,\n",
        "#         'valid_loss_list': valid_loss_list,\n",
        "#         'global_steps_list': global_steps_list\n",
        "#     }\n",
        "#     return metrics\n",
        "\n",
        "    \n",
        "def load_metrics(load_path):\n",
        "    if load_path == None:\n",
        "        return \n",
        "    state_dict = torch.load(load_path)\n",
        "    print(f'Metrics loaded from <== {load_path}')\n",
        "    return state_dict['train_loss_list'],state_dict['valid_loss_list'],state_dict['global_steps_list']"
      ],
      "metadata": {
        "id": "9I7d4jyQg078"
      },
      "execution_count": 51,
      "outputs": []
    },
    {
      "cell_type": "code",
      "source": [
        "len(train_dataset_new) // 2"
      ],
      "metadata": {
        "colab": {
          "base_uri": "https://localhost:8080/"
        },
        "id": "hQ8p4MkHNuML",
        "outputId": "47f57b2c-3617-4fe7-b9ea-5e6c79a1ee37"
      },
      "execution_count": 52,
      "outputs": [
        {
          "output_type": "execute_result",
          "data": {
            "text/plain": [
              "4699"
            ]
          },
          "metadata": {},
          "execution_count": 52
        }
      ]
    },
    {
      "cell_type": "code",
      "source": [
        "def train(model,\n",
        "          optimizer,):\n",
        "    criterion = nn.CrossEntropyLoss()\n",
        "    train_loader_bert_new = train_iterator_new\n",
        "    valid_loader_bert_new = val_iterator_new\n",
        "    num_epochs = 10\n",
        "    eval_every = len(train_dataset_new) // 2\n",
        "    file_path = \"output\"\n",
        "    best_valid_loss = float(\"Inf\")\n",
        "    \n",
        "    # Initial running values\n",
        "    running_loss = 0.0\n",
        "    valid_running_loss = 0.0\n",
        "    global_step = 0\n",
        "    train_loss_list=[]\n",
        "    valid_loss_list = []\n",
        "    global_steps_list = []\n",
        "    # Training Loop\n",
        "    model.train()\n",
        "    for epoch in range(num_epochs):\n",
        "        losses = []\n",
        "        for text, labels in train_loader_bert_new:\n",
        "            # print(text)\n",
        "            # print(global_step)\n",
        "            # print(eval_every)\n",
        "            # Move everything to the right device\n",
        "            # text = text.toarray()\n",
        "\n",
        "            # text = torch.tensor(text) #.shape[0]\n",
        "            # labels = torch.tensor(labels)\n",
        "            text   = text.to(device)\n",
        "            labels = labels.to(device)\n",
        "            \n",
        "            # Forward pass\n",
        "            output = model(text)\n",
        "            # print(output.size())\n",
        "            # print(labels.size())\n",
        "            # Calculate loss\n",
        "            # output = torch.argmax(output, dim=1)\n",
        "            output = torch.squeeze(output)\n",
        "            # labels = torch.nn.functional.one_hot(labels)\n",
        "            labels = (labels - labels.min()).long()\n",
        "            labels = F.one_hot(labels, num_classes=3)\n",
        "            labels = labels.float()\n",
        "            print(labels.shape)\n",
        "            print(output.shape)\n",
        "            # print(labels.size())\n",
        "            loss = criterion(output, labels)\n",
        "            # loss = criterion(output.to(torch.float32), labels.to(torch.float32))\n",
        "\n",
        "            # output.to(torch.float32), labels.to(torch.float32)\n",
        "            # loss = criterion(output.to(torch.float32), labels.to(torch.float32))\n",
        "            losses.append(loss.item())\n",
        "\n",
        "            # Backward pass\n",
        "            optimizer.zero_grad()\n",
        "            loss.backward()\n",
        "            optimizer.step()\n",
        "            \n",
        "            # Update running values\n",
        "            running_loss += loss.item()\n",
        "            global_step  += 1\n",
        "            # print(global_step)\n",
        "            # print(eval_every)\n",
        "            # Evaluation step\n",
        "            if global_step % eval_every == 0:\n",
        "                # print('enter')\n",
        "                model.eval()\n",
        "                with torch.no_grad():\n",
        "                    # Validation loop\n",
        "                    valid_losses = []\n",
        "                    for text, labels in valid_loader_bert_new:\n",
        "                        # print(labels)\n",
        "                        text = torch.tensor(text)\n",
        "                        labels = torch.tensor(labels)\n",
        "                        # text   = text.unsqueeze(-1).to(device)\n",
        "                        labels = labels.to(device)\n",
        "                        output = model(text.long())\n",
        "                        # loss = criterion(output, labels)\n",
        "                        loss = criterion(output, labels)\n",
        "                        valid_losses.append(loss.item())\n",
        "                        # loss = criterion(output.to(torch.float32), labels.to(torch.float32))\n",
        "                        valid_running_loss += loss.item()\n",
        "\n",
        "                        # text = torch.tensor(text)#.shape[0]\n",
        "                        # labels = torch.tensor(labels)\n",
        "                        # # text = text.to(device)\n",
        "                        # text = text.to(device)\n",
        "                        # labels = labels.to(device)\n",
        "                        # print(text)\n",
        "                        # output = model(text.long())#\n",
        "                        # loss = criterion(output, labels)\n",
        "                        # valid_losses.append(loss.item())\n",
        "                        # # loss = criterion(output.to(torch.float32), labels.to(torch.float32))\n",
        "                        # valid_running_loss += loss.item()\n",
        "                    \n",
        "                # Evaluation\n",
        "                average_train_loss = running_loss/eval_every\n",
        "                average_valid_loss = valid_running_loss/len(text) #valid_loader\n",
        "                train_loss_list.append(average_train_loss)\n",
        "                valid_loss_list.append(average_valid_loss)\n",
        "                global_steps_list.append(global_step)\n",
        "\n",
        "                # Resetting running values\n",
        "                running_loss = 0.0\n",
        "                valid_running_loss = 0.0\n",
        "                model.train()\n",
        "                print(len(text))\n",
        "                print(num_epochs*len(text))\n",
        "                print('Epoch[{}/{}], Step [{}/{}], Train loss:{:.4f}, Valid loss:{:.4f}'.format(\n",
        "                epoch+1, num_epochs, global_step, num_epochs*len(text),average_train_loss,\n",
        "                    average_valid_loss))\n",
        "\n",
        "                # Checkpoint\n",
        "\n",
        "                # if best_valid_loss > average_valid_loss:\n",
        "                best_valid_loss = average_valid_loss\n",
        "                save_checkpoint(file_path+'/model.pt', model, optimizer, best_valid_loss)\n",
        "                save_metrics(file_path+'/model.pt',train_loss_list,valid_loss_list,global_steps_list)\n",
        "                    # file_path+'/model.pt'\n",
        "    # metrics = save_metrics(file_path+'/model.pt',train_loss_list,valid_loss_list,global_steps_list)\n",
        "    # print('Training is Done!')\n",
        "    # # double-check whether any data is in these three elements \n",
        "    # return train_loss_list,valid_loss_list,global_steps_list\n",
        "    # file_path+'/metrics.pt',\n",
        "    print('Epoch {} done'.format(epoch+1))\n",
        "\n",
        "    metrics = save_metrics(\"output\"+'/model.pt',train_loss_list,valid_loss_list,global_steps_list)\n",
        "    print('Training is Done!')\n",
        "    return train_loss_list,valid_loss_list,global_steps_list\n",
        "loss_fn = nn.BCELoss()\n",
        "optimizer = optim.Adam(model.parameters(), lr=1e-3)\n",
        "model = model.to(device)\n",
        "train_loss_list,valid_loss_list,global_steps_list = train(model, optimizer)#, num_epochs=5, train_loader_bert=train_iterator #, file_path=destination_folder\n",
        "# file_path=\"output\""
      ],
      "metadata": {
        "colab": {
          "base_uri": "https://localhost:8080/",
          "height": 1000
        },
        "id": "zr6oehv-g05g",
        "outputId": "48ded6bf-0971-4c9f-c05a-be73978e65ae"
      },
      "execution_count": 53,
      "outputs": [
        {
          "output_type": "stream",
          "name": "stdout",
          "text": [
            "torch.Size([32, 3])\n",
            "torch.Size([32, 3])\n",
            "torch.Size([32, 3])\n",
            "torch.Size([32, 3])\n",
            "torch.Size([32, 3])\n",
            "torch.Size([32, 3])\n",
            "torch.Size([32, 3])\n",
            "torch.Size([32, 3])\n",
            "torch.Size([32, 3])\n",
            "torch.Size([32, 3])\n",
            "torch.Size([32, 3])\n",
            "torch.Size([32, 3])\n",
            "torch.Size([32, 3])\n",
            "torch.Size([32, 3])\n",
            "torch.Size([32, 3])\n",
            "torch.Size([32, 3])\n",
            "torch.Size([32, 3])\n",
            "torch.Size([32, 3])\n",
            "torch.Size([32, 3])\n",
            "torch.Size([32, 3])\n",
            "torch.Size([32, 3])\n",
            "torch.Size([32, 3])\n",
            "torch.Size([32, 3])\n",
            "torch.Size([32, 3])\n",
            "torch.Size([32, 3])\n",
            "torch.Size([32, 3])\n",
            "torch.Size([32, 3])\n",
            "torch.Size([32, 3])\n",
            "torch.Size([32, 3])\n",
            "torch.Size([32, 3])\n",
            "torch.Size([32, 3])\n",
            "torch.Size([32, 3])\n",
            "torch.Size([32, 3])\n",
            "torch.Size([32, 3])\n",
            "torch.Size([32, 3])\n",
            "torch.Size([32, 3])\n",
            "torch.Size([32, 3])\n",
            "torch.Size([32, 3])\n",
            "torch.Size([32, 3])\n",
            "torch.Size([32, 3])\n",
            "torch.Size([32, 3])\n",
            "torch.Size([32, 3])\n",
            "torch.Size([32, 3])\n",
            "torch.Size([32, 3])\n",
            "torch.Size([32, 3])\n",
            "torch.Size([32, 3])\n",
            "torch.Size([32, 3])\n",
            "torch.Size([32, 3])\n",
            "torch.Size([32, 3])\n",
            "torch.Size([32, 3])\n",
            "torch.Size([32, 3])\n",
            "torch.Size([32, 3])\n",
            "torch.Size([32, 3])\n",
            "torch.Size([32, 3])\n",
            "torch.Size([32, 3])\n",
            "torch.Size([32, 3])\n",
            "torch.Size([32, 3])\n",
            "torch.Size([32, 3])\n",
            "torch.Size([32, 3])\n",
            "torch.Size([32, 3])\n",
            "torch.Size([32, 3])\n",
            "torch.Size([32, 3])\n",
            "torch.Size([32, 3])\n",
            "torch.Size([32, 3])\n",
            "torch.Size([32, 3])\n",
            "torch.Size([32, 3])\n",
            "torch.Size([32, 3])\n",
            "torch.Size([32, 3])\n",
            "torch.Size([32, 3])\n",
            "torch.Size([32, 3])\n",
            "torch.Size([32, 3])\n",
            "torch.Size([32, 3])\n",
            "torch.Size([32, 3])\n",
            "torch.Size([32, 3])\n",
            "torch.Size([32, 3])\n",
            "torch.Size([32, 3])\n",
            "torch.Size([32, 3])\n",
            "torch.Size([32, 3])\n",
            "torch.Size([32, 3])\n",
            "torch.Size([32, 3])\n",
            "torch.Size([32, 3])\n",
            "torch.Size([32, 3])\n",
            "torch.Size([32, 3])\n",
            "torch.Size([32, 3])\n",
            "torch.Size([32, 3])\n",
            "torch.Size([32, 3])\n",
            "torch.Size([32, 3])\n",
            "torch.Size([32, 3])\n",
            "torch.Size([32, 3])\n",
            "torch.Size([32, 3])\n",
            "torch.Size([32, 3])\n",
            "torch.Size([32, 3])\n",
            "torch.Size([32, 3])\n",
            "torch.Size([32, 3])\n",
            "torch.Size([32, 3])\n",
            "torch.Size([32, 3])\n",
            "torch.Size([32, 3])\n",
            "torch.Size([32, 3])\n",
            "torch.Size([32, 3])\n",
            "torch.Size([32, 3])\n",
            "torch.Size([32, 3])\n",
            "torch.Size([32, 3])\n",
            "torch.Size([32, 3])\n",
            "torch.Size([32, 3])\n",
            "torch.Size([32, 3])\n",
            "torch.Size([32, 3])\n",
            "torch.Size([32, 3])\n",
            "torch.Size([32, 3])\n",
            "torch.Size([32, 3])\n",
            "torch.Size([32, 3])\n",
            "torch.Size([32, 3])\n",
            "torch.Size([32, 3])\n",
            "torch.Size([32, 3])\n",
            "torch.Size([32, 3])\n",
            "torch.Size([32, 3])\n",
            "torch.Size([32, 3])\n",
            "torch.Size([32, 3])\n",
            "torch.Size([32, 3])\n",
            "torch.Size([32, 3])\n",
            "torch.Size([32, 3])\n",
            "torch.Size([32, 3])\n",
            "torch.Size([32, 3])\n",
            "torch.Size([32, 3])\n",
            "torch.Size([32, 3])\n",
            "torch.Size([32, 3])\n",
            "torch.Size([32, 3])\n",
            "torch.Size([32, 3])\n",
            "torch.Size([32, 3])\n",
            "torch.Size([32, 3])\n",
            "torch.Size([32, 3])\n",
            "torch.Size([32, 3])\n",
            "torch.Size([32, 3])\n",
            "torch.Size([32, 3])\n",
            "torch.Size([32, 3])\n",
            "torch.Size([32, 3])\n",
            "torch.Size([32, 3])\n",
            "torch.Size([32, 3])\n",
            "torch.Size([32, 3])\n",
            "torch.Size([32, 3])\n",
            "torch.Size([32, 3])\n",
            "torch.Size([32, 3])\n",
            "torch.Size([32, 3])\n",
            "torch.Size([32, 3])\n",
            "torch.Size([32, 3])\n",
            "torch.Size([32, 3])\n",
            "torch.Size([32, 3])\n",
            "torch.Size([32, 3])\n",
            "torch.Size([32, 3])\n",
            "torch.Size([32, 3])\n",
            "torch.Size([32, 3])\n",
            "torch.Size([32, 3])\n",
            "torch.Size([32, 3])\n",
            "torch.Size([32, 3])\n",
            "torch.Size([32, 3])\n",
            "torch.Size([32, 3])\n",
            "torch.Size([32, 3])\n",
            "torch.Size([32, 3])\n",
            "torch.Size([32, 3])\n",
            "torch.Size([32, 3])\n",
            "torch.Size([32, 3])\n",
            "torch.Size([32, 3])\n",
            "torch.Size([32, 3])\n",
            "torch.Size([32, 3])\n",
            "torch.Size([32, 3])\n",
            "torch.Size([32, 3])\n",
            "torch.Size([32, 3])\n",
            "torch.Size([32, 3])\n",
            "torch.Size([32, 3])\n",
            "torch.Size([32, 3])\n",
            "torch.Size([32, 3])\n",
            "torch.Size([32, 3])\n",
            "torch.Size([32, 3])\n",
            "torch.Size([32, 3])\n",
            "torch.Size([32, 3])\n",
            "torch.Size([32, 3])\n",
            "torch.Size([32, 3])\n",
            "torch.Size([32, 3])\n",
            "torch.Size([32, 3])\n",
            "torch.Size([32, 3])\n",
            "torch.Size([32, 3])\n",
            "torch.Size([32, 3])\n",
            "torch.Size([32, 3])\n",
            "torch.Size([32, 3])\n",
            "torch.Size([32, 3])\n",
            "torch.Size([32, 3])\n",
            "torch.Size([32, 3])\n",
            "torch.Size([32, 3])\n",
            "torch.Size([32, 3])\n",
            "torch.Size([32, 3])\n",
            "torch.Size([32, 3])\n",
            "torch.Size([32, 3])\n",
            "torch.Size([32, 3])\n",
            "torch.Size([32, 3])\n",
            "torch.Size([32, 3])\n",
            "torch.Size([32, 3])\n",
            "torch.Size([32, 3])\n",
            "torch.Size([32, 3])\n",
            "torch.Size([32, 3])\n",
            "torch.Size([32, 3])\n",
            "torch.Size([32, 3])\n",
            "torch.Size([32, 3])\n",
            "torch.Size([32, 3])\n",
            "torch.Size([32, 3])\n",
            "torch.Size([32, 3])\n",
            "torch.Size([32, 3])\n",
            "torch.Size([32, 3])\n",
            "torch.Size([32, 3])\n",
            "torch.Size([32, 3])\n",
            "torch.Size([32, 3])\n",
            "torch.Size([32, 3])\n",
            "torch.Size([32, 3])\n",
            "torch.Size([32, 3])\n",
            "torch.Size([32, 3])\n",
            "torch.Size([32, 3])\n",
            "torch.Size([32, 3])\n",
            "torch.Size([32, 3])\n",
            "torch.Size([32, 3])\n",
            "torch.Size([32, 3])\n",
            "torch.Size([32, 3])\n",
            "torch.Size([32, 3])\n",
            "torch.Size([32, 3])\n",
            "torch.Size([32, 3])\n",
            "torch.Size([32, 3])\n",
            "torch.Size([32, 3])\n",
            "torch.Size([32, 3])\n",
            "torch.Size([32, 3])\n",
            "torch.Size([32, 3])\n",
            "torch.Size([32, 3])\n",
            "torch.Size([32, 3])\n",
            "torch.Size([32, 3])\n",
            "torch.Size([32, 3])\n",
            "torch.Size([32, 3])\n",
            "torch.Size([32, 3])\n",
            "torch.Size([32, 3])\n",
            "torch.Size([32, 3])\n",
            "torch.Size([32, 3])\n",
            "torch.Size([32, 3])\n",
            "torch.Size([32, 3])\n",
            "torch.Size([32, 3])\n",
            "torch.Size([32, 3])\n",
            "torch.Size([32, 3])\n",
            "torch.Size([32, 3])\n",
            "torch.Size([32, 3])\n",
            "torch.Size([32, 3])\n",
            "torch.Size([32, 3])\n",
            "torch.Size([32, 3])\n",
            "torch.Size([32, 3])\n",
            "torch.Size([32, 3])\n",
            "torch.Size([32, 3])\n",
            "torch.Size([32, 3])\n",
            "torch.Size([32, 3])\n",
            "torch.Size([32, 3])\n",
            "torch.Size([32, 3])\n",
            "torch.Size([32, 3])\n",
            "torch.Size([32, 3])\n",
            "torch.Size([32, 3])\n",
            "torch.Size([32, 3])\n",
            "torch.Size([32, 3])\n",
            "torch.Size([32, 3])\n",
            "torch.Size([32, 3])\n",
            "torch.Size([32, 3])\n",
            "torch.Size([32, 3])\n",
            "torch.Size([32, 3])\n",
            "torch.Size([32, 3])\n",
            "torch.Size([32, 3])\n",
            "torch.Size([32, 3])\n",
            "torch.Size([32, 3])\n",
            "torch.Size([32, 3])\n",
            "torch.Size([32, 3])\n",
            "torch.Size([32, 3])\n",
            "torch.Size([32, 3])\n",
            "torch.Size([32, 3])\n",
            "torch.Size([32, 3])\n",
            "torch.Size([32, 3])\n",
            "torch.Size([32, 3])\n",
            "torch.Size([32, 3])\n",
            "torch.Size([32, 3])\n",
            "torch.Size([32, 3])\n",
            "torch.Size([32, 3])\n",
            "torch.Size([32, 3])\n",
            "torch.Size([32, 3])\n",
            "torch.Size([32, 3])\n",
            "torch.Size([32, 3])\n",
            "torch.Size([32, 3])\n",
            "torch.Size([32, 3])\n",
            "torch.Size([32, 3])\n",
            "torch.Size([32, 3])\n",
            "torch.Size([32, 3])\n",
            "torch.Size([32, 3])\n",
            "torch.Size([32, 3])\n",
            "torch.Size([32, 3])\n",
            "torch.Size([32, 3])\n",
            "torch.Size([32, 3])\n",
            "torch.Size([32, 3])\n",
            "torch.Size([32, 3])\n",
            "torch.Size([32, 3])\n",
            "torch.Size([32, 3])\n",
            "torch.Size([32, 3])\n",
            "torch.Size([32, 3])\n",
            "torch.Size([32, 3])\n",
            "torch.Size([32, 3])\n",
            "torch.Size([32, 3])\n",
            "torch.Size([32, 3])\n",
            "torch.Size([32, 3])\n",
            "torch.Size([32, 3])\n",
            "torch.Size([32, 3])\n",
            "torch.Size([32, 3])\n",
            "torch.Size([32, 3])\n",
            "torch.Size([32, 3])\n",
            "torch.Size([32, 3])\n",
            "torch.Size([32, 3])\n",
            "torch.Size([32, 3])\n",
            "torch.Size([32, 3])\n",
            "torch.Size([32, 3])\n",
            "torch.Size([32, 3])\n",
            "torch.Size([32, 3])\n",
            "torch.Size([32, 3])\n",
            "torch.Size([32, 3])\n",
            "torch.Size([32, 3])\n",
            "torch.Size([32, 3])\n",
            "torch.Size([32, 3])\n",
            "torch.Size([32, 3])\n",
            "torch.Size([32, 3])\n",
            "torch.Size([32, 3])\n",
            "torch.Size([32, 3])\n",
            "torch.Size([32, 3])\n",
            "torch.Size([32, 3])\n",
            "torch.Size([32, 3])\n",
            "torch.Size([32, 3])\n",
            "torch.Size([32, 3])\n",
            "torch.Size([32, 3])\n",
            "torch.Size([32, 3])\n",
            "torch.Size([32, 3])\n",
            "torch.Size([32, 3])\n",
            "torch.Size([32, 3])\n",
            "torch.Size([32, 3])\n",
            "torch.Size([32, 3])\n",
            "torch.Size([32, 3])\n",
            "torch.Size([32, 3])\n",
            "torch.Size([32, 3])\n",
            "torch.Size([32, 3])\n",
            "torch.Size([32, 3])\n",
            "torch.Size([32, 3])\n",
            "torch.Size([32, 3])\n",
            "torch.Size([32, 3])\n",
            "torch.Size([32, 3])\n",
            "torch.Size([32, 3])\n",
            "torch.Size([32, 3])\n",
            "torch.Size([32, 3])\n",
            "torch.Size([32, 3])\n",
            "torch.Size([32, 3])\n",
            "torch.Size([32, 3])\n",
            "torch.Size([32, 3])\n",
            "torch.Size([32, 3])\n",
            "torch.Size([32, 3])\n",
            "torch.Size([32, 3])\n",
            "torch.Size([32, 3])\n",
            "torch.Size([32, 3])\n",
            "torch.Size([32, 3])\n",
            "torch.Size([32, 3])\n",
            "torch.Size([32, 3])\n",
            "torch.Size([32, 3])\n",
            "torch.Size([32, 3])\n",
            "torch.Size([32, 3])\n",
            "torch.Size([32, 3])\n",
            "torch.Size([32, 3])\n",
            "torch.Size([32, 3])\n",
            "torch.Size([32, 3])\n",
            "torch.Size([32, 3])\n",
            "torch.Size([32, 3])\n",
            "torch.Size([32, 3])\n",
            "torch.Size([32, 3])\n",
            "torch.Size([32, 3])\n",
            "torch.Size([32, 3])\n",
            "torch.Size([32, 3])\n",
            "torch.Size([32, 3])\n",
            "torch.Size([32, 3])\n",
            "torch.Size([32, 3])\n",
            "torch.Size([32, 3])\n",
            "torch.Size([32, 3])\n",
            "torch.Size([32, 3])\n",
            "torch.Size([32, 3])\n",
            "torch.Size([32, 3])\n",
            "torch.Size([32, 3])\n",
            "torch.Size([32, 3])\n",
            "torch.Size([32, 3])\n",
            "torch.Size([32, 3])\n",
            "torch.Size([32, 3])\n",
            "torch.Size([32, 3])\n",
            "torch.Size([32, 3])\n",
            "torch.Size([32, 3])\n",
            "torch.Size([32, 3])\n",
            "torch.Size([32, 3])\n",
            "torch.Size([32, 3])\n",
            "torch.Size([32, 3])\n",
            "torch.Size([32, 3])\n",
            "torch.Size([32, 3])\n",
            "torch.Size([32, 3])\n",
            "torch.Size([32, 3])\n",
            "torch.Size([32, 3])\n",
            "torch.Size([32, 3])\n",
            "torch.Size([32, 3])\n",
            "torch.Size([32, 3])\n",
            "torch.Size([32, 3])\n",
            "torch.Size([32, 3])\n",
            "torch.Size([32, 3])\n",
            "torch.Size([32, 3])\n",
            "torch.Size([32, 3])\n",
            "torch.Size([32, 3])\n",
            "torch.Size([32, 3])\n",
            "torch.Size([32, 3])\n",
            "torch.Size([32, 3])\n",
            "torch.Size([32, 3])\n",
            "torch.Size([32, 3])\n",
            "torch.Size([32, 3])\n",
            "torch.Size([32, 3])\n",
            "torch.Size([32, 3])\n",
            "torch.Size([32, 3])\n",
            "torch.Size([32, 3])\n",
            "torch.Size([32, 3])\n",
            "torch.Size([32, 3])\n",
            "torch.Size([32, 3])\n",
            "torch.Size([32, 3])\n",
            "torch.Size([32, 3])\n",
            "torch.Size([32, 3])\n",
            "torch.Size([32, 3])\n",
            "torch.Size([32, 3])\n",
            "torch.Size([32, 3])\n",
            "torch.Size([32, 3])\n",
            "torch.Size([32, 3])\n",
            "torch.Size([32, 3])\n",
            "torch.Size([32, 3])\n",
            "torch.Size([32, 3])\n",
            "torch.Size([32, 3])\n",
            "torch.Size([32, 3])\n",
            "torch.Size([32, 3])\n",
            "torch.Size([32, 3])\n",
            "torch.Size([32, 3])\n",
            "torch.Size([32, 3])\n",
            "torch.Size([32, 3])\n",
            "torch.Size([32, 3])\n",
            "torch.Size([32, 3])\n",
            "torch.Size([32, 3])\n",
            "torch.Size([32, 3])\n",
            "torch.Size([32, 3])\n",
            "torch.Size([32, 3])\n",
            "torch.Size([32, 3])\n",
            "torch.Size([32, 3])\n",
            "torch.Size([32, 3])\n",
            "torch.Size([32, 3])\n",
            "torch.Size([32, 3])\n",
            "torch.Size([32, 3])\n",
            "torch.Size([32, 3])\n",
            "torch.Size([32, 3])\n",
            "torch.Size([32, 3])\n",
            "torch.Size([32, 3])\n",
            "torch.Size([32, 3])\n",
            "torch.Size([32, 3])\n",
            "torch.Size([32, 3])\n",
            "torch.Size([32, 3])\n",
            "torch.Size([32, 3])\n",
            "torch.Size([32, 3])\n",
            "torch.Size([32, 3])\n",
            "torch.Size([32, 3])\n",
            "torch.Size([32, 3])\n",
            "torch.Size([32, 3])\n",
            "torch.Size([32, 3])\n",
            "torch.Size([32, 3])\n",
            "torch.Size([32, 3])\n",
            "torch.Size([32, 3])\n",
            "torch.Size([32, 3])\n",
            "torch.Size([32, 3])\n",
            "torch.Size([32, 3])\n",
            "torch.Size([32, 3])\n",
            "torch.Size([32, 3])\n",
            "torch.Size([32, 3])\n",
            "torch.Size([32, 3])\n",
            "torch.Size([32, 3])\n",
            "torch.Size([32, 3])\n",
            "torch.Size([32, 3])\n",
            "torch.Size([32, 3])\n",
            "torch.Size([32, 3])\n",
            "torch.Size([32, 3])\n",
            "torch.Size([32, 3])\n",
            "torch.Size([32, 3])\n",
            "torch.Size([32, 3])\n",
            "torch.Size([32, 3])\n",
            "torch.Size([32, 3])\n",
            "torch.Size([32, 3])\n",
            "torch.Size([32, 3])\n",
            "torch.Size([32, 3])\n",
            "torch.Size([32, 3])\n"
          ]
        },
        {
          "output_type": "error",
          "ename": "KeyboardInterrupt",
          "evalue": "ignored",
          "traceback": [
            "\u001b[0;31m---------------------------------------------------------------------------\u001b[0m",
            "\u001b[0;31mKeyboardInterrupt\u001b[0m                         Traceback (most recent call last)",
            "\u001b[0;32m<ipython-input-53-c999da795530>\u001b[0m in \u001b[0;36m<cell line: 134>\u001b[0;34m()\u001b[0m\n\u001b[1;32m    132\u001b[0m \u001b[0moptimizer\u001b[0m \u001b[0;34m=\u001b[0m \u001b[0moptim\u001b[0m\u001b[0;34m.\u001b[0m\u001b[0mAdam\u001b[0m\u001b[0;34m(\u001b[0m\u001b[0mmodel\u001b[0m\u001b[0;34m.\u001b[0m\u001b[0mparameters\u001b[0m\u001b[0;34m(\u001b[0m\u001b[0;34m)\u001b[0m\u001b[0;34m,\u001b[0m \u001b[0mlr\u001b[0m\u001b[0;34m=\u001b[0m\u001b[0;36m1e-3\u001b[0m\u001b[0;34m)\u001b[0m\u001b[0;34m\u001b[0m\u001b[0;34m\u001b[0m\u001b[0m\n\u001b[1;32m    133\u001b[0m \u001b[0mmodel\u001b[0m \u001b[0;34m=\u001b[0m \u001b[0mmodel\u001b[0m\u001b[0;34m.\u001b[0m\u001b[0mto\u001b[0m\u001b[0;34m(\u001b[0m\u001b[0mdevice\u001b[0m\u001b[0;34m)\u001b[0m\u001b[0;34m\u001b[0m\u001b[0;34m\u001b[0m\u001b[0m\n\u001b[0;32m--> 134\u001b[0;31m \u001b[0mtrain_loss_list\u001b[0m\u001b[0;34m,\u001b[0m\u001b[0mvalid_loss_list\u001b[0m\u001b[0;34m,\u001b[0m\u001b[0mglobal_steps_list\u001b[0m \u001b[0;34m=\u001b[0m \u001b[0mtrain\u001b[0m\u001b[0;34m(\u001b[0m\u001b[0mmodel\u001b[0m\u001b[0;34m,\u001b[0m \u001b[0moptimizer\u001b[0m\u001b[0;34m)\u001b[0m\u001b[0;31m#, num_epochs=5, train_loader_bert=train_iterator #, file_path=destination_folder\u001b[0m\u001b[0;34m\u001b[0m\u001b[0;34m\u001b[0m\u001b[0m\n\u001b[0m\u001b[1;32m    135\u001b[0m \u001b[0;31m# file_path=\"output\"\u001b[0m\u001b[0;34m\u001b[0m\u001b[0;34m\u001b[0m\u001b[0m\n",
            "\u001b[0;32m<ipython-input-53-c999da795530>\u001b[0m in \u001b[0;36mtrain\u001b[0;34m(model, optimizer)\u001b[0m\n\u001b[1;32m     55\u001b[0m             \u001b[0;31m# Backward pass\u001b[0m\u001b[0;34m\u001b[0m\u001b[0;34m\u001b[0m\u001b[0m\n\u001b[1;32m     56\u001b[0m             \u001b[0moptimizer\u001b[0m\u001b[0;34m.\u001b[0m\u001b[0mzero_grad\u001b[0m\u001b[0;34m(\u001b[0m\u001b[0;34m)\u001b[0m\u001b[0;34m\u001b[0m\u001b[0;34m\u001b[0m\u001b[0m\n\u001b[0;32m---> 57\u001b[0;31m             \u001b[0mloss\u001b[0m\u001b[0;34m.\u001b[0m\u001b[0mbackward\u001b[0m\u001b[0;34m(\u001b[0m\u001b[0;34m)\u001b[0m\u001b[0;34m\u001b[0m\u001b[0;34m\u001b[0m\u001b[0m\n\u001b[0m\u001b[1;32m     58\u001b[0m             \u001b[0moptimizer\u001b[0m\u001b[0;34m.\u001b[0m\u001b[0mstep\u001b[0m\u001b[0;34m(\u001b[0m\u001b[0;34m)\u001b[0m\u001b[0;34m\u001b[0m\u001b[0;34m\u001b[0m\u001b[0m\n\u001b[1;32m     59\u001b[0m \u001b[0;34m\u001b[0m\u001b[0m\n",
            "\u001b[0;32m/usr/local/lib/python3.10/dist-packages/torch/_tensor.py\u001b[0m in \u001b[0;36mbackward\u001b[0;34m(self, gradient, retain_graph, create_graph, inputs)\u001b[0m\n\u001b[1;32m    485\u001b[0m                 \u001b[0minputs\u001b[0m\u001b[0;34m=\u001b[0m\u001b[0minputs\u001b[0m\u001b[0;34m,\u001b[0m\u001b[0;34m\u001b[0m\u001b[0;34m\u001b[0m\u001b[0m\n\u001b[1;32m    486\u001b[0m             )\n\u001b[0;32m--> 487\u001b[0;31m         torch.autograd.backward(\n\u001b[0m\u001b[1;32m    488\u001b[0m             \u001b[0mself\u001b[0m\u001b[0;34m,\u001b[0m \u001b[0mgradient\u001b[0m\u001b[0;34m,\u001b[0m \u001b[0mretain_graph\u001b[0m\u001b[0;34m,\u001b[0m \u001b[0mcreate_graph\u001b[0m\u001b[0;34m,\u001b[0m \u001b[0minputs\u001b[0m\u001b[0;34m=\u001b[0m\u001b[0minputs\u001b[0m\u001b[0;34m\u001b[0m\u001b[0;34m\u001b[0m\u001b[0m\n\u001b[1;32m    489\u001b[0m         )\n",
            "\u001b[0;32m/usr/local/lib/python3.10/dist-packages/torch/autograd/__init__.py\u001b[0m in \u001b[0;36mbackward\u001b[0;34m(tensors, grad_tensors, retain_graph, create_graph, grad_variables, inputs)\u001b[0m\n\u001b[1;32m    198\u001b[0m     \u001b[0;31m# some Python versions print out the first line of a multi-line function\u001b[0m\u001b[0;34m\u001b[0m\u001b[0;34m\u001b[0m\u001b[0m\n\u001b[1;32m    199\u001b[0m     \u001b[0;31m# calls in the traceback and some print out the last line\u001b[0m\u001b[0;34m\u001b[0m\u001b[0;34m\u001b[0m\u001b[0m\n\u001b[0;32m--> 200\u001b[0;31m     Variable._execution_engine.run_backward(  # Calls into the C++ engine to run the backward pass\n\u001b[0m\u001b[1;32m    201\u001b[0m         \u001b[0mtensors\u001b[0m\u001b[0;34m,\u001b[0m \u001b[0mgrad_tensors_\u001b[0m\u001b[0;34m,\u001b[0m \u001b[0mretain_graph\u001b[0m\u001b[0;34m,\u001b[0m \u001b[0mcreate_graph\u001b[0m\u001b[0;34m,\u001b[0m \u001b[0minputs\u001b[0m\u001b[0;34m,\u001b[0m\u001b[0;34m\u001b[0m\u001b[0;34m\u001b[0m\u001b[0m\n\u001b[1;32m    202\u001b[0m         allow_unreachable=True, accumulate_grad=True)  # Calls into the C++ engine to run the backward pass\n",
            "\u001b[0;31mKeyboardInterrupt\u001b[0m: "
          ]
        }
      ]
    },
    {
      "cell_type": "code",
      "source": [
        "plt.plot(global_steps_list, valid_loss_list, label='Valid')\n",
        "plt.plot(global_steps_list, train_loss_list, label='Train')\n",
        "plt.xlabel('Global Steps')\n",
        "plt.ylabel('Loss')\n",
        "plt.legend()\n",
        "plt.show()"
      ],
      "metadata": {
        "id": "A6jw4rv4ozgK"
      },
      "execution_count": null,
      "outputs": []
    },
    {
      "cell_type": "markdown",
      "source": [
        "Evaluation"
      ],
      "metadata": {
        "id": "BwtC2X7JJYm-"
      }
    },
    {
      "cell_type": "code",
      "source": [
        "def evaluate(model, test_loader, version='title', threshold=0.5):\n",
        "    y_pred = []\n",
        "    y_true = []\n",
        "    model.eval()\n",
        "    test_loader_bert_new = test_iterator_new\n",
        "    with torch.no_grad():\n",
        "        for text, labels in test_loader_bert_new:\n",
        "\n",
        "            # text = torch.tensor(text.shape[0])\n",
        "            #             labels = torch.tensor(labels)\n",
        "            #             text   = text.unsqueeze(-1).to(device)\n",
        "            #             labels = labels.to(device)\n",
        "            #             output = model(text.long())\n",
        "            # text = torch.tensor(text.shape[0])\n",
        "            # labels = torch.tensor(labels)\n",
        "            # text   = text.unsqueeze(-1).to(device)\n",
        "            # labels = labels.to(device)\n",
        "\n",
        "            text = torch.tensor(text)\n",
        "            labels = torch.tensor(labels)\n",
        "            # text   = text.unsqueeze(-1).to(device)\n",
        "            labels = labels.to(device)\n",
        "            output = model(text.long())\n",
        "            # labels = labels.to(device)\n",
        "            # text   = text.unsqueeze(-1).to(device)\n",
        "            # text = text.to(device)\n",
        "            #text_len = text_len.to(device)\n",
        "            output = model(text.long())\n",
        "            # output = torch.squeeze(output)\n",
        "            # print(output)\n",
        "            # print(output)\n",
        "            # print(labels.shape)\n",
        "            output = (output > threshold).int()\n",
        "            output = output[:, 1] \n",
        "            # print(output)\n",
        "            y_pred.extend(output.tolist())\n",
        "            # y_pred.extend([output.item()])\n",
        "            y_true.extend(labels.tolist())\n",
        "            # y_true.extend(labels.tolist())\n",
        "            print(y_pred)\n",
        "            print(y_true)\n",
        "            # break\n",
        "    print('Classification Report:')\n",
        "    print(classification_report(y_true,y_pred, digits=4))\n",
        "    \n",
        "    cm = confusion_matrix(y_true,y_pred,labels=[1,0])\n",
        "    ax = plt.subplot()\n",
        "    sns.heatmap(cm,annot=True, ax=ax,cmap='Blues',fmt='d')\n",
        "    \n",
        "    ax.set_title('Confusion Matrix')\n",
        "    ax.set_xlabel('Predicated Labels')\n",
        "    ax.set_ylabel('True Labels')\n",
        "    \n",
        "    ax.xaxis.set_ticklabels(['Real','Irrelevant'])\n",
        "    ax.yaxis.set_ticklabels(['Real','Irrelevant'])"
      ],
      "metadata": {
        "id": "ByLL6NryJPSs"
      },
      "execution_count": null,
      "outputs": []
    },
    {
      "cell_type": "code",
      "source": [
        "best_model = TEXT_LSTM().to(device)\n",
        "optimizer = optim.Adam(best_model.parameters(), lr = 0.001)\n",
        "# load_checkpoint(destination_folder+'/model.pt',best_model,optimizer)\n",
        "evaluate(best_model, test_loader = test_iterator_new)"
      ],
      "metadata": {
        "id": "jA6dmUnwJXZT"
      },
      "execution_count": null,
      "outputs": []
    },
    {
      "cell_type": "code",
      "source": [],
      "metadata": {
        "id": "m2V-ymbxJPQJ"
      },
      "execution_count": null,
      "outputs": []
    },
    {
      "cell_type": "code",
      "source": [],
      "metadata": {
        "id": "Bl2hqNvlJPNd"
      },
      "execution_count": null,
      "outputs": []
    }
  ]
}